{
 "cells": [
  {
   "cell_type": "markdown",
   "metadata": {},
   "source": [
    "### Imports"
   ]
  },
  {
   "cell_type": "code",
   "execution_count": 1,
   "metadata": {},
   "outputs": [],
   "source": [
    "%load_ext autoreload\n",
    "%autoreload 2\n",
    "\n",
    "import sys\n",
    "import os\n",
    "sys.path.append(os.path.dirname(os.getcwd()))\n",
    "import constants, utils\n",
    "\n",
    "from langchain_openai import ChatOpenAI\n",
    "from langchain_core.messages import HumanMessage, SystemMessage\n",
    "\n",
    "os.environ[\"OPENAI_API_KEY\"] = utils.get_openai_api_key()"
   ]
  },
  {
   "cell_type": "markdown",
   "metadata": {},
   "source": [
    "### Simple LangGraph"
   ]
  },
  {
   "cell_type": "code",
   "execution_count": 3,
   "metadata": {},
   "outputs": [
    {
     "name": "stdout",
     "output_type": "stream",
     "text": [
      "In node:  abcd-123\n",
      "My other node\n"
     ]
    },
    {
     "data": {
      "text/plain": [
       "{'results': 'Hello, Will!'}"
      ]
     },
     "execution_count": 3,
     "metadata": {},
     "output_type": "execute_result"
    }
   ],
   "source": [
    "from langchain_core.runnables import RunnableConfig\n",
    "from langgraph.graph import END, START, StateGraph\n",
    "\n",
    "builder = StateGraph(dict)\n",
    "\n",
    "\n",
    "def my_node(state: dict, config: RunnableConfig):\n",
    "    print(\"In node: \", config[\"configurable\"][\"user_id\"])\n",
    "    return {\"results\": f\"Hello, {state['input']}!\"}\n",
    "\n",
    "\n",
    "# The second argument is optional\n",
    "def my_other_node(state: dict):\n",
    "    print('My other node')\n",
    "    return state\n",
    "\n",
    "\n",
    "builder.add_node(\"my_node\", my_node)\n",
    "builder.add_node(\"other_node\", my_other_node)\n",
    "builder.add_edge(START, \"my_node\")\n",
    "builder.add_edge(\"my_node\", \"other_node\")\n",
    "builder.add_edge(\"other_node\", END)\n",
    "graph = builder.compile()\n",
    "graph.invoke({\"input\": \"Will\"}, {\"configurable\": {\"user_id\": \"abcd-123\"}})\n",
    "# In node:  abcd-123\n",
    "# {'results': 'Hello, Will!'}"
   ]
  },
  {
   "cell_type": "markdown",
   "metadata": {},
   "source": [
    "### State Management"
   ]
  },
  {
   "cell_type": "code",
   "execution_count": 4,
   "metadata": {},
   "outputs": [
    {
     "data": {
      "text/plain": [
       "{'value': 1}"
      ]
     },
     "execution_count": 4,
     "metadata": {},
     "output_type": "execute_result"
    }
   ],
   "source": [
    "from typing import Annotated\n",
    "\n",
    "from typing_extensions import TypedDict\n",
    "\n",
    "from langgraph.graph import END, START, StateGraph\n",
    "\n",
    "\n",
    "class StateA(TypedDict):\n",
    "    value: int\n",
    "\n",
    "\n",
    "builder = StateGraph(StateA)\n",
    "builder.add_node(\"my_node\", lambda state: {\"value\": 1})\n",
    "builder.add_edge(START, \"my_node\")\n",
    "builder.add_edge(\"my_node\", END)\n",
    "graph = builder.compile()\n",
    "graph.invoke({\"value\": 5})"
   ]
  },
  {
   "cell_type": "code",
   "execution_count": 5,
   "metadata": {},
   "outputs": [
    {
     "data": {
      "text/plain": [
       "{'value': 6}"
      ]
     },
     "execution_count": 5,
     "metadata": {},
     "output_type": "execute_result"
    }
   ],
   "source": [
    "from typing import Annotated\n",
    "\n",
    "from typing_extensions import TypedDict\n",
    "\n",
    "from langgraph.graph import END, START, StateGraph\n",
    "\n",
    "\n",
    "\n",
    "def add(existing: int, new: int):\n",
    "    return existing + new\n",
    "\n",
    "\n",
    "class StateB(TypedDict):\n",
    "    # highlight-next-line\n",
    "    value: Annotated[int, add]\n",
    "\n",
    "\n",
    "builder = StateGraph(StateB)\n",
    "builder.add_node(\"my_node\", lambda state: {\"value\": 1})\n",
    "builder.add_edge(START, \"my_node\")\n",
    "builder.add_edge(\"my_node\", END)\n",
    "graph = builder.compile()\n",
    "graph.invoke({\"value\": 5})"
   ]
  },
  {
   "cell_type": "code",
   "execution_count": 6,
   "metadata": {},
   "outputs": [
    {
     "data": {
      "text/plain": [
       "6"
      ]
     },
     "execution_count": 6,
     "metadata": {},
     "output_type": "execute_result"
    }
   ],
   "source": [
    "# Analogous to StateA above\n",
    "builder = StateGraph(int)\n",
    "builder.add_node(\"my_node\", lambda state: 1)\n",
    "builder.add_edge(START, \"my_node\")\n",
    "builder.add_edge(\"my_node\", END)\n",
    "builder.compile().invoke(5)\n",
    "\n",
    "# Analogous to StateB\n",
    "def add(left, right):\n",
    "    return left + right\n",
    "\n",
    "\n",
    "builder = StateGraph(Annotated[int, add])\n",
    "builder.add_node(\"my_node\", lambda state: 1)\n",
    "builder.add_edge(START, \"my_node\")\n",
    "builder.add_edge(\"my_node\", END)\n",
    "graph = builder.compile()\n",
    "graph.invoke(5)"
   ]
  },
  {
   "cell_type": "markdown",
   "metadata": {},
   "source": [
    "### Configuration"
   ]
  },
  {
   "cell_type": "code",
   "execution_count": 8,
   "metadata": {},
   "outputs": [
    {
     "name": "stdout",
     "output_type": "stream",
     "text": [
      "{'total': 2, 'turn': 'First Turn'}\n",
      "{'total': 3, 'turn': 'Next Turn'}\n",
      "{'total': 9, 'turn': 'Next Turn'}\n",
      "{'total': 6}\n"
     ]
    }
   ],
   "source": [
    "from typing import Annotated\n",
    "\n",
    "from typing_extensions import TypedDict\n",
    "\n",
    "from langgraph.checkpoint.memory import MemorySaver\n",
    "from langgraph.graph import END, START, StateGraph\n",
    "\n",
    "\n",
    "def add(left, right):\n",
    "    return left + right\n",
    "\n",
    "\n",
    "class State(TypedDict):\n",
    "    total: Annotated[int, add]\n",
    "    turn: str\n",
    "\n",
    "\n",
    "builder = StateGraph(State)\n",
    "builder.add_node(\"add_one\", lambda x: {\"total\": 1})\n",
    "builder.add_edge(START, \"add_one\")\n",
    "builder.add_edge(\"add_one\", END)\n",
    "\n",
    "memory = MemorySaver()\n",
    "graph = builder.compile(checkpointer=memory)\n",
    "thread_id = \"some-thread\"\n",
    "config = {\"configurable\": {\"thread_id\": thread_id}}\n",
    "result = graph.invoke({\"total\": 1, \"turn\": \"First Turn\"}, config)\n",
    "result2 = graph.invoke({\"turn\": \"Next Turn\"}, config)\n",
    "result3 = graph.invoke({\"total\": 5}, config)\n",
    "result4 = graph.invoke({\"total\": 5}, {\"configurable\": {\"thread_id\": \"new-thread-id\"}})\n",
    "print(result)\n",
    "print(result2)\n",
    "print(result3)\n",
    "print(result4)"
   ]
  },
  {
   "cell_type": "markdown",
   "metadata": {},
   "source": [
    "### Integrated Example"
   ]
  },
  {
   "cell_type": "code",
   "execution_count": 9,
   "metadata": {},
   "outputs": [],
   "source": [
    "from typing import Annotated, Literal\n",
    "\n",
    "from typing_extensions import TypedDict\n",
    "\n",
    "from langgraph.checkpoint.memory import MemorySaver\n",
    "from langgraph.graph import END, START, StateGraph\n",
    "\n",
    "\n",
    "\n",
    "def add(left, right):\n",
    "    return left + right\n",
    "\n",
    "\n",
    "class State(TypedDict):\n",
    "    total: Annotated[int, add]\n",
    "\n",
    "\n",
    "builder = StateGraph(State)\n",
    "builder.add_node(\"add_one\", lambda x: {\"total\": 1})\n",
    "builder.add_node(\"double\", lambda x: {\"total\": x[\"total\"]})\n",
    "builder.add_edge(START, \"add_one\")\n",
    "\n",
    "\n",
    "def route(state: State) -> Literal[\"double\", \"__end__\"]:\n",
    "    if state[\"total\"] < 6:\n",
    "        return \"double\"\n",
    "    return \"__end__\" # This is what END is\n",
    "\n",
    "\n",
    "builder.add_conditional_edges(\"add_one\", route)\n",
    "builder.add_edge(\"double\", \"add_one\")\n",
    "\n",
    "memory = MemorySaver()\n",
    "graph = builder.compile(checkpointer=memory)"
   ]
  },
  {
   "cell_type": "code",
   "execution_count": 10,
   "metadata": {},
   "outputs": [
    {
     "name": "stdout",
     "output_type": "stream",
     "text": [
      "-1 checkpoint {'total': 0}\n",
      "0 checkpoint {'total': 1}\n",
      "1 task None\n",
      "1 task_result None\n",
      "1 checkpoint {'total': 2}\n",
      "2 task None\n",
      "2 task_result None\n",
      "2 checkpoint {'total': 4}\n",
      "3 task None\n",
      "3 task_result None\n",
      "3 checkpoint {'total': 5}\n",
      "4 task None\n",
      "4 task_result None\n",
      "4 checkpoint {'total': 10}\n",
      "5 task None\n",
      "5 task_result None\n",
      "5 checkpoint {'total': 11}\n"
     ]
    }
   ],
   "source": [
    "thread_id = \"some-thread\"\n",
    "config = {\"configurable\": {\"thread_id\": thread_id}}\n",
    "for step in graph.stream({\"total\": 1}, config, stream_mode=\"debug\"):\n",
    "    print(step[\"step\"], step[\"type\"], step[\"payload\"].get(\"values\"))\n",
    "# 0 checkpoint {'total': 1}\n",
    "# 1 task None\n",
    "# 1 task_result None\n",
    "# 1 checkpoint {'total': 2}\n",
    "# 2 task None\n",
    "# 2 task_result None\n",
    "# 2 checkpoint {'total': 4}\n",
    "# 3 task None\n",
    "# 3 task_result None\n",
    "# 3 checkpoint {'total': 5}\n",
    "# 4 task None\n",
    "# 4 task_result None\n",
    "# 4 checkpoint {'total': 10}\n",
    "# 5 task None\n",
    "# 5 task_result None\n",
    "# 5 checkpoint {'total': 11}"
   ]
  }
 ],
 "metadata": {
  "kernelspec": {
   "display_name": "ai",
   "language": "python",
   "name": "ai"
  },
  "language_info": {
   "codemirror_mode": {
    "name": "ipython",
    "version": 3
   },
   "file_extension": ".py",
   "mimetype": "text/x-python",
   "name": "python",
   "nbconvert_exporter": "python",
   "pygments_lexer": "ipython3",
   "version": "3.10.12"
  }
 },
 "nbformat": 4,
 "nbformat_minor": 2
}
