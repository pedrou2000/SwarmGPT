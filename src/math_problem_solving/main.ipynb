{
 "cells": [
  {
   "cell_type": "markdown",
   "metadata": {},
   "source": [
    "### Testing the MATH Dataset"
   ]
  },
  {
   "cell_type": "code",
   "execution_count": 1,
   "metadata": {},
   "outputs": [],
   "source": [
    "%load_ext autoreload\n",
    "%autoreload 2\n",
    "\n",
    "import sys, os\n",
    "sys.path.append(os.path.dirname(os.getcwd()))\n",
    "\n",
    "import constants\n",
    "\n",
    "from data_classes.math_data_loader import MathDataLoader, MathProblem\n",
    "from llm_agents.ChainOfThoughtMathSolver import ChainOfThoughtMathSolver\n"
   ]
  },
  {
   "cell_type": "code",
   "execution_count": 2,
   "metadata": {},
   "outputs": [
    {
     "name": "stdout",
     "output_type": "stream",
     "text": [
      "Loaded 5000 math problems from 7 problem types\n",
      "Level: 1 | Response: \\boxed{180^\\circ} | Answer: \\boxed{180^{\\circ}} | Is Correct: True\n"
     ]
    },
    {
     "data": {
      "text/plain": [
       "True"
      ]
     },
     "execution_count": 2,
     "metadata": {},
     "output_type": "execute_result"
    }
   ],
   "source": [
    "math_data_loader = MathDataLoader()\n",
    "random_problem = math_data_loader.get_random_problem(level=1)\n",
    "\n",
    "math_solver = ChainOfThoughtMathSolver()\n",
    "response = math_solver(random_problem.question)\n",
    "\n",
    "random_problem.is_correct_answer(response, verbose=True)"
   ]
  }
 ],
 "metadata": {
  "kernelspec": {
   "display_name": "ai",
   "language": "python",
   "name": "ai"
  },
  "language_info": {
   "codemirror_mode": {
    "name": "ipython",
    "version": 3
   },
   "file_extension": ".py",
   "mimetype": "text/x-python",
   "name": "python",
   "nbconvert_exporter": "python",
   "pygments_lexer": "ipython3",
   "version": "3.10.12"
  }
 },
 "nbformat": 4,
 "nbformat_minor": 2
}
