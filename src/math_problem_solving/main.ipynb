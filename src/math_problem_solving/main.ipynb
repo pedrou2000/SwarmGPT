{
 "cells": [
  {
   "cell_type": "markdown",
   "metadata": {},
   "source": [
    "### Testing the MATH Dataset"
   ]
  },
  {
   "cell_type": "code",
   "execution_count": 1,
   "metadata": {},
   "outputs": [],
   "source": [
    "%load_ext autoreload\n",
    "%autoreload 2\n",
    "\n",
    "import sys, os\n",
    "sys.path.append(os.path.dirname(os.getcwd()))\n",
    "sys.path.append(os.getcwd())\n",
    "\n",
    "import constants\n",
    "\n",
    "from data_classes.MathDataLoader import MathDataLoader, MathProblem\n",
    "from llm_agents.ChainOfThoughtMathSolver import ChainOfThoughtMathSolver\n"
   ]
  },
  {
   "cell_type": "code",
   "execution_count": 2,
   "metadata": {},
   "outputs": [
    {
     "name": "stdout",
     "output_type": "stream",
     "text": [
      "Loaded 5000 math problems from 7 problem types\n",
      "MATH problem number 265 of type Algebra with level 5 and answer \\boxed{-102}.\n",
      "Let $S$ be the set of all real numbers $\\alpha$ such that the function \\[\\frac{x^2+5x+\\alpha}{x^2 + 7x - 44}\\]can be expressed as a quotient of two linear functions. What is the sum of the elements of $S$?\n",
      "Level: 5 | Response: \\boxed{\\infty} | Answer: \\boxed{-102} | Is Correct: False\n"
     ]
    },
    {
     "data": {
      "text/plain": [
       "False"
      ]
     },
     "execution_count": 2,
     "metadata": {},
     "output_type": "execute_result"
    }
   ],
   "source": [
    "math_data_loader = MathDataLoader(data_dir=constants.MATH_DATASET_DIR)\n",
    "# random_problem = math_data_loader.get_random_problem(level=1)\n",
    "random_problem = math_data_loader.get_problem(type=\"algebra\", problem_number=265)\n",
    "\n",
    "math_solver = ChainOfThoughtMathSolver()\n",
    "response = math_solver(random_problem.question)\n",
    "\n",
    "print(random_problem)\n",
    "print(random_problem.question)\n",
    "# \n",
    "# print(response)\n",
    "\n",
    "random_problem.is_correct_answer(response, verbose=True)"
   ]
  },
  {
   "cell_type": "code",
   "execution_count": 3,
   "metadata": {},
   "outputs": [],
   "source": [
    "# results = math_data_loader.test_random_problems(math_solver, n_problems=10, level=1, verbose=True)"
   ]
  },
  {
   "cell_type": "markdown",
   "metadata": {},
   "source": [
    "### Running MACM"
   ]
  },
  {
   "cell_type": "code",
   "execution_count": 4,
   "metadata": {},
   "outputs": [],
   "source": [
    "import utils\n",
    "if not os.getenv(\"OPENAI_API_KEY\") or  not os.getenv(\"TAVILY_API_KEY\"):\n",
    "    os.environ[\"OPENAI_API_KEY\"] = utils.get_openai_api_key()\n",
    "    os.environ[\"TAVILY_API_KEY\"] = utils.get_tavily_api_key()"
   ]
  },
  {
   "cell_type": "code",
   "execution_count": 5,
   "metadata": {},
   "outputs": [
    {
     "name": "stdout",
     "output_type": "stream",
     "text": [
      "\n",
      "# 1 Thinker is analyzing the question...\n",
      "\n",
      "# 1 Thinker is thinking new thoughts...\n"
     ]
    }
   ],
   "source": [
    "sys.path.append(os.path.abspath(\"MACM/\"))\n",
    "\n",
    "from MACM.main import main as main_macm\n",
    "\n",
    "n = 1 # verification times\n",
    "times = 5 # The upper limit of the mining times\n",
    "min_voters = 1 # min number of voters\n",
    "max_voters = 1 # max number of voters\n",
    "question = random_problem.question\n",
    "\n",
    "main_macm(question, times, n, min_voters, max_voters)  # Assuming these are defined elsewhere"
   ]
  }
 ],
 "metadata": {
  "kernelspec": {
   "display_name": "ai",
   "language": "python",
   "name": "ai"
  },
  "language_info": {
   "codemirror_mode": {
    "name": "ipython",
    "version": 3
   },
   "file_extension": ".py",
   "mimetype": "text/x-python",
   "name": "python",
   "nbconvert_exporter": "python",
   "pygments_lexer": "ipython3",
   "version": "3.10.12"
  }
 },
 "nbformat": 4,
 "nbformat_minor": 2
}
