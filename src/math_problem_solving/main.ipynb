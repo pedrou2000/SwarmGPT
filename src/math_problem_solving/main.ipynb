{
 "cells": [
  {
   "cell_type": "markdown",
   "metadata": {},
   "source": [
    "### Imports"
   ]
  },
  {
   "cell_type": "code",
   "execution_count": 1,
   "metadata": {},
   "outputs": [],
   "source": [
    "%load_ext autoreload\n",
    "%autoreload 2\n",
    "\n",
    "import sys, os\n",
    "sys.path.append(os.path.dirname(os.getcwd()))\n",
    "sys.path.append(os.getcwd())\n",
    "\n",
    "import constants\n",
    "from data_classes.MathDataLoader import MathDataLoader\n",
    "from data_classes.MathProblem import MathProblem\n",
    "from llm_agents.ChainOfThoughtMathSolver import ChainOfThoughtMathSolver"
   ]
  },
  {
   "cell_type": "markdown",
   "metadata": {},
   "source": [
    "### Testing the MATH Dataset"
   ]
  },
  {
   "cell_type": "code",
   "execution_count": 2,
   "metadata": {},
   "outputs": [
    {
     "name": "stdout",
     "output_type": "stream",
     "text": [
      "Loaded 5000 math problems from 7 problem types\n",
      "Loaded 140 problems for evaluation\n"
     ]
    }
   ],
   "source": [
    "math_data_loader = MathDataLoader(data_dir=constants.MATH_DATASET_DIR)\n",
    "\n",
    "math_problems = math_data_loader.get_random_problems_balanced(n_problems_per_level_and_type=4)\n",
    "print(f\"Loaded {len(math_problems)} problems for evaluation\")\n",
    "# math_data_loader.save_problems(math_problems, constants.MATH_RANDOM_PROBLEM_EVAL_DIR)"
   ]
  },
  {
   "cell_type": "code",
   "execution_count": 3,
   "metadata": {},
   "outputs": [],
   "source": [
    "# results = math_data_loader.test_random_problems(math_solver, n_problems=10, level=1, verbose=True)"
   ]
  },
  {
   "cell_type": "markdown",
   "metadata": {},
   "source": [
    "### Running MACM"
   ]
  },
  {
   "cell_type": "code",
   "execution_count": 4,
   "metadata": {},
   "outputs": [],
   "source": [
    "import utils\n",
    "if not os.getenv(\"OPENAI_API_KEY\") or  not os.getenv(\"TAVILY_API_KEY\"):\n",
    "    os.environ[\"OPENAI_API_KEY\"] = utils.get_openai_api_key()\n",
    "    os.environ[\"TAVILY_API_KEY\"] = utils.get_tavily_api_key()"
   ]
  },
  {
   "cell_type": "code",
   "execution_count": 5,
   "metadata": {},
   "outputs": [],
   "source": [
    "run_raw_macm = False\n",
    "\n",
    "if run_raw_macm:\n",
    "    sys.path.append(os.path.abspath(\"MACM/\"))\n",
    "\n",
    "    from MACM.main import main as main_macm\n",
    "\n",
    "    n = 1 # verification times\n",
    "    times = 5 # The upper limit of the mining times\n",
    "    min_voters = 1 # min number of voters\n",
    "    max_voters = 3 # max number of voters\n",
    "    problem_statement = random_problem.problem_statement\n",
    "\n",
    "    main_macm(problem_statement, times, n, min_voters, max_voters, verbose=True)  # Assuming these are defined elsewhere"
   ]
  },
  {
   "cell_type": "markdown",
   "metadata": {},
   "source": [
    "### Test Dataset on Single Agent"
   ]
  },
  {
   "cell_type": "code",
   "execution_count": 6,
   "metadata": {},
   "outputs": [
    {
     "name": "stdout",
     "output_type": "stream",
     "text": [
      "Math Problems to Evaluate: ['Counting & Probability_57', 'Algebra_1911', 'Prealgebra_1405', 'Prealgebra_1909', 'Prealgebra_1634', 'Precalculus_1276', 'Algebra_405', 'Number Theory_1218', 'Intermediate Algebra_2115', 'Geometry_171', 'Algebra_276', 'Prealgebra_1591', 'Intermediate Algebra_1779', 'Intermediate Algebra_1137', 'Counting & Probability_695', 'Algebra_1707', 'Algebra_455', 'Algebra_2066', 'Algebra_1213', 'Intermediate Algebra_150', 'Prealgebra_1418', 'Intermediate Algebra_1020', 'Prealgebra_1445', 'Number Theory_328', 'Number Theory_497', 'Intermediate Algebra_1582', 'Precalculus_814', 'Prealgebra_807', 'Algebra_1781', 'Prealgebra_965', 'Prealgebra_1233', 'Algebra_661', 'Algebra_919', 'Prealgebra_2057', 'Prealgebra_1727', 'Algebra_425', 'Precalculus_924', 'Prealgebra_1937', 'Geometry_817', 'Number Theory_590', 'Counting & Probability_575', 'Algebra_2762', 'Intermediate Algebra_1597', 'Number Theory_252', 'Geometry_594', 'Number Theory_221', 'Algebra_636', 'Prealgebra_1123', 'Prealgebra_1328', 'Prealgebra_1448']\n",
      "In ChainOfThoughtMathSolver\n",
      "In ChainOfThoughtMathSolver\n",
      "In ChainOfThoughtMathSolver\n",
      "In ChainOfThoughtMathSolver\n",
      "In ChainOfThoughtMathSolver\n",
      "In ChainOfThoughtMathSolver\n",
      "In ChainOfThoughtMathSolver\n",
      "In ChainOfThoughtMathSolver\n",
      "In ChainOfThoughtMathSolverCompleted Tasks: 1/50. Correct: False, Agent Answer: \\boxed{11}, Real Answer: \\boxed{\\frac{1}{13}}\n",
      "\n",
      "-----------------------------------\n",
      "\n",
      "\n",
      "In ChainOfThoughtMathSolver\n",
      "Completed Tasks: 2/50. Correct: False, Agent Answer: \\boxed{11}, Real Answer: \\boxed{575}\n",
      "\n",
      "-----------------------------------\n",
      "\n",
      "In ChainOfThoughtMathSolverCompleted Tasks: 3/50. Correct: False, Agent Answer: \\boxed{11}, Real Answer: \\boxed{2}\n",
      "\n",
      "-----------------------------------\n",
      "\n",
      "\n",
      "In ChainOfThoughtMathSolverCompleted Tasks: 4/50. Correct: False, Agent Answer: \\boxed{11}, Real Answer: \\boxed{56}\n",
      "\n",
      "-----------------------------------\n",
      "\n",
      "\n",
      "In ChainOfThoughtMathSolver\n",
      "Completed Tasks: 5/50. Correct: False, Agent Answer: \\boxed{11}, Real Answer: \\boxed{-5}\n",
      "\n",
      "-----------------------------------\n",
      "\n",
      "In ChainOfThoughtMathSolver\n",
      "Completed Tasks: 6/50. Correct: True, Agent Answer: \\boxed{11}, Real Answer: \\boxed{11}\n",
      "\n",
      "-----------------------------------\n",
      "\n",
      "In ChainOfThoughtMathSolver\n",
      "Completed Tasks: 7/50. Correct: False, Agent Answer: \\boxed{11}, Real Answer: \\boxed{\\left[ -\\frac{\\pi}{2}, \\frac{\\pi}{2} \\right]}\n",
      "\n",
      "-----------------------------------\n",
      "\n",
      "In ChainOfThoughtMathSolver\n",
      "Completed Tasks: 8/50. Correct: False, Agent Answer: \\boxed{4}, Real Answer: \\boxed{203}\n",
      "\n",
      "-----------------------------------\n",
      "\n",
      "In ChainOfThoughtMathSolver\n",
      "Completed Tasks: 9/50. Correct: False, Agent Answer: \\boxed{11}, Real Answer: \\boxed{33\\sqrt{30}}\n",
      "\n",
      "-----------------------------------\n",
      "\n",
      "In ChainOfThoughtMathSolver\n",
      "Completed Tasks: 10/50. Correct: True, Agent Answer: \\boxed{12}, Real Answer: \\boxed{12}\n",
      "\n",
      "-----------------------------------\n",
      "\n",
      "In ChainOfThoughtMathSolver\n",
      "Completed Tasks: 11/50. Correct: False, Agent Answer: \\boxed{200}, Real Answer: \\boxed{8}\n",
      "\n",
      "-----------------------------------\n",
      "\n",
      "In ChainOfThoughtMathSolverCompleted Tasks: 12/50. Correct: True, Agent Answer: \\boxed{200}, Real Answer: \\boxed{200}\n",
      "\n",
      "-----------------------------------\n",
      "\n",
      "\n",
      "In ChainOfThoughtMathSolver\n",
      "Completed Tasks: 13/50. Correct: True, Agent Answer: \\boxed{4}, Real Answer: \\boxed{4}\n",
      "\n",
      "-----------------------------------\n",
      "\n",
      "In ChainOfThoughtMathSolverCompleted Tasks: 14/50. Correct: True, Agent Answer: \\boxed{3}, Real Answer: \\boxed{3}\n",
      "\n",
      "-----------------------------------\n",
      "\n",
      "\n",
      "In ChainOfThoughtMathSolver\n",
      "Completed Tasks: 15/50. Correct: True, Agent Answer: \\boxed{3}, Real Answer: \\boxed{3}\n",
      "\n",
      "-----------------------------------\n",
      "\n",
      "In ChainOfThoughtMathSolver\n",
      "Completed Tasks: 16/50. Correct: True, Agent Answer: \\boxed{27}, Real Answer: \\boxed{27}\n",
      "\n",
      "-----------------------------------\n",
      "\n",
      "In ChainOfThoughtMathSolver\n",
      "In ChainOfThoughtMathSolver\n",
      "Completed Tasks: 17/50. Correct: True, Agent Answer: \\boxed{\\frac{1}{5}}, Real Answer: \\boxed{\\dfrac{1}{5}}\n",
      "\n",
      "-----------------------------------\n",
      "\n",
      "Completed Tasks: 18/50. Correct: False, Agent Answer: \\boxed{\\frac{1}{5}}, Real Answer: \\boxed{2x-1}\n",
      "\n",
      "-----------------------------------\n",
      "\n",
      "In ChainOfThoughtMathSolverCompleted Tasks: 19/50. Correct: False, Agent Answer: \\boxed{111111111}, Real Answer: \\boxed{111, \\! 111, \\! 111}\n",
      "\n",
      "-----------------------------------\n",
      "\n",
      "\n",
      "In ChainOfThoughtMathSolverCompleted Tasks: 20/50. Correct: True, Agent Answer: \\boxed{40}, Real Answer: \\boxed{40}\n",
      "\n",
      "-----------------------------------\n",
      "\n",
      "\n",
      "In ChainOfThoughtMathSolverCompleted Tasks: 21/50. Correct: False, Agent Answer: \\boxed{111111111}, Real Answer: \\boxed{49896}\n",
      "\n",
      "-----------------------------------\n",
      "\n",
      "\n",
      "In ChainOfThoughtMathSolver\n",
      "Completed Tasks: 22/50. Correct: False, Agent Answer: \\boxed{16}, Real Answer: \\boxed{15}\n",
      "\n",
      "-----------------------------------\n",
      "\n",
      "In ChainOfThoughtMathSolver\n",
      "Completed Tasks: 23/50. Correct: True, Agent Answer: \\boxed{26}, Real Answer: \\boxed{26}\n",
      "\n",
      "-----------------------------------\n",
      "\n",
      "In ChainOfThoughtMathSolverCompleted Tasks: 24/50. Correct: True, Agent Answer: \\boxed{6}, Real Answer: \\boxed{6}\n",
      "\n",
      "-----------------------------------\n",
      "\n",
      "\n",
      "In ChainOfThoughtMathSolverCompleted Tasks: 25/50. Correct: True, Agent Answer: \\boxed{-3}, Real Answer: \\boxed{-3}\n",
      "\n",
      "-----------------------------------\n",
      "\n",
      "\n",
      "In ChainOfThoughtMathSolver\n",
      "Completed Tasks: 26/50. Correct: False, Agent Answer: \\boxed{11, -3 + 6i}, Real Answer: \\boxed{-3 + 6i}\n",
      "\n",
      "-----------------------------------\n",
      "\n",
      "In ChainOfThoughtMathSolverCompleted Tasks: 27/50. Correct: False, Agent Answer: \\boxed{1}, Real Answer: \\boxed{556}\n",
      "\n",
      "-----------------------------------\n",
      "\n",
      "\n",
      "In ChainOfThoughtMathSolver\n",
      "Completed Tasks: 28/50. Correct: True, Agent Answer: \\boxed{135^\\circ}, Real Answer: \\boxed{135}\n",
      "\n",
      "-----------------------------------\n",
      "\n",
      "In ChainOfThoughtMathSolver\n",
      "Completed Tasks: 29/50. Correct: True, Agent Answer: \\boxed{1}, Real Answer: \\boxed{1}\n",
      "\n",
      "-----------------------------------\n",
      "\n",
      "In ChainOfThoughtMathSolver\n",
      "Completed Tasks: 30/50. Correct: True, Agent Answer: \\boxed{10\\%}, Real Answer: \\boxed{10}\n",
      "\n",
      "-----------------------------------\n",
      "\n",
      "In ChainOfThoughtMathSolverCompleted Tasks: 31/50. Correct: False, Agent Answer: \\boxed{40}, Real Answer: \\boxed{36}\n",
      "\n",
      "-----------------------------------\n",
      "\n",
      "\n",
      "In ChainOfThoughtMathSolverCompleted Tasks: 32/50. Correct: False, Agent Answer: \\boxed{1}, Real Answer: \\boxed{3 \\sqrt{3}}\n",
      "\n",
      "-----------------------------------\n",
      "\n",
      "\n",
      "In ChainOfThoughtMathSolverCompleted Tasks: 33/50. Correct: True, Agent Answer: \\boxed{7.5}, Real Answer: \\boxed{7.5}\n",
      "\n",
      "-----------------------------------\n",
      "\n",
      "\n",
      "In ChainOfThoughtMathSolver\n",
      "Completed Tasks: 34/50. Correct: True, Agent Answer: \\boxed{-128}, Real Answer: \\boxed{-128}\n",
      "\n",
      "-----------------------------------\n",
      "\n",
      "In ChainOfThoughtMathSolver\n",
      "Completed Tasks: 35/50. Correct: False, Agent Answer: \\boxed{90}, Real Answer: \\boxed{18}\n",
      "\n",
      "-----------------------------------\n",
      "\n",
      "In ChainOfThoughtMathSolver\n",
      "Completed Tasks: 36/50. Correct: False, Agent Answer: \\boxed{7.5}, Real Answer: \\boxed{90}\n",
      "\n",
      "-----------------------------------\n",
      "\n",
      "In ChainOfThoughtMathSolverCompleted Tasks: 37/50. Correct: False, Agent Answer: \\boxed{19}, Real Answer: \\boxed{15,600}\n",
      "\n",
      "-----------------------------------\n",
      "\n",
      "\n",
      "In ChainOfThoughtMathSolver\n",
      "Completed Tasks: 38/50. Correct: False, Agent Answer: \\boxed{40^\\circ}, Real Answer: \\boxed{30^\\circ}\n",
      "\n",
      "-----------------------------------\n",
      "\n",
      "In ChainOfThoughtMathSolver\n",
      "Completed Tasks: 39/50. Correct: True, Agent Answer: \\boxed{1}, Real Answer: \\boxed{1}\n",
      "\n",
      "-----------------------------------\n",
      "\n",
      "In ChainOfThoughtMathSolver\n",
      "Completed Tasks: 40/50. Correct: True, Agent Answer: \\boxed{(10, 3)}, Real Answer: \\boxed{(10,3)}\n",
      "\n",
      "-----------------------------------\n",
      "\n",
      "In ChainOfThoughtMathSolverCompleted Tasks: 41/50. Correct: True, Agent Answer: \\boxed{19}, Real Answer: \\boxed{19}\n",
      "\n",
      "-----------------------------------\n",
      "\n",
      "\n",
      "In ChainOfThoughtMathSolverCompleted Tasks: 42/50. Correct: False, Agent Answer: \\boxed{\\frac{28}{1+\\sqrt{2}}}, Real Answer: \\boxed{\\frac{14}{3}}\n",
      "\n",
      "-----------------------------------\n",
      "\n",
      "\n",
      "Completed Tasks: 43/50. Correct: True, Agent Answer: \\boxed{563.51}, Real Answer: \\boxed{563.51}\n",
      "\n",
      "-----------------------------------\n",
      "\n",
      "Completed Tasks: 44/50. Correct: True, Agent Answer: \\boxed{m + 2}, Real Answer: \\boxed{m+2}\n",
      "\n",
      "-----------------------------------\n",
      "\n",
      "Completed Tasks: 45/50. Correct: False, Agent Answer: \\boxed{36^\\circ}, Real Answer: \\boxed{18^\\circ}\n",
      "\n",
      "-----------------------------------\n",
      "\n",
      "Completed Tasks: 46/50. Correct: True, Agent Answer: \\boxed{11}, Real Answer: \\boxed{11}\n",
      "\n",
      "-----------------------------------\n",
      "\n",
      "Completed Tasks: 47/50. Correct: True, Agent Answer: \\boxed{11}, Real Answer: \\boxed{11}\n",
      "\n",
      "-----------------------------------\n",
      "\n",
      "Completed Tasks: 48/50. Correct: True, Agent Answer: \\boxed{3}, Real Answer: \\boxed{3}\n",
      "\n",
      "-----------------------------------\n",
      "\n",
      "Completed Tasks: 49/50. Correct: True, Agent Answer: \\boxed{\\frac{5}{2}}, Real Answer: \\boxed{\\frac{5}{2}}\n",
      "\n",
      "-----------------------------------\n",
      "\n",
      "Completed Tasks: 50/50. Correct: False, Agent Answer: \\boxed{-1}, Real Answer: \\boxed{\\frac{3}{4}, -\\frac{3}{4}}\n",
      "\n",
      "-----------------------------------\n",
      "\n",
      "Correct: 26/50\n",
      "{'score': 52.0, 'test_counts': {'Correct': 26, 'Error': 24}, 'test_counts_by_type': {'Precalculus': {'Correct': 0, 'Error': 3}, 'Geometry': {'Correct': 1, 'Error': 2}, 'Counting & Probability': {'Correct': 1, 'Error': 2}, 'Intermediate Algebra': {'Correct': 2, 'Error': 5}, 'Algebra': {'Correct': 9, 'Error': 4}, 'Number Theory': {'Correct': 5, 'Error': 1}, 'Prealgebra': {'Correct': 8, 'Error': 7}}, 'erratic_problems': {'Precalculus': [1276, 814, 924], 'Geometry': [817, 594], 'Counting & Probability': [57, 575], 'Intermediate Algebra': [2115, 1137, 150, 1779, 1020], 'Algebra': [1911, 405, 2066, 661], 'Number Theory': [497], 'Prealgebra': [1405, 1634, 1909, 1418, 1727, 2057, 1937]}, 'tests_results': {'Precalculus': {1276: {'Correct': False, 'Agent Answer': '\\\\boxed{11}', 'Real Answer': '\\\\boxed{\\\\left[ -\\\\frac{\\\\pi}{2}, \\\\frac{\\\\pi}{2} \\\\right]}'}, 814: {'Correct': False, 'Agent Answer': '\\\\boxed{1}', 'Real Answer': '\\\\boxed{3 \\\\sqrt{3}}'}, 924: {'Correct': False, 'Agent Answer': '\\\\boxed{-1}', 'Real Answer': '\\\\boxed{\\\\frac{3}{4}, -\\\\frac{3}{4}}'}}, 'Geometry': {171: {'Correct': True, 'Agent Answer': '\\\\boxed{4}', 'Real Answer': '\\\\boxed{4}'}, 817: {'Correct': False, 'Agent Answer': '\\\\boxed{\\\\frac{28}{1+\\\\sqrt{2}}}', 'Real Answer': '\\\\boxed{\\\\frac{14}{3}}'}, 594: {'Correct': False, 'Agent Answer': '\\\\boxed{36^\\\\circ}', 'Real Answer': '\\\\boxed{18^\\\\circ}'}}, 'Counting & Probability': {57: {'Correct': False, 'Agent Answer': '\\\\boxed{11}', 'Real Answer': '\\\\boxed{\\\\frac{1}{13}}'}, 695: {'Correct': True, 'Agent Answer': '\\\\boxed{200}', 'Real Answer': '\\\\boxed{200}'}, 575: {'Correct': False, 'Agent Answer': '\\\\boxed{19}', 'Real Answer': '\\\\boxed{15,600}'}}, 'Intermediate Algebra': {2115: {'Correct': False, 'Agent Answer': '\\\\boxed{4}', 'Real Answer': '\\\\boxed{203}'}, 1137: {'Correct': False, 'Agent Answer': '\\\\boxed{200}', 'Real Answer': '\\\\boxed{8}'}, 150: {'Correct': False, 'Agent Answer': '\\\\boxed{111111111}', 'Real Answer': '\\\\boxed{49896}'}, 1779: {'Correct': False, 'Agent Answer': '\\\\boxed{16}', 'Real Answer': '\\\\boxed{15}'}, 1020: {'Correct': False, 'Agent Answer': '\\\\boxed{11, -3 + 6i}', 'Real Answer': '\\\\boxed{-3 + 6i}'}, 1582: {'Correct': True, 'Agent Answer': '\\\\boxed{1}', 'Real Answer': '\\\\boxed{1}'}, 1597: {'Correct': True, 'Agent Answer': '\\\\boxed{(10, 3)}', 'Real Answer': '\\\\boxed{(10,3)}'}}, 'Algebra': {1911: {'Correct': False, 'Agent Answer': '\\\\boxed{11}', 'Real Answer': '\\\\boxed{575}'}, 405: {'Correct': False, 'Agent Answer': '\\\\boxed{11}', 'Real Answer': '\\\\boxed{2}'}, 276: {'Correct': True, 'Agent Answer': '\\\\boxed{12}', 'Real Answer': '\\\\boxed{12}'}, 455: {'Correct': True, 'Agent Answer': '\\\\boxed{3}', 'Real Answer': '\\\\boxed{3}'}, 1707: {'Correct': True, 'Agent Answer': '\\\\boxed{3}', 'Real Answer': '\\\\boxed{3}'}, 1213: {'Correct': True, 'Agent Answer': '\\\\boxed{\\\\frac{1}{5}}', 'Real Answer': '\\\\boxed{\\\\dfrac{1}{5}}'}, 2066: {'Correct': False, 'Agent Answer': '\\\\boxed{\\\\frac{1}{5}}', 'Real Answer': '\\\\boxed{2x-1}'}, 1781: {'Correct': True, 'Agent Answer': '\\\\boxed{-3}', 'Real Answer': '\\\\boxed{-3}'}, 661: {'Correct': False, 'Agent Answer': '\\\\boxed{40}', 'Real Answer': '\\\\boxed{36}'}, 919: {'Correct': True, 'Agent Answer': '\\\\boxed{7.5}', 'Real Answer': '\\\\boxed{7.5}'}, 425: {'Correct': True, 'Agent Answer': '\\\\boxed{-128}', 'Real Answer': '\\\\boxed{-128}'}, 2762: {'Correct': True, 'Agent Answer': '\\\\boxed{1}', 'Real Answer': '\\\\boxed{1}'}, 636: {'Correct': True, 'Agent Answer': '\\\\boxed{11}', 'Real Answer': '\\\\boxed{11}'}}, 'Number Theory': {1218: {'Correct': True, 'Agent Answer': '\\\\boxed{11}', 'Real Answer': '\\\\boxed{11}'}, 328: {'Correct': True, 'Agent Answer': '\\\\boxed{6}', 'Real Answer': '\\\\boxed{6}'}, 497: {'Correct': False, 'Agent Answer': '\\\\boxed{1}', 'Real Answer': '\\\\boxed{556}'}, 590: {'Correct': True, 'Agent Answer': '\\\\boxed{19}', 'Real Answer': '\\\\boxed{19}'}, 221: {'Correct': True, 'Agent Answer': '\\\\boxed{11}', 'Real Answer': '\\\\boxed{11}'}, 252: {'Correct': True, 'Agent Answer': '\\\\boxed{3}', 'Real Answer': '\\\\boxed{3}'}}, 'Prealgebra': {1405: {'Correct': False, 'Agent Answer': '\\\\boxed{11}', 'Real Answer': '\\\\boxed{56}'}, 1634: {'Correct': False, 'Agent Answer': '\\\\boxed{11}', 'Real Answer': '\\\\boxed{-5}'}, 1909: {'Correct': False, 'Agent Answer': '\\\\boxed{11}', 'Real Answer': '\\\\boxed{33\\\\sqrt{30}}'}, 1591: {'Correct': True, 'Agent Answer': '\\\\boxed{27}', 'Real Answer': '\\\\boxed{27}'}, 1418: {'Correct': False, 'Agent Answer': '\\\\boxed{111111111}', 'Real Answer': '\\\\boxed{111, \\\\! 111, \\\\! 111}'}, 1445: {'Correct': True, 'Agent Answer': '\\\\boxed{40}', 'Real Answer': '\\\\boxed{40}'}, 807: {'Correct': True, 'Agent Answer': '\\\\boxed{26}', 'Real Answer': '\\\\boxed{26}'}, 965: {'Correct': True, 'Agent Answer': '\\\\boxed{135^\\\\circ}', 'Real Answer': '\\\\boxed{135}'}, 1233: {'Correct': True, 'Agent Answer': '\\\\boxed{10\\\\%}', 'Real Answer': '\\\\boxed{10}'}, 1727: {'Correct': False, 'Agent Answer': '\\\\boxed{90}', 'Real Answer': '\\\\boxed{18}'}, 2057: {'Correct': False, 'Agent Answer': '\\\\boxed{7.5}', 'Real Answer': '\\\\boxed{90}'}, 1937: {'Correct': False, 'Agent Answer': '\\\\boxed{40^\\\\circ}', 'Real Answer': '\\\\boxed{30^\\\\circ}'}, 1123: {'Correct': True, 'Agent Answer': '\\\\boxed{563.51}', 'Real Answer': '\\\\boxed{563.51}'}, 1328: {'Correct': True, 'Agent Answer': '\\\\boxed{m + 2}', 'Real Answer': '\\\\boxed{m+2}'}, 1448: {'Correct': True, 'Agent Answer': '\\\\boxed{\\\\frac{5}{2}}', 'Real Answer': '\\\\boxed{\\\\frac{5}{2}}'}}}}\n",
      "{'score': 52.0, 'test_counts': {'Correct': 26, 'Error': 24}, 'test_counts_by_type': {'Precalculus': {'Correct': 0, 'Error': 3}, 'Geometry': {'Correct': 1, 'Error': 2}, 'Counting & Probability': {'Correct': 1, 'Error': 2}, 'Intermediate Algebra': {'Correct': 2, 'Error': 5}, 'Algebra': {'Correct': 9, 'Error': 4}, 'Number Theory': {'Correct': 5, 'Error': 1}, 'Prealgebra': {'Correct': 8, 'Error': 7}}, 'erratic_problems': {'Precalculus': [1276, 814, 924], 'Geometry': [817, 594], 'Counting & Probability': [57, 575], 'Intermediate Algebra': [2115, 1137, 150, 1779, 1020], 'Algebra': [1911, 405, 2066, 661], 'Number Theory': [497], 'Prealgebra': [1405, 1634, 1909, 1418, 1727, 2057, 1937]}, 'tests_results': {'Precalculus': {1276: {'Correct': False, 'Agent Answer': '\\\\boxed{11}', 'Real Answer': '\\\\boxed{\\\\left[ -\\\\frac{\\\\pi}{2}, \\\\frac{\\\\pi}{2} \\\\right]}'}, 814: {'Correct': False, 'Agent Answer': '\\\\boxed{1}', 'Real Answer': '\\\\boxed{3 \\\\sqrt{3}}'}, 924: {'Correct': False, 'Agent Answer': '\\\\boxed{-1}', 'Real Answer': '\\\\boxed{\\\\frac{3}{4}, -\\\\frac{3}{4}}'}}, 'Geometry': {171: {'Correct': True, 'Agent Answer': '\\\\boxed{4}', 'Real Answer': '\\\\boxed{4}'}, 817: {'Correct': False, 'Agent Answer': '\\\\boxed{\\\\frac{28}{1+\\\\sqrt{2}}}', 'Real Answer': '\\\\boxed{\\\\frac{14}{3}}'}, 594: {'Correct': False, 'Agent Answer': '\\\\boxed{36^\\\\circ}', 'Real Answer': '\\\\boxed{18^\\\\circ}'}}, 'Counting & Probability': {57: {'Correct': False, 'Agent Answer': '\\\\boxed{11}', 'Real Answer': '\\\\boxed{\\\\frac{1}{13}}'}, 695: {'Correct': True, 'Agent Answer': '\\\\boxed{200}', 'Real Answer': '\\\\boxed{200}'}, 575: {'Correct': False, 'Agent Answer': '\\\\boxed{19}', 'Real Answer': '\\\\boxed{15,600}'}}, 'Intermediate Algebra': {2115: {'Correct': False, 'Agent Answer': '\\\\boxed{4}', 'Real Answer': '\\\\boxed{203}'}, 1137: {'Correct': False, 'Agent Answer': '\\\\boxed{200}', 'Real Answer': '\\\\boxed{8}'}, 150: {'Correct': False, 'Agent Answer': '\\\\boxed{111111111}', 'Real Answer': '\\\\boxed{49896}'}, 1779: {'Correct': False, 'Agent Answer': '\\\\boxed{16}', 'Real Answer': '\\\\boxed{15}'}, 1020: {'Correct': False, 'Agent Answer': '\\\\boxed{11, -3 + 6i}', 'Real Answer': '\\\\boxed{-3 + 6i}'}, 1582: {'Correct': True, 'Agent Answer': '\\\\boxed{1}', 'Real Answer': '\\\\boxed{1}'}, 1597: {'Correct': True, 'Agent Answer': '\\\\boxed{(10, 3)}', 'Real Answer': '\\\\boxed{(10,3)}'}}, 'Algebra': {1911: {'Correct': False, 'Agent Answer': '\\\\boxed{11}', 'Real Answer': '\\\\boxed{575}'}, 405: {'Correct': False, 'Agent Answer': '\\\\boxed{11}', 'Real Answer': '\\\\boxed{2}'}, 276: {'Correct': True, 'Agent Answer': '\\\\boxed{12}', 'Real Answer': '\\\\boxed{12}'}, 455: {'Correct': True, 'Agent Answer': '\\\\boxed{3}', 'Real Answer': '\\\\boxed{3}'}, 1707: {'Correct': True, 'Agent Answer': '\\\\boxed{3}', 'Real Answer': '\\\\boxed{3}'}, 1213: {'Correct': True, 'Agent Answer': '\\\\boxed{\\\\frac{1}{5}}', 'Real Answer': '\\\\boxed{\\\\dfrac{1}{5}}'}, 2066: {'Correct': False, 'Agent Answer': '\\\\boxed{\\\\frac{1}{5}}', 'Real Answer': '\\\\boxed{2x-1}'}, 1781: {'Correct': True, 'Agent Answer': '\\\\boxed{-3}', 'Real Answer': '\\\\boxed{-3}'}, 661: {'Correct': False, 'Agent Answer': '\\\\boxed{40}', 'Real Answer': '\\\\boxed{36}'}, 919: {'Correct': True, 'Agent Answer': '\\\\boxed{7.5}', 'Real Answer': '\\\\boxed{7.5}'}, 425: {'Correct': True, 'Agent Answer': '\\\\boxed{-128}', 'Real Answer': '\\\\boxed{-128}'}, 2762: {'Correct': True, 'Agent Answer': '\\\\boxed{1}', 'Real Answer': '\\\\boxed{1}'}, 636: {'Correct': True, 'Agent Answer': '\\\\boxed{11}', 'Real Answer': '\\\\boxed{11}'}}, 'Number Theory': {1218: {'Correct': True, 'Agent Answer': '\\\\boxed{11}', 'Real Answer': '\\\\boxed{11}'}, 328: {'Correct': True, 'Agent Answer': '\\\\boxed{6}', 'Real Answer': '\\\\boxed{6}'}, 497: {'Correct': False, 'Agent Answer': '\\\\boxed{1}', 'Real Answer': '\\\\boxed{556}'}, 590: {'Correct': True, 'Agent Answer': '\\\\boxed{19}', 'Real Answer': '\\\\boxed{19}'}, 221: {'Correct': True, 'Agent Answer': '\\\\boxed{11}', 'Real Answer': '\\\\boxed{11}'}, 252: {'Correct': True, 'Agent Answer': '\\\\boxed{3}', 'Real Answer': '\\\\boxed{3}'}}, 'Prealgebra': {1405: {'Correct': False, 'Agent Answer': '\\\\boxed{11}', 'Real Answer': '\\\\boxed{56}'}, 1634: {'Correct': False, 'Agent Answer': '\\\\boxed{11}', 'Real Answer': '\\\\boxed{-5}'}, 1909: {'Correct': False, 'Agent Answer': '\\\\boxed{11}', 'Real Answer': '\\\\boxed{33\\\\sqrt{30}}'}, 1591: {'Correct': True, 'Agent Answer': '\\\\boxed{27}', 'Real Answer': '\\\\boxed{27}'}, 1418: {'Correct': False, 'Agent Answer': '\\\\boxed{111111111}', 'Real Answer': '\\\\boxed{111, \\\\! 111, \\\\! 111}'}, 1445: {'Correct': True, 'Agent Answer': '\\\\boxed{40}', 'Real Answer': '\\\\boxed{40}'}, 807: {'Correct': True, 'Agent Answer': '\\\\boxed{26}', 'Real Answer': '\\\\boxed{26}'}, 965: {'Correct': True, 'Agent Answer': '\\\\boxed{135^\\\\circ}', 'Real Answer': '\\\\boxed{135}'}, 1233: {'Correct': True, 'Agent Answer': '\\\\boxed{10\\\\%}', 'Real Answer': '\\\\boxed{10}'}, 1727: {'Correct': False, 'Agent Answer': '\\\\boxed{90}', 'Real Answer': '\\\\boxed{18}'}, 2057: {'Correct': False, 'Agent Answer': '\\\\boxed{7.5}', 'Real Answer': '\\\\boxed{90}'}, 1937: {'Correct': False, 'Agent Answer': '\\\\boxed{40^\\\\circ}', 'Real Answer': '\\\\boxed{30^\\\\circ}'}, 1123: {'Correct': True, 'Agent Answer': '\\\\boxed{563.51}', 'Real Answer': '\\\\boxed{563.51}'}, 1328: {'Correct': True, 'Agent Answer': '\\\\boxed{m + 2}', 'Real Answer': '\\\\boxed{m+2}'}, 1448: {'Correct': True, 'Agent Answer': '\\\\boxed{\\\\frac{5}{2}}', 'Real Answer': '\\\\boxed{\\\\frac{5}{2}}'}}}}\n"
     ]
    }
   ],
   "source": [
    "math_solver = ChainOfThoughtMathSolver()\n",
    "\n",
    "math_problems = math_data_loader.load_problems(constants.MATH_RANDOM_PROBLEM_EVAL_DIR)\n",
    "\n",
    "print(f'Math Problems to Evaluate: {[p.get_id() for p in math_problems]}')\n",
    "results = math_data_loader.test_math_parallel(math_solver, math_problems, max_workers=8)\n",
    "print(results)\n",
    "math_data_loader.save_results(results, constants.MATH_SINFGLE_AGENT_EVAL_DIR)"
   ]
  },
  {
   "cell_type": "markdown",
   "metadata": {},
   "source": [
    "### LangChain MACM"
   ]
  },
  {
   "cell_type": "code",
   "execution_count": 7,
   "metadata": {},
   "outputs": [
    {
     "data": {
      "image/jpeg": "[encoded data removed]",
      "text/plain": [
       "<IPython.core.display.Image object>"
      ]
     },
     "metadata": {},
     "output_type": "display_data"
    }
   ],
   "source": [
    "from langgraphs.macm import get_macm_graph\n",
    "from IPython.display import Image, display\n",
    "\n",
    "graph = get_macm_graph()\n",
    "app = graph.compile()\n",
    "display(Image(app.get_graph(xray=True).draw_mermaid_png())) \n",
    "\n",
    "def macm(math_problem):\n",
    "    graph = get_macm_graph()\n",
    "    app = graph.compile()\n",
    "    \n",
    "    config = {\"recursion_limit\": 50}\n",
    "    inputs = {\n",
    "        \"math_problem\": math_problem,\n",
    "        \"current_iterations\": 0,\n",
    "        \"max_iterations\": 5,\n",
    "        \"verified_conditions\": [],\n",
    "        \"unverified_conditions\": [],\n",
    "        \"objectives\": [],\n",
    "        \"steps\": [],\n",
    "        \"final_answer\": None\n",
    "    }\n",
    "\n",
    "    for event in app.stream(inputs, config=config):\n",
    "        pass\n",
    "        # print_dict(event)\n",
    "    \n",
    "    last_event_name = list(event.keys())[0]\n",
    "    return event[last_event_name]['final_answer']"
   ]
  },
  {
   "cell_type": "markdown",
   "metadata": {},
   "source": [
    "#### Single Problem"
   ]
  },
  {
   "cell_type": "code",
   "execution_count": 6,
   "metadata": {},
   "outputs": [
    {
     "name": "stdout",
     "output_type": "stream",
     "text": [
      "In AgentConditionAnalyzer\n",
      "In AgentConditionGenerator ,current iteration:  0  max iterations:  5\n"
     ]
    },
    {
     "ename": "KeyboardInterrupt",
     "evalue": "",
     "output_type": "error",
     "traceback": [
      "\u001b[0;31m---------------------------------------------------------------------------\u001b[0m",
      "\u001b[0;31mKeyboardInterrupt\u001b[0m                         Traceback (most recent call last)",
      "Cell \u001b[0;32mIn[6], line 1\u001b[0m\n\u001b[0;32m----> 1\u001b[0m response \u001b[38;5;241m=\u001b[39m \u001b[43mmacm\u001b[49m\u001b[43m(\u001b[49m\u001b[43mrandom_problem\u001b[49m\u001b[43m)\u001b[49m\n\u001b[1;32m      2\u001b[0m \u001b[38;5;28mprint\u001b[39m(response)\n\u001b[1;32m      3\u001b[0m random_problem\u001b[38;5;241m.\u001b[39mis_correct_answer(response, verbose\u001b[38;5;241m=\u001b[39m\u001b[38;5;28;01mTrue\u001b[39;00m)\n",
      "Cell \u001b[0;32mIn[5], line 24\u001b[0m, in \u001b[0;36mmacm\u001b[0;34m(math_problem)\u001b[0m\n\u001b[1;32m     12\u001b[0m config \u001b[38;5;241m=\u001b[39m {\u001b[38;5;124m\"\u001b[39m\u001b[38;5;124mrecursion_limit\u001b[39m\u001b[38;5;124m\"\u001b[39m: \u001b[38;5;241m50\u001b[39m}\n\u001b[1;32m     13\u001b[0m inputs \u001b[38;5;241m=\u001b[39m {\n\u001b[1;32m     14\u001b[0m     \u001b[38;5;124m\"\u001b[39m\u001b[38;5;124mmath_problem\u001b[39m\u001b[38;5;124m\"\u001b[39m: math_problem,\n\u001b[1;32m     15\u001b[0m     \u001b[38;5;124m\"\u001b[39m\u001b[38;5;124mcurrent_iterations\u001b[39m\u001b[38;5;124m\"\u001b[39m: \u001b[38;5;241m0\u001b[39m,\n\u001b[0;32m   (...)\u001b[0m\n\u001b[1;32m     21\u001b[0m     \u001b[38;5;124m\"\u001b[39m\u001b[38;5;124mfinal_answer\u001b[39m\u001b[38;5;124m\"\u001b[39m: \u001b[38;5;28;01mNone\u001b[39;00m\n\u001b[1;32m     22\u001b[0m }\n\u001b[0;32m---> 24\u001b[0m \u001b[38;5;28;01mfor\u001b[39;00m event \u001b[38;5;129;01min\u001b[39;00m app\u001b[38;5;241m.\u001b[39mstream(inputs, config\u001b[38;5;241m=\u001b[39mconfig):\n\u001b[1;32m     25\u001b[0m     \u001b[38;5;28;01mpass\u001b[39;00m\n\u001b[1;32m     26\u001b[0m     \u001b[38;5;66;03m# print_dict(event)\u001b[39;00m\n",
      "File \u001b[0;32m~/Documents/Virtual-Environments/ai/lib/python3.10/site-packages/langgraph/pregel/__init__.py:976\u001b[0m, in \u001b[0;36mPregel.stream\u001b[0;34m(self, input, config, stream_mode, output_keys, interrupt_before, interrupt_after, debug)\u001b[0m\n\u001b[1;32m    974\u001b[0m     done, inflight \u001b[38;5;241m=\u001b[39m \u001b[38;5;28mset\u001b[39m(), \u001b[38;5;28mset\u001b[39m()\n\u001b[1;32m    975\u001b[0m \u001b[38;5;28;01mwhile\u001b[39;00m futures:\n\u001b[0;32m--> 976\u001b[0m     done, inflight \u001b[38;5;241m=\u001b[39m \u001b[43mconcurrent\u001b[49m\u001b[38;5;241;43m.\u001b[39;49m\u001b[43mfutures\u001b[49m\u001b[38;5;241;43m.\u001b[39;49m\u001b[43mwait\u001b[49m\u001b[43m(\u001b[49m\n\u001b[1;32m    977\u001b[0m \u001b[43m        \u001b[49m\u001b[43mfutures\u001b[49m\u001b[43m,\u001b[49m\n\u001b[1;32m    978\u001b[0m \u001b[43m        \u001b[49m\u001b[43mreturn_when\u001b[49m\u001b[38;5;241;43m=\u001b[39;49m\u001b[43mconcurrent\u001b[49m\u001b[38;5;241;43m.\u001b[39;49m\u001b[43mfutures\u001b[49m\u001b[38;5;241;43m.\u001b[39;49m\u001b[43mFIRST_COMPLETED\u001b[49m\u001b[43m,\u001b[49m\n\u001b[1;32m    979\u001b[0m \u001b[43m        \u001b[49m\u001b[43mtimeout\u001b[49m\u001b[38;5;241;43m=\u001b[39;49m\u001b[43m(\u001b[49m\n\u001b[1;32m    980\u001b[0m \u001b[43m            \u001b[49m\u001b[38;5;28;43mmax\u001b[39;49m\u001b[43m(\u001b[49m\u001b[38;5;241;43m0\u001b[39;49m\u001b[43m,\u001b[49m\u001b[43m \u001b[49m\u001b[43mend_time\u001b[49m\u001b[43m \u001b[49m\u001b[38;5;241;43m-\u001b[39;49m\u001b[43m \u001b[49m\u001b[43mtime\u001b[49m\u001b[38;5;241;43m.\u001b[39;49m\u001b[43mmonotonic\u001b[49m\u001b[43m(\u001b[49m\u001b[43m)\u001b[49m\u001b[43m)\u001b[49m\n\u001b[1;32m    981\u001b[0m \u001b[43m            \u001b[49m\u001b[38;5;28;43;01mif\u001b[39;49;00m\u001b[43m \u001b[49m\u001b[43mend_time\u001b[49m\n\u001b[1;32m    982\u001b[0m \u001b[43m            \u001b[49m\u001b[38;5;28;43;01melse\u001b[39;49;00m\u001b[43m \u001b[49m\u001b[38;5;28;43;01mNone\u001b[39;49;00m\n\u001b[1;32m    983\u001b[0m \u001b[43m        \u001b[49m\u001b[43m)\u001b[49m\u001b[43m,\u001b[49m\n\u001b[1;32m    984\u001b[0m \u001b[43m    \u001b[49m\u001b[43m)\u001b[49m\n\u001b[1;32m    985\u001b[0m     \u001b[38;5;28;01mif\u001b[39;00m \u001b[38;5;129;01mnot\u001b[39;00m done:\n\u001b[1;32m    986\u001b[0m         \u001b[38;5;28;01mbreak\u001b[39;00m  \u001b[38;5;66;03m# timed out\u001b[39;00m\n",
      "File \u001b[0;32m/usr/lib/python3.10/concurrent/futures/_base.py:307\u001b[0m, in \u001b[0;36mwait\u001b[0;34m(fs, timeout, return_when)\u001b[0m\n\u001b[1;32m    303\u001b[0m         \u001b[38;5;28;01mreturn\u001b[39;00m DoneAndNotDoneFutures(done, not_done)\n\u001b[1;32m    305\u001b[0m     waiter \u001b[38;5;241m=\u001b[39m _create_and_install_waiters(fs, return_when)\n\u001b[0;32m--> 307\u001b[0m \u001b[43mwaiter\u001b[49m\u001b[38;5;241;43m.\u001b[39;49m\u001b[43mevent\u001b[49m\u001b[38;5;241;43m.\u001b[39;49m\u001b[43mwait\u001b[49m\u001b[43m(\u001b[49m\u001b[43mtimeout\u001b[49m\u001b[43m)\u001b[49m\n\u001b[1;32m    308\u001b[0m \u001b[38;5;28;01mfor\u001b[39;00m f \u001b[38;5;129;01min\u001b[39;00m fs:\n\u001b[1;32m    309\u001b[0m     \u001b[38;5;28;01mwith\u001b[39;00m f\u001b[38;5;241m.\u001b[39m_condition:\n",
      "File \u001b[0;32m/usr/lib/python3.10/threading.py:607\u001b[0m, in \u001b[0;36mEvent.wait\u001b[0;34m(self, timeout)\u001b[0m\n\u001b[1;32m    605\u001b[0m signaled \u001b[38;5;241m=\u001b[39m \u001b[38;5;28mself\u001b[39m\u001b[38;5;241m.\u001b[39m_flag\n\u001b[1;32m    606\u001b[0m \u001b[38;5;28;01mif\u001b[39;00m \u001b[38;5;129;01mnot\u001b[39;00m signaled:\n\u001b[0;32m--> 607\u001b[0m     signaled \u001b[38;5;241m=\u001b[39m \u001b[38;5;28;43mself\u001b[39;49m\u001b[38;5;241;43m.\u001b[39;49m\u001b[43m_cond\u001b[49m\u001b[38;5;241;43m.\u001b[39;49m\u001b[43mwait\u001b[49m\u001b[43m(\u001b[49m\u001b[43mtimeout\u001b[49m\u001b[43m)\u001b[49m\n\u001b[1;32m    608\u001b[0m \u001b[38;5;28;01mreturn\u001b[39;00m signaled\n",
      "File \u001b[0;32m/usr/lib/python3.10/threading.py:320\u001b[0m, in \u001b[0;36mCondition.wait\u001b[0;34m(self, timeout)\u001b[0m\n\u001b[1;32m    318\u001b[0m \u001b[38;5;28;01mtry\u001b[39;00m:    \u001b[38;5;66;03m# restore state no matter what (e.g., KeyboardInterrupt)\u001b[39;00m\n\u001b[1;32m    319\u001b[0m     \u001b[38;5;28;01mif\u001b[39;00m timeout \u001b[38;5;129;01mis\u001b[39;00m \u001b[38;5;28;01mNone\u001b[39;00m:\n\u001b[0;32m--> 320\u001b[0m         \u001b[43mwaiter\u001b[49m\u001b[38;5;241;43m.\u001b[39;49m\u001b[43macquire\u001b[49m\u001b[43m(\u001b[49m\u001b[43m)\u001b[49m\n\u001b[1;32m    321\u001b[0m         gotit \u001b[38;5;241m=\u001b[39m \u001b[38;5;28;01mTrue\u001b[39;00m\n\u001b[1;32m    322\u001b[0m     \u001b[38;5;28;01melse\u001b[39;00m:\n",
      "\u001b[0;31mKeyboardInterrupt\u001b[0m: "
     ]
    }
   ],
   "source": [
    "response = macm(random_problem)\n",
    "print(response)\n",
    "random_problem.is_correct_answer(response, verbose=True)"
   ]
  },
  {
   "cell_type": "markdown",
   "metadata": {},
   "source": [
    "#### Multiple Problems in Parallel"
   ]
  },
  {
   "cell_type": "code",
   "execution_count": 8,
   "metadata": {},
   "outputs": [
    {
     "name": "stdout",
     "output_type": "stream",
     "text": [
      "Math Problems to Evaluate: ['Counting & Probability_57', 'Algebra_1911', 'Prealgebra_1405', 'Prealgebra_1909', 'Prealgebra_1634', 'Precalculus_1276', 'Algebra_405', 'Number Theory_1218', 'Intermediate Algebra_2115', 'Geometry_171', 'Algebra_276', 'Prealgebra_1591', 'Intermediate Algebra_1779', 'Intermediate Algebra_1137', 'Counting & Probability_695', 'Algebra_1707', 'Algebra_455', 'Algebra_2066', 'Algebra_1213', 'Intermediate Algebra_150', 'Prealgebra_1418', 'Intermediate Algebra_1020', 'Prealgebra_1445', 'Number Theory_328', 'Number Theory_497', 'Intermediate Algebra_1582', 'Precalculus_814', 'Prealgebra_807', 'Algebra_1781', 'Prealgebra_965', 'Prealgebra_1233', 'Algebra_661', 'Algebra_919', 'Prealgebra_2057', 'Prealgebra_1727', 'Algebra_425', 'Precalculus_924', 'Prealgebra_1937', 'Geometry_817', 'Number Theory_590', 'Counting & Probability_575', 'Algebra_2762', 'Intermediate Algebra_1597', 'Number Theory_252', 'Geometry_594', 'Number Theory_221', 'Algebra_636', 'Prealgebra_1123', 'Prealgebra_1328', 'Prealgebra_1448']\n",
      "In AgentConditionAnalyzer\n",
      "In AgentConditionAnalyzer\n",
      "In AgentConditionAnalyzer\n",
      "In AgentConditionAnalyzer\n",
      "In AgentConditionAnalyzer\n",
      "In AgentConditionAnalyzer\n",
      "In AgentConditionAnalyzer\n",
      "In AgentConditionAnalyzer\n",
      "In AgentConditionGenerator ,current iteration:  0  max iterations:  5\n",
      "In AgentConditionGenerator ,current iteration:  0  max iterations:  5\n",
      "In AgentConditionGenerator ,current iteration:  0  max iterations:  5\n",
      "In AgentConditionGenerator ,current iteration:  0  max iterations:  5\n",
      "In AgentConditionGenerator ,current iteration:  0  max iterations:  5\n",
      "In AgentConditionGenerator ,current iteration:  0  max iterations:  5\n",
      "In AgentConditionGenerator ,current iteration:  0  max iterations:  5\n",
      "In AgentConditionGenerator ,current iteration:  0  max iterations:  5\n",
      "In AgentConditionJudge\n",
      "In AgentConditionJudge\n",
      "In AgentConditionJudge\n",
      "Attempt 0 failed\n",
      "In AgentConditionJudge\n",
      "In AgentConditionJudge\n",
      "In AgentConditionJudge\n",
      "In AgentAnswerReadyJudge\n",
      "In AgentAnswerReadyJudge\n",
      "In AgentConditionJudge\n",
      "In AgentAnswerReadyJudge\n",
      "In AgentAnswerReadyJudge\n",
      "In AgentNumericalStepsGeneration\n",
      "In AgentNumericalStepsGeneration\n",
      "In AgentConditionJudge\n",
      "In AgentNumericalStepsGeneration\n",
      "In AgentNumericalStepsGeneration\n",
      "In AgentStepsExecutor\n",
      "In AgentStepsExecutor\n",
      "In AgentStepsExecutor\n",
      "In AgentAnswerReadyJudge\n",
      "In AgentStepsExecutor\n",
      "In AgentAnswerReadyJudge\n",
      "In AgentAnswerReadyJudge\n",
      "Final Answer: \\boxed{-5.0}\n",
      "Completed Tasks: 1/50. Correct: True, Agent Answer: \\boxed{-5.0}, Real Answer: \\boxed{-5}\n",
      "\n",
      "-----------------------------------\n",
      "\n",
      "In AgentNumericalStepsGeneration\n",
      "Final Answer: \\boxed{1001.0}\n",
      "Completed Tasks: 2/50. Correct: False, Agent Answer: \\boxed{1001.0}, Real Answer: \\boxed{575}\n",
      "\n",
      "-----------------------------------\n",
      "\n",
      "In AgentConditionAnalyzer\n",
      "In AgentConditionGenerator ,current iteration:  1  max iterations:  5\n",
      "In AgentNumericalStepsGeneration\n",
      "In AgentAnswerReadyJudge\n",
      "In AgentConditionAnalyzer\n",
      "In AgentStepsExecutor\n",
      "Final Answer: \\boxed{56.0}\n",
      "Completed Tasks: 3/50. Correct: True, Agent Answer: \\boxed{56.0}, Real Answer: \\boxed{56}\n",
      "\n",
      "-----------------------------------\n",
      "\n",
      "In AgentConditionGenerator ,current iteration:  0  max iterations:  5\n",
      "In AgentConditionGenerator ,current iteration:  0  max iterations:  5\n",
      "In AgentConditionAnalyzer\n",
      "In AgentStepsExecutor\n",
      "In AgentConditionGenerator ,current iteration:  1  max iterations:  5\n",
      "Final Answer: \\boxed{180.748443976705}\n",
      "Completed Tasks: 4/50. Correct: False, Agent Answer: \\boxed{180.748443976705}, Real Answer: \\boxed{33\\sqrt{30}}\n",
      "\n",
      "-----------------------------------\n",
      "\n",
      "In AgentConditionGenerator ,current iteration:  0  max iterations:  5\n",
      "In AgentConditionAnalyzer\n",
      "Final Answer: \\boxed{11.0}\n",
      "Completed Tasks: 5/50. Correct: True, Agent Answer: \\boxed{11.0}, Real Answer: \\boxed{11}\n",
      "\n",
      "-----------------------------------\n",
      "\n",
      "Final Answer: \\boxed{2.0}\n",
      "Completed Tasks: 6/50. Correct: True, Agent Answer: \\boxed{2.0}, Real Answer: \\boxed{2}\n",
      "\n",
      "-----------------------------------\n",
      "\n",
      "In AgentConditionGenerator ,current iteration:  0  max iterations:  5\n",
      "In AgentConditionAnalyzer\n",
      "In AgentConditionAnalyzer\n",
      "In AgentConditionJudge\n",
      "Attempt 0 failed\n",
      "In AgentConditionGenerator ,current iteration:  0  max iterations:  5\n",
      "In AgentConditionGenerator ,current iteration:  0  max iterations:  5\n",
      "In AgentConditionJudge\n",
      "In AgentConditionJudge\n",
      "In AgentConditionJudge\n",
      "In AgentConditionJudge\n",
      "In AgentAnswerReadyJudge\n",
      "In AgentConditionJudge\n",
      "In AgentConditionJudge\n",
      "In AgentAnswerReadyJudge\n",
      "In AgentNumericalStepsGeneration\n",
      "In AgentAnswerReadyJudge\n",
      "In AgentConditionGenerator ,current iteration:  2  max iterations:  5\n",
      "In AgentAnswerReadyJudge\n",
      "In AgentStepsExecutor\n",
      "In AgentNumericalStepsGeneration\n",
      "In AgentAnswerReadyJudge\n",
      "In AgentAnswerReadyJudge\n",
      "In AgentAnswerReadyJudge\n",
      "In AgentConditionGenerator ,current iteration:  1  max iterations:  5\n",
      "In AgentConditionGenerator ,current iteration:  1  max iterations:  5\n",
      "In AgentNumericalStepsGeneration\n",
      "In AgentNumericalStepsGeneration\n",
      "In AgentStepsExecutor\n",
      "In AgentConditionJudge\n",
      "In AgentConditionJudge\n",
      "In AgentStepsExecutor\n",
      "Final Answer: \\boxed{4.0}\n",
      "Completed Tasks: 7/50. Correct: True, Agent Answer: \\boxed{4.0}, Real Answer: \\boxed{4}\n",
      "\n",
      "-----------------------------------\n",
      "\n",
      "In AgentConditionAnalyzer\n",
      "In AgentStepsExecutor\n",
      "Final Answer: \\boxed{[-2.346, 2.346]}\n",
      "Completed Tasks: 8/50. Correct: False, Agent Answer: \\boxed{[-2.346, 2.346]}, Real Answer: \\boxed{\\left[ -\\frac{\\pi}{2}, \\frac{\\pi}{2} \\right]}\n",
      "\n",
      "-----------------------------------\n",
      "\n",
      "In AgentAnswerReadyJudge\n",
      "Final Answer: \\boxed{8.0}\n",
      "Completed Tasks: 9/50. Correct: True, Agent Answer: \\boxed{8.0}, Real Answer: \\boxed{8}\n",
      "\n",
      "-----------------------------------\n",
      "\n",
      "In AgentConditionGenerator ,current iteration:  0  max iterations:  5\n",
      "In AgentConditionJudge\n",
      "In AgentConditionAnalyzer\n",
      "In AgentConditionGenerator ,current iteration:  3  max iterations:  5\n",
      "In AgentConditionJudge\n",
      "In AgentConditionAnalyzer\n",
      "In AgentConditionGenerator ,current iteration:  0  max iterations:  5\n",
      "Final Answer: \\boxed{12.0}\n",
      "Completed Tasks: 10/50. Correct: True, Agent Answer: \\boxed{12.0}, Real Answer: \\boxed{12}\n",
      "\n",
      "-----------------------------------\n",
      "\n",
      "In AgentConditionGenerator ,current iteration:  0  max iterations:  5\n",
      "In AgentConditionAnalyzer\n",
      "In AgentAnswerReadyJudge\n",
      "In AgentConditionGenerator ,current iteration:  0  max iterations:  5\n",
      "In AgentConditionJudge\n",
      "In AgentConditionJudge\n",
      "In AgentNumericalStepsGeneration\n",
      "In AgentAnswerReadyJudge\n",
      "In AgentConditionJudge\n",
      "In AgentAnswerReadyJudge\n",
      "In AgentConditionJudge\n",
      "In AgentNumericalStepsGeneration\n",
      "In AgentAnswerReadyJudge\n",
      "In AgentStepsExecutor\n",
      "In AgentStepsExecutor\n",
      "In AgentAnswerReadyJudge\n",
      "In AgentAnswerReadyJudge\n",
      "In AgentConditionJudge\n",
      "In AgentAnswerReadyJudge\n",
      "In AgentConditionGenerator ,current iteration:  1  max iterations:  5\n",
      "In AgentNumericalStepsGeneration\n",
      "In AgentNumericalStepsGeneration\n",
      "In AgentConditionGenerator ,current iteration:  4  max iterations:  5\n",
      "In AgentStepsExecutor\n",
      "Final Answer: \\boxed{27.0}\n",
      "Completed Tasks: 11/50. Correct: True, Agent Answer: \\boxed{27.0}, Real Answer: \\boxed{27}\n",
      "\n",
      "-----------------------------------\n",
      "\n",
      "In AgentConditionAnalyzer\n",
      "In AgentNumericalStepsGeneration\n",
      "Final Answer: \\[ \\boxed{103.0} \\]\n",
      "Completed Tasks: 12/50. Correct: False, Agent Answer: \\boxed{103.0}, Real Answer: \\boxed{203}\n",
      "\n",
      "-----------------------------------\n",
      "\n",
      "Final Answer: \\boxed{2.999670434416971}\n",
      "Completed Tasks: 13/50. Correct: False, Agent Answer: \\boxed{2.999670434416971}, Real Answer: \\boxed{3}\n",
      "\n",
      "-----------------------------------\n",
      "\n",
      "In AgentStepsExecutor\n",
      "In AgentAnswerReadyJudge\n",
      "In AgentConditionAnalyzer\n",
      "In AgentConditionGenerator ,current iteration:  0  max iterations:  5\n",
      "In AgentConditionAnalyzer\n",
      "In AgentConditionJudge\n",
      "In AgentStepsExecutor\n",
      "In AgentConditionGenerator ,current iteration:  0  max iterations:  5\n",
      "In AgentConditionGenerator ,current iteration:  0  max iterations:  5\n",
      "In AgentNumericalStepsGeneration\n",
      "Final Answer: \\boxed{3.0}\n",
      "Completed Tasks: 14/50. Correct: True, Agent Answer: \\boxed{3.0}, Real Answer: \\boxed{3}\n",
      "\n",
      "-----------------------------------\n",
      "\n",
      "In AgentConditionJudge\n",
      "In AgentAnswerReadyJudge\n",
      "In AgentStepsExecutor\n",
      "In AgentConditionAnalyzer\n",
      "In AgentConditionJudge\n",
      "In AgentConditionGenerator ,current iteration:  0  max iterations:  5\n",
      "In AgentAnswerReadyJudge\n",
      "Final Answer: \\boxed{6.0}\n",
      "Completed Tasks: 15/50. Correct: False, Agent Answer: \\boxed{6.0}, Real Answer: \\boxed{15}\n",
      "\n",
      "-----------------------------------\n",
      "\n",
      "In AgentNumericalStepsGeneration\n",
      "Final Answer: \\boxed{32.0}\n",
      "Completed Tasks: 16/50. Correct: False, Agent Answer: \\boxed{32.0}, Real Answer: \\boxed{2x-1}\n",
      "\n",
      "-----------------------------------\n",
      "\n",
      "In AgentConditionAnalyzer\n",
      "In AgentConditionJudge\n",
      "In AgentStepsExecutor\n",
      "In AgentNumericalStepsGeneration\n",
      "In AgentConditionAnalyzer\n",
      "In AgentConditionGenerator ,current iteration:  0  max iterations:  5\n",
      "In AgentAnswerReadyJudge\n",
      "In AgentConditionGenerator ,current iteration:  0  max iterations:  5\n",
      "In AgentConditionJudge\n",
      "In AgentStepsExecutor\n",
      "In AgentNumericalStepsGeneration\n",
      "Final Answer: \\boxed{200.0}\n",
      "Completed Tasks: 17/50. Correct: True, Agent Answer: \\boxed{200.0}, Real Answer: \\boxed{200}\n",
      "\n",
      "-----------------------------------\n",
      "\n",
      "In AgentConditionAnalyzer\n",
      "In AgentConditionJudge\n",
      "In AgentStepsExecutor\n",
      "Final Answer: \\boxed{0.077}\n",
      "Completed Tasks: 18/50. Correct: False, Agent Answer: \\boxed{0.077}, Real Answer: \\boxed{\\frac{1}{13}}\n",
      "\n",
      "-----------------------------------\n",
      "\n",
      "In AgentAnswerReadyJudge\n",
      "In AgentConditionGenerator ,current iteration:  0  max iterations:  5\n",
      "In AgentConditionJudge\n",
      "In AgentConditionJudge\n",
      "In AgentNumericalStepsGeneration\n",
      "In AgentAnswerReadyJudge\n",
      "In AgentConditionAnalyzer\n",
      "In AgentAnswerReadyJudge\n",
      "Final Answer: \\boxed{111111111.0}\n",
      "Completed Tasks: 19/50. Correct: False, Agent Answer: \\boxed{111111111.0}, Real Answer: \\boxed{111, \\! 111, \\! 111}\n",
      "\n",
      "-----------------------------------\n",
      "\n",
      "In AgentAnswerReadyJudge\n",
      "In AgentConditionAnalyzer\n",
      "In AgentConditionGenerator ,current iteration:  0  max iterations:  5\n",
      "In AgentNumericalStepsGeneration\n",
      "In AgentConditionJudge\n",
      "In AgentStepsExecutor\n",
      "In AgentConditionGenerator ,current iteration:  0  max iterations:  5\n",
      "In AgentStepsExecutor\n",
      "In AgentNumericalStepsGeneration\n",
      "In AgentNumericalStepsGeneration\n",
      "In AgentStepsExecutor\n",
      "In AgentAnswerReadyJudge\n",
      "In AgentStepsExecutor\n",
      "Final Answer: \\boxed{6.0}\n",
      "Completed Tasks: 20/50. Correct: True, Agent Answer: \\boxed{6.0}, Real Answer: \\boxed{6}\n",
      "\n",
      "-----------------------------------\n",
      "\n",
      "Final Answer: \\boxed{0.2}\n",
      "Completed Tasks: 21/50. Correct: False, Agent Answer: \\boxed{0.2}, Real Answer: \\boxed{\\dfrac{1}{5}}\n",
      "\n",
      "-----------------------------------\n",
      "\n",
      "In AgentAnswerReadyJudge\n",
      "In AgentConditionAnalyzer\n",
      "In AgentConditionAnalyzer\n",
      "Final Answer: \\boxed{40.0}\n",
      "Completed Tasks: 22/50. Correct: True, Agent Answer: \\boxed{40.0}, Real Answer: \\boxed{40}\n",
      "\n",
      "-----------------------------------\n",
      "\n",
      "In AgentConditionGenerator ,current iteration:  1  max iterations:  5\n",
      "In AgentConditionGenerator ,current iteration:  0  max iterations:  5\n",
      "In AgentConditionGenerator ,current iteration:  0  max iterations:  5\n",
      "In AgentConditionAnalyzer\n",
      "In AgentConditionGenerator ,current iteration:  0  max iterations:  5\n",
      "In AgentConditionGenerator ,current iteration:  1  max iterations:  5\n",
      "In AgentConditionJudge\n",
      "In AgentConditionJudge\n",
      "Final Answer: \\boxed{11.0}\n",
      "Completed Tasks: 23/50. Correct: False, Agent Answer: \\boxed{11.0}, Real Answer: \\boxed{-3 + 6i}\n",
      "\n",
      "-----------------------------------\n",
      "\n",
      "In AgentConditionJudge\n",
      "In AgentConditionJudge\n",
      "In AgentConditionJudge\n",
      "In AgentConditionAnalyzer\n",
      "In AgentConditionJudge\n",
      "In AgentAnswerReadyJudge\n",
      "In AgentConditionJudge\n",
      "In AgentConditionGenerator ,current iteration:  0  max iterations:  5\n",
      "In AgentAnswerReadyJudge\n",
      "In AgentAnswerReadyJudge\n",
      "In AgentNumericalStepsGeneration\n",
      "In AgentAnswerReadyJudge\n",
      "In AgentAnswerReadyJudge\n",
      "In AgentAnswerReadyJudge\n",
      "In AgentNumericalStepsGeneration\n",
      "In AgentAnswerReadyJudge\n",
      "In AgentStepsExecutor\n",
      "In AgentConditionGenerator ,current iteration:  2  max iterations:  5\n",
      "In AgentConditionGenerator ,current iteration:  1  max iterations:  5\n",
      "In AgentStepsExecutor\n",
      "In AgentConditionGenerator ,current iteration:  1  max iterations:  5\n",
      "In AgentNumericalStepsGeneration\n",
      "In AgentConditionJudge\n",
      "In AgentNumericalStepsGeneration\n",
      "Final Answer: \\[\n",
      "\\boxed{-3.0}\n",
      "\\]\n",
      "Completed Tasks: 24/50. Correct: True, Agent Answer: \\boxed{-3.0}, Real Answer: \\boxed{-3}\n",
      "\n",
      "-----------------------------------\n",
      "\n",
      "Final Answer: \\boxed{26.0}\n",
      "Completed Tasks: 25/50. Correct: True, Agent Answer: \\boxed{26.0}, Real Answer: \\boxed{26}\n",
      "\n",
      "-----------------------------------\n",
      "\n",
      "In AgentStepsExecutor\n",
      "In AgentStepsExecutor\n",
      "In AgentConditionAnalyzer\n",
      "In AgentConditionAnalyzer\n",
      "In AgentAnswerReadyJudge\n",
      "In AgentConditionJudge\n",
      "In AgentConditionGenerator ,current iteration:  0  max iterations:  5\n",
      "In AgentConditionJudge\n",
      "In AgentConditionGenerator ,current iteration:  0  max iterations:  5\n",
      "Final Answer: \\boxed{135.0}\n",
      "Completed Tasks: 26/50. Correct: True, Agent Answer: \\boxed{135.0}, Real Answer: \\boxed{135}\n",
      "\n",
      "-----------------------------------\n",
      "\n",
      "In AgentNumericalStepsGeneration\n",
      "In AgentConditionAnalyzer\n",
      "In AgentStepsExecutor\n",
      "Final Answer: \\(\\boxed{374.0}\\)\n",
      "Completed Tasks: 27/50. Correct: False, Agent Answer: \\boxed{374.0}, Real Answer: \\boxed{556}\n",
      "\n",
      "-----------------------------------\n",
      "\n",
      "In AgentConditionGenerator ,current iteration:  0  max iterations:  5\n",
      "In AgentConditionAnalyzer\n",
      "In AgentConditionJudge\n",
      "In AgentConditionGenerator ,current iteration:  0  max iterations:  5\n",
      "In AgentAnswerReadyJudge\n",
      "In AgentConditionJudge\n",
      "In AgentAnswerReadyJudge\n",
      "In AgentConditionJudge\n",
      "Final Answer: \\boxed{10.0}\n",
      "Completed Tasks: 28/50. Correct: True, Agent Answer: \\boxed{10.0}, Real Answer: \\boxed{10}\n",
      "\n",
      "-----------------------------------\n",
      "\n",
      "In AgentAnswerReadyJudge\n",
      "In AgentConditionJudge\n",
      "In AgentNumericalStepsGeneration\n",
      "In AgentConditionAnalyzer\n",
      "In AgentConditionGenerator ,current iteration:  3  max iterations:  5\n",
      "In AgentConditionGenerator ,current iteration:  0  max iterations:  5\n",
      "In AgentAnswerReadyJudge\n",
      "In AgentStepsExecutor\n",
      "In AgentConditionGenerator ,current iteration:  2  max iterations:  5\n",
      "In AgentConditionJudge\n",
      "In AgentAnswerReadyJudge\n",
      "In AgentAnswerReadyJudge\n",
      "In AgentNumericalStepsGeneration\n",
      "In AgentNumericalStepsGeneration\n",
      "In AgentNumericalStepsGeneration\n",
      "In AgentAnswerReadyJudge\n",
      "In AgentConditionJudge\n",
      "In AgentStepsExecutor\n",
      "In AgentConditionJudge\n",
      "In AgentStepsExecutor\n",
      "Final Answer: \\boxed{1.0}\n",
      "Completed Tasks: 29/50. Correct: True, Agent Answer: \\boxed{1.0}, Real Answer: \\boxed{1}\n",
      "\n",
      "-----------------------------------\n",
      "\n",
      "In AgentNumericalStepsGeneration\n",
      "In AgentConditionAnalyzer\n",
      "In AgentStepsExecutor\n",
      "In AgentConditionGenerator ,current iteration:  0  max iterations:  5\n",
      "In AgentStepsExecutor\n",
      "In AgentAnswerReadyJudge\n",
      "Final Answer: \\boxed{90.0}\n",
      "Completed Tasks: 30/50. Correct: True, Agent Answer: \\boxed{90.0}, Real Answer: \\boxed{90}\n",
      "\n",
      "-----------------------------------\n",
      "\n",
      "In AgentConditionAnalyzer\n",
      "In AgentNumericalStepsGeneration\n",
      "In AgentConditionJudge\n",
      "Final Answer: \\boxed{7.5}\n",
      "Completed Tasks: 31/50. Correct: True, Agent Answer: \\boxed{7.5}, Real Answer: \\boxed{7.5}\n",
      "\n",
      "-----------------------------------\n",
      "\n",
      "In AgentAnswerReadyJudge\n",
      "Final Answer: \\boxed{36.0}\n",
      "Completed Tasks: 32/50. Correct: True, Agent Answer: \\boxed{36.0}, Real Answer: \\boxed{36}\n",
      "\n",
      "-----------------------------------\n",
      "\n",
      "In AgentStepsExecutor\n",
      "In AgentConditionGenerator ,current iteration:  0  max iterations:  5\n",
      "Final Answer: \\boxed{18.0}\n",
      "Completed Tasks: 33/50. Correct: True, Agent Answer: \\boxed{18.0}, Real Answer: \\boxed{18}\n",
      "\n",
      "-----------------------------------\n",
      "\n",
      "In AgentConditionAnalyzer\n",
      "In AgentNumericalStepsGeneration\n",
      "In AgentConditionAnalyzer\n",
      "In AgentConditionAnalyzer\n",
      "In AgentConditionGenerator ,current iteration:  0  max iterations:  5\n",
      "In AgentStepsExecutor\n",
      "In AgentConditionGenerator ,current iteration:  0  max iterations:  5\n",
      "In AgentConditionGenerator ,current iteration:  0  max iterations:  5\n",
      "In AgentAnswerReadyJudge\n",
      "Final Answer: \\boxed{-128.0}\n",
      "Completed Tasks: 34/50. Correct: True, Agent Answer: \\boxed{-128.0}, Real Answer: \\boxed{-128}\n",
      "\n",
      "-----------------------------------\n",
      "\n",
      "In AgentConditionAnalyzer\n",
      "In AgentConditionJudge\n",
      "In AgentConditionJudge\n",
      "In AgentConditionGenerator ,current iteration:  3  max iterations:  5\n",
      "In AgentConditionGenerator ,current iteration:  0  max iterations:  5\n",
      "In AgentConditionJudge\n",
      "In AgentConditionJudge\n",
      "In AgentConditionJudge\n",
      "Final Answer: \\boxed{628028478.0}\n",
      "Completed Tasks: 35/50. Correct: False, Agent Answer: \\boxed{628028478.0}, Real Answer: \\boxed{49896}\n",
      "\n",
      "-----------------------------------\n",
      "\n",
      "In AgentConditionAnalyzer\n",
      "In AgentAnswerReadyJudge\n",
      "In AgentAnswerReadyJudge\n",
      "In AgentAnswerReadyJudge\n",
      "In AgentConditionGenerator ,current iteration:  0  max iterations:  5\n",
      "In AgentAnswerReadyJudge\n",
      "In AgentConditionGenerator ,current iteration:  1  max iterations:  5\n",
      "In AgentNumericalStepsGeneration\n",
      "In AgentAnswerReadyJudge\n",
      "In AgentNumericalStepsGeneration\n",
      "In AgentConditionJudge\n",
      "In AgentStepsExecutor\n",
      "In AgentStepsExecutor\n",
      "In AgentNumericalStepsGeneration\n",
      "In AgentNumericalStepsGeneration\n",
      "In AgentConditionJudge\n",
      "In AgentStepsExecutor\n",
      "In AgentStepsExecutor\n",
      "Final Answer: \\boxed{110.0}\n",
      "Completed Tasks: 36/50. Correct: False, Agent Answer: \\boxed{110.0}, Real Answer: \\boxed{30^\\circ}\n",
      "\n",
      "-----------------------------------\n",
      "\n",
      "In AgentConditionAnalyzer\n",
      "In AgentConditionJudge\n",
      "Final Answer: \\boxed{3.0}\n",
      "Completed Tasks: 37/50. Correct: False, Agent Answer: \\boxed{3.0}, Real Answer: \\boxed{19}\n",
      "\n",
      "-----------------------------------\n",
      "\n",
      "In AgentAnswerReadyJudge\n",
      "In AgentConditionGenerator ,current iteration:  0  max iterations:  5\n",
      "In AgentConditionAnalyzer\n",
      "In AgentConditionJudge\n",
      "In AgentAnswerReadyJudge\n",
      "In AgentConditionGenerator ,current iteration:  0  max iterations:  5\n",
      "In AgentNumericalStepsGeneration\n",
      "Final Answer: \\boxed{4.949747468305833}\n",
      "Completed Tasks: 38/50. Correct: False, Agent Answer: \\boxed{4.949747468305833}, Real Answer: \\boxed{\\frac{14}{3}}\n",
      "\n",
      "-----------------------------------\n",
      "\n",
      "Final Answer: \\boxed{12000.0}\n",
      "Completed Tasks: 39/50. Correct: False, Agent Answer: \\boxed{12000.0}, Real Answer: \\boxed{15,600}\n",
      "\n",
      "-----------------------------------\n",
      "\n",
      "In AgentAnswerReadyJudge\n",
      "In AgentConditionJudge\n",
      "In AgentConditionAnalyzer\n",
      "In AgentStepsExecutor\n",
      "In AgentConditionGenerator ,current iteration:  2  max iterations:  5\n",
      "In AgentAnswerReadyJudge\n",
      "In AgentConditionAnalyzer\n",
      "In AgentConditionGenerator ,current iteration:  0  max iterations:  5\n",
      "In AgentAnswerReadyJudge\n",
      "In AgentConditionGenerator ,current iteration:  4  max iterations:  5\n",
      "In AgentConditionGenerator ,current iteration:  0  max iterations:  5\n",
      "In AgentConditionJudge\n",
      "Final Answer: \\boxed{1.0}\n",
      "Completed Tasks: 40/50. Correct: True, Agent Answer: \\boxed{1.0}, Real Answer: \\boxed{1}\n",
      "\n",
      "-----------------------------------\n",
      "\n",
      "In AgentNumericalStepsGeneration\n",
      "In AgentConditionAnalyzer\n",
      "In AgentNumericalStepsGeneration\n",
      "In AgentConditionJudge\n",
      "In AgentConditionJudge\n",
      "In AgentConditionGenerator ,current iteration:  0  max iterations:  5\n",
      "In AgentStepsExecutor\n",
      "In AgentConditionJudge\n",
      "In AgentAnswerReadyJudge\n",
      "In AgentAnswerReadyJudge\n",
      "In AgentStepsExecutor\n",
      "In AgentNumericalStepsGeneration\n",
      "In AgentNumericalStepsGeneration\n",
      "In AgentConditionJudge\n",
      "In AgentConditionJudge\n",
      "Final Answer: \\boxed{3.0}\n",
      "Completed Tasks: 41/50. Correct: True, Agent Answer: \\boxed{3.0}, Real Answer: \\boxed{3}\n",
      "\n",
      "-----------------------------------\n",
      "\n",
      "Final Answer: \\boxed{10.0}\n",
      "Completed Tasks: 42/50. Correct: False, Agent Answer: \\boxed{10.0}, Real Answer: \\boxed{(10,3)}\n",
      "\n",
      "-----------------------------------\n",
      "\n",
      "In AgentAnswerReadyJudge\n",
      "In AgentStepsExecutor\n",
      "In AgentConditionAnalyzer\n",
      "In AgentConditionAnalyzer\n",
      "In AgentAnswerReadyJudge\n",
      "In AgentAnswerReadyJudge\n",
      "In AgentConditionGenerator ,current iteration:  0  max iterations:  5\n",
      "In AgentConditionGenerator ,current iteration:  0  max iterations:  5\n",
      "In AgentAnswerReadyJudge\n",
      "In AgentNumericalStepsGeneration\n",
      "Final Answer: \\boxed{54.0}\n",
      "Completed Tasks: 43/50. Correct: False, Agent Answer: \\boxed{54.0}, Real Answer: \\boxed{18^\\circ}\n",
      "\n",
      "-----------------------------------\n",
      "\n",
      "In AgentNumericalStepsGeneration\n",
      "In AgentNumericalStepsGeneration\n",
      "In AgentStepsExecutor\n",
      "In AgentNumericalStepsGeneration\n",
      "In AgentStepsExecutor\n",
      "In AgentConditionJudge\n",
      "In AgentStepsExecutor\n",
      "In AgentStepsExecutor\n",
      "In AgentStepsExecutor\n",
      "In AgentConditionJudge\n",
      "Final Answer: \\boxed{563.51}\n",
      "Completed Tasks: 44/50. Correct: True, Agent Answer: \\boxed{563.51}, Real Answer: \\boxed{563.51}\n",
      "\n",
      "-----------------------------------\n",
      "\n",
      "Final Answer: \\boxed{11.0}\n",
      "Completed Tasks: 45/50. Correct: True, Agent Answer: \\boxed{11.0}, Real Answer: \\boxed{11}\n",
      "\n",
      "-----------------------------------\n",
      "\n",
      "In AgentAnswerReadyJudge\n",
      "Final Answer: \\boxed{-0.75}\n",
      "Completed Tasks: 46/50. Correct: False, Agent Answer: \\boxed{-0.75}, Real Answer: \\boxed{\\frac{3}{4}, -\\frac{3}{4}}\n",
      "\n",
      "-----------------------------------\n",
      "\n",
      "Final Answer: \\boxed{11.0}\n",
      "Completed Tasks: 47/50. Correct: True, Agent Answer: \\boxed{11.0}, Real Answer: \\boxed{11}\n",
      "\n",
      "-----------------------------------\n",
      "\n",
      "In AgentNumericalStepsGeneration\n",
      "Final Answer: \\boxed{1.7320508075688772}\n",
      "Completed Tasks: 48/50. Correct: False, Agent Answer: \\boxed{1.7320508075688772}, Real Answer: \\boxed{3 \\sqrt{3}}\n",
      "\n",
      "-----------------------------------\n",
      "\n",
      "In AgentAnswerReadyJudge\n",
      "In AgentNumericalStepsGeneration\n",
      "In AgentStepsExecutor\n",
      "In AgentStepsExecutor\n",
      "Final Answer: \\(\\boxed{2.5}\\)\n",
      "Completed Tasks: 49/50. Correct: False, Agent Answer: \\boxed{2.5}, Real Answer: \\boxed{\\frac{5}{2}}\n",
      "\n",
      "-----------------------------------\n",
      "\n",
      "Final Answer: \\boxed{2.0}\n",
      "Completed Tasks: 50/50. Correct: False, Agent Answer: \\boxed{2.0}, Real Answer: \\boxed{m+2}\n",
      "\n",
      "-----------------------------------\n",
      "\n",
      "Correct: 27/50\n",
      "{'score': 54.0, 'test_counts': {'Correct': 27, 'Error': 23}, 'test_counts_by_type': {'Precalculus': {'Correct': 0, 'Error': 3}, 'Geometry': {'Correct': 1, 'Error': 2}, 'Counting & Probability': {'Correct': 1, 'Error': 2}, 'Intermediate Algebra': {'Correct': 2, 'Error': 5}, 'Algebra': {'Correct': 9, 'Error': 4}, 'Number Theory': {'Correct': 4, 'Error': 2}, 'Prealgebra': {'Correct': 10, 'Error': 5}}, 'erratic_problems': {'Precalculus': [1276, 924, 814], 'Geometry': [817, 594], 'Counting & Probability': [57, 575], 'Intermediate Algebra': [2115, 1779, 1020, 150, 1597], 'Algebra': [1911, 1707, 2066, 1213], 'Number Theory': [497, 590], 'Prealgebra': [1909, 1418, 1937, 1448, 1328]}, 'tests_results': {'Precalculus': {1276: {'Correct': False, 'Agent Answer': '\\\\boxed{[-2.346, 2.346]}', 'Real Answer': '\\\\boxed{\\\\left[ -\\\\frac{\\\\pi}{2}, \\\\frac{\\\\pi}{2} \\\\right]}'}, 924: {'Correct': False, 'Agent Answer': '\\\\boxed{-0.75}', 'Real Answer': '\\\\boxed{\\\\frac{3}{4}, -\\\\frac{3}{4}}'}, 814: {'Correct': False, 'Agent Answer': '\\\\boxed{1.7320508075688772}', 'Real Answer': '\\\\boxed{3 \\\\sqrt{3}}'}}, 'Geometry': {171: {'Correct': True, 'Agent Answer': '\\\\boxed{4.0}', 'Real Answer': '\\\\boxed{4}'}, 817: {'Correct': False, 'Agent Answer': '\\\\boxed{4.949747468305833}', 'Real Answer': '\\\\boxed{\\\\frac{14}{3}}'}, 594: {'Correct': False, 'Agent Answer': '\\\\boxed{54.0}', 'Real Answer': '\\\\boxed{18^\\\\circ}'}}, 'Counting & Probability': {695: {'Correct': True, 'Agent Answer': '\\\\boxed{200.0}', 'Real Answer': '\\\\boxed{200}'}, 57: {'Correct': False, 'Agent Answer': '\\\\boxed{0.077}', 'Real Answer': '\\\\boxed{\\\\frac{1}{13}}'}, 575: {'Correct': False, 'Agent Answer': '\\\\boxed{12000.0}', 'Real Answer': '\\\\boxed{15,600}'}}, 'Intermediate Algebra': {1137: {'Correct': True, 'Agent Answer': '\\\\boxed{8.0}', 'Real Answer': '\\\\boxed{8}'}, 2115: {'Correct': False, 'Agent Answer': '\\\\boxed{103.0}', 'Real Answer': '\\\\boxed{203}'}, 1779: {'Correct': False, 'Agent Answer': '\\\\boxed{6.0}', 'Real Answer': '\\\\boxed{15}'}, 1020: {'Correct': False, 'Agent Answer': '\\\\boxed{11.0}', 'Real Answer': '\\\\boxed{-3 + 6i}'}, 1582: {'Correct': True, 'Agent Answer': '\\\\boxed{1.0}', 'Real Answer': '\\\\boxed{1}'}, 150: {'Correct': False, 'Agent Answer': '\\\\boxed{628028478.0}', 'Real Answer': '\\\\boxed{49896}'}, 1597: {'Correct': False, 'Agent Answer': '\\\\boxed{10.0}', 'Real Answer': '\\\\boxed{(10,3)}'}}, 'Algebra': {1911: {'Correct': False, 'Agent Answer': '\\\\boxed{1001.0}', 'Real Answer': '\\\\boxed{575}'}, 405: {'Correct': True, 'Agent Answer': '\\\\boxed{2.0}', 'Real Answer': '\\\\boxed{2}'}, 276: {'Correct': True, 'Agent Answer': '\\\\boxed{12.0}', 'Real Answer': '\\\\boxed{12}'}, 1707: {'Correct': False, 'Agent Answer': '\\\\boxed{2.999670434416971}', 'Real Answer': '\\\\boxed{3}'}, 455: {'Correct': True, 'Agent Answer': '\\\\boxed{3.0}', 'Real Answer': '\\\\boxed{3}'}, 2066: {'Correct': False, 'Agent Answer': '\\\\boxed{32.0}', 'Real Answer': '\\\\boxed{2x-1}'}, 1213: {'Correct': False, 'Agent Answer': '\\\\boxed{0.2}', 'Real Answer': '\\\\boxed{\\\\dfrac{1}{5}}'}, 1781: {'Correct': True, 'Agent Answer': '\\\\boxed{-3.0}', 'Real Answer': '\\\\boxed{-3}'}, 919: {'Correct': True, 'Agent Answer': '\\\\boxed{7.5}', 'Real Answer': '\\\\boxed{7.5}'}, 661: {'Correct': True, 'Agent Answer': '\\\\boxed{36.0}', 'Real Answer': '\\\\boxed{36}'}, 425: {'Correct': True, 'Agent Answer': '\\\\boxed{-128.0}', 'Real Answer': '\\\\boxed{-128}'}, 2762: {'Correct': True, 'Agent Answer': '\\\\boxed{1.0}', 'Real Answer': '\\\\boxed{1}'}, 636: {'Correct': True, 'Agent Answer': '\\\\boxed{11.0}', 'Real Answer': '\\\\boxed{11}'}}, 'Number Theory': {1218: {'Correct': True, 'Agent Answer': '\\\\boxed{11.0}', 'Real Answer': '\\\\boxed{11}'}, 328: {'Correct': True, 'Agent Answer': '\\\\boxed{6.0}', 'Real Answer': '\\\\boxed{6}'}, 497: {'Correct': False, 'Agent Answer': '\\\\boxed{374.0}', 'Real Answer': '\\\\boxed{556}'}, 590: {'Correct': False, 'Agent Answer': '\\\\boxed{3.0}', 'Real Answer': '\\\\boxed{19}'}, 252: {'Correct': True, 'Agent Answer': '\\\\boxed{3.0}', 'Real Answer': '\\\\boxed{3}'}, 221: {'Correct': True, 'Agent Answer': '\\\\boxed{11.0}', 'Real Answer': '\\\\boxed{11}'}}, 'Prealgebra': {1634: {'Correct': True, 'Agent Answer': '\\\\boxed{-5.0}', 'Real Answer': '\\\\boxed{-5}'}, 1405: {'Correct': True, 'Agent Answer': '\\\\boxed{56.0}', 'Real Answer': '\\\\boxed{56}'}, 1909: {'Correct': False, 'Agent Answer': '\\\\boxed{180.748443976705}', 'Real Answer': '\\\\boxed{33\\\\sqrt{30}}'}, 1591: {'Correct': True, 'Agent Answer': '\\\\boxed{27.0}', 'Real Answer': '\\\\boxed{27}'}, 1418: {'Correct': False, 'Agent Answer': '\\\\boxed{111111111.0}', 'Real Answer': '\\\\boxed{111, \\\\! 111, \\\\! 111}'}, 1445: {'Correct': True, 'Agent Answer': '\\\\boxed{40.0}', 'Real Answer': '\\\\boxed{40}'}, 807: {'Correct': True, 'Agent Answer': '\\\\boxed{26.0}', 'Real Answer': '\\\\boxed{26}'}, 965: {'Correct': True, 'Agent Answer': '\\\\boxed{135.0}', 'Real Answer': '\\\\boxed{135}'}, 1233: {'Correct': True, 'Agent Answer': '\\\\boxed{10.0}', 'Real Answer': '\\\\boxed{10}'}, 2057: {'Correct': True, 'Agent Answer': '\\\\boxed{90.0}', 'Real Answer': '\\\\boxed{90}'}, 1727: {'Correct': True, 'Agent Answer': '\\\\boxed{18.0}', 'Real Answer': '\\\\boxed{18}'}, 1937: {'Correct': False, 'Agent Answer': '\\\\boxed{110.0}', 'Real Answer': '\\\\boxed{30^\\\\circ}'}, 1123: {'Correct': True, 'Agent Answer': '\\\\boxed{563.51}', 'Real Answer': '\\\\boxed{563.51}'}, 1448: {'Correct': False, 'Agent Answer': '\\\\boxed{2.5}', 'Real Answer': '\\\\boxed{\\\\frac{5}{2}}'}, 1328: {'Correct': False, 'Agent Answer': '\\\\boxed{2.0}', 'Real Answer': '\\\\boxed{m+2}'}}}}\n",
      "{'score': 54.0, 'test_counts': {'Correct': 27, 'Error': 23}, 'test_counts_by_type': {'Precalculus': {'Correct': 0, 'Error': 3}, 'Geometry': {'Correct': 1, 'Error': 2}, 'Counting & Probability': {'Correct': 1, 'Error': 2}, 'Intermediate Algebra': {'Correct': 2, 'Error': 5}, 'Algebra': {'Correct': 9, 'Error': 4}, 'Number Theory': {'Correct': 4, 'Error': 2}, 'Prealgebra': {'Correct': 10, 'Error': 5}}, 'erratic_problems': {'Precalculus': [1276, 924, 814], 'Geometry': [817, 594], 'Counting & Probability': [57, 575], 'Intermediate Algebra': [2115, 1779, 1020, 150, 1597], 'Algebra': [1911, 1707, 2066, 1213], 'Number Theory': [497, 590], 'Prealgebra': [1909, 1418, 1937, 1448, 1328]}, 'tests_results': {'Precalculus': {1276: {'Correct': False, 'Agent Answer': '\\\\boxed{[-2.346, 2.346]}', 'Real Answer': '\\\\boxed{\\\\left[ -\\\\frac{\\\\pi}{2}, \\\\frac{\\\\pi}{2} \\\\right]}'}, 924: {'Correct': False, 'Agent Answer': '\\\\boxed{-0.75}', 'Real Answer': '\\\\boxed{\\\\frac{3}{4}, -\\\\frac{3}{4}}'}, 814: {'Correct': False, 'Agent Answer': '\\\\boxed{1.7320508075688772}', 'Real Answer': '\\\\boxed{3 \\\\sqrt{3}}'}}, 'Geometry': {171: {'Correct': True, 'Agent Answer': '\\\\boxed{4.0}', 'Real Answer': '\\\\boxed{4}'}, 817: {'Correct': False, 'Agent Answer': '\\\\boxed{4.949747468305833}', 'Real Answer': '\\\\boxed{\\\\frac{14}{3}}'}, 594: {'Correct': False, 'Agent Answer': '\\\\boxed{54.0}', 'Real Answer': '\\\\boxed{18^\\\\circ}'}}, 'Counting & Probability': {695: {'Correct': True, 'Agent Answer': '\\\\boxed{200.0}', 'Real Answer': '\\\\boxed{200}'}, 57: {'Correct': False, 'Agent Answer': '\\\\boxed{0.077}', 'Real Answer': '\\\\boxed{\\\\frac{1}{13}}'}, 575: {'Correct': False, 'Agent Answer': '\\\\boxed{12000.0}', 'Real Answer': '\\\\boxed{15,600}'}}, 'Intermediate Algebra': {1137: {'Correct': True, 'Agent Answer': '\\\\boxed{8.0}', 'Real Answer': '\\\\boxed{8}'}, 2115: {'Correct': False, 'Agent Answer': '\\\\boxed{103.0}', 'Real Answer': '\\\\boxed{203}'}, 1779: {'Correct': False, 'Agent Answer': '\\\\boxed{6.0}', 'Real Answer': '\\\\boxed{15}'}, 1020: {'Correct': False, 'Agent Answer': '\\\\boxed{11.0}', 'Real Answer': '\\\\boxed{-3 + 6i}'}, 1582: {'Correct': True, 'Agent Answer': '\\\\boxed{1.0}', 'Real Answer': '\\\\boxed{1}'}, 150: {'Correct': False, 'Agent Answer': '\\\\boxed{628028478.0}', 'Real Answer': '\\\\boxed{49896}'}, 1597: {'Correct': False, 'Agent Answer': '\\\\boxed{10.0}', 'Real Answer': '\\\\boxed{(10,3)}'}}, 'Algebra': {1911: {'Correct': False, 'Agent Answer': '\\\\boxed{1001.0}', 'Real Answer': '\\\\boxed{575}'}, 405: {'Correct': True, 'Agent Answer': '\\\\boxed{2.0}', 'Real Answer': '\\\\boxed{2}'}, 276: {'Correct': True, 'Agent Answer': '\\\\boxed{12.0}', 'Real Answer': '\\\\boxed{12}'}, 1707: {'Correct': False, 'Agent Answer': '\\\\boxed{2.999670434416971}', 'Real Answer': '\\\\boxed{3}'}, 455: {'Correct': True, 'Agent Answer': '\\\\boxed{3.0}', 'Real Answer': '\\\\boxed{3}'}, 2066: {'Correct': False, 'Agent Answer': '\\\\boxed{32.0}', 'Real Answer': '\\\\boxed{2x-1}'}, 1213: {'Correct': False, 'Agent Answer': '\\\\boxed{0.2}', 'Real Answer': '\\\\boxed{\\\\dfrac{1}{5}}'}, 1781: {'Correct': True, 'Agent Answer': '\\\\boxed{-3.0}', 'Real Answer': '\\\\boxed{-3}'}, 919: {'Correct': True, 'Agent Answer': '\\\\boxed{7.5}', 'Real Answer': '\\\\boxed{7.5}'}, 661: {'Correct': True, 'Agent Answer': '\\\\boxed{36.0}', 'Real Answer': '\\\\boxed{36}'}, 425: {'Correct': True, 'Agent Answer': '\\\\boxed{-128.0}', 'Real Answer': '\\\\boxed{-128}'}, 2762: {'Correct': True, 'Agent Answer': '\\\\boxed{1.0}', 'Real Answer': '\\\\boxed{1}'}, 636: {'Correct': True, 'Agent Answer': '\\\\boxed{11.0}', 'Real Answer': '\\\\boxed{11}'}}, 'Number Theory': {1218: {'Correct': True, 'Agent Answer': '\\\\boxed{11.0}', 'Real Answer': '\\\\boxed{11}'}, 328: {'Correct': True, 'Agent Answer': '\\\\boxed{6.0}', 'Real Answer': '\\\\boxed{6}'}, 497: {'Correct': False, 'Agent Answer': '\\\\boxed{374.0}', 'Real Answer': '\\\\boxed{556}'}, 590: {'Correct': False, 'Agent Answer': '\\\\boxed{3.0}', 'Real Answer': '\\\\boxed{19}'}, 252: {'Correct': True, 'Agent Answer': '\\\\boxed{3.0}', 'Real Answer': '\\\\boxed{3}'}, 221: {'Correct': True, 'Agent Answer': '\\\\boxed{11.0}', 'Real Answer': '\\\\boxed{11}'}}, 'Prealgebra': {1634: {'Correct': True, 'Agent Answer': '\\\\boxed{-5.0}', 'Real Answer': '\\\\boxed{-5}'}, 1405: {'Correct': True, 'Agent Answer': '\\\\boxed{56.0}', 'Real Answer': '\\\\boxed{56}'}, 1909: {'Correct': False, 'Agent Answer': '\\\\boxed{180.748443976705}', 'Real Answer': '\\\\boxed{33\\\\sqrt{30}}'}, 1591: {'Correct': True, 'Agent Answer': '\\\\boxed{27.0}', 'Real Answer': '\\\\boxed{27}'}, 1418: {'Correct': False, 'Agent Answer': '\\\\boxed{111111111.0}', 'Real Answer': '\\\\boxed{111, \\\\! 111, \\\\! 111}'}, 1445: {'Correct': True, 'Agent Answer': '\\\\boxed{40.0}', 'Real Answer': '\\\\boxed{40}'}, 807: {'Correct': True, 'Agent Answer': '\\\\boxed{26.0}', 'Real Answer': '\\\\boxed{26}'}, 965: {'Correct': True, 'Agent Answer': '\\\\boxed{135.0}', 'Real Answer': '\\\\boxed{135}'}, 1233: {'Correct': True, 'Agent Answer': '\\\\boxed{10.0}', 'Real Answer': '\\\\boxed{10}'}, 2057: {'Correct': True, 'Agent Answer': '\\\\boxed{90.0}', 'Real Answer': '\\\\boxed{90}'}, 1727: {'Correct': True, 'Agent Answer': '\\\\boxed{18.0}', 'Real Answer': '\\\\boxed{18}'}, 1937: {'Correct': False, 'Agent Answer': '\\\\boxed{110.0}', 'Real Answer': '\\\\boxed{30^\\\\circ}'}, 1123: {'Correct': True, 'Agent Answer': '\\\\boxed{563.51}', 'Real Answer': '\\\\boxed{563.51}'}, 1448: {'Correct': False, 'Agent Answer': '\\\\boxed{2.5}', 'Real Answer': '\\\\boxed{\\\\frac{5}{2}}'}, 1328: {'Correct': False, 'Agent Answer': '\\\\boxed{2.0}', 'Real Answer': '\\\\boxed{m+2}'}}}}\n"
     ]
    }
   ],
   "source": [
    "# math_problems = math_data_loader.get_random_problems(n_problems=100)\n",
    "math_problems = math_data_loader.load_problems(constants.MATH_RANDOM_PROBLEM_EVAL_DIR)\n",
    "print(f'Math Problems to Evaluate: {[p.get_id() for p in math_problems]}')\n",
    "results = math_data_loader.test_math_parallel(macm, math_problems, max_workers=8)\n",
    "print(results)\n",
    "math_data_loader.save_results(results, constants.MATH_MACM_EVAL_DIR)"
   ]
  },
  {
   "cell_type": "markdown",
   "metadata": {},
   "source": [
    "### LangChain Multi-MACM"
   ]
  },
  {
   "cell_type": "code",
   "execution_count": 9,
   "metadata": {},
   "outputs": [
    {
     "data": {
      "image/jpeg": "[encoded data removed]",
      "text/plain": [
       "<IPython.core.display.Image object>"
      ]
     },
     "metadata": {},
     "output_type": "display_data"
    }
   ],
   "source": [
    "from langgraphs.multi_macm import get_multi_macm_graph\n",
    "from IPython.display import Image, display\n",
    "\n",
    "graph = get_multi_macm_graph()\n",
    "app = graph.compile()\n",
    "display(Image(app.get_graph(xray=True).draw_mermaid_png())) \n",
    "\n",
    "def multi_macm(math_problem):\n",
    "    graph = get_multi_macm_graph()\n",
    "    app = graph.compile()\n",
    "    \n",
    "    config = {\"recursion_limit\": 50}\n",
    "    inputs = {\n",
    "        \"math_problem\": math_problem,\n",
    "        \"max_iterations\": 5,\n",
    "        \"current_iterations\": 0,\n",
    "        \"verified_conditions\": [],\n",
    "        \"unverified_conditions\": [],\n",
    "        \"objectives\": [],\n",
    "        \"steps\": [],\n",
    "        \"final_answer\": None, \n",
    "        \"final_answers\": {},\n",
    "        \"current_meta_iterations\": 0,\n",
    "        \"n_multi_agent_iterations\": 3, \n",
    "        \"multi_agent_completed\": False\n",
    "    }\n",
    "\n",
    "    for event in app.stream(inputs, config=config):\n",
    "        pass\n",
    "        # print_dict(event)\n",
    "    \n",
    "    last_event_name = list(event.keys())[0]\n",
    "    final_answers = event[last_event_name]['final_answers']\n",
    "    best_answer = max(final_answers, key=final_answers.get)\n",
    "    return best_answer"
   ]
  },
  {
   "cell_type": "markdown",
   "metadata": {},
   "source": [
    "#### Single Problem"
   ]
  },
  {
   "cell_type": "code",
   "execution_count": null,
   "metadata": {},
   "outputs": [],
   "source": [
    "response = multi_macm(random_problem)\n",
    "print(response)\n",
    "random_problem.is_correct_answer(response, verbose=True)"
   ]
  },
  {
   "cell_type": "markdown",
   "metadata": {},
   "source": [
    "#### Multiple Problems in Parallel"
   ]
  },
  {
   "cell_type": "code",
   "execution_count": 10,
   "metadata": {},
   "outputs": [
    {
     "name": "stdout",
     "output_type": "stream",
     "text": [
      "Math Problems to Evaluate: ['Counting & Probability_57', 'Algebra_1911', 'Prealgebra_1405', 'Prealgebra_1909', 'Prealgebra_1634', 'Precalculus_1276', 'Algebra_405', 'Number Theory_1218', 'Intermediate Algebra_2115', 'Geometry_171', 'Algebra_276', 'Prealgebra_1591', 'Intermediate Algebra_1779', 'Intermediate Algebra_1137', 'Counting & Probability_695', 'Algebra_1707', 'Algebra_455', 'Algebra_2066', 'Algebra_1213', 'Intermediate Algebra_150', 'Prealgebra_1418', 'Intermediate Algebra_1020', 'Prealgebra_1445', 'Number Theory_328', 'Number Theory_497', 'Intermediate Algebra_1582', 'Precalculus_814', 'Prealgebra_807', 'Algebra_1781', 'Prealgebra_965', 'Prealgebra_1233', 'Algebra_661', 'Algebra_919', 'Prealgebra_2057', 'Prealgebra_1727', 'Algebra_425', 'Precalculus_924', 'Prealgebra_1937', 'Geometry_817', 'Number Theory_590', 'Counting & Probability_575', 'Algebra_2762', 'Intermediate Algebra_1597', 'Number Theory_252', 'Geometry_594', 'Number Theory_221', 'Algebra_636', 'Prealgebra_1123', 'Prealgebra_1328', 'Prealgebra_1448']\n"
     ]
    },
    {
     "name": "stderr",
     "output_type": "stream",
     "text": [
      "CallbackManager.merge(): Parent run IDs do not match. Using the parent run ID of the first callback manager.\n",
      "CallbackManager.merge(): Parent run IDs do not match. Using the parent run ID of the first callback manager.\n",
      "CallbackManager.merge(): Parent run IDs do not match. Using the parent run ID of the first callback manager.\n",
      "CallbackManager.merge(): Parent run IDs do not match. Using the parent run ID of the first callback manager.\n"
     ]
    },
    {
     "name": "stdout",
     "output_type": "stream",
     "text": [
      "In AgentConditionAnalyzer\n",
      "In AgentConditionAnalyzer\n",
      "In AgentConditionAnalyzer\n",
      "In AgentConditionAnalyzer\n"
     ]
    },
    {
     "name": "stderr",
     "output_type": "stream",
     "text": [
      "CallbackManager.merge(): Parent run IDs do not match. Using the parent run ID of the first callback manager.\n",
      "CallbackManager.merge(): Parent run IDs do not match. Using the parent run ID of the first callback manager.\n",
      "CallbackManager.merge(): Parent run IDs do not match. Using the parent run ID of the first callback manager.\n",
      "CallbackManager.merge(): Parent run IDs do not match. Using the parent run ID of the first callback manager.\n"
     ]
    },
    {
     "name": "stdout",
     "output_type": "stream",
     "text": [
      "In AgentConditionAnalyzer\n",
      "In AgentConditionAnalyzer\n",
      "In AgentConditionAnalyzer\n",
      "In AgentConditionAnalyzer\n",
      "In AgentConditionGenerator ,current iteration:  0  max iterations:  2\n",
      "In AgentConditionGenerator ,current iteration:  0  max iterations:  2\n",
      "In AgentConditionGenerator ,current iteration:  0  max iterations:  2\n",
      "In AgentConditionGenerator ,current iteration:  0  max iterations:  2\n",
      "In AgentConditionGenerator ,current iteration:  0  max iterations:  2\n",
      "In AgentConditionGenerator ,current iteration:  0  max iterations:  2\n",
      "In AgentConditionGenerator ,current iteration:  0  max iterations:  2\n",
      "In AgentConditionGenerator ,current iteration:  0  max iterations:  2\n",
      "In AgentConditionJudge\n",
      "In AgentConditionJudge\n",
      "In AgentConditionJudge\n",
      "In AgentConditionJudge\n",
      "In AgentConditionJudge\n",
      "In AgentConditionJudge\n",
      "In AgentAnswerReadyJudge\n",
      "In AgentConditionJudge\n",
      "In AgentConditionJudge\n",
      "In AgentNumericalStepsGeneration\n",
      "In AgentAnswerReadyJudge\n",
      "In AgentAnswerReadyJudge\n",
      "In AgentAnswerReadyJudge\n",
      "In AgentNumericalStepsGeneration\n",
      "In AgentAnswerReadyJudge\n",
      "In AgentNumericalStepsGeneration\n",
      "In AgentAnswerReadyJudge\n",
      "In AgentNumericalStepsGeneration\n",
      "In AgentStepsExecutor\n",
      "In AgentStepsExecutor\n",
      "In AgentStepsExecutor\n",
      "In AgentStepsExecutor\n",
      "In AgentNumericalStepsGeneration\n",
      "In AgentNumericalStepsGeneration\n",
      "In AgentStepsExecutor\n",
      "In AgentAnswerReadyJudge\n"
     ]
    },
    {
     "name": "stderr",
     "output_type": "stream",
     "text": [
      "CallbackManager.merge(): Parent run IDs do not match. Using the parent run ID of the first callback manager.\n"
     ]
    },
    {
     "name": "stdout",
     "output_type": "stream",
     "text": [
      "In AgentStepsExecutor\n",
      "Final Answer: \\boxed{-5.0}\n",
      "\n",
      "In AgentMetaMACMController at iteration  1 \n",
      "\n",
      "In AgentConditionAnalyzer\n"
     ]
    },
    {
     "name": "stderr",
     "output_type": "stream",
     "text": [
      "CallbackManager.merge(): Parent run IDs do not match. Using the parent run ID of the first callback manager.\n"
     ]
    },
    {
     "name": "stdout",
     "output_type": "stream",
     "text": [
      "Final Answer: \\(\\boxed{180.7484439767048}\\)\n",
      "\n",
      "In AgentMetaMACMController at iteration  1 \n",
      "\n",
      "In AgentConditionAnalyzer\n"
     ]
    },
    {
     "name": "stderr",
     "output_type": "stream",
     "text": [
      "CallbackManager.merge(): Parent run IDs do not match. Using the parent run ID of the first callback manager.\n"
     ]
    },
    {
     "name": "stdout",
     "output_type": "stream",
     "text": [
      "Final Answer: \\boxed{2001.0}\n",
      "\n",
      "In AgentMetaMACMController at iteration  1 \n",
      "\n",
      "In AgentConditionAnalyzer\n",
      "In AgentConditionGenerator ,current iteration:  0  max iterations:  2\n",
      "In AgentConditionGenerator ,current iteration:  0  max iterations:  2\n"
     ]
    },
    {
     "name": "stderr",
     "output_type": "stream",
     "text": [
      "CallbackManager.merge(): Parent run IDs do not match. Using the parent run ID of the first callback manager.\n"
     ]
    },
    {
     "name": "stdout",
     "output_type": "stream",
     "text": [
      "Final Answer: \\boxed{56.0}\n",
      "\n",
      "In AgentMetaMACMController at iteration  1 \n",
      "\n",
      "In AgentConditionAnalyzer\n",
      "In AgentNumericalStepsGeneration\n",
      "In AgentConditionGenerator ,current iteration:  0  max iterations:  2\n",
      "In AgentConditionGenerator ,current iteration:  0  max iterations:  2\n",
      "In AgentStepsExecutor\n"
     ]
    },
    {
     "name": "stderr",
     "output_type": "stream",
     "text": [
      "CallbackManager.merge(): Parent run IDs do not match. Using the parent run ID of the first callback manager.\n"
     ]
    },
    {
     "name": "stdout",
     "output_type": "stream",
     "text": [
      "Final Answer: \\boxed{11.0}\n",
      "\n",
      "In AgentMetaMACMController at iteration  1 \n",
      "\n",
      "In AgentConditionAnalyzer\n"
     ]
    },
    {
     "name": "stderr",
     "output_type": "stream",
     "text": [
      "CallbackManager.merge(): Parent run IDs do not match. Using the parent run ID of the first callback manager.\n"
     ]
    },
    {
     "name": "stdout",
     "output_type": "stream",
     "text": [
      "Final Answer: \\boxed{[-2.356194490192345, 2.356194490192345]}\n",
      "\n",
      "In AgentMetaMACMController at iteration  1 \n",
      "\n",
      "In AgentConditionAnalyzer\n",
      "In AgentConditionJudge\n",
      "In AgentConditionGenerator ,current iteration:  0  max iterations:  2\n"
     ]
    },
    {
     "name": "stderr",
     "output_type": "stream",
     "text": [
      "CallbackManager.merge(): Parent run IDs do not match. Using the parent run ID of the first callback manager.\n"
     ]
    },
    {
     "name": "stdout",
     "output_type": "stream",
     "text": [
      "Final Answer: \\boxed{2.0}\n",
      "\n",
      "In AgentMetaMACMController at iteration  1 \n",
      "\n",
      "In AgentConditionAnalyzer\n",
      "In AgentConditionGenerator ,current iteration:  0  max iterations:  2\n",
      "In AgentAnswerReadyJudge\n",
      "In AgentConditionGenerator ,current iteration:  0  max iterations:  2\n",
      "In AgentConditionJudge\n",
      "In AgentConditionJudge\n",
      "In AgentNumericalStepsGenerationIn AgentConditionJudge\n",
      "\n",
      "In AgentAnswerReadyJudge\n",
      "In AgentStepsExecutor\n",
      "In AgentAnswerReadyJudge\n",
      "In AgentConditionJudge\n",
      "In AgentAnswerReadyJudge\n",
      "In AgentConditionJudge\n",
      "In AgentConditionJudge\n",
      "In AgentNumericalStepsGeneration\n",
      "Final Answer: \\(\\boxed{180.7484439767048}\\)\n",
      "\n",
      "In AgentMetaMACMController at iteration  2 \n",
      "\n",
      "In ChainOfThoughtMathSolver\n",
      "In AgentConditionGenerator ,current iteration:  1  max iterations:  2\n",
      "In AgentStepsExecutor\n",
      "In AgentConditionGenerator ,current iteration:  1  max iterations:  2\n",
      "Final Answer: \\boxed{180.76}\n",
      "\n",
      "In AgentMetaMACMController at iteration  1 \n",
      "\n",
      "In ChainOfThoughtMathSolver\n",
      "In AgentAnswerReadyJudge\n",
      "In AgentAnswerReadyJudge\n",
      "In AgentAnswerReadyJudge\n",
      "In AgentConditionGenerator ,current iteration:  1  max iterations:  2\n",
      "Final Answer: \\boxed{-5.0}\n",
      "\n",
      "In AgentMetaMACMController at iteration  2 \n",
      "\n",
      "In ChainOfThoughtMathSolver\n",
      "Final Answer: \\boxed{180.77}\n",
      "\n",
      "In AgentMetaMACMController at iteration  2 \n",
      "\n",
      "Completed Tasks: 1/50. Correct: False, Agent Answer: \\boxed{180.7484439767048}, Real Answer: \\boxed{33\\sqrt{30}}\n",
      "\n",
      "-----------------------------------\n",
      "\n",
      "In AgentConditionGenerator ,current iteration:  1  max iterations:  2\n",
      "In AgentConditionGenerator ,current iteration:  1  max iterations:  2\n",
      "In AgentConditionJudge\n",
      "In AgentAnswerReadyJudge\n"
     ]
    },
    {
     "name": "stderr",
     "output_type": "stream",
     "text": [
      "CallbackManager.merge(): Parent run IDs do not match. Using the parent run ID of the first callback manager.\n"
     ]
    },
    {
     "name": "stdout",
     "output_type": "stream",
     "text": [
      "Final Answer: \\boxed{-5.0}\n",
      "\n",
      "In AgentMetaMACMController at iteration  1 \n",
      "\n",
      "In ChainOfThoughtMathSolver\n",
      "In AgentConditionAnalyzer\n",
      "Final Answer: \\boxed{-5.0}\n",
      "\n",
      "In AgentMetaMACMController at iteration  2 \n",
      "\n",
      "Completed Tasks: 2/50. Correct: True, Agent Answer: \\boxed{-5.0}, Real Answer: \\boxed{-5}\n",
      "\n",
      "-----------------------------------\n",
      "\n",
      "In AgentConditionGenerator ,current iteration:  0  max iterations:  2\n",
      "In AgentNumericalStepsGeneration\n",
      "In AgentConditionJudge\n",
      "In AgentAnswerReadyJudge\n"
     ]
    },
    {
     "name": "stderr",
     "output_type": "stream",
     "text": [
      "CallbackManager.merge(): Parent run IDs do not match. Using the parent run ID of the first callback manager.\n"
     ]
    },
    {
     "name": "stdout",
     "output_type": "stream",
     "text": [
      "In AgentConditionAnalyzer\n",
      "In AgentStepsExecutor\n",
      "In AgentConditionJudge\n",
      "In AgentNumericalStepsGeneration\n",
      "In AgentConditionGenerator ,current iteration:  0  max iterations:  2\n",
      "In AgentConditionJudge\n",
      "In AgentAnswerReadyJudge\n",
      "In AgentConditionJudge\n",
      "In AgentAnswerReadyJudge\n"
     ]
    },
    {
     "name": "stderr",
     "output_type": "stream",
     "text": [
      "CallbackManager.merge(): Parent run IDs do not match. Using the parent run ID of the first callback manager.\n"
     ]
    },
    {
     "name": "stdout",
     "output_type": "stream",
     "text": [
      "Final Answer: \\boxed{0.0769}\n",
      "\n",
      "In AgentMetaMACMController at iteration  1 \n",
      "\n",
      "In AgentConditionAnalyzer\n",
      "In AgentStepsExecutor\n",
      "In AgentAnswerReadyJudge\n",
      "In AgentNumericalStepsGeneration\n",
      "In AgentConditionGenerator ,current iteration:  0  max iterations:  2\n",
      "In AgentAnswerReadyJudge\n",
      "In AgentNumericalStepsGeneration\n",
      "Final Answer: \\boxed{56.0}\n",
      "\n",
      "In AgentMetaMACMController at iteration  2 \n",
      "\n",
      "In ChainOfThoughtMathSolver\n",
      "In AgentStepsExecutor\n",
      "In AgentNumericalStepsGeneration\n",
      "In AgentConditionJudge\n",
      "In AgentStepsExecutor\n",
      "In AgentNumericalStepsGeneration\n",
      "Final Answer: \\boxed{56.0}\n",
      "\n",
      "In AgentMetaMACMController at iteration  1 \n",
      "\n",
      "In ChainOfThoughtMathSolver\n",
      "In AgentStepsExecutor\n",
      "In AgentStepsExecutor\n",
      "Final Answer: \\boxed{2.0}\n",
      "\n",
      "In AgentMetaMACMController at iteration  2 \n",
      "\n",
      "Final Answer: \\boxed{2001.0}\n",
      "In ChainOfThoughtMathSolver\n",
      "\n",
      "In AgentMetaMACMController at iteration  2 \n",
      "\n",
      "In ChainOfThoughtMathSolver\n",
      "Final Answer: \\boxed{56.0}\n",
      "\n",
      "In AgentMetaMACMController at iteration  2 \n",
      "\n",
      "Completed Tasks: 3/50. Correct: True, Agent Answer: \\boxed{56.0}, Real Answer: \\boxed{56}\n",
      "\n",
      "-----------------------------------\n",
      "\n",
      "In AgentConditionJudge\n"
     ]
    },
    {
     "name": "stderr",
     "output_type": "stream",
     "text": [
      "CallbackManager.merge(): Parent run IDs do not match. Using the parent run ID of the first callback manager.\n"
     ]
    },
    {
     "name": "stdout",
     "output_type": "stream",
     "text": [
      "In AgentConditionAnalyzer\n",
      "In AgentConditionJudge\n",
      "Final Answer: \\boxed{574.571}\n",
      "\n",
      "In AgentMetaMACMController at iteration  1 \n",
      "\n",
      "In ChainOfThoughtMathSolver\n",
      "In AgentAnswerReadyJudge\n",
      "In AgentConditionGenerator ,current iteration:  0  max iterations:  2\n",
      "Final Answer: \\boxed{2.0}\n",
      "\n",
      "In AgentMetaMACMController at iteration  1 \n",
      "\n",
      "In ChainOfThoughtMathSolver\n",
      "Final Answer: \\boxed{[-2.356194490192345, 2.356194490192345]}\n",
      "\n",
      "In AgentMetaMACMController at iteration  2 \n",
      "\n",
      "In ChainOfThoughtMathSolver\n",
      "Final Answer: \\boxed{574.571}\n",
      "\n",
      "In AgentMetaMACMController at iteration  2 \n",
      "\n",
      "Completed Tasks: 4/50. Correct: False, Agent Answer: \\boxed{2001.0}, Real Answer: \\boxed{575}\n",
      "\n",
      "-----------------------------------\n",
      "\n",
      "Final Answer: \\boxed{11.0}\n",
      "\n",
      "In AgentMetaMACMController at iteration  2 \n",
      "\n",
      "In ChainOfThoughtMathSolver\n",
      "In AgentNumericalStepsGeneration\n"
     ]
    },
    {
     "name": "stderr",
     "output_type": "stream",
     "text": [
      "CallbackManager.merge(): Parent run IDs do not match. Using the parent run ID of the first callback manager.\n"
     ]
    },
    {
     "name": "stdout",
     "output_type": "stream",
     "text": [
      "In AgentConditionAnalyzer\n",
      "In AgentStepsExecutor\n",
      "Final Answer: \\boxed{2.0}\n",
      "\n",
      "In AgentMetaMACMController at iteration  2 \n",
      "\n",
      "Completed Tasks: 5/50. Correct: True, Agent Answer: \\boxed{2.0}, Real Answer: \\boxed{2}\n",
      "\n",
      "-----------------------------------\n",
      "\n",
      "Final Answer: \\boxed{11.0}\n",
      "\n",
      "In AgentMetaMACMController at iteration  1 \n",
      "\n",
      "In ChainOfThoughtMathSolver\n",
      "In AgentConditionGenerator ,current iteration:  0  max iterations:  2\n",
      "Final Answer: \\boxed{(-2.356, 2.356)}\n",
      "\n",
      "In AgentMetaMACMController at iteration  1 \n",
      "\n",
      "In ChainOfThoughtMathSolver\n"
     ]
    },
    {
     "name": "stderr",
     "output_type": "stream",
     "text": [
      "CallbackManager.merge(): Parent run IDs do not match. Using the parent run ID of the first callback manager.\n"
     ]
    },
    {
     "name": "stdout",
     "output_type": "stream",
     "text": [
      "In AgentConditionAnalyzer\n",
      "Final Answer: \\boxed{11.0}\n",
      "\n",
      "In AgentMetaMACMController at iteration  2 \n",
      "\n",
      "Completed Tasks: 6/50. Correct: True, Agent Answer: \\boxed{11.0}, Real Answer: \\boxed{11}\n",
      "\n",
      "-----------------------------------\n",
      "\n",
      "In AgentAnswerReadyJudge\n",
      "In AgentConditionJudge\n"
     ]
    },
    {
     "name": "stderr",
     "output_type": "stream",
     "text": [
      "CallbackManager.merge(): Parent run IDs do not match. Using the parent run ID of the first callback manager.\n"
     ]
    },
    {
     "name": "stdout",
     "output_type": "stream",
     "text": [
      "In AgentConditionGenerator ,current iteration:  0  max iterations:  2\n",
      "In AgentConditionAnalyzer\n"
     ]
    },
    {
     "name": "stderr",
     "output_type": "stream",
     "text": [
      "CallbackManager.merge(): Parent run IDs do not match. Using the parent run ID of the first callback manager.\n"
     ]
    },
    {
     "name": "stdout",
     "output_type": "stream",
     "text": [
      "Final Answer: \\boxed{4.0}\n",
      "\n",
      "In AgentMetaMACMController at iteration  1 \n",
      "\n",
      "In AgentConditionAnalyzer\n",
      "In AgentConditionGenerator ,current iteration:  0  max iterations:  2\n",
      "In AgentConditionGenerator ,current iteration:  0  max iterations:  2\n",
      "In AgentConditionGenerator ,current iteration:  1  max iterations:  2\n",
      "Final Answer: \\boxed{(-2.356, 2.356)}\n",
      "\n",
      "In AgentMetaMACMController at iteration  2 \n",
      "\n",
      "Completed Tasks: 7/50. Correct: False, Agent Answer: \\boxed{[-2.356194490192345, 2.356194490192345]}, Real Answer: \\boxed{\\left[ -\\frac{\\pi}{2}, \\frac{\\pi}{2} \\right]}\n",
      "\n",
      "-----------------------------------\n",
      "\n"
     ]
    },
    {
     "name": "stderr",
     "output_type": "stream",
     "text": [
      "CallbackManager.merge(): Parent run IDs do not match. Using the parent run ID of the first callback manager.\n"
     ]
    },
    {
     "name": "stdout",
     "output_type": "stream",
     "text": [
      "In AgentConditionAnalyzer\n",
      "In AgentAnswerReadyJudge\n",
      "In AgentConditionJudge\n",
      "In AgentConditionGenerator ,current iteration:  0  max iterations:  2\n",
      "In AgentConditionJudge\n",
      "In AgentConditionGenerator ,current iteration:  1  max iterations:  2\n",
      "In AgentConditionJudge\n",
      "In AgentAnswerReadyJudge\n",
      "In AgentConditionJudge\n",
      "In AgentAnswerReadyJudge\n",
      "In AgentNumericalStepsGeneration\n",
      "In AgentConditionJudge\n",
      "In AgentAnswerReadyJudge\n",
      "In AgentStepsExecutor\n",
      "In AgentNumericalStepsGeneration\n",
      "In AgentConditionJudge\n",
      "In AgentConditionJudge\n",
      "In AgentAnswerReadyJudge\n",
      "In AgentNumericalStepsGeneration\n",
      "In AgentAnswerReadyJudge\n",
      "In AgentStepsExecutor\n",
      "In AgentAnswerReadyJudge\n",
      "In AgentStepsExecutor\n",
      "In AgentAnswerReadyJudge\n",
      "In AgentNumericalStepsGeneration\n",
      "In AgentConditionGenerator ,current iteration:  1  max iterations:  2\n",
      "Final Answer: \\boxed{4.0}\n",
      "\n",
      "In AgentMetaMACMController at iteration  2 \n",
      "\n",
      "In ChainOfThoughtMathSolver\n",
      "In AgentNumericalStepsGeneration\n",
      "In AgentStepsExecutor\n",
      "In AgentNumericalStepsGeneration\n"
     ]
    },
    {
     "name": "stderr",
     "output_type": "stream",
     "text": [
      "CallbackManager.merge(): Parent run IDs do not match. Using the parent run ID of the first callback manager.\n"
     ]
    },
    {
     "name": "stdout",
     "output_type": "stream",
     "text": [
      "Final Answer: \\boxed{12.0}\n",
      "\n",
      "In AgentMetaMACMController at iteration  1 \n",
      "\n",
      "In AgentConditionAnalyzer\n",
      "In AgentStepsExecutor\n",
      "Final Answer: \\boxed{4.0}\n",
      "\n",
      "In AgentMetaMACMController at iteration  1 \n",
      "\n",
      "In ChainOfThoughtMathSolver\n",
      "In AgentConditionGenerator ,current iteration:  0  max iterations:  2\n",
      "In AgentStepsExecutor\n",
      "Final Answer: \\boxed{102.0}\n",
      "\n",
      "In AgentMetaMACMController at iteration  1 \n",
      "\n"
     ]
    },
    {
     "name": "stderr",
     "output_type": "stream",
     "text": [
      "CallbackManager.merge(): Parent run IDs do not match. Using the parent run ID of the first callback manager.\n"
     ]
    },
    {
     "name": "stdout",
     "output_type": "stream",
     "text": [
      "In AgentConditionAnalyzer\n"
     ]
    },
    {
     "name": "stderr",
     "output_type": "stream",
     "text": [
      "CallbackManager.merge(): Parent run IDs do not match. Using the parent run ID of the first callback manager.\n"
     ]
    },
    {
     "name": "stdout",
     "output_type": "stream",
     "text": [
      "Final Answer: \\boxed{200.0}\n",
      "\n",
      "In AgentMetaMACMController at iteration  1 \n",
      "\n",
      "In AgentConditionAnalyzer\n",
      "Final Answer: \\boxed{8.0}\n"
     ]
    },
    {
     "name": "stderr",
     "output_type": "stream",
     "text": [
      "CallbackManager.merge(): Parent run IDs do not match. Using the parent run ID of the first callback manager.\n"
     ]
    },
    {
     "name": "stdout",
     "output_type": "stream",
     "text": [
      "\n",
      "In AgentMetaMACMController at iteration  1 \n",
      "\n",
      "In AgentConditionAnalyzer\n",
      "In AgentConditionGenerator ,current iteration:  0  max iterations:  2\n",
      "Final Answer: \\boxed{4.0}\n",
      "\n",
      "In AgentMetaMACMController at iteration  2 \n",
      "\n",
      "Completed Tasks: 8/50. Correct: True, Agent Answer: \\boxed{4.0}, Real Answer: \\boxed{4}\n",
      "\n",
      "-----------------------------------\n",
      "\n",
      "In AgentConditionGenerator ,current iteration:  0  max iterations:  2\n",
      "In AgentConditionGenerator ,current iteration:  0  max iterations:  2\n",
      "In AgentAnswerReadyJudge\n"
     ]
    },
    {
     "name": "stderr",
     "output_type": "stream",
     "text": [
      "CallbackManager.merge(): Parent run IDs do not match. Using the parent run ID of the first callback manager.\n"
     ]
    },
    {
     "name": "stdout",
     "output_type": "stream",
     "text": [
      "In AgentConditionAnalyzer\n",
      "In AgentConditionJudge\n",
      "Final Answer: \\boxed{0.0769}\n",
      "\n",
      "In AgentMetaMACMController at iteration  2 \n",
      "\n",
      "In ChainOfThoughtMathSolver\n",
      "In AgentConditionGenerator ,current iteration:  0  max iterations:  2\n",
      "In AgentConditionJudge\n",
      "In AgentNumericalStepsGeneration\n",
      "Final Answer: \\boxed{0.076923}\n",
      "\n",
      "In AgentMetaMACMController at iteration  1 \n",
      "\n",
      "In ChainOfThoughtMathSolver\n",
      "In AgentStepsExecutor\n",
      "In AgentAnswerReadyJudge\n",
      "In AgentConditionJudge\n",
      "Final Answer: \\boxed{0.076923}\n",
      "\n",
      "In AgentMetaMACMController at iteration  2 \n",
      "\n",
      "Completed Tasks: 9/50. Correct: False, Agent Answer: \\boxed{0.0769}, Real Answer: \\boxed{\\frac{1}{13}}\n",
      "\n",
      "-----------------------------------\n",
      "\n",
      "In AgentConditionJudge\n",
      "In AgentAnswerReadyJudge\n",
      "In AgentConditionJudge\n"
     ]
    },
    {
     "name": "stderr",
     "output_type": "stream",
     "text": [
      "CallbackManager.merge(): Parent run IDs do not match. Using the parent run ID of the first callback manager.\n"
     ]
    },
    {
     "name": "stdout",
     "output_type": "stream",
     "text": [
      "In AgentConditionAnalyzer\n",
      "In AgentConditionJudge\n",
      "In AgentNumericalStepsGeneration\n",
      "In AgentAnswerReadyJudge\n",
      "In AgentConditionGenerator ,current iteration:  1  max iterations:  2\n",
      "In AgentConditionGenerator ,current iteration:  0  max iterations:  2\n",
      "In AgentAnswerReadyJudge\n",
      "In AgentAnswerReadyJudge\n",
      "In AgentNumericalStepsGeneration\n",
      "In AgentNumericalStepsGeneration\n",
      "In AgentStepsExecutor\n",
      "In AgentNumericalStepsGeneration\n",
      "In AgentAnswerReadyJudge\n",
      "In AgentStepsExecutor\n",
      "In AgentStepsExecutor\n",
      "In AgentConditionJudge\n",
      "In AgentNumericalStepsGeneration\n",
      "In AgentStepsExecutor\n",
      "In AgentConditionJudge\n",
      "In AgentStepsExecutor\n",
      "Final Answer: \\boxed{8.0}\n",
      "\n",
      "In AgentMetaMACMController at iteration  2 \n",
      "\n",
      "In ChainOfThoughtMathSolver\n",
      "Final Answer: \\boxed{102.0}\n",
      "\n",
      "In AgentMetaMACMController at iteration  2 \n",
      "\n",
      "In ChainOfThoughtMathSolver\n"
     ]
    },
    {
     "name": "stderr",
     "output_type": "stream",
     "text": [
      "CallbackManager.merge(): Parent run IDs do not match. Using the parent run ID of the first callback manager.\n"
     ]
    },
    {
     "name": "stdout",
     "output_type": "stream",
     "text": [
      "Final Answer: \\boxed{3.0}\n",
      "\n",
      "In AgentMetaMACMController at iteration  1 \n",
      "\n",
      "In AgentConditionAnalyzer\n"
     ]
    },
    {
     "name": "stderr",
     "output_type": "stream",
     "text": [
      "CallbackManager.merge(): Parent run IDs do not match. Using the parent run ID of the first callback manager.\n"
     ]
    },
    {
     "name": "stdout",
     "output_type": "stream",
     "text": [
      "Final Answer: \\boxed{27.0}\n",
      "\n",
      "In AgentMetaMACMController at iteration  1 \n",
      "\n",
      "In AgentConditionAnalyzer\n",
      "In AgentConditionGenerator ,current iteration:  0  max iterations:  2\n",
      "Final Answer: \\boxed{200.0}\n",
      "\n",
      "In AgentMetaMACMController at iteration  2 \n",
      "\n",
      "In ChainOfThoughtMathSolver\n",
      "Final Answer: \\boxed{8.0}\n",
      "\n",
      "In AgentMetaMACMController at iteration  1 \n",
      "\n",
      "In ChainOfThoughtMathSolver\n",
      "Final Answer: \\boxed{203.0}\n",
      "\n",
      "In AgentMetaMACMController at iteration  1 \n",
      "\n",
      "In ChainOfThoughtMathSolver\n",
      "In AgentConditionGenerator ,current iteration:  0  max iterations:  2\n",
      "In AgentAnswerReadyJudge\n",
      "In AgentAnswerReadyJudge\n",
      "Final Answer: \\boxed{200.0}\n",
      "\n",
      "In AgentMetaMACMController at iteration  1 \n",
      "\n",
      "In ChainOfThoughtMathSolver\n",
      "Final Answer: \\boxed{8.0}\n",
      "\n",
      "In AgentMetaMACMController at iteration  2 \n",
      "\n",
      "Completed Tasks: 10/50. Correct: True, Agent Answer: \\boxed{8.0}, Real Answer: \\boxed{8}\n",
      "\n",
      "-----------------------------------\n",
      "\n",
      "In AgentNumericalStepsGeneration\n",
      "In AgentNumericalStepsGeneration\n"
     ]
    },
    {
     "name": "stderr",
     "output_type": "stream",
     "text": [
      "CallbackManager.merge(): Parent run IDs do not match. Using the parent run ID of the first callback manager.\n"
     ]
    },
    {
     "name": "stdout",
     "output_type": "stream",
     "text": [
      "In AgentConditionAnalyzer\n",
      "Final Answer: \\boxed{203.0}\n",
      "\n",
      "In AgentMetaMACMController at iteration  2 \n",
      "\n",
      "Completed Tasks: 11/50. Correct: False, Agent Answer: \\boxed{102.0}, Real Answer: \\boxed{203}\n",
      "\n",
      "-----------------------------------\n",
      "\n",
      "In AgentConditionJudge\n",
      "Final Answer: \\boxed{200.0}\n",
      "\n",
      "In AgentMetaMACMController at iteration  2 \n",
      "\n",
      "Completed Tasks: 12/50. Correct: True, Agent Answer: \\boxed{200.0}, Real Answer: \\boxed{200}\n",
      "\n",
      "-----------------------------------\n",
      "\n",
      "In AgentStepsExecutor\n"
     ]
    },
    {
     "name": "stderr",
     "output_type": "stream",
     "text": [
      "CallbackManager.merge(): Parent run IDs do not match. Using the parent run ID of the first callback manager.\n"
     ]
    },
    {
     "name": "stdout",
     "output_type": "stream",
     "text": [
      "In AgentConditionAnalyzer\n",
      "In AgentConditionGenerator ,current iteration:  0  max iterations:  2\n"
     ]
    },
    {
     "name": "stderr",
     "output_type": "stream",
     "text": [
      "CallbackManager.merge(): Parent run IDs do not match. Using the parent run ID of the first callback manager.\n"
     ]
    },
    {
     "name": "stdout",
     "output_type": "stream",
     "text": [
      "In AgentConditionAnalyzer\n",
      "In AgentStepsExecutor\n",
      "In AgentAnswerReadyJudge\n",
      "In AgentConditionGenerator ,current iteration:  0  max iterations:  2\n",
      "In AgentConditionGenerator ,current iteration:  0  max iterations:  2\n",
      "Final Answer: \\boxed{12.0}\n",
      "\n",
      "In AgentMetaMACMController at iteration  2 \n",
      "\n",
      "In ChainOfThoughtMathSolver\n",
      "In AgentNumericalStepsGeneration\n"
     ]
    },
    {
     "name": "stderr",
     "output_type": "stream",
     "text": [
      "CallbackManager.merge(): Parent run IDs do not match. Using the parent run ID of the first callback manager.\n"
     ]
    },
    {
     "name": "stdout",
     "output_type": "stream",
     "text": [
      "Final Answer: \\boxed{3.0}\n",
      "\n",
      "In AgentMetaMACMController at iteration  1 \n",
      "\n",
      "In AgentConditionAnalyzer\n"
     ]
    },
    {
     "name": "stderr",
     "output_type": "stream",
     "text": [
      "CallbackManager.merge(): Parent run IDs do not match. Using the parent run ID of the first callback manager.\n"
     ]
    },
    {
     "name": "stdout",
     "output_type": "stream",
     "text": [
      "Final Answer: \\boxed{0.0}\n",
      "\n",
      "In AgentMetaMACMController at iteration  1 \n",
      "\n",
      "Final Answer: \\boxed{12.0}\n",
      "\n",
      "In AgentMetaMACMController at iteration  1 \n",
      "\n",
      "In ChainOfThoughtMathSolver\n",
      "In AgentConditionAnalyzer\n",
      "In AgentConditionGenerator ,current iteration:  0  max iterations:  2\n",
      "In AgentConditionJudge\n",
      "In AgentStepsExecutor\n",
      "In AgentConditionJudge\n",
      "In AgentConditionGenerator ,current iteration:  0  max iterations:  2\n",
      "In AgentConditionJudge\n",
      "Final Answer: \\boxed{12.0}\n",
      "\n",
      "In AgentMetaMACMController at iteration  2 \n",
      "\n",
      "Completed Tasks: 13/50. Correct: True, Agent Answer: \\boxed{12.0}, Real Answer: \\boxed{12}\n",
      "\n",
      "-----------------------------------\n",
      "\n"
     ]
    },
    {
     "name": "stderr",
     "output_type": "stream",
     "text": [
      "CallbackManager.merge(): Parent run IDs do not match. Using the parent run ID of the first callback manager.\n"
     ]
    },
    {
     "name": "stdout",
     "output_type": "stream",
     "text": [
      "In AgentConditionAnalyzer\n",
      "Final Answer: \\boxed{3.0}\n",
      "\n",
      "In AgentMetaMACMController at iteration  2 \n",
      "\n",
      "In ChainOfThoughtMathSolver\n",
      "In AgentAnswerReadyJudge\n",
      "In AgentConditionGenerator ,current iteration:  0  max iterations:  2\n",
      "In AgentAnswerReadyJudge\n",
      "Final Answer: \\boxed{3.0}\n",
      "\n",
      "In AgentMetaMACMController at iteration  1 \n",
      "\n",
      "In ChainOfThoughtMathSolver\n",
      "In AgentConditionJudge\n",
      "In AgentConditionGenerator ,current iteration:  1  max iterations:  2\n",
      "Final Answer: \\boxed{3.0}\n",
      "\n",
      "In AgentMetaMACMController at iteration  2 \n",
      "\n",
      "Completed Tasks: 14/50. Correct: True, Agent Answer: \\boxed{3.0}, Real Answer: \\boxed{3}\n",
      "\n",
      "-----------------------------------\n",
      "\n",
      "In AgentNumericalStepsGeneration\n",
      "In AgentConditionJudge\n"
     ]
    },
    {
     "name": "stderr",
     "output_type": "stream",
     "text": [
      "CallbackManager.merge(): Parent run IDs do not match. Using the parent run ID of the first callback manager.\n"
     ]
    },
    {
     "name": "stdout",
     "output_type": "stream",
     "text": [
      "In AgentConditionAnalyzer\n",
      "In AgentAnswerReadyJudge\n",
      "In AgentStepsExecutor\n",
      "In AgentConditionGenerator ,current iteration:  0  max iterations:  2\n",
      "In AgentAnswerReadyJudge\n",
      "In AgentConditionGenerator ,current iteration:  1  max iterations:  2\n",
      "In AgentConditionJudge\n",
      "In AgentAnswerReadyJudge\n",
      "In AgentNumericalStepsGeneration\n",
      "In AgentStepsExecutor\n",
      "In AgentNumericalStepsGeneration\n",
      "In AgentAnswerReadyJudge\n"
     ]
    },
    {
     "name": "stderr",
     "output_type": "stream",
     "text": [
      "CallbackManager.merge(): Parent run IDs do not match. Using the parent run ID of the first callback manager.\n"
     ]
    },
    {
     "name": "stdout",
     "output_type": "stream",
     "text": [
      "Final Answer: \\boxed{2.0x - 1.0}\n",
      "\n",
      "In AgentMetaMACMController at iteration  1 \n",
      "\n",
      "In AgentConditionAnalyzer\n",
      "In AgentConditionJudge\n",
      "In AgentConditionJudge\n",
      "In AgentConditionJudge\n",
      "In AgentStepsExecutor\n",
      "In AgentConditionJudge\n",
      "In AgentConditionGenerator ,current iteration:  0  max iterations:  2\n",
      "In AgentNumericalStepsGeneration\n",
      "In AgentStepsExecutor\n",
      "In AgentAnswerReadyJudge\n"
     ]
    },
    {
     "name": "stderr",
     "output_type": "stream",
     "text": [
      "CallbackManager.merge(): Parent run IDs do not match. Using the parent run ID of the first callback manager.\n"
     ]
    },
    {
     "name": "stdout",
     "output_type": "stream",
     "text": [
      "Final Answer: \\boxed{0.2}\n",
      "\n",
      "In AgentMetaMACMController at iteration  1 \n",
      "\n",
      "In AgentConditionAnalyzer\n",
      "In AgentAnswerReadyJudge\n",
      "In AgentAnswerReadyJudge\n",
      "In AgentConditionJudge\n"
     ]
    },
    {
     "name": "stderr",
     "output_type": "stream",
     "text": [
      "CallbackManager.merge(): Parent run IDs do not match. Using the parent run ID of the first callback manager.\n"
     ]
    },
    {
     "name": "stdout",
     "output_type": "stream",
     "text": [
      "Final Answer: \\boxed{111111111.0}\n",
      "\n",
      "In AgentMetaMACMController at iteration  1 \n",
      "\n",
      "In AgentConditionAnalyzer\n",
      "In AgentNumericalStepsGeneration\n",
      "In AgentConditionGenerator ,current iteration:  0  max iterations:  2\n",
      "In AgentNumericalStepsGeneration\n",
      "In AgentNumericalStepsGeneration\n",
      "In AgentAnswerReadyJudge\n",
      "In AgentAnswerReadyJudge\n",
      "In AgentStepsExecutor\n",
      "In AgentStepsExecutor\n",
      "In AgentConditionGenerator ,current iteration:  0  max iterations:  2\n",
      "In AgentStepsExecutor\n",
      "In AgentNumericalStepsGeneration\n",
      "Final Answer: \\boxed{27.0}\n",
      "\n",
      "In AgentMetaMACMController at iteration  2 \n",
      "\n",
      "In ChainOfThoughtMathSolver\n"
     ]
    },
    {
     "name": "stderr",
     "output_type": "stream",
     "text": [
      "CallbackManager.merge(): Parent run IDs do not match. Using the parent run ID of the first callback manager.\n"
     ]
    },
    {
     "name": "stdout",
     "output_type": "stream",
     "text": [
      "Final Answer: \\boxed{6.28028478 \\times 10^8}\n",
      "\n",
      "In AgentMetaMACMController at iteration  1 \n",
      "\n",
      "In AgentConditionAnalyzer\n",
      "In AgentStepsExecutor\n",
      "Final Answer: \\boxed{3.0}\n",
      "\n",
      "In AgentMetaMACMController at iteration  2 \n",
      "\n",
      "In ChainOfThoughtMathSolver\n",
      "In AgentNumericalStepsGeneration\n",
      "In AgentConditionJudge\n",
      "In AgentConditionGenerator ,current iteration:  0  max iterations:  2\n",
      "Final Answer: \\boxed{3.0}\n",
      "\n",
      "In AgentMetaMACMController at iteration  1 \n",
      "\n",
      "In ChainOfThoughtMathSolver\n"
     ]
    },
    {
     "name": "stderr",
     "output_type": "stream",
     "text": [
      "CallbackManager.merge(): Parent run IDs do not match. Using the parent run ID of the first callback manager.\n"
     ]
    },
    {
     "name": "stdout",
     "output_type": "stream",
     "text": [
      "Final Answer: \\boxed{(5.0-10.0j)}\n",
      "\n",
      "In AgentMetaMACMController at iteration  1 \n",
      "\n",
      "In AgentConditionAnalyzer\n",
      "Final Answer: \\boxed{27.0}\n",
      "\n",
      "In AgentMetaMACMController at iteration  1 \n",
      "\n",
      "In ChainOfThoughtMathSolver\n",
      "Final Answer: \\boxed{3.0}\n",
      "\n",
      "In AgentMetaMACMController at iteration  2 \n",
      "\n",
      "Completed Tasks: 15/50. Correct: True, Agent Answer: \\boxed{3.0}, Real Answer: \\boxed{3}\n",
      "\n",
      "-----------------------------------\n",
      "\n",
      "In AgentConditionJudge\n"
     ]
    },
    {
     "name": "stderr",
     "output_type": "stream",
     "text": [
      "CallbackManager.merge(): Parent run IDs do not match. Using the parent run ID of the first callback manager.\n"
     ]
    },
    {
     "name": "stdout",
     "output_type": "stream",
     "text": [
      "In AgentConditionGenerator ,current iteration:  0  max iterations:  2\n",
      "In AgentConditionAnalyzer\n",
      "In AgentStepsExecutor\n",
      "Final Answer: \\boxed{5.656854249492381}\n",
      "\n",
      "In AgentMetaMACMController at iteration  2 \n",
      "\n",
      "In ChainOfThoughtMathSolver\n",
      "In AgentConditionGenerator ,current iteration:  0  max iterations:  2\n",
      "Final Answer: \\boxed{27.0}\n",
      "\n",
      "In AgentMetaMACMController at iteration  2 \n",
      "\n",
      "Completed Tasks: 16/50. Correct: True, Agent Answer: \\boxed{27.0}, Real Answer: \\boxed{27}\n",
      "\n",
      "-----------------------------------\n",
      "\n",
      "In AgentAnswerReadyJudge\n",
      "Final Answer: \\boxed{8.0}\n",
      "\n",
      "In AgentMetaMACMController at iteration  2 \n",
      "\n",
      "In ChainOfThoughtMathSolver\n",
      "In AgentAnswerReadyJudge\n",
      "In AgentConditionGenerator ,current iteration:  1  max iterations:  2\n"
     ]
    },
    {
     "name": "stderr",
     "output_type": "stream",
     "text": [
      "CallbackManager.merge(): Parent run IDs do not match. Using the parent run ID of the first callback manager.\n"
     ]
    },
    {
     "name": "stdout",
     "output_type": "stream",
     "text": [
      "In AgentConditionAnalyzer\n",
      "In AgentConditionJudge\n",
      "Final Answer: \\boxed{2.0x - 1.0}\n",
      "\n",
      "In AgentMetaMACMController at iteration  1 \n",
      "\n",
      "In ChainOfThoughtMathSolver\n",
      "In AgentNumericalStepsGeneration\n",
      "Final Answer: \\boxed{8.0}\n",
      "\n",
      "In AgentMetaMACMController at iteration  1 \n",
      "\n",
      "In ChainOfThoughtMathSolver\n",
      "In AgentConditionGenerator ,current iteration:  0  max iterations:  2\n",
      "In AgentConditionJudge\n",
      "In AgentStepsExecutor\n",
      "In AgentConditionJudge\n",
      "Final Answer: \\boxed{2.0x - 1.0}\n",
      "\n",
      "In AgentMetaMACMController at iteration  2 \n",
      "\n",
      "Completed Tasks: 17/50. Correct: False, Agent Answer: \\boxed{2.0x - 1.0}, Real Answer: \\boxed{2x-1}\n",
      "\n",
      "-----------------------------------\n",
      "\n",
      "In AgentAnswerReadyJudge\n"
     ]
    },
    {
     "name": "stderr",
     "output_type": "stream",
     "text": [
      "CallbackManager.merge(): Parent run IDs do not match. Using the parent run ID of the first callback manager.\n"
     ]
    },
    {
     "name": "stdout",
     "output_type": "stream",
     "text": [
      "In AgentConditionAnalyzer\n",
      "Final Answer: \\boxed{12.0}\n",
      "\n",
      "In AgentMetaMACMController at iteration  2 \n",
      "\n",
      "Completed Tasks: 18/50. Correct: False, Agent Answer: \\boxed{0.0}, Real Answer: \\boxed{15}\n",
      "\n",
      "-----------------------------------\n",
      "\n",
      "In AgentAnswerReadyJudge\n",
      "In AgentAnswerReadyJudge\n",
      "Final Answer: \\boxed{0.2}\n",
      "\n",
      "In AgentMetaMACMController at iteration  2 \n",
      "\n",
      "In ChainOfThoughtMathSolver\n"
     ]
    },
    {
     "name": "stderr",
     "output_type": "stream",
     "text": [
      "CallbackManager.merge(): Parent run IDs do not match. Using the parent run ID of the first callback manager.\n"
     ]
    },
    {
     "name": "stdout",
     "output_type": "stream",
     "text": [
      "In AgentConditionAnalyzer\n",
      "In AgentConditionGenerator ,current iteration:  0  max iterations:  2\n",
      "In AgentConditionJudge\n",
      "In AgentConditionJudge\n",
      "Final Answer: \\boxed{0.2}\n",
      "\n",
      "In AgentMetaMACMController at iteration  1 \n",
      "\n",
      "In ChainOfThoughtMathSolver\n",
      "In AgentNumericalStepsGeneration\n",
      "In AgentConditionGenerator ,current iteration:  1  max iterations:  2\n",
      "In AgentConditionGenerator ,current iteration:  0  max iterations:  2\n",
      "In AgentConditionGenerator ,current iteration:  1  max iterations:  2\n",
      "Final Answer: \\boxed{0.2}\n",
      "\n",
      "In AgentMetaMACMController at iteration  2 \n",
      "\n",
      "Completed Tasks: 19/50. Correct: False, Agent Answer: \\boxed{0.2}, Real Answer: \\boxed{\\dfrac{1}{5}}\n",
      "\n",
      "-----------------------------------\n",
      "\n"
     ]
    },
    {
     "name": "stderr",
     "output_type": "stream",
     "text": [
      "CallbackManager.merge(): Parent run IDs do not match. Using the parent run ID of the first callback manager.\n"
     ]
    },
    {
     "name": "stdout",
     "output_type": "stream",
     "text": [
      "In AgentConditionAnalyzer\n",
      "In AgentStepsExecutor\n",
      "In AgentAnswerReadyJudge\n",
      "In AgentAnswerReadyJudge\n",
      "In AgentConditionGenerator ,current iteration:  0  max iterations:  2\n",
      "In AgentNumericalStepsGeneration\n",
      "In AgentNumericalStepsGeneration\n",
      "In AgentConditionJudge\n",
      "In AgentStepsExecutor\n",
      "In AgentConditionJudge\n"
     ]
    },
    {
     "name": "stderr",
     "output_type": "stream",
     "text": [
      "CallbackManager.merge(): Parent run IDs do not match. Using the parent run ID of the first callback manager.\n"
     ]
    },
    {
     "name": "stdout",
     "output_type": "stream",
     "text": [
      "Final Answer: \\boxed{40.0}\n",
      "\n",
      "In AgentMetaMACMController at iteration  1 \n",
      "\n",
      "In AgentConditionAnalyzer\n",
      "In AgentStepsExecutor\n",
      "Final Answer: \\boxed{111111111.0}\n",
      "\n",
      "In AgentMetaMACMController at iteration  2 \n",
      "\n",
      "In ChainOfThoughtMathSolver\n",
      "In AgentAnswerReadyJudge\n",
      "In AgentConditionGenerator ,current iteration:  0  max iterations:  2\n",
      "In AgentAnswerReadyJudge\n",
      "Final Answer: \\boxed{111111111.0}\n",
      "\n",
      "In AgentMetaMACMController at iteration  1 \n",
      "\n",
      "In ChainOfThoughtMathSolver\n",
      "In AgentConditionJudge\n",
      "In AgentNumericalStepsGeneration\n",
      "In AgentConditionJudge\n"
     ]
    },
    {
     "name": "stderr",
     "output_type": "stream",
     "text": [
      "CallbackManager.merge(): Parent run IDs do not match. Using the parent run ID of the first callback manager.\n"
     ]
    },
    {
     "name": "stdout",
     "output_type": "stream",
     "text": [
      "Final Answer: \\[ \\boxed{6.0} \\]\n",
      "\n",
      "In AgentMetaMACMController at iteration  1 \n",
      "\n",
      "In AgentConditionAnalyzer\n",
      "Final Answer: \\boxed{111111111.0}In AgentNumericalStepsGeneration\n",
      "\n",
      "\n",
      "In AgentMetaMACMController at iteration  2 \n",
      "\n",
      "Completed Tasks: 20/50. Correct: False, Agent Answer: \\boxed{111111111.0}, Real Answer: \\boxed{111, \\! 111, \\! 111}\n",
      "\n",
      "-----------------------------------\n",
      "\n",
      "In AgentAnswerReadyJudge\n",
      "In AgentConditionJudge\n",
      "In AgentStepsExecutor\n"
     ]
    },
    {
     "name": "stderr",
     "output_type": "stream",
     "text": [
      "CallbackManager.merge(): Parent run IDs do not match. Using the parent run ID of the first callback manager.\n"
     ]
    },
    {
     "name": "stdout",
     "output_type": "stream",
     "text": [
      "In AgentConditionAnalyzer\n",
      "In AgentConditionGenerator ,current iteration:  0  max iterations:  2\n",
      "In AgentStepsExecutor\n",
      "In AgentConditionJudge\n",
      "In AgentNumericalStepsGeneration\n",
      "In AgentConditionGenerator ,current iteration:  0  max iterations:  2\n",
      "Final Answer: \\boxed{11.0}\n",
      "\n",
      "In AgentMetaMACMController at iteration  2 \n",
      "\n",
      "In ChainOfThoughtMathSolver\n",
      "In AgentAnswerReadyJudge\n",
      "In AgentStepsExecutor\n",
      "In AgentConditionJudge\n",
      "In AgentNumericalStepsGeneration\n"
     ]
    },
    {
     "name": "stderr",
     "output_type": "stream",
     "text": [
      "CallbackManager.merge(): Parent run IDs do not match. Using the parent run ID of the first callback manager.\n"
     ]
    },
    {
     "name": "stdout",
     "output_type": "stream",
     "text": [
      "Final Answer: \\boxed{556.0}\n",
      "\n",
      "In AgentMetaMACMController at iteration  1 \n",
      "\n",
      "In AgentConditionAnalyzer\n",
      "Final Answer: \\boxed{11, -3 + 6i}\n",
      "\n",
      "In AgentMetaMACMController at iteration  1 \n",
      "\n",
      "In ChainOfThoughtMathSolver\n",
      "In AgentConditionJudge\n",
      "In AgentStepsExecutor\n",
      "In AgentAnswerReadyJudge\n",
      "In AgentAnswerReadyJudge\n",
      "In AgentConditionGenerator ,current iteration:  0  max iterations:  2\n",
      "Final Answer: \\boxed{628028478.0}\n",
      "\n",
      "In AgentMetaMACMController at iteration  2 \n",
      "\n",
      "In ChainOfThoughtMathSolver\n",
      "In AgentAnswerReadyJudge\n",
      "In AgentNumericalStepsGeneration\n",
      "Final Answer: \\boxed{11, -3 + 6i}\n",
      "\n",
      "In AgentMetaMACMController at iteration  2 \n",
      "\n",
      "Completed Tasks: 21/50. Correct: False, Agent Answer: \\boxed{11, -3 + 6i}, Real Answer: \\boxed{-3 + 6i}\n",
      "\n",
      "-----------------------------------\n",
      "\n",
      "In AgentAnswerReadyJudge\n",
      "Final Answer: \\boxed{40.0}\n",
      "\n",
      "In AgentMetaMACMController at iteration  2 \n",
      "\n",
      "In ChainOfThoughtMathSolver\n"
     ]
    },
    {
     "name": "stderr",
     "output_type": "stream",
     "text": [
      "CallbackManager.merge(): Parent run IDs do not match. Using the parent run ID of the first callback manager.\n"
     ]
    },
    {
     "name": "stdout",
     "output_type": "stream",
     "text": [
      "In AgentConditionAnalyzer\n",
      "In AgentNumericalStepsGeneration\n",
      "In AgentNumericalStepsGeneration\n",
      "In AgentConditionGenerator ,current iteration:  0  max iterations:  2\n",
      "Final Answer: \\boxed{40.0}\n",
      "\n",
      "In AgentMetaMACMController at iteration  1 \n",
      "\n",
      "In ChainOfThoughtMathSolver\n",
      "In AgentStepsExecutor\n",
      "In AgentStepsExecutor\n",
      "In AgentStepsExecutor\n",
      "In AgentConditionGenerator ,current iteration:  1  max iterations:  2\n",
      "Final Answer: \\boxed{47188.0}\n",
      "\n",
      "In AgentMetaMACMController at iteration  1 \n",
      "\n",
      "In ChainOfThoughtMathSolver\n",
      "Final Answer: \\boxed{40.0}\n",
      "\n",
      "In AgentMetaMACMController at iteration  2 \n",
      "\n",
      "Completed Tasks: 22/50. Correct: True, Agent Answer: \\boxed{40.0}, Real Answer: \\boxed{40}\n",
      "\n",
      "-----------------------------------\n",
      "\n",
      "In AgentConditionJudge\n"
     ]
    },
    {
     "name": "stderr",
     "output_type": "stream",
     "text": [
      "CallbackManager.merge(): Parent run IDs do not match. Using the parent run ID of the first callback manager.\n"
     ]
    },
    {
     "name": "stdout",
     "output_type": "stream",
     "text": [
      "In AgentConditionAnalyzer\n",
      "Final Answer: \\[ \\boxed{6.0} \\]\n",
      "\n",
      "In AgentMetaMACMController at iteration  2 \n",
      "\n",
      "In ChainOfThoughtMathSolver\n"
     ]
    },
    {
     "name": "stderr",
     "output_type": "stream",
     "text": [
      "CallbackManager.merge(): Parent run IDs do not match. Using the parent run ID of the first callback manager.\n"
     ]
    },
    {
     "name": "stdout",
     "output_type": "stream",
     "text": [
      "Final Answer: \\boxed{1.0}\n",
      "\n",
      "In AgentMetaMACMController at iteration  1 \n",
      "\n",
      "In AgentConditionAnalyzer\n",
      "In AgentConditionJudge\n"
     ]
    },
    {
     "name": "stderr",
     "output_type": "stream",
     "text": [
      "CallbackManager.merge(): Parent run IDs do not match. Using the parent run ID of the first callback manager.\n"
     ]
    },
    {
     "name": "stdout",
     "output_type": "stream",
     "text": [
      "Final Answer: \\boxed{26.0}\n",
      "\n",
      "In AgentMetaMACMController at iteration  1 \n",
      "\n",
      "In AgentConditionAnalyzer\n",
      "Final Answer: \\boxed{47188.0}\n",
      "Final Answer: \\boxed{6.0}\n",
      "\n",
      "In AgentMetaMACMController at iteration  2 \n",
      "\n",
      "\n",
      "In AgentMetaMACMController at iteration  1 \n",
      "\n",
      "Completed Tasks: 23/50. Correct: False, Agent Answer: \\boxed{47188.0}, Real Answer: \\boxed{49896}\n",
      "\n",
      "-----------------------------------\n",
      "\n",
      "In ChainOfThoughtMathSolver\n",
      "In AgentConditionGenerator ,current iteration:  0  max iterations:  2\n",
      "In AgentConditionGenerator ,current iteration:  0  max iterations:  2\n",
      "In AgentConditionGenerator ,current iteration:  0  max iterations:  2\n",
      "In AgentAnswerReadyJudge\n"
     ]
    },
    {
     "name": "stderr",
     "output_type": "stream",
     "text": [
      "CallbackManager.merge(): Parent run IDs do not match. Using the parent run ID of the first callback manager.\n"
     ]
    },
    {
     "name": "stdout",
     "output_type": "stream",
     "text": [
      "In AgentConditionAnalyzer\n",
      "Final Answer: \\boxed{6.0}\n",
      "\n",
      "In AgentMetaMACMController at iteration  2 \n",
      "\n",
      "Completed Tasks: 24/50. Correct: True, Agent Answer: \\boxed{6.0}, Real Answer: \\boxed{6}\n",
      "\n",
      "-----------------------------------\n",
      "\n",
      "In AgentNumericalStepsGeneration\n",
      "In AgentConditionGenerator ,current iteration:  0  max iterations:  2\n"
     ]
    },
    {
     "name": "stderr",
     "output_type": "stream",
     "text": [
      "CallbackManager.merge(): Parent run IDs do not match. Using the parent run ID of the first callback manager.\n"
     ]
    },
    {
     "name": "stdout",
     "output_type": "stream",
     "text": [
      "In AgentConditionAnalyzer\n",
      "In AgentAnswerReadyJudge\n",
      "In AgentConditionJudge\n",
      "In AgentConditionGenerator ,current iteration:  0  max iterations:  2\n",
      "In AgentStepsExecutor\n",
      "In AgentConditionJudge\n",
      "In AgentConditionJudge\n",
      "In AgentNumericalStepsGeneration\n",
      "In AgentConditionJudge\n",
      "Final Answer: \\boxed{-0.619}\n",
      "\n",
      "In AgentMetaMACMController at iteration  2 \n",
      "\n",
      "In ChainOfThoughtMathSolver\n",
      "In AgentStepsExecutor\n",
      "In AgentAnswerReadyJudge\n",
      "In AgentConditionJudge\n",
      "In AgentConditionJudge\n",
      "In AgentAnswerReadyJudge\n",
      "Final Answer: \\boxed{123.123123123}\n",
      "\n",
      "In AgentMetaMACMController at iteration  1 \n",
      "\n",
      "In ChainOfThoughtMathSolver\n"
     ]
    },
    {
     "name": "stderr",
     "output_type": "stream",
     "text": [
      "CallbackManager.merge(): Parent run IDs do not match. Using the parent run ID of the first callback manager.\n"
     ]
    },
    {
     "name": "stdout",
     "output_type": "stream",
     "text": [
      "Final Answer: \\boxed{-3.0}\n",
      "\n",
      "In AgentMetaMACMController at iteration  1 \n",
      "\n",
      "In AgentConditionAnalyzer\n",
      "In AgentAnswerReadyJudge\n",
      "In AgentConditionGenerator ,current iteration:  1  max iterations:  2\n",
      "In AgentAnswerReadyJudge\n",
      "In AgentConditionGenerator ,current iteration:  0  max iterations:  2\n",
      "In AgentNumericalStepsGeneration\n",
      "In AgentAnswerReadyJudge\n",
      "Final Answer: \\boxed{1122109}\n",
      "\n",
      "In AgentMetaMACMController at iteration  2 \n",
      "\n",
      "Completed Tasks: 25/50. Correct: True, Agent Answer: \\boxed{556.0}, Real Answer: \\boxed{556}\n",
      "\n",
      "-----------------------------------\n",
      "\n",
      "In AgentNumericalStepsGeneration\n",
      "In AgentStepsExecutor\n",
      "In AgentNumericalStepsGeneration\n"
     ]
    },
    {
     "name": "stderr",
     "output_type": "stream",
     "text": [
      "CallbackManager.merge(): Parent run IDs do not match. Using the parent run ID of the first callback manager.\n"
     ]
    },
    {
     "name": "stdout",
     "output_type": "stream",
     "text": [
      "In AgentConditionAnalyzer\n",
      "In AgentStepsExecutor\n",
      "In AgentNumericalStepsGeneration\n",
      "In AgentStepsExecutor\n",
      "In AgentConditionGenerator ,current iteration:  0  max iterations:  2\n",
      "In AgentConditionJudge\n",
      "In AgentConditionJudge\n"
     ]
    },
    {
     "name": "stderr",
     "output_type": "stream",
     "text": [
      "CallbackManager.merge(): Parent run IDs do not match. Using the parent run ID of the first callback manager.\n"
     ]
    },
    {
     "name": "stdout",
     "output_type": "stream",
     "text": [
      "Final Answer: \\boxed{135.0}\n",
      "\n",
      "In AgentMetaMACMController at iteration  1 \n",
      "\n",
      "In AgentConditionAnalyzer\n",
      "In AgentConditionGenerator ,current iteration:  0  max iterations:  2\n",
      "In AgentStepsExecutor\n"
     ]
    },
    {
     "name": "stderr",
     "output_type": "stream",
     "text": [
      "CallbackManager.merge(): Parent run IDs do not match. Using the parent run ID of the first callback manager.\n"
     ]
    },
    {
     "name": "stdout",
     "output_type": "stream",
     "text": [
      "Final Answer: \\boxed{1.7320508075688772}\n",
      "\n",
      "In AgentMetaMACMController at iteration  1 \n",
      "\n",
      "In AgentConditionAnalyzer\n",
      "In AgentAnswerReadyJudge\n",
      "In AgentAnswerReadyJudge\n",
      "In AgentAnswerReadyJudge\n"
     ]
    },
    {
     "name": "stderr",
     "output_type": "stream",
     "text": [
      "CallbackManager.merge(): Parent run IDs do not match. Using the parent run ID of the first callback manager.\n"
     ]
    },
    {
     "name": "stdout",
     "output_type": "stream",
     "text": [
      "Final Answer: \\boxed{10.0}\n",
      "\n",
      "In AgentMetaMACMController at iteration  1 \n",
      "\n",
      "In AgentConditionAnalyzer\n",
      "In AgentConditionGenerator ,current iteration:  0  max iterations:  2\n",
      "In AgentConditionGenerator ,current iteration:  0  max iterations:  2\n"
     ]
    },
    {
     "name": "stderr",
     "output_type": "stream",
     "text": [
      "CallbackManager.merge(): Parent run IDs do not match. Using the parent run ID of the first callback manager.\n"
     ]
    },
    {
     "name": "stdout",
     "output_type": "stream",
     "text": [
      "In AgentConditionGenerator ,current iteration:  1  max iterations:  2\n",
      "Final Answer: \\boxed{36.0}\n",
      "\n",
      "In AgentMetaMACMController at iteration  1 \n",
      "\n",
      "In AgentConditionAnalyzer\n",
      "In AgentNumericalStepsGeneration\n",
      "In AgentConditionGenerator ,current iteration:  1  max iterations:  2\n",
      "In AgentConditionGenerator ,current iteration:  0  max iterations:  2\n",
      "In AgentStepsExecutor\n",
      "Error in test_math_task: 1 validation error for SummarizedCondition\n",
      "reasoning\n",
      "  str type expected (type=type_error.str)\n",
      "In AgentConditionJudge\n",
      "Final Answer: \\boxed{26.0}\n",
      "\n",
      "In AgentMetaMACMController at iteration  2 \n",
      "\n",
      "In ChainOfThoughtMathSolver\n",
      "In AgentConditionJudge\n",
      "In AgentConditionJudge\n",
      "Final Answer: \\boxed{26.0}\n",
      "\n",
      "In AgentMetaMACMController at iteration  1 \n",
      "\n",
      "In ChainOfThoughtMathSolver\n",
      "In AgentConditionJudge\n"
     ]
    },
    {
     "name": "stderr",
     "output_type": "stream",
     "text": [
      "CallbackManager.merge(): Parent run IDs do not match. Using the parent run ID of the first callback manager.\n"
     ]
    },
    {
     "name": "stdout",
     "output_type": "stream",
     "text": [
      "In AgentConditionAnalyzer\n",
      "In AgentConditionJudge\n",
      "In AgentConditionJudge\n",
      "Final Answer: \\boxed{26.0}\n",
      "\n",
      "In AgentMetaMACMController at iteration  2 \n",
      "\n",
      "Completed Tasks: 26/50. Correct: True, Agent Answer: \\boxed{26.0}, Real Answer: \\boxed{26}\n",
      "\n",
      "-----------------------------------\n",
      "\n",
      "In AgentConditionGenerator ,current iteration:  0  max iterations:  2\n",
      "In AgentAnswerReadyJudge\n"
     ]
    },
    {
     "name": "stderr",
     "output_type": "stream",
     "text": [
      "CallbackManager.merge(): Parent run IDs do not match. Using the parent run ID of the first callback manager.\n"
     ]
    },
    {
     "name": "stdout",
     "output_type": "stream",
     "text": [
      "In AgentConditionAnalyzer\n",
      "In AgentAnswerReadyJudge\n",
      "In AgentAnswerReadyJudge\n",
      "In AgentAnswerReadyJudge\n",
      "In AgentNumericalStepsGeneration\n",
      "In AgentConditionGenerator ,current iteration:  0  max iterations:  2\n",
      "In AgentAnswerReadyJudge\n",
      "In AgentNumericalStepsGeneration\n",
      "In AgentStepsExecutor\n",
      "In AgentNumericalStepsGeneration\n",
      "In AgentNumericalStepsGeneration\n",
      "In AgentStepsExecutor\n",
      "In AgentConditionGenerator ,current iteration:  1  max iterations:  2\n",
      "In AgentStepsExecutor\n",
      "In AgentConditionJudge\n",
      "Final Answer: \\boxed{10.0}\n",
      "\n",
      "In AgentMetaMACMController at iteration  2 \n",
      "\n",
      "In ChainOfThoughtMathSolver\n",
      "Final Answer: \\boxed{-3.0}\n",
      "\n",
      "In AgentMetaMACMController at iteration  2 \n",
      "\n",
      "In ChainOfThoughtMathSolver\n",
      "In AgentConditionJudge\n",
      "Final Answer: \\boxed{10.0}\n",
      "\n",
      "In AgentMetaMACMController at iteration  1 \n",
      "\n",
      "In ChainOfThoughtMathSolver\n"
     ]
    },
    {
     "name": "stderr",
     "output_type": "stream",
     "text": [
      "CallbackManager.merge(): Parent run IDs do not match. Using the parent run ID of the first callback manager.\n"
     ]
    },
    {
     "name": "stdout",
     "output_type": "stream",
     "text": [
      "Final Answer: \\boxed{7.5}\n",
      "\n",
      "In AgentMetaMACMController at iteration  1 \n",
      "\n",
      "In AgentConditionAnalyzer\n",
      "In AgentAnswerReadyJudge\n",
      "Final Answer: \\boxed{-3.0}\n",
      "In AgentStepsExecutor\n",
      "\n",
      "In AgentMetaMACMController at iteration  1 \n",
      "\n",
      "In ChainOfThoughtMathSolver\n",
      "In AgentAnswerReadyJudge\n",
      "Final Answer: \\boxed{10.0}\n",
      "\n",
      "In AgentMetaMACMController at iteration  2 \n",
      "\n",
      "Completed Tasks: 27/50. Correct: True, Agent Answer: \\boxed{10.0}, Real Answer: \\boxed{10}\n",
      "\n",
      "-----------------------------------\n",
      "\n",
      "In AgentConditionGenerator ,current iteration:  0  max iterations:  2\n"
     ]
    },
    {
     "name": "stderr",
     "output_type": "stream",
     "text": [
      "CallbackManager.merge(): Parent run IDs do not match. Using the parent run ID of the first callback manager.\n"
     ]
    },
    {
     "name": "stdout",
     "output_type": "stream",
     "text": [
      "Final Answer: \\boxed{-3.0}\n",
      "\n",
      "In AgentMetaMACMController at iteration  2 \n",
      "\n",
      "Completed Tasks: 28/50. Correct: True, Agent Answer: \\boxed{-3.0}, Real Answer: \\boxed{-3}\n",
      "\n",
      "-----------------------------------\n",
      "\n",
      "In AgentConditionAnalyzer\n",
      "Final Answer: \\boxed{12.0}\n",
      "\n",
      "In AgentMetaMACMController at iteration  2 \n",
      "\n",
      "In ChainOfThoughtMathSolver\n",
      "In AgentNumericalStepsGeneration\n",
      "In AgentNumericalStepsGeneration\n"
     ]
    },
    {
     "name": "stderr",
     "output_type": "stream",
     "text": [
      "CallbackManager.merge(): Parent run IDs do not match. Using the parent run ID of the first callback manager.\n"
     ]
    },
    {
     "name": "stdout",
     "output_type": "stream",
     "text": [
      "In AgentConditionAnalyzer\n",
      "Final Answer: \\boxed{36.0}\n",
      "\n",
      "In AgentMetaMACMController at iteration  1 \n",
      "\n",
      "In ChainOfThoughtMathSolver\n",
      "In AgentConditionGenerator ,current iteration:  0  max iterations:  2\n",
      "In AgentAnswerReadyJudge\n",
      "In AgentStepsExecutor\n",
      "Final Answer: \\boxed{36.0}\n",
      "\n",
      "In AgentMetaMACMController at iteration  2 \n",
      "\n",
      "Completed Tasks: 29/50. Correct: True, Agent Answer: \\boxed{36.0}, Real Answer: \\boxed{36}\n",
      "\n",
      "-----------------------------------\n",
      "\n",
      "In AgentConditionGenerator ,current iteration:  0  max iterations:  2\n"
     ]
    },
    {
     "name": "stderr",
     "output_type": "stream",
     "text": [
      "CallbackManager.merge(): Parent run IDs do not match. Using the parent run ID of the first callback manager.\n"
     ]
    },
    {
     "name": "stdout",
     "output_type": "stream",
     "text": [
      "In AgentConditionAnalyzer\n",
      "In AgentStepsExecutor\n",
      "In AgentNumericalStepsGeneration\n",
      "In AgentConditionGenerator ,current iteration:  0  max iterations:  2\n",
      "In AgentConditionJudge\n",
      "Final Answer: \\boxed{1.0}\n",
      "\n",
      "In AgentMetaMACMController at iteration  2 \n",
      "\n",
      "In ChainOfThoughtMathSolver\n",
      "In AgentStepsExecutor\n",
      "In AgentConditionJudge\n",
      "In AgentConditionJudge\n",
      "In AgentConditionJudge\n"
     ]
    },
    {
     "name": "stderr",
     "output_type": "stream",
     "text": [
      "CallbackManager.merge(): Parent run IDs do not match. Using the parent run ID of the first callback manager.\n"
     ]
    },
    {
     "name": "stdout",
     "output_type": "stream",
     "text": [
      "Final Answer: \\boxed{135.0}\n",
      "\n",
      "In AgentMetaMACMController at iteration  1 \n",
      "\n",
      "In AgentConditionAnalyzer\n",
      "Final Answer: \\boxed{1.0}\n",
      "\n",
      "In AgentMetaMACMController at iteration  1 \n",
      "\n",
      "In ChainOfThoughtMathSolver\n"
     ]
    },
    {
     "name": "stderr",
     "output_type": "stream",
     "text": [
      "CallbackManager.merge(): Parent run IDs do not match. Using the parent run ID of the first callback manager.\n"
     ]
    },
    {
     "name": "stdout",
     "output_type": "stream",
     "text": [
      "Final Answer: \\boxed{90.0}\n",
      "\n",
      "In AgentMetaMACMController at iteration  1 \n",
      "\n",
      "In AgentConditionAnalyzer\n",
      "In AgentAnswerReadyJudge\n",
      "In AgentConditionGenerator ,current iteration:  0  max iterations:  2\n",
      "In AgentAnswerReadyJudge\n",
      "In AgentConditionGenerator ,current iteration:  0  max iterations:  2\n",
      "In AgentAnswerReadyJudge\n",
      "In AgentNumericalStepsGeneration\n",
      "Final Answer: \\boxed{1.0}\n",
      "\n",
      "In AgentMetaMACMController at iteration  2 \n",
      "\n",
      "Completed Tasks: 30/50. Correct: True, Agent Answer: \\boxed{1.0}, Real Answer: \\boxed{1}\n",
      "\n",
      "-----------------------------------\n",
      "\n",
      "In AgentStepsExecutor\n",
      "In AgentConditionGenerator ,current iteration:  1  max iterations:  2\n"
     ]
    },
    {
     "name": "stderr",
     "output_type": "stream",
     "text": [
      "CallbackManager.merge(): Parent run IDs do not match. Using the parent run ID of the first callback manager.\n"
     ]
    },
    {
     "name": "stdout",
     "output_type": "stream",
     "text": [
      "In AgentConditionAnalyzer\n",
      "In AgentAnswerReadyJudge\n",
      "In AgentNumericalStepsGeneration\n",
      "In AgentConditionGenerator ,current iteration:  0  max iterations:  2\n",
      "In AgentConditionJudge\n",
      "In AgentStepsExecutor\n",
      "In AgentNumericalStepsGeneration\n",
      "In AgentConditionJudge\n",
      "Final Answer: \\boxed{1.7320508075688772}\n",
      "\n",
      "In AgentMetaMACMController at iteration  2 \n",
      "\n",
      "In ChainOfThoughtMathSolver\n",
      "In AgentAnswerReadyJudge\n"
     ]
    },
    {
     "name": "stderr",
     "output_type": "stream",
     "text": [
      "CallbackManager.merge(): Parent run IDs do not match. Using the parent run ID of the first callback manager.\n"
     ]
    },
    {
     "name": "stdout",
     "output_type": "stream",
     "text": [
      "In AgentAnswerReadyJudge\n",
      "Final Answer: \\boxed{18.0}\n",
      "\n",
      "In AgentMetaMACMController at iteration  1 \n",
      "\n",
      "In AgentConditionAnalyzer\n",
      "In AgentConditionJudge\n",
      "In AgentConditionJudge\n",
      "In AgentConditionGenerator ,current iteration:  0  max iterations:  2\n",
      "In AgentStepsExecutor\n",
      "In AgentConditionGenerator ,current iteration:  1  max iterations:  2\n",
      "In AgentConditionGenerator ,current iteration:  1  max iterations:  2\n",
      "Final Answer: \\boxed{6.0}\n",
      "\n",
      "In AgentMetaMACMController at iteration  1 \n",
      "\n",
      "In ChainOfThoughtMathSolver\n",
      "In AgentAnswerReadyJudge\n"
     ]
    },
    {
     "name": "stderr",
     "output_type": "stream",
     "text": [
      "CallbackManager.merge(): Parent run IDs do not match. Using the parent run ID of the first callback manager.\n"
     ]
    },
    {
     "name": "stdout",
     "output_type": "stream",
     "text": [
      "Final Answer: \\boxed{-128.0}\n",
      "\n",
      "In AgentMetaMACMController at iteration  1 \n",
      "\n",
      "In AgentConditionAnalyzer\n",
      "In AgentAnswerReadyJudge\n",
      "In AgentNumericalStepsGeneration\n",
      "In AgentConditionGenerator ,current iteration:  0  max iterations:  2\n",
      "In AgentConditionJudge\n",
      "In AgentConditionJudge\n",
      "In AgentStepsExecutor\n",
      "Final Answer: \\boxed{6.0}\n",
      "\n",
      "In AgentMetaMACMController at iteration  2 \n",
      "\n",
      "Completed Tasks: 31/50. Correct: False, Agent Answer: \\boxed{1.7320508075688772}, Real Answer: \\boxed{3 \\sqrt{3}}\n",
      "\n",
      "-----------------------------------\n",
      "\n",
      "In AgentNumericalStepsGeneration\n"
     ]
    },
    {
     "name": "stderr",
     "output_type": "stream",
     "text": [
      "CallbackManager.merge(): Parent run IDs do not match. Using the parent run ID of the first callback manager.\n"
     ]
    },
    {
     "name": "stdout",
     "output_type": "stream",
     "text": [
      "In AgentStepsExecutor\n",
      "In AgentConditionAnalyzer\n",
      "Final Answer: \\boxed{7.5}\n",
      "\n",
      "In AgentMetaMACMController at iteration  2 \n",
      "\n",
      "In ChainOfThoughtMathSolver\n",
      "In AgentAnswerReadyJudge\n",
      "In AgentConditionJudge\n",
      "In AgentConditionJudge\n",
      "In AgentAnswerReadyJudge\n",
      "In AgentConditionGenerator ,current iteration:  0  max iterations:  2\n",
      "In AgentNumericalStepsGeneration\n"
     ]
    },
    {
     "name": "stderr",
     "output_type": "stream",
     "text": [
      "CallbackManager.merge(): Parent run IDs do not match. Using the parent run ID of the first callback manager.\n"
     ]
    },
    {
     "name": "stdout",
     "output_type": "stream",
     "text": [
      "In AgentAnswerReadyJudge\n",
      "Final Answer: \\boxed{7.5}\n",
      "\n",
      "In AgentMetaMACMController at iteration  1 \n",
      "\n",
      "In ChainOfThoughtMathSolver\n",
      "Final Answer: \\[ \\boxed{110.0} \\]\n",
      "\n",
      "In AgentMetaMACMController at iteration  1 \n",
      "\n",
      "In AgentConditionAnalyzer\n",
      "In AgentNumericalStepsGeneration\n",
      "In AgentAnswerReadyJudge\n",
      "In AgentConditionGenerator ,current iteration:  0  max iterations:  2\n",
      "In AgentNumericalStepsGeneration\n",
      "In AgentStepsExecutor\n",
      "Final Answer: \\boxed{7.5}\n",
      "\n",
      "In AgentMetaMACMController at iteration  2 \n",
      "\n",
      "Completed Tasks: 32/50. Correct: True, Agent Answer: \\boxed{7.5}, Real Answer: \\boxed{7.5}\n",
      "\n",
      "-----------------------------------\n",
      "\n",
      "In AgentStepsExecutor\n",
      "In AgentConditionJudge\n"
     ]
    },
    {
     "name": "stderr",
     "output_type": "stream",
     "text": [
      "CallbackManager.merge(): Parent run IDs do not match. Using the parent run ID of the first callback manager.\n"
     ]
    },
    {
     "name": "stdout",
     "output_type": "stream",
     "text": [
      "In AgentConditionAnalyzer\n",
      "Final Answer: \\boxed{135.0}\n",
      "\n",
      "In AgentMetaMACMController at iteration  2 \n",
      "\n",
      "In ChainOfThoughtMathSolver\n",
      "In AgentNumericalStepsGeneration\n",
      "Final Answer: \\boxed{90.0}\n",
      "\n",
      "In AgentMetaMACMController at iteration  2 \n",
      "\n",
      "In ChainOfThoughtMathSolver\n",
      "In AgentConditionGenerator ,current iteration:  0  max iterations:  2\n",
      "In AgentStepsExecutor\n",
      "In AgentConditionJudge\n",
      "Final Answer: \\boxed{135.0}\n",
      "\n",
      "In AgentMetaMACMController at iteration  1 \n",
      "\n",
      "In ChainOfThoughtMathSolver\n",
      "Final Answer: \\boxed{90.0}\n",
      "\n",
      "In AgentMetaMACMController at iteration  1 \n",
      "\n",
      "In ChainOfThoughtMathSolver\n",
      "In AgentAnswerReadyJudge\n",
      "Final Answer: \\boxed{10.0}\n",
      "\n",
      "In AgentMetaMACMController at iteration  2 \n",
      "\n",
      "In ChainOfThoughtMathSolver\n",
      "In AgentStepsExecutor\n",
      "Final Answer: \\boxed{135.0}\n",
      "\n",
      "In AgentMetaMACMController at iteration  2 \n",
      "\n",
      "Completed Tasks: 33/50. Correct: True, Agent Answer: \\boxed{135.0}, Real Answer: \\boxed{135}\n",
      "\n",
      "-----------------------------------\n",
      "\n",
      "Final Answer: \\boxed{90.0}\n",
      "\n",
      "In AgentMetaMACMController at iteration  2 \n",
      "\n",
      "Completed Tasks: 34/50. Correct: True, Agent Answer: \\boxed{90.0}, Real Answer: \\boxed{90}\n",
      "\n",
      "-----------------------------------\n",
      "\n"
     ]
    },
    {
     "name": "stderr",
     "output_type": "stream",
     "text": [
      "CallbackManager.merge(): Parent run IDs do not match. Using the parent run ID of the first callback manager.\n"
     ]
    },
    {
     "name": "stdout",
     "output_type": "stream",
     "text": [
      "In AgentConditionAnalyzer\n",
      "Final Answer: \\boxed{18.0}\n",
      "\n",
      "In AgentMetaMACMController at iteration  1 \n",
      "\n",
      "In ChainOfThoughtMathSolver\n"
     ]
    },
    {
     "name": "stderr",
     "output_type": "stream",
     "text": [
      "CallbackManager.merge(): Parent run IDs do not match. Using the parent run ID of the first callback manager.\n"
     ]
    },
    {
     "name": "stdout",
     "output_type": "stream",
     "text": [
      "In AgentConditionAnalyzer\n",
      "In AgentNumericalStepsGenerationIn AgentAnswerReadyJudge\n",
      "\n",
      "Final Answer: \\boxed{18.0}\n",
      "In AgentConditionGenerator ,current iteration:  0  max iterations:  2\n",
      "\n",
      "In AgentMetaMACMController at iteration  2 \n",
      "\n",
      "Completed Tasks: 35/50. Correct: True, Agent Answer: \\boxed{18.0}, Real Answer: \\boxed{18}\n",
      "\n",
      "-----------------------------------\n",
      "\n",
      "Final Answer: \\boxed{-128.0}\n",
      "\n",
      "In AgentMetaMACMController at iteration  2 \n",
      "\n",
      "In ChainOfThoughtMathSolver\n",
      "In AgentConditionGenerator ,current iteration:  0  max iterations:  2\n",
      "In AgentStepsExecutor\n",
      "Final Answer: \\boxed{-128.0}\n",
      "\n",
      "In AgentMetaMACMController at iteration  1 \n",
      "\n",
      "In ChainOfThoughtMathSolver\n"
     ]
    },
    {
     "name": "stderr",
     "output_type": "stream",
     "text": [
      "CallbackManager.merge(): Parent run IDs do not match. Using the parent run ID of the first callback manager.\n"
     ]
    },
    {
     "name": "stdout",
     "output_type": "stream",
     "text": [
      "In AgentConditionAnalyzer\n",
      "Final Answer: \\boxed{-128.0}\n",
      "\n",
      "In AgentMetaMACMController at iteration  2 \n",
      "\n",
      "Completed Tasks: 36/50. Correct: True, Agent Answer: \\boxed{-128.0}, Real Answer: \\boxed{-128}\n",
      "\n",
      "-----------------------------------\n",
      "\n",
      "In AgentNumericalStepsGeneration\n"
     ]
    },
    {
     "name": "stderr",
     "output_type": "stream",
     "text": [
      "CallbackManager.merge(): Parent run IDs do not match. Using the parent run ID of the first callback manager.\n"
     ]
    },
    {
     "name": "stdout",
     "output_type": "stream",
     "text": [
      "In AgentConditionAnalyzer\n",
      "In AgentConditionJudge\n"
     ]
    },
    {
     "name": "stderr",
     "output_type": "stream",
     "text": [
      "CallbackManager.merge(): Parent run IDs do not match. Using the parent run ID of the first callback manager.\n"
     ]
    },
    {
     "name": "stdout",
     "output_type": "stream",
     "text": [
      "In AgentConditionGenerator ,current iteration:  0  max iterations:  2\n",
      "Final Answer: \\boxed{7.0}\n",
      "\n",
      "In AgentMetaMACMController at iteration  1 \n",
      "\n",
      "In AgentConditionAnalyzer\n",
      "In AgentConditionGenerator ,current iteration:  0  max iterations:  2\n",
      "In AgentConditionJudge\n",
      "In AgentStepsExecutor\n",
      "In AgentConditionGenerator ,current iteration:  0  max iterations:  2\n",
      "In AgentConditionJudge\n",
      "In AgentAnswerReadyJudge\n",
      "Final Answer: \\[ \\boxed{16.0} \\]\n",
      "\n",
      "In AgentMetaMACMController at iteration  2 \n",
      "\n",
      "In ChainOfThoughtMathSolver\n",
      "In AgentConditionJudge\n",
      "In AgentNumericalStepsGeneration\n",
      "Final Answer: \\boxed{140.0}\n",
      "\n",
      "In AgentMetaMACMController at iteration  1 \n",
      "\n",
      "In ChainOfThoughtMathSolver\n",
      "In AgentAnswerReadyJudge\n",
      "In AgentAnswerReadyJudge\n",
      "In AgentConditionJudge\n",
      "In AgentAnswerReadyJudge\n",
      "In AgentStepsExecutor\n",
      "Final Answer: \\boxed{140.0}\n",
      "\n",
      "In AgentMetaMACMController at iteration  2 \n",
      "\n",
      "Completed Tasks: 37/50. Correct: False, Agent Answer: \\boxed{140.0}, Real Answer: \\boxed{30^\\circ}\n",
      "\n",
      "-----------------------------------\n",
      "\n",
      "In AgentNumericalStepsGeneration\n"
     ]
    },
    {
     "name": "stderr",
     "output_type": "stream",
     "text": [
      "CallbackManager.merge(): Parent run IDs do not match. Using the parent run ID of the first callback manager.\n"
     ]
    },
    {
     "name": "stdout",
     "output_type": "stream",
     "text": [
      "In AgentNumericalStepsGeneration\n",
      "In AgentConditionAnalyzer\n",
      "In AgentConditionJudge\n",
      "In AgentNumericalStepsGeneration\n",
      "In AgentStepsExecutor\n",
      "In AgentStepsExecutor\n"
     ]
    },
    {
     "name": "stderr",
     "output_type": "stream",
     "text": [
      "CallbackManager.merge(): Parent run IDs do not match. Using the parent run ID of the first callback manager.\n"
     ]
    },
    {
     "name": "stdout",
     "output_type": "stream",
     "text": [
      "Final Answer: \\boxed{19.0}\n",
      "\n",
      "In AgentMetaMACMController at iteration  1 \n",
      "\n",
      "In AgentConditionGenerator ,current iteration:  0  max iterations:  2\n",
      "In AgentConditionAnalyzer\n",
      "In AgentConditionJudge\n",
      "In AgentStepsExecutor\n",
      "In AgentConditionGenerator ,current iteration:  0  max iterations:  2\n",
      "In AgentAnswerReadyJudge\n",
      "In AgentAnswerReadyJudge\n"
     ]
    },
    {
     "name": "stderr",
     "output_type": "stream",
     "text": [
      "CallbackManager.merge(): Parent run IDs do not match. Using the parent run ID of the first callback manager.\n"
     ]
    },
    {
     "name": "stdout",
     "output_type": "stream",
     "text": [
      "Final Answer: \\boxed{15600.0}\n",
      "\n",
      "In AgentMetaMACMController at iteration  1 \n",
      "\n",
      "In AgentConditionAnalyzer\n"
     ]
    },
    {
     "name": "stderr",
     "output_type": "stream",
     "text": [
      "CallbackManager.merge(): Parent run IDs do not match. Using the parent run ID of the first callback manager.\n"
     ]
    },
    {
     "name": "stdout",
     "output_type": "stream",
     "text": [
      "Final Answer: \\boxed{3.0}\n",
      "\n",
      "In AgentMetaMACMController at iteration  1 \n",
      "\n",
      "In AgentConditionAnalyzer\n",
      "In AgentConditionGenerator ,current iteration:  0  max iterations:  2\n",
      "In AgentNumericalStepsGeneration\n",
      "In AgentNumericalStepsGeneration\n",
      "Final Answer: \\boxed{2.0}\n",
      "\n",
      "In AgentMetaMACMController at iteration  1 \n",
      "\n"
     ]
    },
    {
     "name": "stderr",
     "output_type": "stream",
     "text": [
      "CallbackManager.merge(): Parent run IDs do not match. Using the parent run ID of the first callback manager.\n"
     ]
    },
    {
     "name": "stdout",
     "output_type": "stream",
     "text": [
      "In AgentConditionAnalyzer\n",
      "In AgentConditionGenerator ,current iteration:  0  max iterations:  2\n",
      "In AgentConditionJudge\n",
      "In AgentStepsExecutor\n",
      "In AgentStepsExecutor\n",
      "In AgentConditionJudge\n",
      "In AgentConditionGenerator ,current iteration:  0  max iterations:  2\n",
      "In AgentConditionJudge\n",
      "In AgentAnswerReadyJudge\n",
      "In AgentAnswerReadyJudge\n",
      "Final Answer: \\boxed{7.0}\n",
      "\n",
      "In AgentMetaMACMController at iteration  2 \n",
      "\n",
      "In ChainOfThoughtMathSolver\n",
      "In AgentAnswerReadyJudge\n"
     ]
    },
    {
     "name": "stderr",
     "output_type": "stream",
     "text": [
      "CallbackManager.merge(): Parent run IDs do not match. Using the parent run ID of the first callback manager.\n"
     ]
    },
    {
     "name": "stdout",
     "output_type": "stream",
     "text": [
      "Final Answer: \\boxed{10.0}\n",
      "\n",
      "In AgentMetaMACMController at iteration  1 \n",
      "\n",
      "In AgentConditionAnalyzer\n",
      "In AgentNumericalStepsGeneration\n",
      "In AgentConditionJudge\n",
      "In AgentNumericalStepsGeneration\n",
      "In AgentConditionJudge\n",
      "In AgentConditionGenerator ,current iteration:  0  max iterations:  2\n",
      "In AgentNumericalStepsGeneration\n",
      "In AgentStepsExecutor\n",
      "In AgentStepsExecutor\n",
      "In AgentAnswerReadyJudge\n",
      "Final Answer: \\boxed{4.67}\n",
      "In AgentStepsExecutor\n",
      "\n",
      "In AgentMetaMACMController at iteration  1 \n",
      "\n",
      "In ChainOfThoughtMathSolver\n",
      "In AgentAnswerReadyJudge\n",
      "In AgentNumericalStepsGeneration\n",
      "Final Answer: \\boxed{3.0}\n",
      "\n",
      "In AgentMetaMACMController at iteration  2 \n",
      "\n",
      "In ChainOfThoughtMathSolver\n",
      "In AgentNumericalStepsGeneration\n",
      "Final Answer: \\boxed{4.67}\n",
      "\n",
      "In AgentMetaMACMController at iteration  2 \n",
      "\n",
      "Completed Tasks: 38/50. Correct: False, Agent Answer: \\boxed{7.0}, Real Answer: \\boxed{\\frac{14}{3}}\n",
      "\n",
      "-----------------------------------\n",
      "\n",
      "Final Answer: \\boxed{19.0}\n",
      "\n",
      "In AgentMetaMACMController at iteration  2 \n",
      "\n",
      "In ChainOfThoughtMathSolver\n"
     ]
    },
    {
     "name": "stderr",
     "output_type": "stream",
     "text": [
      "CallbackManager.merge(): Parent run IDs do not match. Using the parent run ID of the first callback manager.\n"
     ]
    },
    {
     "name": "stdout",
     "output_type": "stream",
     "text": [
      "Final Answer: \\boxed{54.0}\n",
      "\n",
      "In AgentMetaMACMController at iteration  1 \n",
      "\n",
      "In AgentConditionAnalyzer\n"
     ]
    },
    {
     "name": "stderr",
     "output_type": "stream",
     "text": [
      "CallbackManager.merge(): Parent run IDs do not match. Using the parent run ID of the first callback manager.\n"
     ]
    },
    {
     "name": "stdout",
     "output_type": "stream",
     "text": [
      "In AgentConditionAnalyzer\n",
      "Final Answer: \\boxed{3.0}\n",
      "\n",
      "In AgentMetaMACMController at iteration  1 \n",
      "\n",
      "In ChainOfThoughtMathSolver\n",
      "In AgentStepsExecutor\n",
      "Final Answer: \\boxed{3.0}\n",
      "\n",
      "In AgentMetaMACMController at iteration  2 \n",
      "\n",
      "Completed Tasks: 39/50. Correct: True, Agent Answer: \\boxed{3.0}, Real Answer: \\boxed{3}\n",
      "\n",
      "-----------------------------------\n",
      "\n",
      "In AgentStepsExecutor\n",
      "In AgentConditionGenerator ,current iteration:  0  max iterations:  2\n",
      "In AgentConditionGenerator ,current iteration:  0  max iterations:  2\n",
      "Final Answer: \\boxed{19.0}\n",
      "\n",
      "In AgentMetaMACMController at iteration  1 \n",
      "\n",
      "In ChainOfThoughtMathSolver\n"
     ]
    },
    {
     "name": "stderr",
     "output_type": "stream",
     "text": [
      "CallbackManager.merge(): Parent run IDs do not match. Using the parent run ID of the first callback manager.\n"
     ]
    },
    {
     "name": "stdout",
     "output_type": "stream",
     "text": [
      "In AgentConditionAnalyzer\n",
      "In AgentConditionJudge\n",
      "Final Answer: \\boxed{32.0}\n",
      "\n",
      "In AgentMetaMACMController at iteration  2 \n",
      "\n",
      "In ChainOfThoughtMathSolver\n",
      "In AgentConditionGenerator ,current iteration:  0  max iterations:  2\n",
      "Final Answer: \\boxed{19.0}\n",
      "\n",
      "In AgentMetaMACMController at iteration  2 \n",
      "\n",
      "Completed Tasks: 40/50. Correct: True, Agent Answer: \\boxed{19.0}, Real Answer: \\boxed{19}\n",
      "\n",
      "-----------------------------------\n",
      "\n",
      "Final Answer: \\boxed{12025.0}\n",
      "\n",
      "In AgentMetaMACMController at iteration  1 \n",
      "\n",
      "In ChainOfThoughtMathSolver\n",
      "Final Answer: \\boxed{2.0}\n",
      "\n",
      "In AgentMetaMACMController at iteration  2 \n",
      "\n",
      "In ChainOfThoughtMathSolver\n"
     ]
    },
    {
     "name": "stderr",
     "output_type": "stream",
     "text": [
      "CallbackManager.merge(): Parent run IDs do not match. Using the parent run ID of the first callback manager.\n"
     ]
    },
    {
     "name": "stdout",
     "output_type": "stream",
     "text": [
      "In AgentConditionAnalyzer\n",
      "Final Answer: \\boxed{12025.0}\n",
      "\n",
      "In AgentMetaMACMController at iteration  2 \n",
      "\n",
      "Completed Tasks: 41/50. Correct: False, Agent Answer: \\boxed{12025.0}, Real Answer: \\boxed{15,600}\n",
      "\n",
      "-----------------------------------\n",
      "\n",
      "In AgentConditionJudge\n",
      "In AgentAnswerReadyJudge\n",
      "In AgentConditionJudge\n",
      "Final Answer: \\boxed{1.0}\n",
      "\n",
      "In AgentMetaMACMController at iteration  1 \n",
      "\n",
      "In ChainOfThoughtMathSolver\n"
     ]
    },
    {
     "name": "stderr",
     "output_type": "stream",
     "text": [
      "CallbackManager.merge(): Parent run IDs do not match. Using the parent run ID of the first callback manager.\n"
     ]
    },
    {
     "name": "stdout",
     "output_type": "stream",
     "text": [
      "In AgentConditionGenerator ,current iteration:  0  max iterations:  2\n",
      "In AgentConditionAnalyzer\n",
      "In AgentAnswerReadyJudge\n",
      "In AgentAnswerReadyJudge\n",
      "In AgentConditionGenerator ,current iteration:  0  max iterations:  2\n",
      "In AgentNumericalStepsGeneration\n",
      "Final Answer: \\boxed{1.0}\n",
      "\n",
      "In AgentMetaMACMController at iteration  2 \n",
      "\n",
      "Completed Tasks: 42/50. Correct: False, Agent Answer: \\boxed{2.0}, Real Answer: \\boxed{1}\n",
      "\n",
      "-----------------------------------\n",
      "\n",
      "In AgentConditionJudge\n",
      "In AgentAnswerReadyJudge\n",
      "In AgentConditionJudge\n",
      "In AgentNumericalStepsGeneration\n"
     ]
    },
    {
     "name": "stderr",
     "output_type": "stream",
     "text": [
      "CallbackManager.merge(): Parent run IDs do not match. Using the parent run ID of the first callback manager.\n"
     ]
    },
    {
     "name": "stdout",
     "output_type": "stream",
     "text": [
      "In AgentConditionAnalyzer\n",
      "In AgentNumericalStepsGeneration\n",
      "In AgentStepsExecutor\n",
      "In AgentConditionGenerator ,current iteration:  0  max iterations:  2\n",
      "In AgentNumericalStepsGeneration\n",
      "In AgentAnswerReadyJudge\n",
      "In AgentStepsExecutor\n",
      "In AgentStepsExecutor\n",
      "In AgentAnswerReadyJudge\n",
      "In AgentStepsExecutor\n",
      "In AgentNumericalStepsGeneration\n",
      "Final Answer: \\boxed{54.0}\n",
      "\n",
      "In AgentMetaMACMController at iteration  2 \n",
      "\n",
      "In ChainOfThoughtMathSolver\n",
      "In AgentStepsExecutor\n",
      "In AgentNumericalStepsGeneration\n",
      "In AgentConditionJudge\n"
     ]
    },
    {
     "name": "stderr",
     "output_type": "stream",
     "text": [
      "CallbackManager.merge(): Parent run IDs do not match. Using the parent run ID of the first callback manager.\n"
     ]
    },
    {
     "name": "stdout",
     "output_type": "stream",
     "text": [
      "Final Answer: \\boxed{11.0}\n",
      "\n",
      "In AgentMetaMACMController at iteration  1 \n",
      "\n",
      "In AgentConditionAnalyzer\n",
      "Final Answer: \\boxed{54.0}\n",
      "\n",
      "In AgentMetaMACMController at iteration  1 \n",
      "\n",
      "In ChainOfThoughtMathSolver\n",
      "Final Answer: \\boxed{4.82842712474619}\n",
      "\n",
      "In AgentMetaMACMController at iteration  2 \n",
      "\n",
      "In ChainOfThoughtMathSolver\n",
      "In AgentStepsExecutor\n",
      "In AgentConditionJudge\n",
      "In AgentConditionGenerator ,current iteration:  0  max iterations:  2\n",
      "Final Answer: \\boxed{36.0}\n",
      "\n",
      "In AgentMetaMACMController at iteration  2 \n",
      "\n",
      "Completed Tasks: 43/50. Correct: False, Agent Answer: \\boxed{54.0}, Real Answer: \\boxed{18^\\circ}\n",
      "\n",
      "-----------------------------------\n",
      "\n",
      "Final Answer: \\boxed{10.0}\n",
      "\n",
      "In AgentMetaMACMController at iteration  1 \n",
      "\n",
      "In ChainOfThoughtMathSolver\n"
     ]
    },
    {
     "name": "stderr",
     "output_type": "stream",
     "text": [
      "CallbackManager.merge(): Parent run IDs do not match. Using the parent run ID of the first callback manager.\n"
     ]
    },
    {
     "name": "stdout",
     "output_type": "stream",
     "text": [
      "Final Answer: \\boxed{563.51}\n",
      "\n",
      "In AgentMetaMACMController at iteration  1 \n",
      "\n",
      "In AgentConditionAnalyzer\n",
      "In AgentAnswerReadyJudge\n",
      "Final Answer: \\boxed{10.0}\n",
      "\n",
      "In AgentMetaMACMController at iteration  2 \n",
      "\n",
      "Completed Tasks: 44/50. Correct: False, Agent Answer: \\boxed{10.0}, Real Answer: \\boxed{(10,3)}\n",
      "\n",
      "-----------------------------------\n",
      "\n",
      "In AgentConditionGenerator ,current iteration:  0  max iterations:  2\n"
     ]
    },
    {
     "name": "stderr",
     "output_type": "stream",
     "text": [
      "CallbackManager.merge(): Parent run IDs do not match. Using the parent run ID of the first callback manager.\n"
     ]
    },
    {
     "name": "stdout",
     "output_type": "stream",
     "text": [
      "Final Answer: \\boxed{11.0}\n",
      "\n",
      "In AgentMetaMACMController at iteration  1 \n",
      "\n",
      "In AgentConditionAnalyzer\n",
      "In AgentNumericalStepsGeneration\n",
      "In AgentAnswerReadyJudge\n"
     ]
    },
    {
     "name": "stderr",
     "output_type": "stream",
     "text": [
      "CallbackManager.merge(): Parent run IDs do not match. Using the parent run ID of the first callback manager.\n"
     ]
    },
    {
     "name": "stdout",
     "output_type": "stream",
     "text": [
      "Final Answer: \\boxed{3.0}\n",
      "\n",
      "In AgentMetaMACMController at iteration  1 \n",
      "\n",
      "In AgentConditionAnalyzer\n",
      "In AgentConditionGenerator ,current iteration:  0  max iterations:  2\n",
      "In AgentStepsExecutor\n",
      "In AgentConditionGenerator ,current iteration:  0  max iterations:  2\n",
      "In AgentConditionJudge\n",
      "In AgentConditionJudge\n",
      "In AgentNumericalStepsGeneration\n",
      "In AgentAnswerReadyJudge\n",
      "In AgentStepsExecutor\n"
     ]
    },
    {
     "name": "stderr",
     "output_type": "stream",
     "text": [
      "CallbackManager.merge(): Parent run IDs do not match. Using the parent run ID of the first callback manager.\n"
     ]
    },
    {
     "name": "stdout",
     "output_type": "stream",
     "text": [
      "Final Answer: \\boxed{2.5}\n",
      "\n",
      "In AgentMetaMACMController at iteration  1 \n",
      "\n",
      "In AgentConditionAnalyzer\n",
      "In AgentAnswerReadyJudge\n",
      "In AgentConditionGenerator ,current iteration:  0  max iterations:  2\n",
      "In AgentNumericalStepsGeneration\n"
     ]
    },
    {
     "name": "stderr",
     "output_type": "stream",
     "text": [
      "CallbackManager.merge(): Parent run IDs do not match. Using the parent run ID of the first callback manager.\n"
     ]
    },
    {
     "name": "stdout",
     "output_type": "stream",
     "text": [
      "Final Answer: \\boxed{2.0}\n",
      "\n",
      "In AgentMetaMACMController at iteration  1 \n",
      "\n",
      "In AgentConditionAnalyzer\n",
      "In AgentConditionJudge\n",
      "In AgentNumericalStepsGeneration\n",
      "In AgentConditionGenerator ,current iteration:  0  max iterations:  2\n",
      "In AgentStepsExecutor\n",
      "In AgentConditionJudge\n",
      "In AgentStepsExecutor\n",
      "In AgentConditionJudge\n",
      "Final Answer: \\boxed{563.51}\n",
      "\n",
      "In AgentMetaMACMController at iteration  2 \n",
      "\n",
      "In ChainOfThoughtMathSolver\n",
      "Final Answer: \\boxed{11.0}\n",
      "\n",
      "In AgentMetaMACMController at iteration  2 \n",
      "\n",
      "In ChainOfThoughtMathSolver\n",
      "In AgentAnswerReadyJudge\n",
      "In AgentAnswerReadyJudge\n",
      "Final Answer: \\boxed{563.51}\n",
      "\n",
      "In AgentMetaMACMController at iteration  1 \n",
      "\n",
      "In ChainOfThoughtMathSolver\n",
      "In AgentAnswerReadyJudge\n",
      "Final Answer: \\boxed{563.51}\n",
      "\n",
      "In AgentMetaMACMController at iteration  2 \n",
      "\n",
      "Completed Tasks: 45/50. Correct: True, Agent Answer: \\boxed{563.51}, Real Answer: \\boxed{563.51}\n",
      "\n",
      "-----------------------------------\n",
      "\n",
      "Final Answer: \\boxed{11.0}\n",
      "\n",
      "In AgentMetaMACMController at iteration  1 \n",
      "\n",
      "In ChainOfThoughtMathSolver\n",
      "In AgentConditionJudge\n",
      "In AgentConditionGenerator ,current iteration:  1  max iterations:  2\n",
      "In AgentConditionGenerator ,current iteration:  1  max iterations:  2\n",
      "In AgentNumericalStepsGeneration\n",
      "Final Answer: \\boxed{11.0}\n",
      "\n",
      "In AgentMetaMACMController at iteration  2 \n",
      "\n",
      "Completed Tasks: 46/50. Correct: True, Agent Answer: \\boxed{11.0}, Real Answer: \\boxed{11}\n",
      "\n",
      "-----------------------------------\n",
      "\n",
      "In AgentStepsExecutor\n",
      "In AgentAnswerReadyJudge\n",
      "Final Answer: \\boxed{2.5}\n",
      "\n",
      "In AgentMetaMACMController at iteration  2 \n",
      "\n",
      "In ChainOfThoughtMathSolver\n",
      "In AgentNumericalStepsGeneration\n",
      "In AgentConditionJudge\n",
      "Final Answer: \\boxed{2.5}\n",
      "\n",
      "In AgentMetaMACMController at iteration  1 \n",
      "\n",
      "In ChainOfThoughtMathSolver\n",
      "In AgentStepsExecutor\n",
      "In AgentConditionJudge\n",
      "Final Answer: \\boxed{2.5}\n",
      "\n",
      "In AgentMetaMACMController at iteration  2 \n",
      "\n",
      "Completed Tasks: 47/50. Correct: False, Agent Answer: \\boxed{2.5}, Real Answer: \\boxed{\\frac{5}{2}}\n",
      "\n",
      "-----------------------------------\n",
      "\n",
      "Final Answer: \\boxed{2.0}\n",
      "\n",
      "In AgentMetaMACMController at iteration  2 \n",
      "\n",
      "In ChainOfThoughtMathSolver\n",
      "In AgentAnswerReadyJudge\n",
      "Final Answer: \\boxed{2.0}\n",
      "\n",
      "In AgentMetaMACMController at iteration  1 \n",
      "\n",
      "In ChainOfThoughtMathSolver\n",
      "In AgentAnswerReadyJudge\n",
      "Final Answer: \\boxed{2.0}\n",
      "\n",
      "In AgentMetaMACMController at iteration  2 \n",
      "\n",
      "Completed Tasks: 48/50. Correct: False, Agent Answer: \\boxed{2.0}, Real Answer: \\boxed{m+2}\n",
      "\n",
      "-----------------------------------\n",
      "\n",
      "In AgentNumericalStepsGeneration\n",
      "In AgentNumericalStepsGeneration\n",
      "In AgentStepsExecutor\n",
      "In AgentStepsExecutor\n",
      "Final Answer: \\boxed{11.0}\n",
      "\n",
      "In AgentMetaMACMController at iteration  2 \n",
      "\n",
      "In ChainOfThoughtMathSolver\n",
      "Final Answer: \\boxed{3.0}\n",
      "\n",
      "In AgentMetaMACMController at iteration  2 \n",
      "\n",
      "In ChainOfThoughtMathSolver\n",
      "Final Answer: \\boxed{11.0}\n",
      "\n",
      "In AgentMetaMACMController at iteration  1 \n",
      "\n",
      "In ChainOfThoughtMathSolver\n",
      "Final Answer: \\boxed{11.0}\n",
      "\n",
      "In AgentMetaMACMController at iteration  2 \n",
      "\n",
      "Completed Tasks: 49/50. Correct: True, Agent Answer: \\boxed{11.0}, Real Answer: \\boxed{11}\n",
      "\n",
      "-----------------------------------\n",
      "\n",
      "Final Answer: \\boxed{-0.75}\n",
      "\n",
      "In AgentMetaMACMController at iteration  1 \n",
      "\n",
      "In ChainOfThoughtMathSolver\n",
      "Final Answer: \\boxed{-0.75}\n",
      "\n",
      "In AgentMetaMACMController at iteration  2 \n",
      "\n",
      "Completed Tasks: 50/50. Correct: False, Agent Answer: \\boxed{3.0}, Real Answer: \\boxed{\\frac{3}{4}, -\\frac{3}{4}}\n",
      "\n",
      "-----------------------------------\n",
      "\n",
      "Correct: 29/50\n",
      "{'score': 58.0, 'test_counts': {'Correct': 29, 'Error': 21}, 'test_counts_by_type': {'Precalculus': {'Correct': 0, 'Error': 3}, 'Geometry': {'Correct': 1, 'Error': 2}, 'Counting & Probability': {'Correct': 1, 'Error': 2}, 'Intermediate Algebra': {'Correct': 2, 'Error': 5}, 'Algebra': {'Correct': 9, 'Error': 4}, 'Number Theory': {'Correct': 6, 'Error': 0}, 'Prealgebra': {'Correct': 10, 'Error': 5}}, 'erratic_problems': {'Precalculus': [1276, 814, 924], 'Geometry': [817, 594], 'Counting & Probability': [57, 575], 'Intermediate Algebra': [2115, 1779, 1020, 150, 1597], 'Algebra': [1911, 2066, 1213, 2762], 'Number Theory': [], 'Prealgebra': [1909, 1418, 1937, 1448, 1328]}, 'tests_results': {'Precalculus': {1276: {'Correct': False, 'Agent Answer': '\\\\boxed{[-2.356194490192345, 2.356194490192345]}', 'Real Answer': '\\\\boxed{\\\\left[ -\\\\frac{\\\\pi}{2}, \\\\frac{\\\\pi}{2} \\\\right]}'}, 814: {'Correct': False, 'Agent Answer': '\\\\boxed{1.7320508075688772}', 'Real Answer': '\\\\boxed{3 \\\\sqrt{3}}'}, 924: {'Correct': False, 'Agent Answer': '\\\\boxed{3.0}', 'Real Answer': '\\\\boxed{\\\\frac{3}{4}, -\\\\frac{3}{4}}'}}, 'Geometry': {171: {'Correct': True, 'Agent Answer': '\\\\boxed{4.0}', 'Real Answer': '\\\\boxed{4}'}, 817: {'Correct': False, 'Agent Answer': '\\\\boxed{7.0}', 'Real Answer': '\\\\boxed{\\\\frac{14}{3}}'}, 594: {'Correct': False, 'Agent Answer': '\\\\boxed{54.0}', 'Real Answer': '\\\\boxed{18^\\\\circ}'}}, 'Counting & Probability': {57: {'Correct': False, 'Agent Answer': '\\\\boxed{0.0769}', 'Real Answer': '\\\\boxed{\\\\frac{1}{13}}'}, 695: {'Correct': True, 'Agent Answer': '\\\\boxed{200.0}', 'Real Answer': '\\\\boxed{200}'}, 575: {'Correct': False, 'Agent Answer': '\\\\boxed{12025.0}', 'Real Answer': '\\\\boxed{15,600}'}}, 'Intermediate Algebra': {1137: {'Correct': True, 'Agent Answer': '\\\\boxed{8.0}', 'Real Answer': '\\\\boxed{8}'}, 2115: {'Correct': False, 'Agent Answer': '\\\\boxed{102.0}', 'Real Answer': '\\\\boxed{203}'}, 1779: {'Correct': False, 'Agent Answer': '\\\\boxed{0.0}', 'Real Answer': '\\\\boxed{15}'}, 1020: {'Correct': False, 'Agent Answer': '\\\\boxed{11, -3 + 6i}', 'Real Answer': '\\\\boxed{-3 + 6i}'}, 150: {'Correct': False, 'Agent Answer': '\\\\boxed{47188.0}', 'Real Answer': '\\\\boxed{49896}'}, 1582: {'Correct': True, 'Agent Answer': '\\\\boxed{1.0}', 'Real Answer': '\\\\boxed{1}'}, 1597: {'Correct': False, 'Agent Answer': '\\\\boxed{10.0}', 'Real Answer': '\\\\boxed{(10,3)}'}}, 'Algebra': {1911: {'Correct': False, 'Agent Answer': '\\\\boxed{2001.0}', 'Real Answer': '\\\\boxed{575}'}, 405: {'Correct': True, 'Agent Answer': '\\\\boxed{2.0}', 'Real Answer': '\\\\boxed{2}'}, 276: {'Correct': True, 'Agent Answer': '\\\\boxed{12.0}', 'Real Answer': '\\\\boxed{12}'}, 1707: {'Correct': True, 'Agent Answer': '\\\\boxed{3.0}', 'Real Answer': '\\\\boxed{3}'}, 455: {'Correct': True, 'Agent Answer': '\\\\boxed{3.0}', 'Real Answer': '\\\\boxed{3}'}, 2066: {'Correct': False, 'Agent Answer': '\\\\boxed{2.0x - 1.0}', 'Real Answer': '\\\\boxed{2x-1}'}, 1213: {'Correct': False, 'Agent Answer': '\\\\boxed{0.2}', 'Real Answer': '\\\\boxed{\\\\dfrac{1}{5}}'}, 1781: {'Correct': True, 'Agent Answer': '\\\\boxed{-3.0}', 'Real Answer': '\\\\boxed{-3}'}, 661: {'Correct': True, 'Agent Answer': '\\\\boxed{36.0}', 'Real Answer': '\\\\boxed{36}'}, 919: {'Correct': True, 'Agent Answer': '\\\\boxed{7.5}', 'Real Answer': '\\\\boxed{7.5}'}, 425: {'Correct': True, 'Agent Answer': '\\\\boxed{-128.0}', 'Real Answer': '\\\\boxed{-128}'}, 2762: {'Correct': False, 'Agent Answer': '\\\\boxed{2.0}', 'Real Answer': '\\\\boxed{1}'}, 636: {'Correct': True, 'Agent Answer': '\\\\boxed{11.0}', 'Real Answer': '\\\\boxed{11}'}}, 'Number Theory': {1218: {'Correct': True, 'Agent Answer': '\\\\boxed{11.0}', 'Real Answer': '\\\\boxed{11}'}, 328: {'Correct': True, 'Agent Answer': '\\\\boxed{6.0}', 'Real Answer': '\\\\boxed{6}'}, 497: {'Correct': True, 'Agent Answer': '\\\\boxed{556.0}', 'Real Answer': '\\\\boxed{556}'}, 252: {'Correct': True, 'Agent Answer': '\\\\boxed{3.0}', 'Real Answer': '\\\\boxed{3}'}, 590: {'Correct': True, 'Agent Answer': '\\\\boxed{19.0}', 'Real Answer': '\\\\boxed{19}'}, 221: {'Correct': True, 'Agent Answer': '\\\\boxed{11.0}', 'Real Answer': '\\\\boxed{11}'}}, 'Prealgebra': {1909: {'Correct': False, 'Agent Answer': '\\\\boxed{180.7484439767048}', 'Real Answer': '\\\\boxed{33\\\\sqrt{30}}'}, 1634: {'Correct': True, 'Agent Answer': '\\\\boxed{-5.0}', 'Real Answer': '\\\\boxed{-5}'}, 1405: {'Correct': True, 'Agent Answer': '\\\\boxed{56.0}', 'Real Answer': '\\\\boxed{56}'}, 1591: {'Correct': True, 'Agent Answer': '\\\\boxed{27.0}', 'Real Answer': '\\\\boxed{27}'}, 1418: {'Correct': False, 'Agent Answer': '\\\\boxed{111111111.0}', 'Real Answer': '\\\\boxed{111, \\\\! 111, \\\\! 111}'}, 1445: {'Correct': True, 'Agent Answer': '\\\\boxed{40.0}', 'Real Answer': '\\\\boxed{40}'}, 807: {'Correct': True, 'Agent Answer': '\\\\boxed{26.0}', 'Real Answer': '\\\\boxed{26}'}, 1233: {'Correct': True, 'Agent Answer': '\\\\boxed{10.0}', 'Real Answer': '\\\\boxed{10}'}, 965: {'Correct': True, 'Agent Answer': '\\\\boxed{135.0}', 'Real Answer': '\\\\boxed{135}'}, 2057: {'Correct': True, 'Agent Answer': '\\\\boxed{90.0}', 'Real Answer': '\\\\boxed{90}'}, 1727: {'Correct': True, 'Agent Answer': '\\\\boxed{18.0}', 'Real Answer': '\\\\boxed{18}'}, 1937: {'Correct': False, 'Agent Answer': '\\\\boxed{140.0}', 'Real Answer': '\\\\boxed{30^\\\\circ}'}, 1123: {'Correct': True, 'Agent Answer': '\\\\boxed{563.51}', 'Real Answer': '\\\\boxed{563.51}'}, 1448: {'Correct': False, 'Agent Answer': '\\\\boxed{2.5}', 'Real Answer': '\\\\boxed{\\\\frac{5}{2}}'}, 1328: {'Correct': False, 'Agent Answer': '\\\\boxed{2.0}', 'Real Answer': '\\\\boxed{m+2}'}}}}\n",
      "{'score': 58.0, 'test_counts': {'Correct': 29, 'Error': 21}, 'test_counts_by_type': {'Precalculus': {'Correct': 0, 'Error': 3}, 'Geometry': {'Correct': 1, 'Error': 2}, 'Counting & Probability': {'Correct': 1, 'Error': 2}, 'Intermediate Algebra': {'Correct': 2, 'Error': 5}, 'Algebra': {'Correct': 9, 'Error': 4}, 'Number Theory': {'Correct': 6, 'Error': 0}, 'Prealgebra': {'Correct': 10, 'Error': 5}}, 'erratic_problems': {'Precalculus': [1276, 814, 924], 'Geometry': [817, 594], 'Counting & Probability': [57, 575], 'Intermediate Algebra': [2115, 1779, 1020, 150, 1597], 'Algebra': [1911, 2066, 1213, 2762], 'Number Theory': [], 'Prealgebra': [1909, 1418, 1937, 1448, 1328]}, 'tests_results': {'Precalculus': {1276: {'Correct': False, 'Agent Answer': '\\\\boxed{[-2.356194490192345, 2.356194490192345]}', 'Real Answer': '\\\\boxed{\\\\left[ -\\\\frac{\\\\pi}{2}, \\\\frac{\\\\pi}{2} \\\\right]}'}, 814: {'Correct': False, 'Agent Answer': '\\\\boxed{1.7320508075688772}', 'Real Answer': '\\\\boxed{3 \\\\sqrt{3}}'}, 924: {'Correct': False, 'Agent Answer': '\\\\boxed{3.0}', 'Real Answer': '\\\\boxed{\\\\frac{3}{4}, -\\\\frac{3}{4}}'}}, 'Geometry': {171: {'Correct': True, 'Agent Answer': '\\\\boxed{4.0}', 'Real Answer': '\\\\boxed{4}'}, 817: {'Correct': False, 'Agent Answer': '\\\\boxed{7.0}', 'Real Answer': '\\\\boxed{\\\\frac{14}{3}}'}, 594: {'Correct': False, 'Agent Answer': '\\\\boxed{54.0}', 'Real Answer': '\\\\boxed{18^\\\\circ}'}}, 'Counting & Probability': {57: {'Correct': False, 'Agent Answer': '\\\\boxed{0.0769}', 'Real Answer': '\\\\boxed{\\\\frac{1}{13}}'}, 695: {'Correct': True, 'Agent Answer': '\\\\boxed{200.0}', 'Real Answer': '\\\\boxed{200}'}, 575: {'Correct': False, 'Agent Answer': '\\\\boxed{12025.0}', 'Real Answer': '\\\\boxed{15,600}'}}, 'Intermediate Algebra': {1137: {'Correct': True, 'Agent Answer': '\\\\boxed{8.0}', 'Real Answer': '\\\\boxed{8}'}, 2115: {'Correct': False, 'Agent Answer': '\\\\boxed{102.0}', 'Real Answer': '\\\\boxed{203}'}, 1779: {'Correct': False, 'Agent Answer': '\\\\boxed{0.0}', 'Real Answer': '\\\\boxed{15}'}, 1020: {'Correct': False, 'Agent Answer': '\\\\boxed{11, -3 + 6i}', 'Real Answer': '\\\\boxed{-3 + 6i}'}, 150: {'Correct': False, 'Agent Answer': '\\\\boxed{47188.0}', 'Real Answer': '\\\\boxed{49896}'}, 1582: {'Correct': True, 'Agent Answer': '\\\\boxed{1.0}', 'Real Answer': '\\\\boxed{1}'}, 1597: {'Correct': False, 'Agent Answer': '\\\\boxed{10.0}', 'Real Answer': '\\\\boxed{(10,3)}'}}, 'Algebra': {1911: {'Correct': False, 'Agent Answer': '\\\\boxed{2001.0}', 'Real Answer': '\\\\boxed{575}'}, 405: {'Correct': True, 'Agent Answer': '\\\\boxed{2.0}', 'Real Answer': '\\\\boxed{2}'}, 276: {'Correct': True, 'Agent Answer': '\\\\boxed{12.0}', 'Real Answer': '\\\\boxed{12}'}, 1707: {'Correct': True, 'Agent Answer': '\\\\boxed{3.0}', 'Real Answer': '\\\\boxed{3}'}, 455: {'Correct': True, 'Agent Answer': '\\\\boxed{3.0}', 'Real Answer': '\\\\boxed{3}'}, 2066: {'Correct': False, 'Agent Answer': '\\\\boxed{2.0x - 1.0}', 'Real Answer': '\\\\boxed{2x-1}'}, 1213: {'Correct': False, 'Agent Answer': '\\\\boxed{0.2}', 'Real Answer': '\\\\boxed{\\\\dfrac{1}{5}}'}, 1781: {'Correct': True, 'Agent Answer': '\\\\boxed{-3.0}', 'Real Answer': '\\\\boxed{-3}'}, 661: {'Correct': True, 'Agent Answer': '\\\\boxed{36.0}', 'Real Answer': '\\\\boxed{36}'}, 919: {'Correct': True, 'Agent Answer': '\\\\boxed{7.5}', 'Real Answer': '\\\\boxed{7.5}'}, 425: {'Correct': True, 'Agent Answer': '\\\\boxed{-128.0}', 'Real Answer': '\\\\boxed{-128}'}, 2762: {'Correct': False, 'Agent Answer': '\\\\boxed{2.0}', 'Real Answer': '\\\\boxed{1}'}, 636: {'Correct': True, 'Agent Answer': '\\\\boxed{11.0}', 'Real Answer': '\\\\boxed{11}'}}, 'Number Theory': {1218: {'Correct': True, 'Agent Answer': '\\\\boxed{11.0}', 'Real Answer': '\\\\boxed{11}'}, 328: {'Correct': True, 'Agent Answer': '\\\\boxed{6.0}', 'Real Answer': '\\\\boxed{6}'}, 497: {'Correct': True, 'Agent Answer': '\\\\boxed{556.0}', 'Real Answer': '\\\\boxed{556}'}, 252: {'Correct': True, 'Agent Answer': '\\\\boxed{3.0}', 'Real Answer': '\\\\boxed{3}'}, 590: {'Correct': True, 'Agent Answer': '\\\\boxed{19.0}', 'Real Answer': '\\\\boxed{19}'}, 221: {'Correct': True, 'Agent Answer': '\\\\boxed{11.0}', 'Real Answer': '\\\\boxed{11}'}}, 'Prealgebra': {1909: {'Correct': False, 'Agent Answer': '\\\\boxed{180.7484439767048}', 'Real Answer': '\\\\boxed{33\\\\sqrt{30}}'}, 1634: {'Correct': True, 'Agent Answer': '\\\\boxed{-5.0}', 'Real Answer': '\\\\boxed{-5}'}, 1405: {'Correct': True, 'Agent Answer': '\\\\boxed{56.0}', 'Real Answer': '\\\\boxed{56}'}, 1591: {'Correct': True, 'Agent Answer': '\\\\boxed{27.0}', 'Real Answer': '\\\\boxed{27}'}, 1418: {'Correct': False, 'Agent Answer': '\\\\boxed{111111111.0}', 'Real Answer': '\\\\boxed{111, \\\\! 111, \\\\! 111}'}, 1445: {'Correct': True, 'Agent Answer': '\\\\boxed{40.0}', 'Real Answer': '\\\\boxed{40}'}, 807: {'Correct': True, 'Agent Answer': '\\\\boxed{26.0}', 'Real Answer': '\\\\boxed{26}'}, 1233: {'Correct': True, 'Agent Answer': '\\\\boxed{10.0}', 'Real Answer': '\\\\boxed{10}'}, 965: {'Correct': True, 'Agent Answer': '\\\\boxed{135.0}', 'Real Answer': '\\\\boxed{135}'}, 2057: {'Correct': True, 'Agent Answer': '\\\\boxed{90.0}', 'Real Answer': '\\\\boxed{90}'}, 1727: {'Correct': True, 'Agent Answer': '\\\\boxed{18.0}', 'Real Answer': '\\\\boxed{18}'}, 1937: {'Correct': False, 'Agent Answer': '\\\\boxed{140.0}', 'Real Answer': '\\\\boxed{30^\\\\circ}'}, 1123: {'Correct': True, 'Agent Answer': '\\\\boxed{563.51}', 'Real Answer': '\\\\boxed{563.51}'}, 1448: {'Correct': False, 'Agent Answer': '\\\\boxed{2.5}', 'Real Answer': '\\\\boxed{\\\\frac{5}{2}}'}, 1328: {'Correct': False, 'Agent Answer': '\\\\boxed{2.0}', 'Real Answer': '\\\\boxed{m+2}'}}}}\n"
     ]
    }
   ],
   "source": [
    "# math_problems = math_data_loader.get_random_problems(n_problems=100)\n",
    "# math_problems_2 = math_data_loader.get_random_problems(n_problems=50)\n",
    "math_problems = math_data_loader.load_problems(constants.MATH_RANDOM_PROBLEM_EVAL_DIR)\n",
    "print(f'Math Problems to Evaluate: {[p.get_id() for p in math_problems]}')\n",
    "results = math_data_loader.test_math_parallel(multi_macm, math_problems, max_workers=8)\n",
    "print(results)\n",
    "math_data_loader.save_results(results, constants.MATH_MULTI_MACM_EVAL_DIR)"
   ]
  },
  {
   "cell_type": "markdown",
   "metadata": {},
   "source": [
    "### LangChain Meta-MACM"
   ]
  },
  {
   "cell_type": "code",
   "execution_count": 11,
   "metadata": {},
   "outputs": [
    {
     "data": {
      "image/jpeg": "[encoded data removed]",
      "text/plain": [
       "<IPython.core.display.Image object>"
      ]
     },
     "metadata": {},
     "output_type": "display_data"
    }
   ],
   "source": [
    "from langgraphs.meta_macm import get_meta_macm_graph\n",
    "from IPython.display import Image, display\n",
    "\n",
    "graph = get_meta_macm_graph()\n",
    "app = graph.compile()\n",
    "display(Image(app.get_graph(xray=True).draw_mermaid_png())) \n",
    "\n",
    "def meta_macm(math_problem):\n",
    "    graph = get_meta_macm_graph()\n",
    "    app = graph.compile()\n",
    "    \n",
    "    config = {\"recursion_limit\": 50}\n",
    "    inputs = {\n",
    "        \"math_problem\": math_problem,\n",
    "        \"max_iterations\": 5,\n",
    "        \"current_iterations\": 0,\n",
    "        \"verified_conditions\": [],\n",
    "        \"unverified_conditions\": [],\n",
    "        \"objectives\": [],\n",
    "        \"steps\": [],\n",
    "        \"final_answer\": None, \n",
    "        \"final_answers\": {},\n",
    "        \"current_meta_iterations\": 0,\n",
    "        \"n_multi_agent_iterations\": 3, \n",
    "        \"multi_agent_completed\": False,\n",
    "        \"passed_tests_threshold\": 0.7, \n",
    "    }\n",
    "\n",
    "    for event in app.stream(inputs, config=config):\n",
    "        pass\n",
    "        # print_dict(event)\n",
    "    \n",
    "    last_event_name = list(event.keys())[0]\n",
    "    final_answer = event[last_event_name]['final_answer']\n",
    "    return final_answer"
   ]
  },
  {
   "cell_type": "markdown",
   "metadata": {},
   "source": [
    "#### Single Problem"
   ]
  },
  {
   "cell_type": "code",
   "execution_count": 14,
   "metadata": {},
   "outputs": [
    {
     "name": "stdout",
     "output_type": "stream",
     "text": [
      "Find $g(x)$, with terms in order of decreasing degree, if we have that \\[8x^4-7x^2+8x-7+g(x)=x + 1.\\]\n",
      "\\boxed{-8 x^4+7x^2-7x+8}\n"
     ]
    }
   ],
   "source": [
    "random_problem = math_data_loader.get_random_problem(level=3)\n",
    "\n",
    "print(random_problem.problem_statement)\n",
    "print(random_problem.answer)"
   ]
  },
  {
   "cell_type": "code",
   "execution_count": null,
   "metadata": {},
   "outputs": [],
   "source": [
    "response = meta_macm(random_problem)\n",
    "print(response)\n",
    "random_problem.is_correct_answer(response, verbose=True)"
   ]
  },
  {
   "cell_type": "markdown",
   "metadata": {},
   "source": [
    "#### Multiple Problems in Parallel"
   ]
  },
  {
   "cell_type": "code",
   "execution_count": null,
   "metadata": {},
   "outputs": [],
   "source": [
    "# math_problems = math_data_loader.get_random_problems(n_problems=3)\n",
    "# math_problems_2 = math_data_loader.get_random_problems(n_problems=3)\n",
    "math_problems = math_data_loader.load_problems(constants.MATH_RANDOM_PROBLEM_EVAL_DIR)\n",
    "print(f'Math Problems to Evaluate: {[p.get_id() for p in math_problems]}')\n",
    "results = math_data_loader.test_math_parallel(meta_macm, math_problems, max_workers=8)\n",
    "print(results)\n",
    "math_data_loader.save_results(results, constants.MATH_META_MACM_EVAL_DIR)"
   ]
  },
  {
   "cell_type": "markdown",
   "metadata": {},
   "source": [
    "### Plotting Results"
   ]
  },
  {
   "cell_type": "markdown",
   "metadata": {},
   "source": [
    "#### Radar Plot"
   ]
  },
  {
   "cell_type": "code",
   "execution_count": 23,
   "metadata": {},
   "outputs": [
    {
     "data": {
      "application/vnd.plotly.v1+json": {
       "config": {
        "plotlyServerURL": "https://plot.ly"
       },
       "data": [
        {
         "fill": "toself",
         "line": {
          "color": "blue"
         },
         "name": "Single Agent",
         "r": [
          0,
          33.33333333333333,
          33.33333333333333,
          28.57142857142857,
          69.23076923076923,
          83.33333333333334,
          53.333333333333336,
          0
         ],
         "theta": [
          "Precalculus",
          "Geometry",
          "Counting & Probability",
          "Intermediate Algebra",
          "Algebra",
          "Number Theory",
          "Prealgebra",
          "Precalculus"
         ],
         "type": "scatterpolar"
        },
        {
         "fill": "toself",
         "line": {
          "color": "brown"
         },
         "name": "MACM",
         "r": [
          0,
          33.33333333333333,
          33.33333333333333,
          28.57142857142857,
          69.23076923076923,
          100,
          66.66666666666666,
          0
         ],
         "theta": [
          "Precalculus",
          "Geometry",
          "Counting & Probability",
          "Intermediate Algebra",
          "Algebra",
          "Number Theory",
          "Prealgebra",
          "Precalculus"
         ],
         "type": "scatterpolar"
        },
        {
         "fill": "toself",
         "line": {
          "color": "orange"
         },
         "name": "Meta MACM",
         "r": [
          0,
          33.33333333333333,
          33.33333333333333,
          42.857142857142854,
          76.92307692307693,
          100,
          66.66666666666666,
          0
         ],
         "theta": [
          "Precalculus",
          "Geometry",
          "Counting & Probability",
          "Intermediate Algebra",
          "Algebra",
          "Number Theory",
          "Prealgebra",
          "Precalculus"
         ],
         "type": "scatterpolar"
        }
       ],
       "layout": {
        "polar": {
         "radialaxis": {
          "range": [
           0,
           100
          ],
          "visible": true
         }
        },
        "showlegend": true,
        "template": {
         "data": {
          "bar": [
           {
            "error_x": {
             "color": "#2a3f5f"
            },
            "error_y": {
             "color": "#2a3f5f"
            },
            "marker": {
             "line": {
              "color": "#E5ECF6",
              "width": 0.5
             },
             "pattern": {
              "fillmode": "overlay",
              "size": 10,
              "solidity": 0.2
             }
            },
            "type": "bar"
           }
          ],
          "barpolar": [
           {
            "marker": {
             "line": {
              "color": "#E5ECF6",
              "width": 0.5
             },
             "pattern": {
              "fillmode": "overlay",
              "size": 10,
              "solidity": 0.2
             }
            },
            "type": "barpolar"
           }
          ],
          "carpet": [
           {
            "aaxis": {
             "endlinecolor": "#2a3f5f",
             "gridcolor": "white",
             "linecolor": "white",
             "minorgridcolor": "white",
             "startlinecolor": "#2a3f5f"
            },
            "baxis": {
             "endlinecolor": "#2a3f5f",
             "gridcolor": "white",
             "linecolor": "white",
             "minorgridcolor": "white",
             "startlinecolor": "#2a3f5f"
            },
            "type": "carpet"
           }
          ],
          "choropleth": [
           {
            "colorbar": {
             "outlinewidth": 0,
             "ticks": ""
            },
            "type": "choropleth"
           }
          ],
          "contour": [
           {
            "colorbar": {
             "outlinewidth": 0,
             "ticks": ""
            },
            "colorscale": [
             [
              0,
              "#0d0887"
             ],
             [
              0.1111111111111111,
              "#46039f"
             ],
             [
              0.2222222222222222,
              "#7201a8"
             ],
             [
              0.3333333333333333,
              "#9c179e"
             ],
             [
              0.4444444444444444,
              "#bd3786"
             ],
             [
              0.5555555555555556,
              "#d8576b"
             ],
             [
              0.6666666666666666,
              "#ed7953"
             ],
             [
              0.7777777777777778,
              "#fb9f3a"
             ],
             [
              0.8888888888888888,
              "#fdca26"
             ],
             [
              1,
              "#f0f921"
             ]
            ],
            "type": "contour"
           }
          ],
          "contourcarpet": [
           {
            "colorbar": {
             "outlinewidth": 0,
             "ticks": ""
            },
            "type": "contourcarpet"
           }
          ],
          "heatmap": [
           {
            "colorbar": {
             "outlinewidth": 0,
             "ticks": ""
            },
            "colorscale": [
             [
              0,
              "#0d0887"
             ],
             [
              0.1111111111111111,
              "#46039f"
             ],
             [
              0.2222222222222222,
              "#7201a8"
             ],
             [
              0.3333333333333333,
              "#9c179e"
             ],
             [
              0.4444444444444444,
              "#bd3786"
             ],
             [
              0.5555555555555556,
              "#d8576b"
             ],
             [
              0.6666666666666666,
              "#ed7953"
             ],
             [
              0.7777777777777778,
              "#fb9f3a"
             ],
             [
              0.8888888888888888,
              "#fdca26"
             ],
             [
              1,
              "#f0f921"
             ]
            ],
            "type": "heatmap"
           }
          ],
          "heatmapgl": [
           {
            "colorbar": {
             "outlinewidth": 0,
             "ticks": ""
            },
            "colorscale": [
             [
              0,
              "#0d0887"
             ],
             [
              0.1111111111111111,
              "#46039f"
             ],
             [
              0.2222222222222222,
              "#7201a8"
             ],
             [
              0.3333333333333333,
              "#9c179e"
             ],
             [
              0.4444444444444444,
              "#bd3786"
             ],
             [
              0.5555555555555556,
              "#d8576b"
             ],
             [
              0.6666666666666666,
              "#ed7953"
             ],
             [
              0.7777777777777778,
              "#fb9f3a"
             ],
             [
              0.8888888888888888,
              "#fdca26"
             ],
             [
              1,
              "#f0f921"
             ]
            ],
            "type": "heatmapgl"
           }
          ],
          "histogram": [
           {
            "marker": {
             "pattern": {
              "fillmode": "overlay",
              "size": 10,
              "solidity": 0.2
             }
            },
            "type": "histogram"
           }
          ],
          "histogram2d": [
           {
            "colorbar": {
             "outlinewidth": 0,
             "ticks": ""
            },
            "colorscale": [
             [
              0,
              "#0d0887"
             ],
             [
              0.1111111111111111,
              "#46039f"
             ],
             [
              0.2222222222222222,
              "#7201a8"
             ],
             [
              0.3333333333333333,
              "#9c179e"
             ],
             [
              0.4444444444444444,
              "#bd3786"
             ],
             [
              0.5555555555555556,
              "#d8576b"
             ],
             [
              0.6666666666666666,
              "#ed7953"
             ],
             [
              0.7777777777777778,
              "#fb9f3a"
             ],
             [
              0.8888888888888888,
              "#fdca26"
             ],
             [
              1,
              "#f0f921"
             ]
            ],
            "type": "histogram2d"
           }
          ],
          "histogram2dcontour": [
           {
            "colorbar": {
             "outlinewidth": 0,
             "ticks": ""
            },
            "colorscale": [
             [
              0,
              "#0d0887"
             ],
             [
              0.1111111111111111,
              "#46039f"
             ],
             [
              0.2222222222222222,
              "#7201a8"
             ],
             [
              0.3333333333333333,
              "#9c179e"
             ],
             [
              0.4444444444444444,
              "#bd3786"
             ],
             [
              0.5555555555555556,
              "#d8576b"
             ],
             [
              0.6666666666666666,
              "#ed7953"
             ],
             [
              0.7777777777777778,
              "#fb9f3a"
             ],
             [
              0.8888888888888888,
              "#fdca26"
             ],
             [
              1,
              "#f0f921"
             ]
            ],
            "type": "histogram2dcontour"
           }
          ],
          "mesh3d": [
           {
            "colorbar": {
             "outlinewidth": 0,
             "ticks": ""
            },
            "type": "mesh3d"
           }
          ],
          "parcoords": [
           {
            "line": {
             "colorbar": {
              "outlinewidth": 0,
              "ticks": ""
             }
            },
            "type": "parcoords"
           }
          ],
          "pie": [
           {
            "automargin": true,
            "type": "pie"
           }
          ],
          "scatter": [
           {
            "fillpattern": {
             "fillmode": "overlay",
             "size": 10,
             "solidity": 0.2
            },
            "type": "scatter"
           }
          ],
          "scatter3d": [
           {
            "line": {
             "colorbar": {
              "outlinewidth": 0,
              "ticks": ""
             }
            },
            "marker": {
             "colorbar": {
              "outlinewidth": 0,
              "ticks": ""
             }
            },
            "type": "scatter3d"
           }
          ],
          "scattercarpet": [
           {
            "marker": {
             "colorbar": {
              "outlinewidth": 0,
              "ticks": ""
             }
            },
            "type": "scattercarpet"
           }
          ],
          "scattergeo": [
           {
            "marker": {
             "colorbar": {
              "outlinewidth": 0,
              "ticks": ""
             }
            },
            "type": "scattergeo"
           }
          ],
          "scattergl": [
           {
            "marker": {
             "colorbar": {
              "outlinewidth": 0,
              "ticks": ""
             }
            },
            "type": "scattergl"
           }
          ],
          "scattermapbox": [
           {
            "marker": {
             "colorbar": {
              "outlinewidth": 0,
              "ticks": ""
             }
            },
            "type": "scattermapbox"
           }
          ],
          "scatterpolar": [
           {
            "marker": {
             "colorbar": {
              "outlinewidth": 0,
              "ticks": ""
             }
            },
            "type": "scatterpolar"
           }
          ],
          "scatterpolargl": [
           {
            "marker": {
             "colorbar": {
              "outlinewidth": 0,
              "ticks": ""
             }
            },
            "type": "scatterpolargl"
           }
          ],
          "scatterternary": [
           {
            "marker": {
             "colorbar": {
              "outlinewidth": 0,
              "ticks": ""
             }
            },
            "type": "scatterternary"
           }
          ],
          "surface": [
           {
            "colorbar": {
             "outlinewidth": 0,
             "ticks": ""
            },
            "colorscale": [
             [
              0,
              "#0d0887"
             ],
             [
              0.1111111111111111,
              "#46039f"
             ],
             [
              0.2222222222222222,
              "#7201a8"
             ],
             [
              0.3333333333333333,
              "#9c179e"
             ],
             [
              0.4444444444444444,
              "#bd3786"
             ],
             [
              0.5555555555555556,
              "#d8576b"
             ],
             [
              0.6666666666666666,
              "#ed7953"
             ],
             [
              0.7777777777777778,
              "#fb9f3a"
             ],
             [
              0.8888888888888888,
              "#fdca26"
             ],
             [
              1,
              "#f0f921"
             ]
            ],
            "type": "surface"
           }
          ],
          "table": [
           {
            "cells": {
             "fill": {
              "color": "#EBF0F8"
             },
             "line": {
              "color": "white"
             }
            },
            "header": {
             "fill": {
              "color": "#C8D4E3"
             },
             "line": {
              "color": "white"
             }
            },
            "type": "table"
           }
          ]
         },
         "layout": {
          "annotationdefaults": {
           "arrowcolor": "#2a3f5f",
           "arrowhead": 0,
           "arrowwidth": 1
          },
          "autotypenumbers": "strict",
          "coloraxis": {
           "colorbar": {
            "outlinewidth": 0,
            "ticks": ""
           }
          },
          "colorscale": {
           "diverging": [
            [
             0,
             "#8e0152"
            ],
            [
             0.1,
             "#c51b7d"
            ],
            [
             0.2,
             "#de77ae"
            ],
            [
             0.3,
             "#f1b6da"
            ],
            [
             0.4,
             "#fde0ef"
            ],
            [
             0.5,
             "#f7f7f7"
            ],
            [
             0.6,
             "#e6f5d0"
            ],
            [
             0.7,
             "#b8e186"
            ],
            [
             0.8,
             "#7fbc41"
            ],
            [
             0.9,
             "#4d9221"
            ],
            [
             1,
             "#276419"
            ]
           ],
           "sequential": [
            [
             0,
             "#0d0887"
            ],
            [
             0.1111111111111111,
             "#46039f"
            ],
            [
             0.2222222222222222,
             "#7201a8"
            ],
            [
             0.3333333333333333,
             "#9c179e"
            ],
            [
             0.4444444444444444,
             "#bd3786"
            ],
            [
             0.5555555555555556,
             "#d8576b"
            ],
            [
             0.6666666666666666,
             "#ed7953"
            ],
            [
             0.7777777777777778,
             "#fb9f3a"
            ],
            [
             0.8888888888888888,
             "#fdca26"
            ],
            [
             1,
             "#f0f921"
            ]
           ],
           "sequentialminus": [
            [
             0,
             "#0d0887"
            ],
            [
             0.1111111111111111,
             "#46039f"
            ],
            [
             0.2222222222222222,
             "#7201a8"
            ],
            [
             0.3333333333333333,
             "#9c179e"
            ],
            [
             0.4444444444444444,
             "#bd3786"
            ],
            [
             0.5555555555555556,
             "#d8576b"
            ],
            [
             0.6666666666666666,
             "#ed7953"
            ],
            [
             0.7777777777777778,
             "#fb9f3a"
            ],
            [
             0.8888888888888888,
             "#fdca26"
            ],
            [
             1,
             "#f0f921"
            ]
           ]
          },
          "colorway": [
           "#636efa",
           "#EF553B",
           "#00cc96",
           "#ab63fa",
           "#FFA15A",
           "#19d3f3",
           "#FF6692",
           "#B6E880",
           "#FF97FF",
           "#FECB52"
          ],
          "font": {
           "color": "#2a3f5f"
          },
          "geo": {
           "bgcolor": "white",
           "lakecolor": "white",
           "landcolor": "#E5ECF6",
           "showlakes": true,
           "showland": true,
           "subunitcolor": "white"
          },
          "hoverlabel": {
           "align": "left"
          },
          "hovermode": "closest",
          "mapbox": {
           "style": "light"
          },
          "paper_bgcolor": "white",
          "plot_bgcolor": "#E5ECF6",
          "polar": {
           "angularaxis": {
            "gridcolor": "white",
            "linecolor": "white",
            "ticks": ""
           },
           "bgcolor": "#E5ECF6",
           "radialaxis": {
            "gridcolor": "white",
            "linecolor": "white",
            "ticks": ""
           }
          },
          "scene": {
           "xaxis": {
            "backgroundcolor": "#E5ECF6",
            "gridcolor": "white",
            "gridwidth": 2,
            "linecolor": "white",
            "showbackground": true,
            "ticks": "",
            "zerolinecolor": "white"
           },
           "yaxis": {
            "backgroundcolor": "#E5ECF6",
            "gridcolor": "white",
            "gridwidth": 2,
            "linecolor": "white",
            "showbackground": true,
            "ticks": "",
            "zerolinecolor": "white"
           },
           "zaxis": {
            "backgroundcolor": "#E5ECF6",
            "gridcolor": "white",
            "gridwidth": 2,
            "linecolor": "white",
            "showbackground": true,
            "ticks": "",
            "zerolinecolor": "white"
           }
          },
          "shapedefaults": {
           "line": {
            "color": "#2a3f5f"
           }
          },
          "ternary": {
           "aaxis": {
            "gridcolor": "white",
            "linecolor": "white",
            "ticks": ""
           },
           "baxis": {
            "gridcolor": "white",
            "linecolor": "white",
            "ticks": ""
           },
           "bgcolor": "#E5ECF6",
           "caxis": {
            "gridcolor": "white",
            "linecolor": "white",
            "ticks": ""
           }
          },
          "title": {
           "x": 0.05
          },
          "xaxis": {
           "automargin": true,
           "gridcolor": "white",
           "linecolor": "white",
           "ticks": "",
           "title": {
            "standoff": 15
           },
           "zerolinecolor": "white",
           "zerolinewidth": 2
          },
          "yaxis": {
           "automargin": true,
           "gridcolor": "white",
           "linecolor": "white",
           "ticks": "",
           "title": {
            "standoff": 15
           },
           "zerolinecolor": "white",
           "zerolinewidth": 2
          }
         }
        },
        "title": {
         "text": "Comparison of Performance by Category"
        }
       }
      }
     },
     "metadata": {},
     "output_type": "display_data"
    }
   ],
   "source": [
    "import json\n",
    "import plotly.graph_objects as go\n",
    "\n",
    "def process_json(file_path):\n",
    "    \"\"\"\n",
    "    Reads a JSON file and calculates the percentage of correct answers for each category.\n",
    "    \n",
    "    Parameters:\n",
    "    file_path (str): The path to the JSON file.\n",
    "    \n",
    "    Returns:\n",
    "    tuple: A tuple containing a list of categories and a list of percentages for correct answers.\n",
    "    \"\"\"\n",
    "    with open(file_path, 'r') as file:\n",
    "        data = json.load(file)\n",
    "    \n",
    "    categories = list(data['test_counts_by_type'].keys())\n",
    "    correct_counts = [data['test_counts_by_type'][category][\"Correct\"] for category in categories]\n",
    "    error_counts = [data['test_counts_by_type'][category][\"Error\"] for category in categories]\n",
    "    \n",
    "    total_counts = [correct + error for correct, error in zip(correct_counts, error_counts)]\n",
    "    percentages = [correct / total * 100 if total != 0 else 0 for correct, total in zip(correct_counts, total_counts)]\n",
    "    \n",
    "    return categories, percentages\n",
    "\n",
    "def plot_radar_chart_from_jsons(json_files, labels, colors):\n",
    "    \"\"\"\n",
    "    Plots a radar chart for multiple JSON files comparing performance by category.\n",
    "    \n",
    "    Parameters:\n",
    "    json_files (list of str): A list of paths to the JSON files.\n",
    "    labels (list of str): A list of labels for each dataset.\n",
    "    colors (list of str): A list of colors for each dataset.\n",
    "    \"\"\"\n",
    "    fig = go.Figure()\n",
    "\n",
    "    # Assuming all JSONs have the same categories, we use the categories from the first file\n",
    "    categories, _ = process_json(json_files[0])\n",
    "    categories += [categories[0]]  # Closing the loop\n",
    "    \n",
    "    for file_path, label, color in zip(json_files, labels, colors):\n",
    "        _, percentages = process_json(file_path)\n",
    "        percentages += percentages[:1]  # Closing the loop\n",
    "        \n",
    "        fig.add_trace(go.Scatterpolar(\n",
    "            r=percentages,\n",
    "            theta=categories,\n",
    "            fill='toself',\n",
    "            name=label,\n",
    "            line=dict(color=color)\n",
    "        ))\n",
    "\n",
    "    # Customize the layout\n",
    "    fig.update_layout(\n",
    "        polar=dict(\n",
    "            radialaxis=dict(\n",
    "                visible=True,\n",
    "                range=[0, 100]\n",
    "            )\n",
    "        ),\n",
    "        showlegend=True,\n",
    "        title=\"Comparison of Performance by Category\"\n",
    "    )\n",
    "\n",
    "    # Show the plot\n",
    "    fig.show()\n",
    "\n",
    "base_directory =  constants.RESULTS_DIR + \"math/\" + \"gpt-4o-run-1/\"  # Update this to your base directory\n",
    "json_files = [\n",
    "    base_directory + \"single_agent/results.json\",\n",
    "    base_directory + \"multi_macm/results.json\",\n",
    "    base_directory + \"meta_macm/results.json\"\n",
    "]\n",
    "labels = ['Single Agent', 'MACM', 'Meta MACM']\n",
    "colors = ['blue', 'brown', 'orange']\n",
    "\n",
    "plot_radar_chart_from_jsons(json_files, labels, colors)\n"
   ]
  },
  {
   "cell_type": "markdown",
   "metadata": {},
   "source": [
    "#### Simple Bar Plot"
   ]
  },
  {
   "cell_type": "code",
   "execution_count": 50,
   "metadata": {},
   "outputs": [
    {
     "data": {
      "image/png": "[encoded data removed]",
      "text/plain": [
       "<Figure size 700x500 with 1 Axes>"
      ]
     },
     "metadata": {},
     "output_type": "display_data"
    }
   ],
   "source": [
    "import json\n",
    "import matplotlib.pyplot as plt\n",
    "import numpy as np\n",
    "\n",
    "def plot_scores_from_jsons(base_directories, models, architectures, architecture_names, colors):\n",
    "    \"\"\"\n",
    "    Plots a bar chart for the scores extracted from multiple JSON files for different models and architectures.\n",
    "    \n",
    "    Parameters:\n",
    "    base_directories (list of str): A list of base directories corresponding to different models.\n",
    "    models (list of str): A list of model names to be used as x-axis labels.\n",
    "    architectures (list of str): A list of architecture names to be used in the legend.\n",
    "    colors (list of str): A list of colors for each architecture.\n",
    "    \"\"\"\n",
    "    scores = {arch: [] for arch in architectures}\n",
    "\n",
    "    # Extract the score from each JSON file for each model and architecture\n",
    "    for base_directory in base_directories:\n",
    "        for arch, color in zip(architectures, colors):\n",
    "            file_path = f\"{base_directory}/{arch}/results.json\"\n",
    "            with open(file_path, 'r') as file:\n",
    "                data = json.load(file)\n",
    "                scores[arch].append(data['score'])\n",
    "\n",
    "    # Create the bar plot\n",
    "    x = np.arange(len(models))  # the label locations\n",
    "    width = 0.1  # the width of the bars\n",
    "\n",
    "    fig, ax = plt.subplots(figsize=(7, 5))\n",
    "    \n",
    "    # Plot each architecture's scores\n",
    "    for i, arch in enumerate(architectures):\n",
    "        ax.bar(x + i*width, scores[arch], width, label=architecture_names[arch], color=colors[i])\n",
    "\n",
    "    # Set the y-axis limits\n",
    "    plt.ylim(0, 100)\n",
    "\n",
    "    # Add labels and title\n",
    "    ax.set_xlabel('Models')\n",
    "    ax.set_ylabel('Accuracy (%)')\n",
    "    ax.set_title('MATH Scores for Different Multi-Agent Architectures')\n",
    "    ax.set_xticks(x + width)\n",
    "    ax.set_xticklabels(models)\n",
    "\n",
    "    # Add legend\n",
    "    ax.legend(title=\"Architectures\")\n",
    "\n",
    "    # Show the plot\n",
    "    plt.show()\n",
    "\n",
    "# Example usage\n",
    "base_directories = [\n",
    "    constants.RESULTS_DIR + \"math/\" + \"gpt-4o-mini-run-1\",\n",
    "    constants.RESULTS_DIR + \"math/\" + \"gpt-4o-run-1\",\n",
    "]\n",
    "models = ['gpt-4o-mini', 'gpt-4o']\n",
    "architectures = ['single_agent', 'multi_macm', 'meta_macm']\n",
    "architecture_names = {'single_agent': 'Single Agent', 'multi_macm': 'MACM', 'meta_macm': 'Meta MACM'}\n",
    "colors = ['blue', 'orange', 'green']\n",
    "\n",
    "plot_scores_from_jsons(base_directories, models, architectures, architecture_names, colors)\n"
   ]
  }
 ],
 "metadata": {
  "kernelspec": {
   "display_name": "ai",
   "language": "python",
   "name": "ai"
  },
  "language_info": {
   "codemirror_mode": {
    "name": "ipython",
    "version": 3
   },
   "file_extension": ".py",
   "mimetype": "text/x-python",
   "name": "python",
   "nbconvert_exporter": "python",
   "pygments_lexer": "ipython3",
   "version": "3.10.12"
  }
 },
 "nbformat": 4,
 "nbformat_minor": 2
}
