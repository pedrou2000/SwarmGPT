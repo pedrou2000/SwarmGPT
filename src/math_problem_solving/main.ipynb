{
 "cells": [
  {
   "cell_type": "markdown",
   "metadata": {},
   "source": [
    "### Imports"
   ]
  },
  {
   "cell_type": "code",
   "execution_count": 1,
   "metadata": {},
   "outputs": [],
   "source": [
    "%load_ext autoreload\n",
    "%autoreload 2\n",
    "\n",
    "import sys, os\n",
    "sys.path.append(os.path.dirname(os.getcwd()))\n",
    "sys.path.append(os.getcwd())\n",
    "\n",
    "import constants"
   ]
  },
  {
   "cell_type": "markdown",
   "metadata": {},
   "source": [
    "### Testing the MATH Dataset"
   ]
  },
  {
   "cell_type": "code",
   "execution_count": 2,
   "metadata": {},
   "outputs": [
    {
     "name": "stdout",
     "output_type": "stream",
     "text": [
      "Loaded 5000 math problems from 7 problem types\n",
      "MATH problem number 1098 of type Precalculus with level 5 and answer \\boxed{11}.\n",
      "The matrix\n",
      "\\[\\mathbf{A} = \\begin{pmatrix} 4 & 7 \\\\ c & d \\end{pmatrix}\\]has the property that if you are told the value of $\\|\\mathbf{v}\\|,$ then you can derive the value of $\\|\\mathbf{A} \\mathbf{v}\\|.$  Compute $|c - d|,$ assuming that $c$ and $d$ are real numbers.\n",
      "In ChainOfThoughtMathSolver\n",
      "To solve the problem, we need to ensure that the matrix \\(\\mathbf{A}\\) must be such that the norm (length) of the vector \\(\\mathbf{A} \\mathbf{v}\\) is a scaled version of the norm of the vector \\(\\mathbf{v}\\). This property essentially means that \\(\\mathbf{A}\\) must be similar to a matrix which is proportional to an orthogonal matrix.\n",
      "\n",
      "One property to check is that \\(\\mathbf{A}\\) is proportional to an orthogonal matrix, i.e., \\(\\mathbf{A} = k\\mathbf{Q}\\) for some constant \\(k\\) and orthogonal matrix \\(\\mathbf{Q}\\). An orthogonal matrix \\(\\mathbf{Q}\\) has \\(\\mathbf{Q}^T \\mathbf{Q} = \\mathbf{I}\\).\n",
      "\n",
      "For \\(\\mathbf{A}\\), we know:\n",
      "\n",
      "\\[ \\|\\mathbf{A} \\mathbf{v}\\| = \\| \\mathbf{A} \\| \\|\\mathbf{v}\\| \\]\n",
      "\n",
      "First, consider the matrix \\(\\mathbf{A} = \\begin{pmatrix} 4 & 7 \\\\ c & d \\end{pmatrix}\\). We need to ensure that this matrix has the desired property of scaling the vector \\(\\mathbf{v}\\). For any vector \\(\\mathbf{v} = \\begin{pmatrix} x \\\\ y \\end{pmatrix}\\), if we are given \\(\\|\\mathbf{v}\\|^2 = x^2 + y^2\\), we should have \\(\\|\\mathbf{A} \\mathbf{v}\\|^2 = k (x^2 + y^2)\\) for some constant \\(k\\).\n",
      "\n",
      "Now consider the matrix \\(\\mathbf{A}\\):\n",
      "\n",
      "\\[\n",
      "\\mathbf{A} \\mathbf{v} = \\begin{pmatrix} 4 & 7 \\\\ c & d \\end{pmatrix} \\begin{pmatrix} x \\\\ y \\end{pmatrix} = \\begin{pmatrix} 4x + 7y \\\\ cx + dy \\end{pmatrix}\n",
      "\\]\n",
      "\n",
      "The norm squared of this product is:\n",
      "\n",
      "\\[\n",
      "\\|\\mathbf{A} \\mathbf{v}\\|^2 = (4x + 7y)^2 + (cx + dy)^2\n",
      "\\]\n",
      "\n",
      "Given that \\(\\|\\mathbf{A} \\mathbf{v}\\|^2 = k \\|\\mathbf{v}\\|^2 = k (x^2 + y^2)\\), we get:\n",
      "\n",
      "\\[\n",
      "(4x + 7y)^2 + (cx + dy)^2 = k(x^2 + y^2)\n",
      "\\]\n",
      "\n",
      "This must hold for all \\(x\\) and \\(y\\). Therefore, expanding both sides:\n",
      "\n",
      "\\[\n",
      "16x^2 + 56xy + 49y^2 + c^2x^2 + 2cdxy + d^2y^2 = kx^2 + ky^2\n",
      "\\]\n",
      "\n",
      "Grouping the terms involving \\(x^2\\), \\(y^2\\), and \\(xy\\):\n",
      "\n",
      "\\[\n",
      "(16 + c^2)x^2 + (49 + d^2)y^2 + (56 + 2cd)xy = kx^2 + ky^2\n",
      "\\]\n",
      "\n",
      "For this to hold for any \\(x\\) and any \\(y\\), the coefficients of \\(x^2\\), \\(y^2\\), and \\(xy\\) must match on both sides. This gives us the system of equations:\n",
      "\n",
      "1. \\(16 + c^2 = k\\)\n",
      "2. \\(49 + d^2 = k\\)\n",
      "3. \\(56 + 2cd = 0\\)\n",
      "\n",
      "From equation (3), we have:\n",
      "\n",
      "\\[\n",
      "2cd = -56 \\quad \\Rightarrow \\quad cd = -28\n",
      "\\]\n",
      "\n",
      "From equations (1) and (2), we set them equal to each other:\n",
      "\n",
      "\\[\n",
      "16 + c^2 = 49 + d^2 \\quad \\Rightarrow \\quad c^2 - d^2 = 33\n",
      "\\]\n",
      "\n",
      "Now we use the identities \\(cd = -28\\) and \\(c^2 - d^2 = 33\\):\n",
      "\n",
      "Since \\(c^2 - d^2 = (c + d)(c - d)\\), we can write:\n",
      "\n",
      "\\[\n",
      "(c + d)(c - d) = 33\n",
      "\\]\n",
      "\n",
      "To find \\(c\\) and \\(d\\), we can solve the system:\n",
      "\n",
      "\\[\n",
      "c^2 - d^2 = 33\n",
      "\\]\n",
      "\\[\n",
      "cd = -28\n",
      "\\]\n",
      "\n",
      "Let \\(u = c + d\\) and \\(v = c - d\\). We have:\n",
      "\n",
      "\\[\n",
      "uv = 33\n",
      "\\]\n",
      "\n",
      "And the sum and product of \\(c\\) and \\(d\\) in terms of \\(u\\) and \\(v\\):\n",
      "\n",
      "\\[\n",
      "c = \\frac{u + v}{2}, \\quad d = \\frac{u - v}{2}\n",
      "\\]\n",
      "\n",
      "We need to solve:\n",
      "\n",
      "\\[\n",
      "\\left( \\frac{u + v}{2} \\right) \\left( \\frac{u - v}{2} \\right) = -28\n",
      "\\]\n",
      "\n",
      "This product simplifies to:\n",
      "\n",
      "\\[\n",
      "\\frac{(u + v)(u - v)}{4} = -28 \\quad \\Rightarrow \\quad \\frac{u^2 - v^2}{4} = -28 \\quad \\Rightarrow \\quad u^2 - v^2 = -112\n",
      "\\]\n",
      "\n",
      "Now we solve the system:\n",
      "\n",
      "\\[\n",
      "uv = 33\n",
      "\\]\n",
      "\\[\n",
      "u^2 - v^2 = -112\n",
      "\\]\n",
      "\n",
      "We solve for \\(u\\) and \\(v\\), and let's calculate \\(c - d\\):\n",
      "\n",
      "1) Solving for \\(u\\) (via substitution and algebra):\n",
      "\n",
      "\\(\\boxed{|c - d|}\\)\n",
      "\\(_EXCEPTION\\_NO\\_INLINE\\_SUBSTITUTION\\)\n",
      "\n",
      "From \\(u =  \\frac{\\left( uv \\right)^2}{4} = 68\\).\n",
      "\n",
      "\n",
      "\n",
      "\n",
      "Level: 5 | Response: \\boxed{|c - d|} | Answer: \\boxed{11} | Is Correct: False\n"
     ]
    },
    {
     "data": {
      "text/plain": [
       "(False, '\\\\boxed{|c - d|}', '\\\\boxed{11}')"
      ]
     },
     "execution_count": 2,
     "metadata": {},
     "output_type": "execute_result"
    }
   ],
   "source": [
    "from data_classes.MathDataLoader import MathDataLoader\n",
    "from data_classes.MathProblem import MathProblem\n",
    "from llm_agents.ChainOfThoughtMathSolver import ChainOfThoughtMathSolver\n",
    "\n",
    "math_data_loader = MathDataLoader(data_dir=constants.MATH_DATASET_DIR)\n",
    "# random_problem = math_data_loader.get_random_problem(level=5)\n",
    "# random_problem = math_data_loader.get_problem(type=\"algebra\", problem_number=265)\n",
    "# random_problem = math_data_loader.get_problem(type=\"number_theory\", problem_number=439)\n",
    "random_problem = math_data_loader.get_problem(type=\"precalculus\", problem_number=1098)\n",
    "\n",
    "print(random_problem)\n",
    "print(random_problem.problem_statement)\n",
    "\n",
    "math_solver = ChainOfThoughtMathSolver()\n",
    "response = math_solver(random_problem.problem_statement)\n",
    "\n",
    "print(response)\n",
    "\n",
    "random_problem.is_correct_answer(response, verbose=True)"
   ]
  },
  {
   "cell_type": "code",
   "execution_count": 3,
   "metadata": {},
   "outputs": [],
   "source": [
    "# results = math_data_loader.test_random_problems(math_solver, n_problems=10, level=1, verbose=True)"
   ]
  },
  {
   "cell_type": "markdown",
   "metadata": {},
   "source": [
    "### Running MACM"
   ]
  },
  {
   "cell_type": "code",
   "execution_count": 4,
   "metadata": {},
   "outputs": [],
   "source": [
    "import utils\n",
    "if not os.getenv(\"OPENAI_API_KEY\") or  not os.getenv(\"TAVILY_API_KEY\"):\n",
    "    os.environ[\"OPENAI_API_KEY\"] = utils.get_openai_api_key()\n",
    "    os.environ[\"TAVILY_API_KEY\"] = utils.get_tavily_api_key()"
   ]
  },
  {
   "cell_type": "code",
   "execution_count": 5,
   "metadata": {},
   "outputs": [],
   "source": [
    "run_raw_macm = False\n",
    "\n",
    "if run_raw_macm:\n",
    "    sys.path.append(os.path.abspath(\"MACM/\"))\n",
    "\n",
    "    from MACM.main import main as main_macm\n",
    "\n",
    "    n = 1 # verification times\n",
    "    times = 5 # The upper limit of the mining times\n",
    "    min_voters = 1 # min number of voters\n",
    "    max_voters = 3 # max number of voters\n",
    "    problem_statement = random_problem.problem_statement\n",
    "\n",
    "    main_macm(problem_statement, times, n, min_voters, max_voters, verbose=True)  # Assuming these are defined elsewhere"
   ]
  },
  {
   "cell_type": "markdown",
   "metadata": {},
   "source": [
    "### LangChain MACM"
   ]
  },
  {
   "cell_type": "code",
   "execution_count": 6,
   "metadata": {},
   "outputs": [
    {
     "data": {
      "image/jpeg": "[encoded data removed]",
      "text/plain": [
       "<IPython.core.display.Image object>"
      ]
     },
     "metadata": {},
     "output_type": "display_data"
    }
   ],
   "source": [
    "from multi_agent_graph import get_multi_agent_summarizer_graph\n",
    "from IPython.display import Image, display\n",
    "\n",
    "graph = get_multi_agent_summarizer_graph()\n",
    "app = graph.compile()\n",
    "display(Image(app.get_graph(xray=True).draw_mermaid_png())) \n",
    "\n",
    "def macm(math_problem):\n",
    "    graph = get_multi_agent_summarizer_graph()\n",
    "    app = graph.compile()\n",
    "    \n",
    "    config = {\"recursion_limit\": 50}\n",
    "    inputs = {\n",
    "        \"math_problem\": math_problem,\n",
    "        \"max_iterations\": 1,\n",
    "        \"verified_conditions\": [],\n",
    "        \"unverified_conditions\": [],\n",
    "        \"objectives\": [],\n",
    "        \"steps\": [],\n",
    "        \"final_answer\": None\n",
    "    }\n",
    "\n",
    "    for event in app.stream(inputs, config=config):\n",
    "        pass\n",
    "        # print_dict(event)\n",
    "    \n",
    "    last_event_name = list(event.keys())[0]\n",
    "    return event[last_event_name]['final_answer']"
   ]
  },
  {
   "cell_type": "markdown",
   "metadata": {},
   "source": [
    "#### Single Problem"
   ]
  },
  {
   "cell_type": "code",
   "execution_count": null,
   "metadata": {},
   "outputs": [],
   "source": [
    "response = macm(random_problem)\n",
    "print(response)\n",
    "random_problem.is_correct_answer(response, verbose=True)"
   ]
  },
  {
   "cell_type": "markdown",
   "metadata": {},
   "source": [
    "#### Multiple Problems in Parallel"
   ]
  },
  {
   "cell_type": "code",
   "execution_count": 7,
   "metadata": {},
   "outputs": [
    {
     "name": "stdout",
     "output_type": "stream",
     "text": [
      "['Algebra_2482', 'Algebra_2577']\n",
      "In AgentConditionAnalyzer\n",
      "In AgentConditionAnalyzer\n",
      "3 Conditions: \n",
      "['The given function is q(x) = \\\\frac{\\\\sqrt{x}}{\\\\sqrt{1-x^2}}', 'The function q(x) requires the square root of x in the numerator.', 'The function q(x) requires the square root of 1-x^2 in the denominator.']\n",
      "1 Objectives: \n",
      "['Determine the domain of the real-valued function q(x), expressed as an interval or as a union of intervals.']\n",
      "In AgentConditionGenerator\n",
      "2 Conditions: \n",
      "['The given quadratic equation is \\\\(\\\\frac{1}{2}x^2 + 99x + c = 0\\\\).', 'The roots of this quadratic equation are \\\\(x = -99 + \\\\sqrt{8001}\\\\) and \\\\(x = -99 - \\\\sqrt{8001}\\\\).']\n",
      "1 Objectives: \n",
      "['Find the value of \\\\(c\\\\) in the given quadratic equation.']\n",
      "In AgentConditionGenerator\n"
     ]
    }
   ],
   "source": [
    "math_problems = math_data_loader.get_random_problems(n_problems=2)\n",
    "print(f'Math Problems to Evaluate: {[p.get_id() for p in math_problems]}')\n",
    "results = math_data_loader.test_math_parallel(macm, math_problems)\n",
    "print(results)\n",
    "math_data_loader.save_results(results, constants.MATH_EVAL_DIR)"
   ]
  }
 ],
 "metadata": {
  "kernelspec": {
   "display_name": "ai",
   "language": "python",
   "name": "ai"
  },
  "language_info": {
   "codemirror_mode": {
    "name": "ipython",
    "version": 3
   },
   "file_extension": ".py",
   "mimetype": "text/x-python",
   "name": "python",
   "nbconvert_exporter": "python",
   "pygments_lexer": "ipython3",
   "version": "3.10.12"
  }
 },
 "nbformat": 4,
 "nbformat_minor": 2
}
