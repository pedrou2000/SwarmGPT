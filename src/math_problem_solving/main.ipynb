{
 "cells": [
  {
   "cell_type": "markdown",
   "metadata": {},
   "source": [
    "### Imports"
   ]
  },
  {
   "cell_type": "code",
   "execution_count": 1,
   "metadata": {},
   "outputs": [],
   "source": [
    "%load_ext autoreload\n",
    "%autoreload 2\n",
    "\n",
    "import sys, os\n",
    "sys.path.append(os.path.dirname(os.getcwd()))\n",
    "sys.path.append(os.getcwd())\n",
    "\n",
    "import constants"
   ]
  },
  {
   "cell_type": "markdown",
   "metadata": {},
   "source": [
    "### Testing the MATH Dataset"
   ]
  },
  {
   "cell_type": "code",
   "execution_count": 2,
   "metadata": {},
   "outputs": [
    {
     "name": "stdout",
     "output_type": "stream",
     "text": [
      "Loaded 5000 math problems from 7 problem types\n",
      "MATH problem number 439 of type Number Theory with level 4 and answer \\boxed{20}.\n",
      "If $A$ and $B$ are positive integers, find $A\\cdot B$ given that  \\[ \\begin{array}{c@{}c@{\\;}c@{}c@{}c@{}c}& & & A & B_{9}\\\\ &+& & & A_{9}\\\\ \\cline{2-5}& & & B & 0_{9}\\\\ \\end{array} \\] Express your answer in base 10 (you do not need to include the subscript).\n",
      "Level: 4 | Response: \\boxed{20} | Answer: \\boxed{20} | Is Correct: True\n"
     ]
    },
    {
     "data": {
      "text/plain": [
       "True"
      ]
     },
     "execution_count": 2,
     "metadata": {},
     "output_type": "execute_result"
    }
   ],
   "source": [
    "from data_classes.MathDataLoader import MathDataLoader\n",
    "from data_classes.MathProblem import MathProblem\n",
    "from llm_agents.ChainOfThoughtMathSolver import ChainOfThoughtMathSolver\n",
    "\n",
    "math_data_loader = MathDataLoader(data_dir=constants.MATH_DATASET_DIR)\n",
    "# random_problem = math_data_loader.get_random_problem(level=4)\n",
    "# random_problem = math_data_loader.get_problem(type=\"algebra\", problem_number=265)\n",
    "random_problem = math_data_loader.get_problem(type=\"number_theory\", problem_number=439)\n",
    "\n",
    "math_solver = ChainOfThoughtMathSolver()\n",
    "response = math_solver(random_problem.problem_statement)\n",
    "\n",
    "print(random_problem)\n",
    "print(random_problem.problem_statement)\n",
    "# \n",
    "# print(response)\n",
    "\n",
    "random_problem.is_correct_answer(response, verbose=True)"
   ]
  },
  {
   "cell_type": "code",
   "execution_count": 3,
   "metadata": {},
   "outputs": [],
   "source": [
    "# results = math_data_loader.test_random_problems(math_solver, n_problems=10, level=1, verbose=True)"
   ]
  },
  {
   "cell_type": "markdown",
   "metadata": {},
   "source": [
    "### Running MACM"
   ]
  },
  {
   "cell_type": "code",
   "execution_count": 4,
   "metadata": {},
   "outputs": [],
   "source": [
    "import utils\n",
    "if not os.getenv(\"OPENAI_API_KEY\") or  not os.getenv(\"TAVILY_API_KEY\"):\n",
    "    os.environ[\"OPENAI_API_KEY\"] = utils.get_openai_api_key()\n",
    "    os.environ[\"TAVILY_API_KEY\"] = utils.get_tavily_api_key()"
   ]
  },
  {
   "cell_type": "code",
   "execution_count": 19,
   "metadata": {},
   "outputs": [
    {
     "name": "stdout",
     "output_type": "stream",
     "text": [
      "\n",
      "# 1 Thinker is analyzing the question...\n",
      "\n",
      "# 1 Conditions: ['\\\\( A \\\\) and \\\\( B \\\\) are positive integers.', 'Adding \\\\( AB_9 \\\\) and \\\\( A_9 \\\\) results in \\\\( B0_9 \\\\) in base 9 arithmetic.']\n",
      "\n",
      "# 1 Objectives: ['Calculate the product of \\\\( A \\\\) and \\\\( B \\\\) in base 10.']\n",
      "\n",
      "# 1 Thinker is thinking new thoughts...\n",
      "\n",
      "# 1 Unchecked conditions: ['Based on Known condition 2, which states that adding \\\\( AB_9 \\\\) and \\\\( A_9 \\\\) results in \\\\( B0_9 \\\\) in base 9 arithmetic, we can get: \\\\( A = \\\\frac{4}{5}B \\\\), and \\\\( B \\\\) must be a multiple of 5 to ensure both \\\\( A \\\\) and \\\\( B \\\\) are positive integers.\\nReason: By converting the base-9 addition problem into a base-10 equation, we obtained a relationship between \\\\( A \\\\) and \\\\( B \\\\). Since \\\\( A \\\\) and \\\\( B \\\\) are integers, \\\\( B \\\\) must be divisible by 5. Choosing the smallest integer value for \\\\( B \\\\) that satisfies the divisibility condition (i.e., \\\\( B = 5 \\\\)), the resultant values for \\\\( A \\\\) and \\\\( B \\\\) are integers and yield a product of \\\\( A \\\\times B = 20 \\\\) in base 10.']\n",
      "\n",
      "# 1 Judge is checking conditions...\n",
      "\n",
      "# 1 Checked conditions: ['\\\\( A = \\\\frac{4}{5}B \\\\), and \\\\( B \\\\) must be a multiple of 5 to ensure both \\\\( A \\\\) and \\\\( B \\\\) are positive integers.\\n']\n",
      "\n",
      "# 1 Thinker is thinking new thoughts...\n",
      "\n",
      "# 1 Unchecked conditions: ['Based on Known condition 3, which states that \\\\( A = \\\\frac{4}{5}B \\\\) and \\\\( B \\\\) must be a multiple of 5, we can get that both \\\\( A \\\\) and \\\\( B \\\\) are integers when \\\\( B \\\\) is a multiple of the least common multiple (LCM) of 5 and 5, which is 5 itself. Therefore, we look for the smallest \\\\( B \\\\) that is a multiple of 5 and makes \\\\( A \\\\) an integer as well.\\n\\nReason: To satisfy the conditions that \\\\( A \\\\) and \\\\( B \\\\) are integers and \\\\( A \\\\) is \\\\( \\\\frac{4}{5}B \\\\), and \\\\( B \\\\) is a multiple of 5, we can use the relationship that \\\\( A = \\\\frac{4}{5}B \\\\) directly. By setting \\\\( B \\\\) to the smallest multiple of 5, we guarantee that \\\\( A \\\\) will also be an integer. Additionally, since \\\\( B \\\\) is defined to be a multiple of 5, we avoid any fractional parts in \\\\( A \\\\), which would violate the known conditions. This is further confirmed as \\\\( A \\\\) and \\\\( B \\\\) must satisfy the condition \\\\( AB_9 + A_9 = B0_9 \\\\) in base 9 arithmetic, which when converted to base 10 implies that \\\\( A = \\\\frac{8}{10}B \\\\) or \\\\( A = \\\\frac{4}{5}B \\\\). This reinforces the derived relationship between \\\\( A \\\\) and \\\\( B \\\\). With \\\\( A \\\\) and \\\\( B \\\\) as integers that meet these criteria, their product in base 10 is calculated as 20.']\n",
      "\n",
      "# 1 Judge is checking conditions...\n",
      "\n",
      "# 1 Checked conditions: ['Based on Known condition 3, which states that \\\\( A = \\\\frac{4}{5}B \\\\) and \\\\( B \\\\) must be a multiple of 5, we can get that both \\\\( A \\\\) and \\\\( B \\\\) are integers when \\\\( B \\\\) is a multiple of the least common multiple (LCM) of 5 and 5, which is 5 itself. Therefore, we look for the smallest \\\\( B \\\\) that is a multiple of 5 and makes \\\\( A \\\\) an integer as well.\\n\\nReason: To satisfy the conditions that \\\\( A \\\\) and \\\\( B \\\\) are integers and \\\\( A \\\\) is \\\\( \\\\frac{4}{5}B \\\\), and \\\\( B \\\\) is a multiple of 5, we can use the relationship that \\\\( A = \\\\frac{4}{5}B \\\\) directly. By setting \\\\( B \\\\) to the smallest multiple of 5, we guarantee that \\\\( A \\\\) will also be an integer. Additionally, since \\\\( B \\\\) is defined to be a multiple of 5, we avoid any fractional parts in \\\\( A \\\\), which would violate the known conditions. This is further confirmed as \\\\( A \\\\) and \\\\( B \\\\) must satisfy the condition \\\\( AB_9 + A_9 = B0_9 \\\\) in base 9 arithmetic, which when converted to base 10 implies that \\\\( A = \\\\frac{8}{10}B \\\\) or \\\\( A = \\\\frac{4}{5}B \\\\). This reinforces the derived relationship between \\\\( A \\\\) and \\\\( B \\\\). With \\\\( A \\\\) and \\\\( B \\\\) as integers that meet these criteria, their product in base 10 is calculated as 20.']\n",
      "\n",
      "# 1 Thinker is thinking new thoughts...\n",
      "\n",
      "# 1 Unchecked conditions: ['Based on Known condition 3, which states that \\\\( A = \\\\frac{4}{5}B \\\\) and \\\\( B \\\\) must be a multiple of 5, we can get: \\\\( B = 5 \\\\) and \\\\( A = 4 \\\\), hence the product of \\\\( A \\\\) and \\\\( B \\\\) is \\\\( 20 \\\\) in base 10.\\nReason: By choosing the smallest multiple of 5 for \\\\( B \\\\), we ensure that \\\\( A \\\\) is an integer and satisfy the given ratio. This is the minimal solution that adheres to all the known conditions.']\n",
      "\n",
      "# 1 Judge is checking conditions...\n",
      "\n",
      "# 1 Checked conditions: ['\\\\( B = 5 \\\\) and \\\\( A = 4 \\\\), hence the product of \\\\( A \\\\) and \\\\( B \\\\) is \\\\( 20 \\\\) in base 10.\\n']\n",
      "\n",
      "# 1 thinker is thinking steps...\n",
      "\n",
      "# 1 Steps: Step 1:\n",
      "Ensure both \\( A \\) and \\( B \\) are positive integers by making \\( B \\) a multiple of 5, as \\( A \\) is \\( \\frac{4}{5} \\) of \\( B \\) and both must be integers.\n",
      "\n",
      "Step 2:\n",
      "Determine the least possible value for \\( B \\) that makes \\( A \\) an integer and satisfies \\( A \\) is \\( \\frac{4}{5} \\) of \\( B \\).\n",
      "\n",
      "Step 3:\n",
      "Translate the base 9 addition problem \\( AB_9 + A_9 = B0_9 \\) into base 10 equivalents to use ordinary arithmetic calculations.\n",
      "\n",
      "Step 4:\n",
      "Using the relationship from Step 2, solve for \\( A \\) and \\( B \\) that meet the base 9 addition problem correctly.\n",
      "\n",
      "Step 5:\n",
      "Calculate the product of \\( A \\) and \\( B \\) in base 10 once the suitable values for \\( A \\) and \\( B \\) are found.\n",
      "\n",
      "# 1 Executor is trying to calculate the answer...\n",
      "\n",
      "# 1 Answer: \\[\\boxed{20.0}\\]\n",
      "\n",
      "There is a tie vote. We need to add another voter.\n",
      "\n",
      "The final answer is 20.0\n"
     ]
    }
   ],
   "source": [
    "run_raw_macm = True\n",
    "\n",
    "if run_raw_macm:\n",
    "    sys.path.append(os.path.abspath(\"MACM/\"))\n",
    "\n",
    "    from MACM.main import main as main_macm\n",
    "\n",
    "    n = 1 # verification times\n",
    "    times = 5 # The upper limit of the mining times\n",
    "    min_voters = 1 # min number of voters\n",
    "    max_voters = 3 # max number of voters\n",
    "    problem_statement = random_problem.problem_statement\n",
    "\n",
    "    main_macm(problem_statement, times, n, min_voters, max_voters, verbose=True)  # Assuming these are defined elsewhere"
   ]
  },
  {
   "cell_type": "markdown",
   "metadata": {},
   "source": [
    "### LangChain MACM"
   ]
  },
  {
   "cell_type": "code",
   "execution_count": 13,
   "metadata": {},
   "outputs": [
    {
     "data": {
      "image/jpeg": "[encoded data removed]",
      "text/plain": [
       "<IPython.core.display.Image object>"
      ]
     },
     "metadata": {},
     "output_type": "display_data"
    },
    {
     "name": "stdout",
     "output_type": "stream",
     "text": [
      "In AgentConditionAnalyzer\n",
      "Conditions: \n",
      "['A and B are positive integers.', 'A * B_9 + A_9 = B0_9']\n",
      "Objectives: \n",
      "['Find A * B and express the answer in base 10.']\n",
      "Event: {'Condition Analizer': {'math_problem': <data_classes.MathProblem.MathProblem object at 0x7f244b7cb010>, 'max_iterations': 1, 'verified_conditions': ['A and B are positive integers.', 'A * B_9 + A_9 = B0_9'], 'unverified_conditions': [], 'objectives': ['Find A * B and express the answer in base 10.'], 'steps': []}}\n",
      "In AgentConditionGenerator\n",
      "Summarized condition: Based on the known conditions: ['A and B are positive integers.', 'A * B_9 + A_9 = B0_9'], we can derive the following condition: A * (B + 1) = 9 * B and A = 9 * B / (B + 1)\n",
      " Resoning: The condition 'A * B_9 + A_9 = B0_9' implies that A multiplied by B in base-9 and appended with A in base-9 equals B followed by 0 in base-9. Converting this into base-10, we get A * (B + 1) = 9 * B, which simplifies to A = 9 * B / (B + 1) to find integer values of A and B that satisfy this equation.\n",
      "Event: {'Condition Generator': {'math_problem': <data_classes.MathProblem.MathProblem object at 0x7f244b7cb010>, 'max_iterations': 1, 'verified_conditions': ['A and B are positive integers.', 'A * B_9 + A_9 = B0_9'], 'unverified_conditions': ['A * (B + 1) = 9 * B and A = 9 * B / (B + 1)'], 'objectives': ['Find A * B and express the answer in base 10.'], 'steps': []}}\n",
      "In AgentConditionJudge\n",
      "Condition Judge Judgement: False\n",
      "In AgentAnswerReadyJudge\n",
      "Answer Ready Judgement:  Based on the known conditions provided:\n",
      "\n",
      "1. \"A and B are positive integers.\"\n",
      "2. \"A * B_9 + A_9 = B0_9\"\n",
      "\n",
      "And the given objective:\n",
      "\n",
      "- \"Find A * B and express the answer in base 10.\"\n",
      "\n",
      "Judgment:\n",
      "The objective of finding \"A * B and express the answer in base 10\" cannot be directly determined from the current conditions without further interpretation or clarification of the second condition (\"A * B_9 + A_9 = B0_9\"). The notation used in the second condition is ambiguous and unclear without additional context specifying what the subscripts and the notation represent. Therefore, it cannot be definitively stated that the objective is already one of the current conditions or that it can be obtained based solely on the given information. Further clarification of the second condition is necessary to proceed towards achieving the objective.\n",
      "Answer Ready Judgement: False\n",
      "Event: {'Condition Judge': {'math_problem': <data_classes.MathProblem.MathProblem object at 0x7f244b7cb010>, 'max_iterations': 1, 'verified_conditions': ['A and B are positive integers.', 'A * B_9 + A_9 = B0_9'], 'unverified_conditions': [], 'objectives': ['Find A * B and express the answer in base 10.'], 'steps': []}}\n",
      "In AgentConditionGenerator\n",
      "Summarized condition: Based on the known conditions: ['A and B are positive integers.', 'A * B_9 + A_9 = B0_9'], we can derive the following condition: A * (B + 1) = 9 * B and A must be an integer value derived from A = 9B / (B + 1).\n",
      " Resoning: Interpreting the base-9 notation and converting it to a base-10 equation, we deduce that for A and B to be integers, 9B must be divisible by (B + 1). A loop was used to check for values of B which satisfy this condition, ensuring A and B are integers and calculating A * B in base 10.\n",
      "Event: {'Condition Generator': {'math_problem': <data_classes.MathProblem.MathProblem object at 0x7f244b7cb010>, 'max_iterations': 1, 'verified_conditions': ['A and B are positive integers.', 'A * B_9 + A_9 = B0_9'], 'unverified_conditions': ['A * (B + 1) = 9 * B and A must be an integer value derived from A = 9B / (B + 1).'], 'objectives': ['Find A * B and express the answer in base 10.'], 'steps': []}}\n",
      "In AgentConditionJudge\n",
      "Condition Judge Judgement: True\n",
      "In AgentAnswerReadyJudge\n",
      "Answer Ready Judgement:  Judgment: True\n",
      "\n",
      "The conditions provided, particularly \"A * (B + 1) = 9 * B,\" allow for the determination of the expression \"A * B\" conceptually, as A and B are defined in relation to each other. This condition, coupled with \"A and B are positive integers,\" and the specific relationship formula \"A = 9B / (B + 1),\" makes it possible to conceptually determine A * B in base 10, aligning with the objective to \"Find A * B and express the answer in base 10.\" Hence, the objective can be obtained based on the known conditions.\n",
      "Answer Ready Judgement: True\n",
      "Event: {'Condition Judge': {'math_problem': <data_classes.MathProblem.MathProblem object at 0x7f244b7cb010>, 'max_iterations': 1, 'verified_conditions': ['A and B are positive integers.', 'A * B_9 + A_9 = B0_9', 'A * (B + 1) = 9 * B and A must be an integer value derived from A = 9B / (B + 1).'], 'unverified_conditions': [], 'objectives': ['Find A * B and express the answer in base 10.'], 'steps': []}}\n",
      "In AgentNumericalStepsGeneration\n",
      "Final Steps to solve the problem: ['Step 1: Calculate b using the equation a + 1 / b = 22 / 7', 'Step 2: Substitute b in the equation b + 1 / c = 8 to find c', 'Step 3: Substitute values of b and c in abc = 21 to find a', 'Step 4: Use values of a and c to calculate c + 1 / a']\n",
      "Event: {'Steps Generator': {'math_problem': <data_classes.MathProblem.MathProblem object at 0x7f244b7cb010>, 'max_iterations': 1, 'verified_conditions': ['A and B are positive integers.', 'A * B_9 + A_9 = B0_9', 'A * (B + 1) = 9 * B and A must be an integer value derived from A = 9B / (B + 1).'], 'unverified_conditions': [], 'objectives': ['Find A * B and express the answer in base 10.'], 'steps': ['Step 1: Calculate b using the equation a + 1 / b = 22 / 7', 'Step 2: Substitute b in the equation b + 1 / c = 8 to find c', 'Step 3: Substitute values of b and c in abc = 21 to find a', 'Step 4: Use values of a and c to calculate c + 1 / a']}}\n",
      "In AgentStepsExecutor\n",
      "Final Answer: \\[\n",
      "\\boxed{55.125}\n",
      "\\]\n",
      "Event: {'Steps Executor': {'math_problem': <data_classes.MathProblem.MathProblem object at 0x7f244b7cb010>, 'max_iterations': 1, 'verified_conditions': ['A and B are positive integers.', 'A * B_9 + A_9 = B0_9', 'A * (B + 1) = 9 * B and A must be an integer value derived from A = 9B / (B + 1).'], 'unverified_conditions': [], 'objectives': ['Find A * B and express the answer in base 10.'], 'steps': ['Step 1: Calculate b using the equation a + 1 / b = 22 / 7', 'Step 2: Substitute b in the equation b + 1 / c = 8 to find c', 'Step 3: Substitute values of b and c in abc = 21 to find a', 'Step 4: Use values of a and c to calculate c + 1 / a'], 'final_answer': '\\\\[\\n\\\\boxed{55.125}\\n\\\\]'}}\n"
     ]
    }
   ],
   "source": [
    "from multi_agent_graph import get_multi_agent_summarizer_graph\n",
    "from IPython.display import Image, display\n",
    "\n",
    "\n",
    "config = {\"recursion_limit\": 50}\n",
    "inputs = {\n",
    "    \"math_problem\": random_problem,\n",
    "    \"max_iterations\": 1,\n",
    "    \"verified_conditions\": [],\n",
    "    \"unverified_conditions\": [],\n",
    "    \"objectives\": [],\n",
    "    \"steps\": [],\n",
    "    \"final_answer\": None\n",
    "}\n",
    "\n",
    "graph = get_multi_agent_summarizer_graph()\n",
    "app = graph.compile()\n",
    "display(Image(app.get_graph(xray=True).draw_mermaid_png())) \n",
    "\n",
    "for event in app.stream(inputs, config=config):\n",
    "    print(\"Event:\", event)"
   ]
  }
 ],
 "metadata": {
  "kernelspec": {
   "display_name": "ai",
   "language": "python",
   "name": "ai"
  },
  "language_info": {
   "codemirror_mode": {
    "name": "ipython",
    "version": 3
   },
   "file_extension": ".py",
   "mimetype": "text/x-python",
   "name": "python",
   "nbconvert_exporter": "python",
   "pygments_lexer": "ipython3",
   "version": "3.10.12"
  }
 },
 "nbformat": 4,
 "nbformat_minor": 2
}
