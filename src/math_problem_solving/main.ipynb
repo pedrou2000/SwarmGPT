{
 "cells": [
  {
   "cell_type": "markdown",
   "metadata": {},
   "source": [
    "### Imports"
   ]
  },
  {
   "cell_type": "code",
   "execution_count": 1,
   "metadata": {},
   "outputs": [],
   "source": [
    "%load_ext autoreload\n",
    "%autoreload 2\n",
    "\n",
    "import sys, os\n",
    "sys.path.append(os.path.dirname(os.getcwd()))\n",
    "sys.path.append(os.getcwd())\n",
    "\n",
    "import constants"
   ]
  },
  {
   "cell_type": "markdown",
   "metadata": {},
   "source": [
    "### Testing the MATH Dataset"
   ]
  },
  {
   "cell_type": "code",
   "execution_count": 2,
   "metadata": {},
   "outputs": [
    {
     "name": "stdout",
     "output_type": "stream",
     "text": [
      "Loaded 5000 math problems from 7 problem types\n",
      "MATH problem number 439 of type Number Theory with level 4 and answer \\boxed{20}.\n",
      "If $A$ and $B$ are positive integers, find $A\\cdot B$ given that  \\[ \\begin{array}{c@{}c@{\\;}c@{}c@{}c@{}c}& & & A & B_{9}\\\\ &+& & & A_{9}\\\\ \\cline{2-5}& & & B & 0_{9}\\\\ \\end{array} \\] Express your answer in base 10 (you do not need to include the subscript).\n",
      "Level: 4 | Response: \\boxed{20} | Answer: \\boxed{20} | Is Correct: True\n"
     ]
    },
    {
     "data": {
      "text/plain": [
       "True"
      ]
     },
     "execution_count": 2,
     "metadata": {},
     "output_type": "execute_result"
    }
   ],
   "source": [
    "from data_classes.MathDataLoader import MathDataLoader\n",
    "from data_classes.MathProblem import MathProblem\n",
    "from llm_agents.ChainOfThoughtMathSolver import ChainOfThoughtMathSolver\n",
    "\n",
    "math_data_loader = MathDataLoader(data_dir=constants.MATH_DATASET_DIR)\n",
    "# random_problem = math_data_loader.get_random_problem(level=4)\n",
    "# random_problem = math_data_loader.get_problem(type=\"algebra\", problem_number=265)\n",
    "random_problem = math_data_loader.get_problem(type=\"number_theory\", problem_number=439)\n",
    "\n",
    "math_solver = ChainOfThoughtMathSolver()\n",
    "response = math_solver(random_problem.problem_statement)\n",
    "\n",
    "print(random_problem)\n",
    "print(random_problem.problem_statement)\n",
    "# \n",
    "# print(response)\n",
    "\n",
    "random_problem.is_correct_answer(response, verbose=True)"
   ]
  },
  {
   "cell_type": "code",
   "execution_count": 9,
   "metadata": {},
   "outputs": [],
   "source": [
    "# results = math_data_loader.test_random_problems(math_solver, n_problems=10, level=1, verbose=True)"
   ]
  },
  {
   "cell_type": "markdown",
   "metadata": {},
   "source": [
    "### Running MACM"
   ]
  },
  {
   "cell_type": "code",
   "execution_count": 10,
   "metadata": {},
   "outputs": [],
   "source": [
    "import utils\n",
    "if not os.getenv(\"OPENAI_API_KEY\") or  not os.getenv(\"TAVILY_API_KEY\"):\n",
    "    os.environ[\"OPENAI_API_KEY\"] = utils.get_openai_api_key()\n",
    "    os.environ[\"TAVILY_API_KEY\"] = utils.get_tavily_api_key()"
   ]
  },
  {
   "cell_type": "code",
   "execution_count": 19,
   "metadata": {},
   "outputs": [
    {
     "name": "stdout",
     "output_type": "stream",
     "text": [
      "\n",
      "# 1 Thinker is analyzing the question...\n",
      "\n",
      "# 1 Conditions: ['\\\\( A \\\\) and \\\\( B \\\\) are positive integers.', 'Adding \\\\( AB_9 \\\\) and \\\\( A_9 \\\\) results in \\\\( B0_9 \\\\) in base 9 arithmetic.']\n",
      "\n",
      "# 1 Objectives: ['Calculate the product of \\\\( A \\\\) and \\\\( B \\\\) in base 10.']\n",
      "\n",
      "# 1 Thinker is thinking new thoughts...\n",
      "\n",
      "# 1 Unchecked conditions: ['Based on Known condition 2, which states that adding \\\\( AB_9 \\\\) and \\\\( A_9 \\\\) results in \\\\( B0_9 \\\\) in base 9 arithmetic, we can get: \\\\( A = \\\\frac{4}{5}B \\\\), and \\\\( B \\\\) must be a multiple of 5 to ensure both \\\\( A \\\\) and \\\\( B \\\\) are positive integers.\\nReason: By converting the base-9 addition problem into a base-10 equation, we obtained a relationship between \\\\( A \\\\) and \\\\( B \\\\). Since \\\\( A \\\\) and \\\\( B \\\\) are integers, \\\\( B \\\\) must be divisible by 5. Choosing the smallest integer value for \\\\( B \\\\) that satisfies the divisibility condition (i.e., \\\\( B = 5 \\\\)), the resultant values for \\\\( A \\\\) and \\\\( B \\\\) are integers and yield a product of \\\\( A \\\\times B = 20 \\\\) in base 10.']\n",
      "\n",
      "# 1 Judge is checking conditions...\n",
      "\n",
      "# 1 Checked conditions: ['\\\\( A = \\\\frac{4}{5}B \\\\), and \\\\( B \\\\) must be a multiple of 5 to ensure both \\\\( A \\\\) and \\\\( B \\\\) are positive integers.\\n']\n",
      "\n",
      "# 1 Thinker is thinking new thoughts...\n",
      "\n",
      "# 1 Unchecked conditions: ['Based on Known condition 3, which states that \\\\( A = \\\\frac{4}{5}B \\\\) and \\\\( B \\\\) must be a multiple of 5, we can get that both \\\\( A \\\\) and \\\\( B \\\\) are integers when \\\\( B \\\\) is a multiple of the least common multiple (LCM) of 5 and 5, which is 5 itself. Therefore, we look for the smallest \\\\( B \\\\) that is a multiple of 5 and makes \\\\( A \\\\) an integer as well.\\n\\nReason: To satisfy the conditions that \\\\( A \\\\) and \\\\( B \\\\) are integers and \\\\( A \\\\) is \\\\( \\\\frac{4}{5}B \\\\), and \\\\( B \\\\) is a multiple of 5, we can use the relationship that \\\\( A = \\\\frac{4}{5}B \\\\) directly. By setting \\\\( B \\\\) to the smallest multiple of 5, we guarantee that \\\\( A \\\\) will also be an integer. Additionally, since \\\\( B \\\\) is defined to be a multiple of 5, we avoid any fractional parts in \\\\( A \\\\), which would violate the known conditions. This is further confirmed as \\\\( A \\\\) and \\\\( B \\\\) must satisfy the condition \\\\( AB_9 + A_9 = B0_9 \\\\) in base 9 arithmetic, which when converted to base 10 implies that \\\\( A = \\\\frac{8}{10}B \\\\) or \\\\( A = \\\\frac{4}{5}B \\\\). This reinforces the derived relationship between \\\\( A \\\\) and \\\\( B \\\\). With \\\\( A \\\\) and \\\\( B \\\\) as integers that meet these criteria, their product in base 10 is calculated as 20.']\n",
      "\n",
      "# 1 Judge is checking conditions...\n",
      "\n",
      "# 1 Checked conditions: ['Based on Known condition 3, which states that \\\\( A = \\\\frac{4}{5}B \\\\) and \\\\( B \\\\) must be a multiple of 5, we can get that both \\\\( A \\\\) and \\\\( B \\\\) are integers when \\\\( B \\\\) is a multiple of the least common multiple (LCM) of 5 and 5, which is 5 itself. Therefore, we look for the smallest \\\\( B \\\\) that is a multiple of 5 and makes \\\\( A \\\\) an integer as well.\\n\\nReason: To satisfy the conditions that \\\\( A \\\\) and \\\\( B \\\\) are integers and \\\\( A \\\\) is \\\\( \\\\frac{4}{5}B \\\\), and \\\\( B \\\\) is a multiple of 5, we can use the relationship that \\\\( A = \\\\frac{4}{5}B \\\\) directly. By setting \\\\( B \\\\) to the smallest multiple of 5, we guarantee that \\\\( A \\\\) will also be an integer. Additionally, since \\\\( B \\\\) is defined to be a multiple of 5, we avoid any fractional parts in \\\\( A \\\\), which would violate the known conditions. This is further confirmed as \\\\( A \\\\) and \\\\( B \\\\) must satisfy the condition \\\\( AB_9 + A_9 = B0_9 \\\\) in base 9 arithmetic, which when converted to base 10 implies that \\\\( A = \\\\frac{8}{10}B \\\\) or \\\\( A = \\\\frac{4}{5}B \\\\). This reinforces the derived relationship between \\\\( A \\\\) and \\\\( B \\\\). With \\\\( A \\\\) and \\\\( B \\\\) as integers that meet these criteria, their product in base 10 is calculated as 20.']\n",
      "\n",
      "# 1 Thinker is thinking new thoughts...\n",
      "\n",
      "# 1 Unchecked conditions: ['Based on Known condition 3, which states that \\\\( A = \\\\frac{4}{5}B \\\\) and \\\\( B \\\\) must be a multiple of 5, we can get: \\\\( B = 5 \\\\) and \\\\( A = 4 \\\\), hence the product of \\\\( A \\\\) and \\\\( B \\\\) is \\\\( 20 \\\\) in base 10.\\nReason: By choosing the smallest multiple of 5 for \\\\( B \\\\), we ensure that \\\\( A \\\\) is an integer and satisfy the given ratio. This is the minimal solution that adheres to all the known conditions.']\n",
      "\n",
      "# 1 Judge is checking conditions...\n",
      "\n",
      "# 1 Checked conditions: ['\\\\( B = 5 \\\\) and \\\\( A = 4 \\\\), hence the product of \\\\( A \\\\) and \\\\( B \\\\) is \\\\( 20 \\\\) in base 10.\\n']\n",
      "\n",
      "# 1 thinker is thinking steps...\n",
      "\n",
      "# 1 Steps: Step 1:\n",
      "Ensure both \\( A \\) and \\( B \\) are positive integers by making \\( B \\) a multiple of 5, as \\( A \\) is \\( \\frac{4}{5} \\) of \\( B \\) and both must be integers.\n",
      "\n",
      "Step 2:\n",
      "Determine the least possible value for \\( B \\) that makes \\( A \\) an integer and satisfies \\( A \\) is \\( \\frac{4}{5} \\) of \\( B \\).\n",
      "\n",
      "Step 3:\n",
      "Translate the base 9 addition problem \\( AB_9 + A_9 = B0_9 \\) into base 10 equivalents to use ordinary arithmetic calculations.\n",
      "\n",
      "Step 4:\n",
      "Using the relationship from Step 2, solve for \\( A \\) and \\( B \\) that meet the base 9 addition problem correctly.\n",
      "\n",
      "Step 5:\n",
      "Calculate the product of \\( A \\) and \\( B \\) in base 10 once the suitable values for \\( A \\) and \\( B \\) are found.\n",
      "\n",
      "# 1 Executor is trying to calculate the answer...\n",
      "\n",
      "# 1 Answer: \\[\\boxed{20.0}\\]\n",
      "\n",
      "There is a tie vote. We need to add another voter.\n",
      "\n",
      "The final answer is 20.0\n"
     ]
    }
   ],
   "source": [
    "run_raw_macm = True\n",
    "\n",
    "if run_raw_macm:\n",
    "    sys.path.append(os.path.abspath(\"MACM/\"))\n",
    "\n",
    "    from MACM.main import main as main_macm\n",
    "\n",
    "    n = 1 # verification times\n",
    "    times = 5 # The upper limit of the mining times\n",
    "    min_voters = 1 # min number of voters\n",
    "    max_voters = 3 # max number of voters\n",
    "    problem_statement = random_problem.problem_statement\n",
    "\n",
    "    main_macm(problem_statement, times, n, min_voters, max_voters, verbose=True)  # Assuming these are defined elsewhere"
   ]
  },
  {
   "cell_type": "markdown",
   "metadata": {},
   "source": [
    "### LangChain MACM"
   ]
  },
  {
   "cell_type": "code",
   "execution_count": 36,
   "metadata": {},
   "outputs": [
    {
     "data": {
      "image/jpeg": "[encoded data removed]",
      "text/plain": [
       "<IPython.core.display.Image object>"
      ]
     },
     "metadata": {},
     "output_type": "display_data"
    },
    {
     "name": "stdout",
     "output_type": "stream",
     "text": [
      "Conditions: \n",
      "['1. $A$ and $B$ are positive integers.', '2. The sum of the two numbers with $B$ in base 9 and $A$ in base 10 results in a number with a zero in the units place in base 9.']\n",
      "Objectives: \n",
      "['Find the product of $A$ and $B$ in base 10.']\n",
      "Event: {'Condition Analizer': {'math_problem': <data_classes.MathProblem.MathProblem object at 0x7fdbaf7b7070>, 'max_iterations': 1, 'verified_conditions': ['1. $A$ and $B$ are positive integers.', '2. The sum of the two numbers with $B$ in base 9 and $A$ in base 10 results in a number with a zero in the units place in base 9.'], 'unverified_conditions': [], 'objectives': ['Find the product of $A$ and $B$ in base 10.'], 'steps': []}}\n",
      "Summarized condition: Based on the known condition that the sum of the numbers with $B$ in base 9 and $A$ in base 10 results in a number with a zero in the units place in base 9, we can derive the equation $9b + a = 9k$, where $a$ and $b$ are the respective values of $A$ and $B$ in base 10 and base 9, and $k$ is an integer. This relationship ensures that the sum is a multiple of 9. \n",
      "\n",
      "Reason: The sum must be a multiple of 9 to result in a number with a zero in the units place in base 9.\n",
      "Event: {'Condition Generator': {'math_problem': <data_classes.MathProblem.MathProblem object at 0x7fdbaf7b7070>, 'max_iterations': 1, 'verified_conditions': ['1. $A$ and $B$ are positive integers.', '2. The sum of the two numbers with $B$ in base 9 and $A$ in base 10 results in a number with a zero in the units place in base 9.'], 'unverified_conditions': ['Based on the known condition that the sum of the numbers with $B$ in base 9 and $A$ in base 10 results in a number with a zero in the units place in base 9, we can derive the equation $9b + a = 9k$, where $a$ and $b$ are the respective values of $A$ and $B$ in base 10 and base 9, and $k$ is an integer. This relationship ensures that the sum is a multiple of 9. \\n\\nReason: The sum must be a multiple of 9 to result in a number with a zero in the units place in base 9.'], 'objectives': ['Find the product of $A$ and $B$ in base 10.'], 'steps': []}}\n",
      "Condition Judge Judgement: True\n",
      "Answer Ready Judgement:  Based on the known conditions you have provided, we can further analyze the problem to determine if we can find the product of $A$ and $B$ in base 10.\n",
      "\n",
      "Given the equation $9b + a = 9k$, where $a$ and $b$ are the values of $A$ and $B$ in base 10 and base 9 respectively, and $k$ is an integer, we can rewrite this equation as $a = 9(k - b)$.\n",
      "\n",
      "To find the product of $A$ and $B$ in base 10, we need to find $A \\times B$. Since $A = 9(k - B)$ from the equation above, we can substitute this expression for $A$ in terms of $k$ and $B$ into the product:\n",
      "\n",
      "$A \\times B = 9(k - B) \\times B = 9kB - 9B^2$\n",
      "\n",
      "Therefore, the product of $A$ and $B$ in base 10 is given by $9kB - 9B^2$. \n",
      "\n",
      "If you know the values of $k$ and $B$, you can substitute them into the equation above to find the product of $A$ and $B$ in base 10. If you do not have the specific values of $k$ and $B, you may need additional information to determine the exact product.\n",
      "\n",
      "Let me know if you need any further assistance or clarification.\n",
      "Answer Ready Judgement: True\n",
      "Event: {'Condition Judge': {'math_problem': <data_classes.MathProblem.MathProblem object at 0x7fdbaf7b7070>, 'max_iterations': 1, 'verified_conditions': ['1. $A$ and $B$ are positive integers.', '2. The sum of the two numbers with $B$ in base 9 and $A$ in base 10 results in a number with a zero in the units place in base 9.', 'Based on the known condition that the sum of the numbers with $B$ in base 9 and $A$ in base 10 results in a number with a zero in the units place in base 9, we can derive the equation $9b + a = 9k$, where $a$ and $b$ are the respective values of $A$ and $B$ in base 10 and base 9, and $k$ is an integer. This relationship ensures that the sum is a multiple of 9. \\n\\nReason: The sum must be a multiple of 9 to result in a number with a zero in the units place in base 9.'], 'unverified_conditions': ['Based on the known condition that the sum of the numbers with $B$ in base 9 and $A$ in base 10 results in a number with a zero in the units place in base 9, we can derive the equation $9b + a = 9k$, where $a$ and $b$ are the respective values of $A$ and $B$ in base 10 and base 9, and $k$ is an integer. This relationship ensures that the sum is a multiple of 9. \\n\\nReason: The sum must be a multiple of 9 to result in a number with a zero in the units place in base 9.'], 'objectives': ['Find the product of $A$ and $B$ in base 10.'], 'steps': []}}\n"
     ]
    }
   ],
   "source": [
    "from multi_agent_graph import get_multi_agent_summarizer_graph\n",
    "from IPython.display import Image, display\n",
    "\n",
    "\n",
    "config = {\"recursion_limit\": 50}\n",
    "inputs = {\n",
    "    \"math_problem\": random_problem,\n",
    "    \"max_iterations\": 1,\n",
    "    \"verified_conditions\": [],\n",
    "    \"unverified_conditions\": [],\n",
    "    \"objectives\": [],\n",
    "    \"steps\": [],\n",
    "    \"final_answer\": None\n",
    "}\n",
    "\n",
    "graph = get_multi_agent_summarizer_graph()\n",
    "app = graph.compile()\n",
    "display(Image(app.get_graph(xray=True).draw_mermaid_png())) \n",
    "\n",
    "for event in app.stream(inputs, config=config):\n",
    "    print(\"Event:\", event)"
   ]
  }
 ],
 "metadata": {
  "kernelspec": {
   "display_name": "ai",
   "language": "python",
   "name": "ai"
  },
  "language_info": {
   "codemirror_mode": {
    "name": "ipython",
    "version": 3
   },
   "file_extension": ".py",
   "mimetype": "text/x-python",
   "name": "python",
   "nbconvert_exporter": "python",
   "pygments_lexer": "ipython3",
   "version": "3.10.12"
  }
 },
 "nbformat": 4,
 "nbformat_minor": 2
}
