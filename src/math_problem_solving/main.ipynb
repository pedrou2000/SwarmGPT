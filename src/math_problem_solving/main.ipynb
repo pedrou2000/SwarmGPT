{
 "cells": [
  {
   "cell_type": "markdown",
   "metadata": {},
   "source": [
    "### Imports"
   ]
  },
  {
   "cell_type": "code",
   "execution_count": 1,
   "metadata": {},
   "outputs": [],
   "source": [
    "%load_ext autoreload\n",
    "%autoreload 2\n",
    "\n",
    "import sys, os\n",
    "sys.path.append(os.path.dirname(os.getcwd()))\n",
    "sys.path.append(os.getcwd())\n",
    "\n",
    "import constants"
   ]
  },
  {
   "cell_type": "markdown",
   "metadata": {},
   "source": [
    "### Testing the MATH Dataset"
   ]
  },
  {
   "cell_type": "code",
   "execution_count": 2,
   "metadata": {},
   "outputs": [
    {
     "name": "stdout",
     "output_type": "stream",
     "text": [
      "Loaded 5000 math problems from 7 problem types\n",
      "MATH problem number 265 of type Algebra with level 5 and answer \\boxed{-102}.\n",
      "Let $S$ be the set of all real numbers $\\alpha$ such that the function \\[\\frac{x^2+5x+\\alpha}{x^2 + 7x - 44}\\]can be expressed as a quotient of two linear functions. What is the sum of the elements of $S$?\n",
      "Level: 5 | Response: \\boxed{-11} | Answer: \\boxed{-102} | Is Correct: False\n"
     ]
    },
    {
     "data": {
      "text/plain": [
       "False"
      ]
     },
     "execution_count": 2,
     "metadata": {},
     "output_type": "execute_result"
    }
   ],
   "source": [
    "from data_classes.MathDataLoader import MathDataLoader\n",
    "from data_classes.MathProblem import MathProblem\n",
    "from llm_agents.ChainOfThoughtMathSolver import ChainOfThoughtMathSolver\n",
    "\n",
    "math_data_loader = MathDataLoader(data_dir=constants.MATH_DATASET_DIR)\n",
    "# random_problem = math_data_loader.get_random_problem(level=1)\n",
    "random_problem = math_data_loader.get_problem(type=\"algebra\", problem_number=265)\n",
    "\n",
    "math_solver = ChainOfThoughtMathSolver()\n",
    "response = math_solver(random_problem.problem_statement)\n",
    "\n",
    "print(random_problem)\n",
    "print(random_problem.problem_statement)\n",
    "# \n",
    "# print(response)\n",
    "\n",
    "random_problem.is_correct_answer(response, verbose=True)"
   ]
  },
  {
   "cell_type": "code",
   "execution_count": 3,
   "metadata": {},
   "outputs": [],
   "source": [
    "# results = math_data_loader.test_random_problems(math_solver, n_problems=10, level=1, verbose=True)"
   ]
  },
  {
   "cell_type": "markdown",
   "metadata": {},
   "source": [
    "### Running MACM"
   ]
  },
  {
   "cell_type": "code",
   "execution_count": 4,
   "metadata": {},
   "outputs": [],
   "source": [
    "import utils\n",
    "if not os.getenv(\"OPENAI_API_KEY\") or  not os.getenv(\"TAVILY_API_KEY\"):\n",
    "    os.environ[\"OPENAI_API_KEY\"] = utils.get_openai_api_key()\n",
    "    os.environ[\"TAVILY_API_KEY\"] = utils.get_tavily_api_key()"
   ]
  },
  {
   "cell_type": "code",
   "execution_count": 5,
   "metadata": {},
   "outputs": [],
   "source": [
    "run_raw_macm = False\n",
    "\n",
    "if run_raw_macm:\n",
    "    sys.path.append(os.path.abspath(\"MACM/\"))\n",
    "\n",
    "    from MACM.main import main as main_macm\n",
    "\n",
    "    n = 1 # verification times\n",
    "    times = 5 # The upper limit of the mining times\n",
    "    min_voters = 1 # min number of voters\n",
    "    max_voters = 1 # max number of voters\n",
    "    problem_statement = random_problem.problem_statement\n",
    "\n",
    "    main_macm(problem_statement, times, n, min_voters, max_voters)  # Assuming these are defined elsewhere"
   ]
  },
  {
   "cell_type": "markdown",
   "metadata": {},
   "source": [
    "### LangChain MACM"
   ]
  },
  {
   "cell_type": "code",
   "execution_count": 20,
   "metadata": {},
   "outputs": [
    {
     "data": {
      "image/jpeg": "[encoded data removed]",
      "text/plain": [
       "<IPython.core.display.Image object>"
      ]
     },
     "metadata": {},
     "output_type": "display_data"
    },
    {
     "name": "stdout",
     "output_type": "stream",
     "text": [
      "Conditions: \n",
      "['The function can be expressed as a quotient of two linear functions.']\n",
      "Objectives: \n",
      "['Find the sum of the elements of the set S.']\n",
      "Event: {'Condition Analizer': {'math_problem': <data_classes.MathProblem.MathProblem object at 0x7faf793f5c00>, 'unverified_conditions': ['The function can be expressed as a quotient of two linear functions.'], 'objectives': ['Find the sum of the elements of the set S.']}}\n"
     ]
    }
   ],
   "source": [
    "from multi_agent_graph import get_multi_agent_summarizer_graph\n",
    "from IPython.display import Image, display\n",
    "\n",
    "\n",
    "config = {\"recursion_limit\": 50}\n",
    "inputs = {\n",
    "    \"math_problem\": random_problem,\n",
    "    \"n\": 1,\n",
    "}\n",
    "\n",
    "graph = get_multi_agent_summarizer_graph()\n",
    "app = graph.compile()\n",
    "display(Image(app.get_graph(xray=True).draw_mermaid_png())) \n",
    "\n",
    "for event in app.stream(inputs, config=config):\n",
    "    print(\"Event:\", event)"
   ]
  }
 ],
 "metadata": {
  "kernelspec": {
   "display_name": "ai",
   "language": "python",
   "name": "ai"
  },
  "language_info": {
   "codemirror_mode": {
    "name": "ipython",
    "version": 3
   },
   "file_extension": ".py",
   "mimetype": "text/x-python",
   "name": "python",
   "nbconvert_exporter": "python",
   "pygments_lexer": "ipython3",
   "version": "3.10.12"
  }
 },
 "nbformat": 4,
 "nbformat_minor": 2
}
