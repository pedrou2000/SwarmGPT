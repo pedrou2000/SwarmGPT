{
 "cells": [
  {
   "cell_type": "markdown",
   "metadata": {},
   "source": [
    "### BooookScore Summarization and Evaluation"
   ]
  },
  {
   "cell_type": "code",
   "execution_count": 10,
   "metadata": {},
   "outputs": [
    {
     "name": "stdout",
     "output_type": "stream",
     "text": [
      "Chunking the book...\n"
     ]
    },
    {
     "name": "stderr",
     "output_type": "stream",
     "text": [
      "  0%|          | 0/1 [00:00<?, ?it/s]\n",
      "  0%|          | 0/1034 [00:00<?, ?it/s]\u001b[A\n",
      " 10%|█         | 108/1034 [00:00<00:00, 1058.52it/s]\u001b[A\n",
      " 21%|██        | 214/1034 [00:00<00:01, 631.68it/s] \u001b[A\n",
      " 28%|██▊       | 287/1034 [00:00<00:01, 621.48it/s]\u001b[A\n",
      " 34%|███▍      | 354/1034 [00:00<00:01, 556.35it/s]\u001b[A\n",
      " 40%|███▉      | 413/1034 [00:00<00:01, 530.07it/s]\u001b[A\n",
      " 47%|████▋     | 483/1034 [00:00<00:00, 575.26it/s]\u001b[A\n",
      " 53%|█████▎    | 543/1034 [00:00<00:00, 528.12it/s]\u001b[A\n",
      " 59%|█████▉    | 608/1034 [00:01<00:00, 557.44it/s]\u001b[A\n",
      " 65%|██████▍   | 667/1034 [00:01<00:00, 565.82it/s]\u001b[A\n",
      " 70%|███████   | 725/1034 [00:01<00:00, 561.54it/s]\u001b[A\n",
      " 77%|███████▋  | 798/1034 [00:01<00:00, 609.26it/s]\u001b[A\n",
      " 84%|████████▍ | 873/1034 [00:01<00:00, 648.00it/s]\u001b[A\n",
      " 91%|█████████ | 939/1034 [00:01<00:00, 595.69it/s]\u001b[A\n",
      "100%|██████████| 1034/1034 [00:01<00:00, 556.72it/s]\u001b[A\n",
      "100%|██████████| 1/1 [00:01<00:00,  1.98s/it]\n"
     ]
    },
    {
     "name": "stdout",
     "output_type": "stream",
     "text": [
      "eat_that_frog chunk sizes: [4050, 4071, 4071, 4071, 4091, 4030, 4063, 3805]\n",
      "Summarizing the book...\n"
     ]
    },
    {
     "name": "stderr",
     "output_type": "stream",
     "text": [
      "Iterating over books:   0%|          | 0/1 [00:00<?, ?it/s]"
     ]
    }
   ],
   "source": [
    "import os, json\n",
    "from booookscore.score import Scorer \n",
    "\n",
    "# Define variables\n",
    "book_name = \"eat_that_frog\"\n",
    "model = \"gpt-4o\"\n",
    "# model = \"gpt-3.5-turbo\"\n",
    "method = \"hier\"  # or \"increasing\"\n",
    "\n",
    "# Configuration variables\n",
    "api = \"openai\"\n",
    "api_key_path = \"api.txt\"\n",
    "chunk_size = 4096\n",
    "max_context_len = 8192\n",
    "\n",
    "# Create results directory structure\n",
    "data_dir = \"../../../data/full_content_parsed_epubs/\"\n",
    "results_dir = \"results/\" + model + \"/\" + book_name + \"/\" + method + \"/\"\n",
    "\n",
    "pickle_book_path = data_dir + book_name + \".pkl\"\n",
    "chunked_output_path = results_dir + \"chunked_book.pkl\"\n",
    "summaries_output_path = results_dir + \"summaries.json\"\n",
    "postprocessed_summaries_output_path = summaries_output_path.replace('.json', '_cleaned.json')\n",
    "annotations_output_path = results_dir + \"annotations.json\"\n",
    "score_output_path = results_dir + \"score.json\"\n",
    "\n",
    "\n",
    "# Ensure the directories exist\n",
    "os.makedirs(results_dir, exist_ok=True)\n",
    "\n",
    "# Define commands\n",
    "chunk_command = (f\"python -m booookscore.chunk --chunk_size {chunk_size} --input_path {pickle_book_path} --output_path {chunked_output_path}\")\n",
    "summ_command = (\n",
    "    f\"python -m booookscore.summ --book_path {chunked_output_path} --summ_path {summaries_output_path} --model {model} --api {api} \"\n",
    "    f\"--api_key {api_key_path} --method {method} --chunk_size {chunk_size} --max_context_len {max_context_len}\"\n",
    ")\n",
    "postprocess_command = (f\"python -m booookscore.postprocess --input_path {summaries_output_path}\")\n",
    "\n",
    "# Execute commands\n",
    "print(\"Chunking the book...\")\n",
    "os.system(chunk_command)\n",
    "\n",
    "print(\"Summarizing the book...\")\n",
    "os.system(summ_command)\n",
    "\n",
    "print(\"Postprocessing the summaries...\")\n",
    "os.system(postprocess_command)\n",
    "\n",
    "print(\"Scoring the summaries...\")\n",
    "scorer = Scorer(model=model,api=api,api_key=api_key_path,summ_path=postprocessed_summaries_output_path,annot_path=annotations_output_path,\n",
    "    template_path=\"prompts/get_annotations.txt\",v2=False,)\n",
    "score = scorer.get_score()\n",
    "print(f\"BooookScore = {score}\")\n",
    "\n",
    "# Open the summaries json file which contains a dictionary of the summaries \n",
    "with open(postprocessed_summaries_output_path, \"r\") as f:\n",
    "    summary_dict = json.load(f)\n",
    "n_words = len(summary_dict[book_name].split())\n",
    "print(f\"Summary Length (Words): {n_words}\")\n",
    "\n",
    "# Save the score and summary length to a json file\n",
    "results = {\"BooookScore\": score, \"n_words\": n_words}\n",
    "with open(score_output_path, \"w\") as f:\n",
    "    json.dump(results, f, indent=4)\n",
    "\n",
    "print(f\"All files have been saved to {results_dir}\")"
   ]
  }
 ],
 "metadata": {
  "kernelspec": {
   "display_name": "ai",
   "language": "python",
   "name": "ai"
  },
  "language_info": {
   "codemirror_mode": {
    "name": "ipython",
    "version": 3
   },
   "file_extension": ".py",
   "mimetype": "text/x-python",
   "name": "python",
   "nbconvert_exporter": "python",
   "pygments_lexer": "ipython3",
   "version": "3.10.12"
  }
 },
 "nbformat": 4,
 "nbformat_minor": 2
}
