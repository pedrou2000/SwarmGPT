{
 "cells": [
  {
   "cell_type": "markdown",
   "metadata": {},
   "source": [
    "### BooookScore Summarization and Evaluation"
   ]
  },
  {
   "cell_type": "code",
   "execution_count": 3,
   "metadata": {},
   "outputs": [
    {
     "name": "stdout",
     "output_type": "stream",
     "text": [
      "Chunking the book...\n"
     ]
    },
    {
     "name": "stderr",
     "output_type": "stream",
     "text": [
      "  0%|          | 0/1 [00:00<?, ?it/s]\n",
      "  0%|          | 0/108 [00:00<?, ?it/s]\u001b[A\n",
      " 11%|█         | 12/108 [00:03<00:25,  3.84it/s]\u001b[A\n",
      " 17%|█▋        | 18/108 [00:05<00:27,  3.29it/s]\u001b[A\n",
      " 29%|██▊       | 31/108 [00:08<00:21,  3.54it/s]\u001b[A\n",
      " 35%|███▌      | 38/108 [00:11<00:22,  3.08it/s]\u001b[A\n",
      " 44%|████▎     | 47/108 [00:12<00:15,  3.90it/s]\u001b[A\n",
      " 49%|████▉     | 53/108 [00:17<00:21,  2.56it/s]\u001b[A\n",
      " 55%|█████▍    | 59/108 [00:17<00:14,  3.40it/s]\u001b[A\n",
      "100%|██████████| 108/108 [00:18<00:00,  5.90it/s][A\n"
     ]
    },
    {
     "name": "stdout",
     "output_type": "stream",
     "text": [
      "a_brief_history_of_time chunk sizes: [3101, 4084, 4094, 4068, 4093, 1621, 4087, 4093, 4068, 4096, 4066, 4085, 4073, 4075, 4070, 4060, 4083, 3492, 4080, 4065, 2673]\n"
     ]
    },
    {
     "name": "stderr",
     "output_type": "stream",
     "text": [
      "100%|██████████| 1/1 [00:18<00:00, 18.55s/it]\n"
     ]
    },
    {
     "name": "stdout",
     "output_type": "stream",
     "text": [
      "Summarizing the book...\n"
     ]
    },
    {
     "name": "stderr",
     "output_type": "stream",
     "text": [
      "Iterating over books: 100%|██████████| 1/1 [02:34<00:00, 154.49s/it]\n"
     ]
    },
    {
     "name": "stdout",
     "output_type": "stream",
     "text": [
      "Postprocessing the summaries...\n"
     ]
    },
    {
     "name": "stderr",
     "output_type": "stream",
     "text": [
      "Iterating over books: 100%|██████████| 1/1 [00:00<00:00, 6887.20it/s]\n"
     ]
    },
    {
     "name": "stdout",
     "output_type": "stream",
     "text": [
      "Scoring the summaries...\n",
      "No annotations found, getting annotations...\n"
     ]
    },
    {
     "name": "stderr",
     "output_type": "stream",
     "text": [
      "Iterating over sentences: 100%|██████████| 27/27 [04:37<00:00, 10.26s/it]\n",
      "Iterating over summaries: 100%|██████████| 1/1 [04:37<00:00, 277.06s/it]"
     ]
    },
    {
     "name": "stdout",
     "output_type": "stream",
     "text": [
      "BooookScore = 1.0\n",
      "Summary Length (Words): 610\n",
      "All files have been saved to results/gpt-4o/a_brief_history_of_time/hier/\n"
     ]
    },
    {
     "name": "stderr",
     "output_type": "stream",
     "text": [
      "\n"
     ]
    }
   ],
   "source": [
    "import os, json\n",
    "from booookscore.score import Scorer \n",
    "\n",
    "# Define variables\n",
    "# book_name = \"reminiscences-of-pioneer-days-in-st-paul\"\n",
    "book_name = \"a_brief_history_of_time\"\n",
    "model = \"gpt-4o\"\n",
    "# model = \"gpt-3.5-turbo\"\n",
    "method = \"hier\"  # or \"increasing\"\n",
    "\n",
    "# Configuration variables\n",
    "api = \"openai\"\n",
    "api_key_path = \"api.txt\"\n",
    "chunk_size = 4096\n",
    "max_context_len = 8192\n",
    "\n",
    "# Create results directory structure\n",
    "data_dir = \"../../../data/full_content_parsed_epubs/\"\n",
    "results_dir = \"results/\" + model + \"/\" + book_name + \"/\" + method + \"/\"\n",
    "\n",
    "pickle_book_path = data_dir + book_name + \".pkl\"\n",
    "chunked_output_path = results_dir + \"chunked_book.pkl\"\n",
    "summaries_output_path = results_dir + \"summaries.json\"\n",
    "postprocessed_summaries_output_path = summaries_output_path.replace('.json', '_cleaned.json')\n",
    "annotations_output_path = results_dir + \"annotations.json\"\n",
    "score_output_path = results_dir + \"score.json\"\n",
    "\n",
    "\n",
    "# Ensure the directories exist\n",
    "os.makedirs(results_dir, exist_ok=True)\n",
    "\n",
    "# Define commands\n",
    "chunk_command = (f\"python -m booookscore.chunk --chunk_size {chunk_size} --input_path {pickle_book_path} --output_path {chunked_output_path}\")\n",
    "summ_command = (\n",
    "    f\"python -m booookscore.summ --book_path {chunked_output_path} --summ_path {summaries_output_path} --model {model} --api {api} \"\n",
    "    f\"--api_key {api_key_path} --method {method} --chunk_size {chunk_size} --max_context_len {max_context_len}\"\n",
    ")\n",
    "postprocess_command = (f\"python -m booookscore.postprocess --input_path {summaries_output_path}\")\n",
    "\n",
    "# Execute commands\n",
    "print(\"Chunking the book...\")\n",
    "os.system(chunk_command)\n",
    "\n",
    "print(\"Summarizing the book...\")\n",
    "os.system(summ_command)\n",
    "\n",
    "print(\"Postprocessing the summaries...\")\n",
    "os.system(postprocess_command)\n",
    "\n",
    "print(\"Scoring the summaries...\")\n",
    "scorer = Scorer(model=model,api=api,api_key=api_key_path,summ_path=postprocessed_summaries_output_path,annot_path=annotations_output_path,\n",
    "    template_path=\"prompts/get_annotations.txt\",v2=False,)\n",
    "score = scorer.get_score()\n",
    "print(f\"BooookScore = {score}\")\n",
    "\n",
    "# Open the summaries json file which contains a dictionary of the summaries \n",
    "with open(postprocessed_summaries_output_path, \"r\") as f:\n",
    "    summary_dict = json.load(f)\n",
    "n_words = len(summary_dict[book_name].split())\n",
    "print(f\"Summary Length (Words): {n_words}\")\n",
    "\n",
    "# Save the score and summary length to a json file\n",
    "results = {\"BooookScore\": score, \"n_words\": n_words}\n",
    "with open(score_output_path, \"w\") as f:\n",
    "    json.dump(results, f, indent=4)\n",
    "\n",
    "print(f\"All files have been saved to {results_dir}\")"
   ]
  }
 ],
 "metadata": {
  "kernelspec": {
   "display_name": "ai",
   "language": "python",
   "name": "ai"
  },
  "language_info": {
   "codemirror_mode": {
    "name": "ipython",
    "version": 3
   },
   "file_extension": ".py",
   "mimetype": "text/x-python",
   "name": "python",
   "nbconvert_exporter": "python",
   "pygments_lexer": "ipython3",
   "version": "3.10.12"
  }
 },
 "nbformat": 4,
 "nbformat_minor": 2
}
