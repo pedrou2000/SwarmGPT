{
 "cells": [
  {
   "cell_type": "markdown",
   "metadata": {},
   "source": [
    "### BooookScore Summarization"
   ]
  },
  {
   "cell_type": "code",
   "execution_count": 3,
   "metadata": {},
   "outputs": [
    {
     "name": "stdout",
     "output_type": "stream",
     "text": [
      "Chunking the book...\n"
     ]
    },
    {
     "name": "stderr",
     "output_type": "stream",
     "text": [
      "100%|██████████| 1/1 [00:00<00:00, 31068.92it/s]\n"
     ]
    },
    {
     "name": "stdout",
     "output_type": "stream",
     "text": [
      "Already processed, skipping...\n",
      "Summarizing the book...\n",
      "Loading existing summaries...\n",
      "Already processed, skipping...\n",
      "Postprocessing the summaries...\n"
     ]
    },
    {
     "name": "stderr",
     "output_type": "stream",
     "text": [
      "Iterating over books: 100%|██████████| 1/1 [00:00<00:00, 29959.31it/s]\n",
      "Iterating over books: 100%|██████████| 1/1 [00:00<00:00, 18315.74it/s]\n"
     ]
    },
    {
     "name": "stdout",
     "output_type": "stream",
     "text": [
      "Skipping reminiscences-of-pioneer-days-in-st-paul\n",
      "Scoring the summaries...\n",
      "No annotations found, getting annotations...\n"
     ]
    },
    {
     "name": "stderr",
     "output_type": "stream",
     "text": [
      "Iterating over sentences: 100%|██████████| 29/29 [04:37<00:00,  9.58s/it]\n",
      "Iterating over summaries: 100%|██████████| 1/1 [04:37<00:00, 277.92s/it]"
     ]
    },
    {
     "name": "stdout",
     "output_type": "stream",
     "text": [
      "BooookScore = 0.7586206896551724\n",
      "All files have been saved to results/gpt-4o/reminiscences-of-pioneer-days-in-st-paul/hier/\n"
     ]
    },
    {
     "name": "stderr",
     "output_type": "stream",
     "text": [
      "\n"
     ]
    }
   ],
   "source": [
    "import os\n",
    "from booookscore.score import Scorer \n",
    "\n",
    "# Define variables\n",
    "book_name = \"reminiscences-of-pioneer-days-in-st-paul\"\n",
    "model = \"gpt-4o\"\n",
    "method = \"hier\"  # or \"increasing\"\n",
    "\n",
    "# Configuration variables\n",
    "api = \"openai\"\n",
    "api_key_path = \"api.txt\"\n",
    "chunk_size = 4096\n",
    "max_context_len = 8192\n",
    "\n",
    "# Create results directory structure\n",
    "data_dir = \"data/\"\n",
    "results_dir = \"results/\" + model + \"/\" + book_name + \"/\" + method + \"/\"\n",
    "\n",
    "pickle_book_path = data_dir + book_name + \".pkl\"\n",
    "chunked_output_path = results_dir + \"chunked_book.pkl\"\n",
    "summaries_output_path = results_dir + \"summaries.json\"\n",
    "postprocessed_summaries_output_path = summaries_output_path.replace('.json', '_cleaned.json')\n",
    "annotations_output_path = results_dir + \"annotations.json\"\n",
    "score_output_path = results_dir + \"score.txt\"\n",
    "\n",
    "\n",
    "# Ensure the directories exist\n",
    "os.makedirs(results_dir, exist_ok=True)\n",
    "\n",
    "# Define commands\n",
    "chunk_command = (f\"python -m booookscore.chunk --chunk_size {chunk_size} --input_path {pickle_book_path} --output_path {chunked_output_path}\")\n",
    "summ_command = (\n",
    "    f\"python -m booookscore.summ --book_path {chunked_output_path} --summ_path {summaries_output_path} --model {model} --api {api} \"\n",
    "    f\"--api_key {api_key_path} --method {method} --chunk_size {chunk_size} --max_context_len {max_context_len}\"\n",
    ")\n",
    "postprocess_command = (f\"python -m booookscore.postprocess --input_path {summaries_output_path}\")\n",
    "\n",
    "# Execute commands\n",
    "print(\"Chunking the book...\")\n",
    "os.system(chunk_command)\n",
    "\n",
    "print(\"Summarizing the book...\")\n",
    "os.system(summ_command)\n",
    "\n",
    "print(\"Postprocessing the summaries...\")\n",
    "os.system(postprocess_command)\n",
    "\n",
    "print(\"Scoring the summaries...\")\n",
    "scorer = Scorer(model=model,api=api,api_key=api_key_path,summ_path=postprocessed_summaries_output_path,annot_path=annotations_output_path,\n",
    "    template_path=\"prompts/get_annotations.txt\",v2=False,)\n",
    "score = scorer.get_score()\n",
    "print(f\"BooookScore = {score}\")\n",
    "with open(score_output_path, \"w\") as f:\n",
    "    f.write(f\"BooookScore = {score}\")\n",
    "\n",
    "\n",
    "print(f\"All files have been saved to {results_dir}\")"
   ]
  }
 ],
 "metadata": {
  "kernelspec": {
   "display_name": "ai",
   "language": "python",
   "name": "ai"
  },
  "language_info": {
   "codemirror_mode": {
    "name": "ipython",
    "version": 3
   },
   "file_extension": ".py",
   "mimetype": "text/x-python",
   "name": "python",
   "nbconvert_exporter": "python",
   "pygments_lexer": "ipython3",
   "version": "3.10.12"
  }
 },
 "nbformat": 4,
 "nbformat_minor": 2
}
