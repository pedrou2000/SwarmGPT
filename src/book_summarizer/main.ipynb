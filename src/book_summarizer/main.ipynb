{
 "cells": [
  {
   "cell_type": "markdown",
   "metadata": {},
   "source": [
    "### Setup"
   ]
  },
  {
   "cell_type": "code",
   "execution_count": 1,
   "metadata": {},
   "outputs": [],
   "source": [
    "%load_ext autoreload\n",
    "%autoreload 2\n",
    "\n",
    "import sys, os\n",
    "sys.path.append(os.path.dirname(os.getcwd()))\n",
    "\n",
    "from IPython.display import Image, display\n",
    "\n",
    "import constants, utils\n",
    "from multi_agent_graph import get_multi_agent_summarizer_graph\n",
    "from data_classes.book_summarizer_state import BookSummarizerState"
   ]
  },
  {
   "cell_type": "markdown",
   "metadata": {},
   "source": [
    "### Execute the Graph\n"
   ]
  },
  {
   "cell_type": "code",
   "execution_count": 4,
   "metadata": {},
   "outputs": [
    {
     "name": "stdout",
     "output_type": "stream",
     "text": [
      "\n",
      "\n",
      " 33 chapters found in the book\n",
      "Event: {'Epub Loader': {'book_name': 'eat_that_frog', 'verbose': 0, 'book_dir': '/home/pedro/Documents/GitHub/SwarmGPT/data/books/eat_that_frog.epub', 'book': <book_summarizer.data_classes.epub.EPUB object at 0x7f1b09740730>, 'chapter_titles_all': ['Cover Page', 'Title Page', 'Copyright Page', 'Dedication', 'Contents', 'Preface', 'Introduction: Eat That Frog', '1 Set the Table', '2 Plan Every Day in Advance', '3 Apply the 80/20 Rule to Everything', '4 Consider the Consequences', '5 Practice Creative Procrastination', '6 Use the ABCDE Method Continually', '7 Focus on Key Result Areas', '8 Apply the Law of Three', '9 Prepare Thoroughly Before You Begin', '10 Take It One Oil Barrel at a Time', '11 Upgrade Your Key Skills', '12 Identify Your Key Constraints', '13 Put the Pressure on Yourself', '14 Motivate Yourself into Action', '15 Technology Is a Terrible Master', '16 Technology Is a Wonderful Servant', '17 Focus Your Attention', '18 Slice and Dice the Task', '19 Create Large Chunks of Time', '20 Develop a Sense of Urgency', '21 Single Handle Every Task', 'Conclusion: Putting It All Together', 'Notes', 'Index', 'Learning Resources of Brian Tracy International', 'About the Author'], 'chapter_titles_to_summarize': [], 'chapters_to_summarize': [], 'num_chapters_to_summarize': 2, 'chapter_summaries': [], 'final_summary': '', 'summaries_dir': '/home/pedro/Documents/GitHub/SwarmGPT/results/book_summaries/'}}\n",
      "Event: {'Relevant Chapters Selector': {'book_name': 'eat_that_frog', 'verbose': 0, 'book_dir': '/home/pedro/Documents/GitHub/SwarmGPT/data/books/eat_that_frog.epub', 'book': <book_summarizer.data_classes.epub.EPUB object at 0x7f1b09740730>, 'chapter_titles_all': ['Cover Page', 'Title Page', 'Copyright Page', 'Dedication', 'Contents', 'Preface', 'Introduction: Eat That Frog', '1 Set the Table', '2 Plan Every Day in Advance', '3 Apply the 80/20 Rule to Everything', '4 Consider the Consequences', '5 Practice Creative Procrastination', '6 Use the ABCDE Method Continually', '7 Focus on Key Result Areas', '8 Apply the Law of Three', '9 Prepare Thoroughly Before You Begin', '10 Take It One Oil Barrel at a Time', '11 Upgrade Your Key Skills', '12 Identify Your Key Constraints', '13 Put the Pressure on Yourself', '14 Motivate Yourself into Action', '15 Technology Is a Terrible Master', '16 Technology Is a Wonderful Servant', '17 Focus Your Attention', '18 Slice and Dice the Task', '19 Create Large Chunks of Time', '20 Develop a Sense of Urgency', '21 Single Handle Every Task', 'Conclusion: Putting It All Together', 'Notes', 'Index', 'Learning Resources of Brian Tracy International', 'About the Author'], 'chapter_titles_to_summarize': ['Introduction: Eat That Frog', '1 Set the Table', '2 Plan Every Day in Advance', '3 Apply the 80/20 Rule to Everything', '4 Consider the Consequences', '5 Practice Creative Procrastination', '6 Use the ABCDE Method Continually', '7 Focus on Key Result Areas', '8 Apply the Law of Three', '9 Prepare Thoroughly Before You Begin', '10 Take It One Oil Barrel at a Time', '11 Upgrade Your Key Skills', '12 Identify Your Key Constraints', '13 Put the Pressure on Yourself', '14 Motivate Yourself into Action', '15 Technology Is a Terrible Master', '16 Technology Is a Wonderful Servant', '17 Focus Your Attention', '18 Slice and Dice the Task', '19 Create Large Chunks of Time', '20 Develop a Sense of Urgency', '21 Single Handle Every Task', 'Conclusion: Putting It All Together'], 'chapters_to_summarize': [], 'num_chapters_to_summarize': 2, 'chapter_summaries': [], 'final_summary': '', 'summaries_dir': '/home/pedro/Documents/GitHub/SwarmGPT/results/book_summaries/'}}\n",
      "Event: {'Chapters Loader': {'book_name': 'eat_that_frog', 'verbose': 0, 'book_dir': '/home/pedro/Documents/GitHub/SwarmGPT/data/books/eat_that_frog.epub', 'book': <book_summarizer.data_classes.epub.EPUB object at 0x7f1b09740730>, 'chapter_titles_all': ['Cover Page', 'Title Page', 'Copyright Page', 'Dedication', 'Contents', 'Preface', 'Introduction: Eat That Frog', '1 Set the Table', '2 Plan Every Day in Advance', '3 Apply the 80/20 Rule to Everything', '4 Consider the Consequences', '5 Practice Creative Procrastination', '6 Use the ABCDE Method Continually', '7 Focus on Key Result Areas', '8 Apply the Law of Three', '9 Prepare Thoroughly Before You Begin', '10 Take It One Oil Barrel at a Time', '11 Upgrade Your Key Skills', '12 Identify Your Key Constraints', '13 Put the Pressure on Yourself', '14 Motivate Yourself into Action', '15 Technology Is a Terrible Master', '16 Technology Is a Wonderful Servant', '17 Focus Your Attention', '18 Slice and Dice the Task', '19 Create Large Chunks of Time', '20 Develop a Sense of Urgency', '21 Single Handle Every Task', 'Conclusion: Putting It All Together', 'Notes', 'Index', 'Learning Resources of Brian Tracy International', 'About the Author'], 'chapter_titles_to_summarize': ['Introduction: Eat That Frog', '1 Set the Table', '2 Plan Every Day in Advance', '3 Apply the 80/20 Rule to Everything', '4 Consider the Consequences', '5 Practice Creative Procrastination', '6 Use the ABCDE Method Continually', '7 Focus on Key Result Areas', '8 Apply the Law of Three', '9 Prepare Thoroughly Before You Begin', '10 Take It One Oil Barrel at a Time', '11 Upgrade Your Key Skills', '12 Identify Your Key Constraints', '13 Put the Pressure on Yourself', '14 Motivate Yourself into Action', '15 Technology Is a Terrible Master', '16 Technology Is a Wonderful Servant', '17 Focus Your Attention', '18 Slice and Dice the Task', '19 Create Large Chunks of Time', '20 Develop a Sense of Urgency', '21 Single Handle Every Task', 'Conclusion: Putting It All Together'], 'chapters_to_summarize': [<book_summarizer.data_classes.epub.ContentNode object at 0x7f1b09770130>, <book_summarizer.data_classes.epub.ContentNode object at 0x7f1b09770190>], 'num_chapters_to_summarize': 2, 'chapter_summaries': [], 'final_summary': '', 'summaries_dir': '/home/pedro/Documents/GitHub/SwarmGPT/results/book_summaries/'}}\n",
      "Event: {'Section Summarizer': {'chapter_summaries': [ChapterSummary(chapter=<book_summarizer.data_classes.epub.ContentNode object at 0x7f1b09770190>, chapter_summary=\"The chapter emphasizes the importance of clarity in setting goals and outlines a seven-step formula for goal setting and achievement. These steps include deciding what you want, writing it down, setting deadlines, making a comprehensive list of tasks, organizing the list, taking immediate action, and committing to daily progress. The chapter highlights the power of written goals in driving motivation, creativity, and productivity. It concludes with a practical exercise to list ten goals and focus on the one with the most significant impact on one's life.\")]}}\n",
      "Event: {'Section Summarizer': {'chapter_summaries': [ChapterSummary(chapter=<book_summarizer.data_classes.epub.ContentNode object at 0x7f1b09770130>, chapter_summary=\"The chapter emphasizes the importance of prioritizing tasks and starting with the most important ones first, referred to as 'eating the frog.' It highlights the significance of taking immediate action, developing the habit of completing important tasks, and the positive impact it has on one's success and confidence. The chapter also discusses the need for decision, discipline, and determination in forming new productive habits, visualizing success, and the power of self-image in driving behavior towards achieving goals.\")]}}\n",
      "Event: {'Summaries Aggregator': {'book_name': 'eat_that_frog', 'verbose': 0, 'book_dir': '/home/pedro/Documents/GitHub/SwarmGPT/data/books/eat_that_frog.epub', 'book': <book_summarizer.data_classes.epub.EPUB object at 0x7f1b09740730>, 'chapter_titles_all': ['Cover Page', 'Title Page', 'Copyright Page', 'Dedication', 'Contents', 'Preface', 'Introduction: Eat That Frog', '1 Set the Table', '2 Plan Every Day in Advance', '3 Apply the 80/20 Rule to Everything', '4 Consider the Consequences', '5 Practice Creative Procrastination', '6 Use the ABCDE Method Continually', '7 Focus on Key Result Areas', '8 Apply the Law of Three', '9 Prepare Thoroughly Before You Begin', '10 Take It One Oil Barrel at a Time', '11 Upgrade Your Key Skills', '12 Identify Your Key Constraints', '13 Put the Pressure on Yourself', '14 Motivate Yourself into Action', '15 Technology Is a Terrible Master', '16 Technology Is a Wonderful Servant', '17 Focus Your Attention', '18 Slice and Dice the Task', '19 Create Large Chunks of Time', '20 Develop a Sense of Urgency', '21 Single Handle Every Task', 'Conclusion: Putting It All Together', 'Notes', 'Index', 'Learning Resources of Brian Tracy International', 'About the Author'], 'chapter_titles_to_summarize': ['Introduction: Eat That Frog', '1 Set the Table', '2 Plan Every Day in Advance', '3 Apply the 80/20 Rule to Everything', '4 Consider the Consequences', '5 Practice Creative Procrastination', '6 Use the ABCDE Method Continually', '7 Focus on Key Result Areas', '8 Apply the Law of Three', '9 Prepare Thoroughly Before You Begin', '10 Take It One Oil Barrel at a Time', '11 Upgrade Your Key Skills', '12 Identify Your Key Constraints', '13 Put the Pressure on Yourself', '14 Motivate Yourself into Action', '15 Technology Is a Terrible Master', '16 Technology Is a Wonderful Servant', '17 Focus Your Attention', '18 Slice and Dice the Task', '19 Create Large Chunks of Time', '20 Develop a Sense of Urgency', '21 Single Handle Every Task', 'Conclusion: Putting It All Together'], 'chapters_to_summarize': [<book_summarizer.data_classes.epub.ContentNode object at 0x7f1b09770130>, <book_summarizer.data_classes.epub.ContentNode object at 0x7f1b09770190>], 'num_chapters_to_summarize': 2, 'chapter_summaries': [ChapterSummary(chapter=<book_summarizer.data_classes.epub.ContentNode object at 0x7f1b09770130>, chapter_summary=\"The chapter emphasizes the importance of prioritizing tasks and starting with the most important ones first, referred to as 'eating the frog.' It highlights the significance of taking immediate action, developing the habit of completing important tasks, and the positive impact it has on one's success and confidence. The chapter also discusses the need for decision, discipline, and determination in forming new productive habits, visualizing success, and the power of self-image in driving behavior towards achieving goals.\"), ChapterSummary(chapter=<book_summarizer.data_classes.epub.ContentNode object at 0x7f1b09770190>, chapter_summary=\"The chapter emphasizes the importance of clarity in setting goals and outlines a seven-step formula for goal setting and achievement. These steps include deciding what you want, writing it down, setting deadlines, making a comprehensive list of tasks, organizing the list, taking immediate action, and committing to daily progress. The chapter highlights the power of written goals in driving motivation, creativity, and productivity. It concludes with a practical exercise to list ten goals and focus on the one with the most significant impact on one's life.\")], 'final_summary': \"The book 'Eat That Frog!' by Brian Tracy provides valuable insights on time management and productivity. The introduction sets the tone by stressing the importance of prioritizing tasks and tackling the most critical ones first, known as 'eating the frog.' This concept underlines the significance of taking immediate action, completing essential tasks, and the positive effects on success and confidence. Decision-making, discipline, and determination are highlighted as key factors in forming productive habits, visualizing success, and leveraging self-image to achieve goals. The chapter encourages readers to cultivate a proactive approach to task management.\\n\\nChapter 1, 'Set the Table,' delves into the crucial aspect of goal setting. It presents a seven-step strategy for effective goal setting, including defining objectives, documenting them, setting deadlines, creating a task list, organizing tasks, initiating action promptly, and ensuring daily progress. The chapter emphasizes the transformative power of written goals in boosting motivation, fostering creativity, and enhancing productivity. A practical exercise is provided to help readers identify and focus on goals with the most significant impact on their lives.\\n\\nThe book offers practical techniques for enhancing productivity and overcoming procrastination. It stresses the importance of prioritizing tasks based on their importance and urgency to maximize efficiency. By adopting a proactive mindset and implementing the strategies outlined in the book, readers can streamline their workflow, increase productivity, and achieve their goals effectively. The emphasis on clarity, goal setting, and taking immediate action serves as a roadmap for individuals seeking to optimize their time management skills and enhance their overall performance.\\n\\nThroughout the book, the author emphasizes the need for discipline, focus, and commitment to personal and professional growth. By cultivating habits that support goal achievement and embracing a proactive approach to task management, individuals can elevate their performance levels and realize their full potential. 'Eat That Frog!' serves as a practical guide for individuals looking to enhance their time management skills, increase productivity, and achieve success in various aspects of their lives by prioritizing tasks effectively and taking decisive action towards their goals.\", 'summaries_dir': '/home/pedro/Documents/GitHub/SwarmGPT/results/book_summaries/'}}\n",
      "Chapter:  Introduction: Eat That Frog\n",
      "Summary:  The chapter emphasizes the importance of prioritizing tasks and starting with the most important ones first, referred to as 'eating the frog.' It highlights the significance of taking immediate action, developing the habit of completing important tasks, and the positive impact it has on one's success and confidence. The chapter also discusses the need for decision, discipline, and determination in forming new productive habits, visualizing success, and the power of self-image in driving behavior towards achieving goals.\n",
      "\n",
      "\n",
      "\n",
      "Chapter:  1 Set the Table\n",
      "Summary:  The chapter emphasizes the importance of clarity in setting goals and outlines a seven-step formula for goal setting and achievement. These steps include deciding what you want, writing it down, setting deadlines, making a comprehensive list of tasks, organizing the list, taking immediate action, and committing to daily progress. The chapter highlights the power of written goals in driving motivation, creativity, and productivity. It concludes with a practical exercise to list ten goals and focus on the one with the most significant impact on one's life.\n",
      "\n",
      "\n",
      "\n",
      "Chapter:  Introduction: Eat That Frog\n",
      "Summary:  The chapter emphasizes the importance of prioritizing tasks and starting with the most important ones first, referred to as 'eating the frog.' It highlights the significance of taking immediate action, developing the habit of completing important tasks, and the positive impact it has on one's success and confidence. The chapter also discusses the need for decision, discipline, and determination in forming new productive habits, visualizing success, and the power of self-image in driving behavior towards achieving goals.\n",
      "\n",
      "\n",
      "\n",
      "Chapter:  1 Set the Table\n",
      "Summary:  The chapter emphasizes the importance of clarity in setting goals and outlines a seven-step formula for goal setting and achievement. These steps include deciding what you want, writing it down, setting deadlines, making a comprehensive list of tasks, organizing the list, taking immediate action, and committing to daily progress. The chapter highlights the power of written goals in driving motivation, creativity, and productivity. It concludes with a practical exercise to list ten goals and focus on the one with the most significant impact on one's life.\n",
      "\n",
      "\n",
      "\n",
      "\n",
      "\n",
      "Final Summary:  The book 'Eat That Frog!' by Brian Tracy provides valuable insights on time management and productivity. The introduction sets the tone by stressing the importance of prioritizing tasks and tackling the most critical ones first, known as 'eating the frog.' This concept underlines the significance of taking immediate action, completing essential tasks, and the positive effects on success and confidence. Decision-making, discipline, and determination are highlighted as key factors in forming productive habits, visualizing success, and leveraging self-image to achieve goals. The chapter encourages readers to cultivate a proactive approach to task management.\n",
      "\n",
      "Chapter 1, 'Set the Table,' delves into the crucial aspect of goal setting. It presents a seven-step strategy for effective goal setting, including defining objectives, documenting them, setting deadlines, creating a task list, organizing tasks, initiating action promptly, and ensuring daily progress. The chapter emphasizes the transformative power of written goals in boosting motivation, fostering creativity, and enhancing productivity. A practical exercise is provided to help readers identify and focus on goals with the most significant impact on their lives.\n",
      "\n",
      "The book offers practical techniques for enhancing productivity and overcoming procrastination. It stresses the importance of prioritizing tasks based on their importance and urgency to maximize efficiency. By adopting a proactive mindset and implementing the strategies outlined in the book, readers can streamline their workflow, increase productivity, and achieve their goals effectively. The emphasis on clarity, goal setting, and taking immediate action serves as a roadmap for individuals seeking to optimize their time management skills and enhance their overall performance.\n",
      "\n",
      "Throughout the book, the author emphasizes the need for discipline, focus, and commitment to personal and professional growth. By cultivating habits that support goal achievement and embracing a proactive approach to task management, individuals can elevate their performance levels and realize their full potential. 'Eat That Frog!' serves as a practical guide for individuals looking to enhance their time management skills, increase productivity, and achieve success in various aspects of their lives by prioritizing tasks effectively and taking decisive action towards their goals.\n"
     ]
    }
   ],
   "source": [
    "config = {\"recursion_limit\": 50}\n",
    "inputs = {\n",
    "    \"book_name\": constants.BOOK_NAME, \n",
    "    \"book_dir\": constants.BOOK_PATH, \n",
    "    \"num_chapters_to_summarize\": constants.NUM_CHAPTERS_TO_SUMMARIZE, \n",
    "    \"verbose\": constants.VERBOSE,\n",
    "    \"summaries_dir\": constants.BOOK_SUMMARIES_DIR,\n",
    "}\n",
    "\n",
    "graph = get_multi_agent_summarizer_graph()\n",
    "app = graph.compile()\n",
    "# display(Image(app.get_graph(xray=True).draw_mermaid_png())) \n",
    "\n",
    "book_config = BookSummarizerState(**inputs)\n",
    "for event in app.stream(book_config.dict(), config=config):\n",
    "    print(\"Event:\", event)\n"
   ]
  }
 ],
 "metadata": {
  "kernelspec": {
   "display_name": "ai",
   "language": "python",
   "name": "ai"
  },
  "language_info": {
   "codemirror_mode": {
    "name": "ipython",
    "version": 3
   },
   "file_extension": ".py",
   "mimetype": "text/x-python",
   "name": "python",
   "nbconvert_exporter": "python",
   "pygments_lexer": "ipython3",
   "version": "3.10.12"
  }
 },
 "nbformat": 4,
 "nbformat_minor": 2
}
