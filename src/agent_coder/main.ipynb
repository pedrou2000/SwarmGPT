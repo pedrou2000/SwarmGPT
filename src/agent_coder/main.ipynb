{
 "cells": [
  {
   "cell_type": "markdown",
   "metadata": {},
   "source": [
    "### Imports"
   ]
  },
  {
   "cell_type": "code",
   "execution_count": 1,
   "metadata": {},
   "outputs": [],
   "source": [
    "%load_ext autoreload\n",
    "%autoreload 2\n",
    "\n",
    "import sys, os\n",
    "sys.path.append(os.path.dirname(os.getcwd()))\n",
    "sys.path.append(os.getcwd())\n",
    "\n",
    "import constants\n",
    "from generic_agents.CodeInterpreterAgent import CodeInterpreterAgent"
   ]
  },
  {
   "cell_type": "markdown",
   "metadata": {},
   "source": [
    "### Loading the HumanEval Dataset"
   ]
  },
  {
   "cell_type": "code",
   "execution_count": 2,
   "metadata": {},
   "outputs": [
    {
     "name": "stdout",
     "output_type": "stream",
     "text": [
      "164\n",
      "dict_keys(['task_id', 'prompt', 'canonical_solution', 'test', 'entry_point'])\n",
      "\n",
      "\n",
      "def sort_third(l: list):\n",
      "    \"\"\"This function takes a list l and returns a list l' such that\n",
      "    l' is identical to l in the indicies that are not divisible by three, while its values at the indicies that are divisible by three are equal\n",
      "    to the values of the corresponding indicies of l, but sorted.\n",
      "    >>> sort_third([1, 2, 3])\n",
      "    [1, 2, 3]\n",
      "    >>> sort_third([5, 6, 3, 4, 8, 9, 2])\n",
      "    [2, 6, 3, 4, 8, 9, 5]\n",
      "    \"\"\"\n",
      "\n",
      "sort_third\n"
     ]
    }
   ],
   "source": [
    "from human_eval_utils import load_human_eval\n",
    "\n",
    "dataset = load_human_eval()\n",
    "\n",
    "print(len(dataset))\n",
    "task = dataset[-131]\n",
    "# print a random example\n",
    "print(task.keys())\n",
    "print(task['prompt'])\n",
    "print(task['entry_point'])\n",
    "# print(task['test'])"
   ]
  },
  {
   "cell_type": "markdown",
   "metadata": {},
   "source": [
    "### Single Agent Coder"
   ]
  },
  {
   "cell_type": "markdown",
   "metadata": {},
   "source": [
    "#### CodeInterpreterAgent"
   ]
  },
  {
   "cell_type": "code",
   "execution_count": 43,
   "metadata": {},
   "outputs": [
    {
     "name": "stdout",
     "output_type": "stream",
     "text": [
      "Number of messages: 0\n",
      "Number of messages: 2\n",
      "Problem 0 - Tests Passed: True\n",
      "AssertionError in check_code_execution: Test 1\n",
      "Number of messages: 2\n",
      "Problem 1 - Tests Passed: False\n",
      "Number of messages: 2\n",
      "Problem 2 - Tests Passed: True\n",
      "Correct: 2/3\n"
     ]
    }
   ],
   "source": [
    "system_prompt = \"\"\" \n",
    "    You are an expert software engineer. You are asked to write code to solve a problem \n",
    "    which involves creating a Python method to solve a problem indicated as the comments of the method. \n",
    "    The code should be efficient and correct. The code should be written in Python. \n",
    "    Store the code solution in a file, and provide the file path as the answer.\n",
    "    Do not add any assertions to the code, just complete the method. \n",
    "    Any library imports should be inside the new method, not at the top of the file.\n",
    "\"\"\"\n",
    "\n",
    "n_problems = 3\n",
    "single_agent_output_dir = 'CodeGenerations/single_agent_coder'\n",
    "single_agent_coder = CodeInterpreterAgent(system_prompt=system_prompt, agent_name=\"single_agent_coder\")\n",
    "print(f'Number of messages: {single_agent_coder.get_number_messages()}')\n",
    "\n",
    "n_correct = 0\n",
    "for n_problem in range(n_problems):\n",
    "    task = dataset[-n_problem]\n",
    "    \n",
    "    solution_file_path = os.path.join(single_agent_output_dir, f'problem_{n_problem}.py')\n",
    "    test_file_save_path = os.path.join(single_agent_output_dir, f'test_{n_problem}.py')\n",
    "\n",
    "    response = single_agent_coder.prompt_with_output_file(task['prompt'], file_path=solution_file_path)\n",
    "    code_runs = single_agent_coder.test_human_eval_solutions(solution_file_path=solution_file_path, test_code=task['test'], \n",
    "                                        method_name=task['entry_point'], test_file_save_path=test_file_save_path)\n",
    "    \n",
    "    print(f'Number of messages: {single_agent_coder.get_number_messages()}')\n",
    "    print(f'Problem {n_problem} - Tests Passed: {code_runs}')\n",
    "\n",
    "    if code_runs:\n",
    "        n_correct += 1\n",
    "    single_agent_coder.delete_all_messages()\n",
    "\n",
    "print(f'Correct: {n_correct}/{n_problems}')"
   ]
  },
  {
   "cell_type": "markdown",
   "metadata": {},
   "source": [
    "#### MultiTurnLLMAgent"
   ]
  },
  {
   "cell_type": "code",
   "execution_count": null,
   "metadata": {},
   "outputs": [],
   "source": [
    "from generic_agents.MultiTurnLLMAgent import MultiTurnLLMAgent\n",
    "from human_eval_utils import parse_python_code, construct_test_program, code_runs_without_errors, save_results\n",
    "\n",
    "system_prompt = \"\"\" \n",
    "    You are an expert software engineer. You are asked to write code to solve a problem \n",
    "    which involves creating a Python method to solve a problem indicated as the comments of the method. \n",
    "    You should only output the completition of the method, not the entire file.\n",
    "\"\"\"\n",
    "\n",
    "agent = MultiTurnLLMAgent(system_prompt=system_prompt)\n",
    "n_tasks = len(dataset)\n",
    "results = {\n",
    "    \"score\": 0, \n",
    "    \"test_counts\": {\"NoError\": 0, \"Error\": 0, \"AssertionError\": 0, \"IncorrectInput\": 0}, \n",
    "    \"tests_results\": {}\n",
    "}\n",
    "\n",
    "n_correct = 0\n",
    "for task_number in range(n_tasks):\n",
    "    task = dataset[task_number]\n",
    "    \n",
    "    response = agent.user_prompt(task['prompt'])\n",
    "    completion = parse_python_code(response)\n",
    "\n",
    "    test_path = constants.HUMAN_EVAL_SINGLE_AGENT_DIR + 'test_files/' + f'problem_{task_number}.py'\n",
    "    test_program = construct_test_program(task['prompt'], completion, task['test'], task['entry_point'], save_path=test_path)\n",
    "    (code_works, reason) = code_runs_without_errors(file_path=test_path)\n",
    "    \n",
    "    print(f'Problem {task_number} - Tests Passed: {code_works}')\n",
    "    if code_works:\n",
    "        n_correct += 1\n",
    "    if reason in results[\"test_counts\"]:\n",
    "        results[\"test_counts\"][reason] += 1\n",
    "    else:\n",
    "        results[\"test_counts\"][reason] = 1\n",
    "    results[\"tests_results\"][task_number] = (code_works, reason)\n",
    "\n",
    "    agent.reset_messages()\n",
    "\n",
    "results[\"score\"] = round(n_correct/n_tasks * 100, 4)\n",
    "save_results(results, constants.HUMAN_EVAL_SINGLE_AGENT_DIR)\n",
    "print(f'Correct: {n_correct}/{n_tasks}')\n",
    "print(results)"
   ]
  },
  {
   "cell_type": "markdown",
   "metadata": {},
   "source": [
    "### LangChain AgentCoder"
   ]
  },
  {
   "cell_type": "code",
   "execution_count": 3,
   "metadata": {},
   "outputs": [
    {
     "data": {
      "image/jpeg": "[encoded data removed]",
      "text/plain": [
       "<IPython.core.display.Image object>"
      ]
     },
     "metadata": {},
     "output_type": "display_data"
    },
    {
     "name": "stdout",
     "output_type": "stream",
     "text": [
      "In AgentTestGenerator\n",
      "Event: {'Test Generator': {'incomplete_method': 'from typing import List\\n\\n\\ndef has_close_elements(numbers: List[float], threshold: float) -> bool:\\n    \"\"\" Check if in given list of numbers, are any two numbers closer to each other than\\n    given threshold.\\n    >>> has_close_elements([1.0, 2.0, 3.0], 0.5)\\n    False\\n    >>> has_close_elements([1.0, 2.8, 3.0, 4.0, 5.0, 2.0], 0.3)\\n    True\\n    \"\"\"\\n', 'generated_tests': '\\nassert has_close_elements([1.0, 2.0, 3.0], 0.5) == False, \"Test Case 1: No close elements within threshold\"\\nassert has_close_elements([1.0, 2.8, 3.0, 4.0, 5.0, 2.0], 0.3) == True, \"Test Case 2: There are close elements within threshold\"\\nassert has_close_elements([1.5, 1.6, 2.5], 0.1) == True, \"Test Case 3: Close elements 1.5 and 1.6 within threshold of 0.1\"\\nassert has_close_elements([0.0, 1.0, 2.0, 3.0], 0.9) == False, \"Test Case 4: No close elements within threshold of 0.9\"\\nassert has_close_elements([-1.0, -1.05, -2.0], 0.1) == True, \"Test Case 5: Close negative elements -1.0 and -1.05 within threshold of 0.1\"\\nassert has_close_elements([5.5], 0.5) == False, \"Test Case 6: Single element list should return False\"\\nassert has_close_elements([], 0.5) == False, \"Test Case 7: Empty list should return False\"\\nassert has_close_elements([1.0, 1.0, 1.0], 0.1) == True, \"Test Case 8: All elements are the same and within threshold\"\\nassert has_close_elements([1.0, 3.0, 1.2, 4.0], 0.3) == True, \"Test Case 9: Close elements 1.0 and 1.2 within threshold of 0.3\"\\n', 'max_iterations': 3}}\n",
      "In AgentCoder\n",
      "Event: {'Coder': {'incomplete_method': 'from typing import List\\n\\n\\ndef has_close_elements(numbers: List[float], threshold: float) -> bool:\\n    \"\"\" Check if in given list of numbers, are any two numbers closer to each other than\\n    given threshold.\\n    >>> has_close_elements([1.0, 2.0, 3.0], 0.5)\\n    False\\n    >>> has_close_elements([1.0, 2.8, 3.0, 4.0, 5.0, 2.0], 0.3)\\n    True\\n    \"\"\"\\n', 'generated_tests': '\\nassert has_close_elements([1.0, 2.0, 3.0], 0.5) == False, \"Test Case 1: No close elements within threshold\"\\nassert has_close_elements([1.0, 2.8, 3.0, 4.0, 5.0, 2.0], 0.3) == True, \"Test Case 2: There are close elements within threshold\"\\nassert has_close_elements([1.5, 1.6, 2.5], 0.1) == True, \"Test Case 3: Close elements 1.5 and 1.6 within threshold of 0.1\"\\nassert has_close_elements([0.0, 1.0, 2.0, 3.0], 0.9) == False, \"Test Case 4: No close elements within threshold of 0.9\"\\nassert has_close_elements([-1.0, -1.05, -2.0], 0.1) == True, \"Test Case 5: Close negative elements -1.0 and -1.05 within threshold of 0.1\"\\nassert has_close_elements([5.5], 0.5) == False, \"Test Case 6: Single element list should return False\"\\nassert has_close_elements([], 0.5) == False, \"Test Case 7: Empty list should return False\"\\nassert has_close_elements([1.0, 1.0, 1.0], 0.1) == True, \"Test Case 8: All elements are the same and within threshold\"\\nassert has_close_elements([1.0, 3.0, 1.2, 4.0], 0.3) == True, \"Test Case 9: Close elements 1.0 and 1.2 within threshold of 0.3\"\\n', 'completed_method': '\\nfrom typing import List\\n\\ndef has_close_elements(numbers: List[float], threshold: float) -> bool:\\n    \"\"\" Check if in given list of numbers, are any two numbers closer to each other than\\n    given threshold.\\n    >>> has_close_elements([1.0, 2.0, 3.0], 0.5)\\n    False\\n    >>> has_close_elements([1.0, 2.8, 3.0, 4.0, 5.0, 2.0], 0.3)\\n    True\\n    \"\"\"\\n    n = len(numbers)\\n    for idx1 in range(n):\\n        for idx2 in range(idx1 + 1, n):\\n            if abs(numbers[idx1] - numbers[idx2]) < threshold:\\n                return True\\n    return False\\n', 'max_iterations': 3}}\n",
      "In AgentTestExecutor\n",
      "Current iterations: 1\n",
      "Tests passed: False\n",
      "Feedback: \n",
      "Test Case 3 failed: \"Close elements 1.5 and 1.6 within threshold of 0.1\".\n",
      "Event: {'Test Executor': {'incomplete_method': 'from typing import List\\n\\n\\ndef has_close_elements(numbers: List[float], threshold: float) -> bool:\\n    \"\"\" Check if in given list of numbers, are any two numbers closer to each other than\\n    given threshold.\\n    >>> has_close_elements([1.0, 2.0, 3.0], 0.5)\\n    False\\n    >>> has_close_elements([1.0, 2.8, 3.0, 4.0, 5.0, 2.0], 0.3)\\n    True\\n    \"\"\"\\n', 'generated_tests': '\\nassert has_close_elements([1.0, 2.0, 3.0], 0.5) == False, \"Test Case 1: No close elements within threshold\"\\nassert has_close_elements([1.0, 2.8, 3.0, 4.0, 5.0, 2.0], 0.3) == True, \"Test Case 2: There are close elements within threshold\"\\nassert has_close_elements([1.5, 1.6, 2.5], 0.1) == True, \"Test Case 3: Close elements 1.5 and 1.6 within threshold of 0.1\"\\nassert has_close_elements([0.0, 1.0, 2.0, 3.0], 0.9) == False, \"Test Case 4: No close elements within threshold of 0.9\"\\nassert has_close_elements([-1.0, -1.05, -2.0], 0.1) == True, \"Test Case 5: Close negative elements -1.0 and -1.05 within threshold of 0.1\"\\nassert has_close_elements([5.5], 0.5) == False, \"Test Case 6: Single element list should return False\"\\nassert has_close_elements([], 0.5) == False, \"Test Case 7: Empty list should return False\"\\nassert has_close_elements([1.0, 1.0, 1.0], 0.1) == True, \"Test Case 8: All elements are the same and within threshold\"\\nassert has_close_elements([1.0, 3.0, 1.2, 4.0], 0.3) == True, \"Test Case 9: Close elements 1.0 and 1.2 within threshold of 0.3\"\\n', 'completed_method': '\\nfrom typing import List\\n\\ndef has_close_elements(numbers: List[float], threshold: float) -> bool:\\n    \"\"\" Check if in given list of numbers, are any two numbers closer to each other than\\n    given threshold.\\n    >>> has_close_elements([1.0, 2.0, 3.0], 0.5)\\n    False\\n    >>> has_close_elements([1.0, 2.8, 3.0, 4.0, 5.0, 2.0], 0.3)\\n    True\\n    \"\"\"\\n    n = len(numbers)\\n    for idx1 in range(n):\\n        for idx2 in range(idx1 + 1, n):\\n            if abs(numbers[idx1] - numbers[idx2]) < threshold:\\n                return True\\n    return False\\n', 'tests_passed': False, 'feedback': 'Test Case 3 failed: \"Close elements 1.5 and 1.6 within threshold of 0.1\".', 'current_iterations': 1, 'max_iterations': 3}}\n",
      "In AgentCodeRefiner\n",
      "Event: {'Code Refiner': {'incomplete_method': 'from typing import List\\n\\n\\ndef has_close_elements(numbers: List[float], threshold: float) -> bool:\\n    \"\"\" Check if in given list of numbers, are any two numbers closer to each other than\\n    given threshold.\\n    >>> has_close_elements([1.0, 2.0, 3.0], 0.5)\\n    False\\n    >>> has_close_elements([1.0, 2.8, 3.0, 4.0, 5.0, 2.0], 0.3)\\n    True\\n    \"\"\"\\n', 'generated_tests': '\\nassert has_close_elements([1.0, 2.0, 3.0], 0.5) == False, \"Test Case 1: No close elements within threshold\"\\nassert has_close_elements([1.0, 2.8, 3.0, 4.0, 5.0, 2.0], 0.3) == True, \"Test Case 2: There are close elements within threshold\"\\nassert has_close_elements([1.5, 1.6, 2.5], 0.1) == True, \"Test Case 3: Close elements 1.5 and 1.6 within threshold of 0.1\"\\nassert has_close_elements([0.0, 1.0, 2.0, 3.0], 0.9) == False, \"Test Case 4: No close elements within threshold of 0.9\"\\nassert has_close_elements([-1.0, -1.05, -2.0], 0.1) == True, \"Test Case 5: Close negative elements -1.0 and -1.05 within threshold of 0.1\"\\nassert has_close_elements([5.5], 0.5) == False, \"Test Case 6: Single element list should return False\"\\nassert has_close_elements([], 0.5) == False, \"Test Case 7: Empty list should return False\"\\nassert has_close_elements([1.0, 1.0, 1.0], 0.1) == True, \"Test Case 8: All elements are the same and within threshold\"\\nassert has_close_elements([1.0, 3.0, 1.2, 4.0], 0.3) == True, \"Test Case 9: Close elements 1.0 and 1.2 within threshold of 0.3\"\\n', 'completed_method': '\\nfrom typing import List\\n\\ndef has_close_elements(numbers: List[float], threshold: float) -> bool:\\n    \"\"\" Check if in given list of numbers, are any two numbers closer to each other than\\n    given threshold.\\n    >>> has_close_elements([1.0, 2.0, 3.0], 0.5)\\n    False\\n    >>> has_close_elements([1.0, 2.8, 3.0, 4.0, 5.0, 2.0], 0.3)\\n    True\\n    >>> has_close_elements([1.5, 1.6], 0.1)\\n    True\\n    \"\"\"\\n    if len(numbers) < 2:\\n        return False\\n    \\n    # Sort the numbers to check only adjacent pairs\\n    numbers.sort()\\n    \\n    for i in range(len(numbers) - 1):\\n        if abs(numbers[i] - numbers[i + 1]) < threshold:\\n            return True\\n            \\n    return False\\n', 'tests_passed': False, 'feedback': 'Test Case 3 failed: \"Close elements 1.5 and 1.6 within threshold of 0.1\".', 'current_iterations': 1, 'max_iterations': 3}}\n",
      "In AgentTestExecutor\n",
      "Current iterations: 2\n",
      "Tests passed: False\n",
      "Feedback: \n",
      "Overall, 8 out of 9 test cases passed. The failure in Test Case 3 indicates there is an issue with how the function handles close comparisons based on the given threshold.\n",
      "Event: {'Test Executor': {'incomplete_method': 'from typing import List\\n\\n\\ndef has_close_elements(numbers: List[float], threshold: float) -> bool:\\n    \"\"\" Check if in given list of numbers, are any two numbers closer to each other than\\n    given threshold.\\n    >>> has_close_elements([1.0, 2.0, 3.0], 0.5)\\n    False\\n    >>> has_close_elements([1.0, 2.8, 3.0, 4.0, 5.0, 2.0], 0.3)\\n    True\\n    \"\"\"\\n', 'generated_tests': '\\nassert has_close_elements([1.0, 2.0, 3.0], 0.5) == False, \"Test Case 1: No close elements within threshold\"\\nassert has_close_elements([1.0, 2.8, 3.0, 4.0, 5.0, 2.0], 0.3) == True, \"Test Case 2: There are close elements within threshold\"\\nassert has_close_elements([1.5, 1.6, 2.5], 0.1) == True, \"Test Case 3: Close elements 1.5 and 1.6 within threshold of 0.1\"\\nassert has_close_elements([0.0, 1.0, 2.0, 3.0], 0.9) == False, \"Test Case 4: No close elements within threshold of 0.9\"\\nassert has_close_elements([-1.0, -1.05, -2.0], 0.1) == True, \"Test Case 5: Close negative elements -1.0 and -1.05 within threshold of 0.1\"\\nassert has_close_elements([5.5], 0.5) == False, \"Test Case 6: Single element list should return False\"\\nassert has_close_elements([], 0.5) == False, \"Test Case 7: Empty list should return False\"\\nassert has_close_elements([1.0, 1.0, 1.0], 0.1) == True, \"Test Case 8: All elements are the same and within threshold\"\\nassert has_close_elements([1.0, 3.0, 1.2, 4.0], 0.3) == True, \"Test Case 9: Close elements 1.0 and 1.2 within threshold of 0.3\"\\n', 'completed_method': '\\nfrom typing import List\\n\\ndef has_close_elements(numbers: List[float], threshold: float) -> bool:\\n    \"\"\" Check if in given list of numbers, are any two numbers closer to each other than\\n    given threshold.\\n    >>> has_close_elements([1.0, 2.0, 3.0], 0.5)\\n    False\\n    >>> has_close_elements([1.0, 2.8, 3.0, 4.0, 5.0, 2.0], 0.3)\\n    True\\n    >>> has_close_elements([1.5, 1.6], 0.1)\\n    True\\n    \"\"\"\\n    if len(numbers) < 2:\\n        return False\\n    \\n    # Sort the numbers to check only adjacent pairs\\n    numbers.sort()\\n    \\n    for i in range(len(numbers) - 1):\\n        if abs(numbers[i] - numbers[i + 1]) < threshold:\\n            return True\\n            \\n    return False\\n', 'tests_passed': False, 'feedback': 'Overall, 8 out of 9 test cases passed. The failure in Test Case 3 indicates there is an issue with how the function handles close comparisons based on the given threshold.', 'current_iterations': 2, 'max_iterations': 3}}\n",
      "In AgentCodeRefiner\n",
      "Event: {'Code Refiner': {'incomplete_method': 'from typing import List\\n\\n\\ndef has_close_elements(numbers: List[float], threshold: float) -> bool:\\n    \"\"\" Check if in given list of numbers, are any two numbers closer to each other than\\n    given threshold.\\n    >>> has_close_elements([1.0, 2.0, 3.0], 0.5)\\n    False\\n    >>> has_close_elements([1.0, 2.8, 3.0, 4.0, 5.0, 2.0], 0.3)\\n    True\\n    \"\"\"\\n', 'generated_tests': '\\nassert has_close_elements([1.0, 2.0, 3.0], 0.5) == False, \"Test Case 1: No close elements within threshold\"\\nassert has_close_elements([1.0, 2.8, 3.0, 4.0, 5.0, 2.0], 0.3) == True, \"Test Case 2: There are close elements within threshold\"\\nassert has_close_elements([1.5, 1.6, 2.5], 0.1) == True, \"Test Case 3: Close elements 1.5 and 1.6 within threshold of 0.1\"\\nassert has_close_elements([0.0, 1.0, 2.0, 3.0], 0.9) == False, \"Test Case 4: No close elements within threshold of 0.9\"\\nassert has_close_elements([-1.0, -1.05, -2.0], 0.1) == True, \"Test Case 5: Close negative elements -1.0 and -1.05 within threshold of 0.1\"\\nassert has_close_elements([5.5], 0.5) == False, \"Test Case 6: Single element list should return False\"\\nassert has_close_elements([], 0.5) == False, \"Test Case 7: Empty list should return False\"\\nassert has_close_elements([1.0, 1.0, 1.0], 0.1) == True, \"Test Case 8: All elements are the same and within threshold\"\\nassert has_close_elements([1.0, 3.0, 1.2, 4.0], 0.3) == True, \"Test Case 9: Close elements 1.0 and 1.2 within threshold of 0.3\"\\n', 'completed_method': '\\nfrom typing import List\\nimport math\\n\\ndef has_close_elements(numbers: List[float], threshold: float) -> bool:\\n    \"\"\" Check if in given list of numbers, are any two numbers closer to each other than\\n    given threshold.\\n    >>> has_close_elements([1.0, 2.0, 3.0], 0.5)\\n    False\\n    >>> has_close_elements([1.0, 2.8, 3.0, 4.0, 5.0, 2.0], 0.3)\\n    True\\n    >>> has_close_elements([1.5, 1.6], 0.1)\\n    True\\n    \"\"\"\\n    if len(numbers) < 2:\\n        return False\\n    \\n    # Sort the numbers to check only adjacent pairs\\n    numbers.sort()\\n    \\n    for i in range(len(numbers) - 1):\\n        if math.isclose(numbers[i], numbers[i + 1], abs_tol=threshold):\\n            return True\\n            \\n    return False\\n', 'tests_passed': False, 'feedback': 'Overall, 8 out of 9 test cases passed. The failure in Test Case 3 indicates there is an issue with how the function handles close comparisons based on the given threshold.', 'current_iterations': 2, 'max_iterations': 3}}\n",
      "In AgentTestExecutor\n",
      "Current iterations: 3\n",
      "Tests passed: False\n",
      "Feedback: \n",
      "The code has failed one of the test cases. Specifically, Test Case 3 raised an AssertionError:\n",
      "\n",
      "- **Test Case 3**: it expected `True` for the input `has_close_elements([1.5, 1.6, 2.5], 0.1)`, but the function returned `False`. \n",
      "\n",
      "This indicates that the function did not recognize `1.5` and `1.6` as being within the specified threshold of `0.1`.\n",
      "\n",
      "All other test cases passed successfully.\n",
      "Event: {'Test Executor': {'incomplete_method': 'from typing import List\\n\\n\\ndef has_close_elements(numbers: List[float], threshold: float) -> bool:\\n    \"\"\" Check if in given list of numbers, are any two numbers closer to each other than\\n    given threshold.\\n    >>> has_close_elements([1.0, 2.0, 3.0], 0.5)\\n    False\\n    >>> has_close_elements([1.0, 2.8, 3.0, 4.0, 5.0, 2.0], 0.3)\\n    True\\n    \"\"\"\\n', 'generated_tests': '\\nassert has_close_elements([1.0, 2.0, 3.0], 0.5) == False, \"Test Case 1: No close elements within threshold\"\\nassert has_close_elements([1.0, 2.8, 3.0, 4.0, 5.0, 2.0], 0.3) == True, \"Test Case 2: There are close elements within threshold\"\\nassert has_close_elements([1.5, 1.6, 2.5], 0.1) == True, \"Test Case 3: Close elements 1.5 and 1.6 within threshold of 0.1\"\\nassert has_close_elements([0.0, 1.0, 2.0, 3.0], 0.9) == False, \"Test Case 4: No close elements within threshold of 0.9\"\\nassert has_close_elements([-1.0, -1.05, -2.0], 0.1) == True, \"Test Case 5: Close negative elements -1.0 and -1.05 within threshold of 0.1\"\\nassert has_close_elements([5.5], 0.5) == False, \"Test Case 6: Single element list should return False\"\\nassert has_close_elements([], 0.5) == False, \"Test Case 7: Empty list should return False\"\\nassert has_close_elements([1.0, 1.0, 1.0], 0.1) == True, \"Test Case 8: All elements are the same and within threshold\"\\nassert has_close_elements([1.0, 3.0, 1.2, 4.0], 0.3) == True, \"Test Case 9: Close elements 1.0 and 1.2 within threshold of 0.3\"\\n', 'completed_method': '\\nfrom typing import List\\nimport math\\n\\ndef has_close_elements(numbers: List[float], threshold: float) -> bool:\\n    \"\"\" Check if in given list of numbers, are any two numbers closer to each other than\\n    given threshold.\\n    >>> has_close_elements([1.0, 2.0, 3.0], 0.5)\\n    False\\n    >>> has_close_elements([1.0, 2.8, 3.0, 4.0, 5.0, 2.0], 0.3)\\n    True\\n    >>> has_close_elements([1.5, 1.6], 0.1)\\n    True\\n    \"\"\"\\n    if len(numbers) < 2:\\n        return False\\n    \\n    # Sort the numbers to check only adjacent pairs\\n    numbers.sort()\\n    \\n    for i in range(len(numbers) - 1):\\n        if math.isclose(numbers[i], numbers[i + 1], abs_tol=threshold):\\n            return True\\n            \\n    return False\\n', 'tests_passed': False, 'feedback': 'The code has failed one of the test cases. Specifically, Test Case 3 raised an AssertionError:\\n\\n- **Test Case 3**: it expected `True` for the input `has_close_elements([1.5, 1.6, 2.5], 0.1)`, but the function returned `False`. \\n\\nThis indicates that the function did not recognize `1.5` and `1.6` as being within the specified threshold of `0.1`.\\n\\nAll other test cases passed successfully.', 'current_iterations': 3, 'max_iterations': 3}}\n"
     ]
    }
   ],
   "source": [
    "from multi_agent_graph import get_multi_agent_summarizer_graph\n",
    "from IPython.display import Image, display\n",
    "\n",
    "# task = dataset[145]\n",
    "task = dataset[0]\n",
    "max_iterations = 3\n",
    "\n",
    "config = {\"recursion_limit\": 50}\n",
    "inputs = {\n",
    "    \"incomplete_method\": task['prompt'],\n",
    "    \"max_iterations\": max_iterations,\n",
    "}\n",
    "\n",
    "graph = get_multi_agent_summarizer_graph()\n",
    "app = graph.compile()\n",
    "display(Image(app.get_graph(xray=True).draw_mermaid_png())) \n",
    "\n",
    "for event in app.stream(inputs, config=config):\n",
    "    print(\"Event:\", event)"
   ]
  },
  {
   "cell_type": "code",
   "execution_count": 24,
   "metadata": {},
   "outputs": [
    {
     "name": "stdout",
     "output_type": "stream",
     "text": [
      "\n",
      "from typing import List\n",
      "\n",
      "def has_close_elements(numbers: List[float], threshold: float) -> bool:\n",
      "    \"\"\" Check if in given list of numbers, are any two numbers closer to each other than\n",
      "    given threshold.\n",
      "    >>> has_close_elements([1.0, 2.0, 3.0], 0.5)\n",
      "    False\n",
      "    >>> has_close_elements([1.0, 2.8, 3.0, 4.0, 5.0, 2.0], 0.3)\n",
      "    True\n",
      "    \"\"\"\n",
      "    for idx, elem in enumerate(numbers):\n",
      "        for idx2, elem2 in enumerate(numbers):\n",
      "            if idx != idx2:\n",
      "                distance = abs(elem - elem2)\n",
      "                if distance < threshold:\n",
      "                    return True\n",
      "\n",
      "    return False\n",
      "\n"
     ]
    }
   ],
   "source": [
    "last_event_name = list(event.keys())[0]\n",
    "print(event[last_event_name]['completed_method'])\n"
   ]
  }
 ],
 "metadata": {
  "kernelspec": {
   "display_name": "ai",
   "language": "python",
   "name": "ai"
  },
  "language_info": {
   "codemirror_mode": {
    "name": "ipython",
    "version": 3
   },
   "file_extension": ".py",
   "mimetype": "text/x-python",
   "name": "python",
   "nbconvert_exporter": "python",
   "pygments_lexer": "ipython3",
   "version": "3.10.12"
  }
 },
 "nbformat": 4,
 "nbformat_minor": 2
}
