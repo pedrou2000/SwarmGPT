{
 "cells": [
  {
   "cell_type": "markdown",
   "metadata": {},
   "source": [
    "### Imports"
   ]
  },
  {
   "cell_type": "code",
   "execution_count": 1,
   "metadata": {},
   "outputs": [],
   "source": [
    "%load_ext autoreload\n",
    "%autoreload 2\n",
    "\n",
    "import sys, os\n",
    "sys.path.append(os.path.dirname(os.getcwd()))\n",
    "sys.path.append(os.getcwd())\n",
    "\n",
    "import constants\n",
    "from generic_agents.CodeInterpreterAgent import CodeInterpreterAgent"
   ]
  },
  {
   "cell_type": "markdown",
   "metadata": {},
   "source": [
    "### Loading the HumanEval Dataset"
   ]
  },
  {
   "cell_type": "code",
   "execution_count": 2,
   "metadata": {},
   "outputs": [
    {
     "name": "stdout",
     "output_type": "stream",
     "text": [
      "164\n",
      "dict_keys(['task_id', 'prompt', 'canonical_solution', 'test', 'entry_point'])\n",
      "\n",
      "\n",
      "def sort_third(l: list):\n",
      "    \"\"\"This function takes a list l and returns a list l' such that\n",
      "    l' is identical to l in the indicies that are not divisible by three, while its values at the indicies that are divisible by three are equal\n",
      "    to the values of the corresponding indicies of l, but sorted.\n",
      "    >>> sort_third([1, 2, 3])\n",
      "    [1, 2, 3]\n",
      "    >>> sort_third([5, 6, 3, 4, 8, 9, 2])\n",
      "    [2, 6, 3, 4, 8, 9, 5]\n",
      "    \"\"\"\n",
      "\n",
      "sort_third\n"
     ]
    }
   ],
   "source": [
    "from human_eval_utils import load_human_eval\n",
    "\n",
    "dataset = load_human_eval()\n",
    "\n",
    "print(len(dataset))\n",
    "task = dataset[-131]\n",
    "# print a random example\n",
    "print(task.keys())\n",
    "print(task['prompt'])\n",
    "print(task['entry_point'])\n",
    "# print(task['test'])"
   ]
  },
  {
   "cell_type": "markdown",
   "metadata": {},
   "source": [
    "### Single Agent Coder"
   ]
  },
  {
   "cell_type": "markdown",
   "metadata": {},
   "source": [
    "#### CodeInterpreterAgent"
   ]
  },
  {
   "cell_type": "code",
   "execution_count": 43,
   "metadata": {},
   "outputs": [
    {
     "name": "stdout",
     "output_type": "stream",
     "text": [
      "Number of messages: 0\n",
      "Number of messages: 2\n",
      "Problem 0 - Tests Passed: True\n",
      "AssertionError in check_code_execution: Test 1\n",
      "Number of messages: 2\n",
      "Problem 1 - Tests Passed: False\n",
      "Number of messages: 2\n",
      "Problem 2 - Tests Passed: True\n",
      "Correct: 2/3\n"
     ]
    }
   ],
   "source": [
    "system_prompt = \"\"\" \n",
    "    You are an expert software engineer. You are asked to write code to solve a problem \n",
    "    which involves creating a Python method to solve a problem indicated as the comments of the method. \n",
    "    The code should be efficient and correct. The code should be written in Python. \n",
    "    Store the code solution in a file, and provide the file path as the answer.\n",
    "    Do not add any assertions to the code, just complete the method. \n",
    "    Any library imports should be inside the new method, not at the top of the file.\n",
    "\"\"\"\n",
    "\n",
    "n_problems = 3\n",
    "single_agent_output_dir = 'CodeGenerations/single_agent_coder'\n",
    "single_agent_coder = CodeInterpreterAgent(system_prompt=system_prompt, agent_name=\"single_agent_coder\")\n",
    "print(f'Number of messages: {single_agent_coder.get_number_messages()}')\n",
    "\n",
    "n_correct = 0\n",
    "for n_problem in range(n_problems):\n",
    "    task = dataset[-n_problem]\n",
    "    \n",
    "    solution_file_path = os.path.join(single_agent_output_dir, f'problem_{n_problem}.py')\n",
    "    test_file_save_path = os.path.join(single_agent_output_dir, f'test_{n_problem}.py')\n",
    "\n",
    "    response = single_agent_coder.prompt_with_output_file(task['prompt'], file_path=solution_file_path)\n",
    "    code_runs = single_agent_coder.test_human_eval_solutions(solution_file_path=solution_file_path, test_code=task['test'], \n",
    "                                        method_name=task['entry_point'], test_file_save_path=test_file_save_path)\n",
    "    \n",
    "    print(f'Number of messages: {single_agent_coder.get_number_messages()}')\n",
    "    print(f'Problem {n_problem} - Tests Passed: {code_runs}')\n",
    "\n",
    "    if code_runs:\n",
    "        n_correct += 1\n",
    "    single_agent_coder.delete_all_messages()\n",
    "\n",
    "print(f'Correct: {n_correct}/{n_problems}')"
   ]
  },
  {
   "cell_type": "markdown",
   "metadata": {},
   "source": [
    "#### MultiTurnLLMAgent"
   ]
  },
  {
   "cell_type": "code",
   "execution_count": null,
   "metadata": {},
   "outputs": [],
   "source": [
    "from generic_agents.MultiTurnLLMAgent import MultiTurnLLMAgent\n",
    "from human_eval_utils import parse_python_code, construct_test_program, code_runs_without_errors, save_results\n",
    "\n",
    "system_prompt = \"\"\" \n",
    "    You are an expert software engineer. You are asked to write code to solve a problem \n",
    "    which involves creating a Python method to solve a problem indicated as the comments of the method. \n",
    "    You should only output the completition of the method, not the entire file.\n",
    "\"\"\"\n",
    "\n",
    "agent = MultiTurnLLMAgent(system_prompt=system_prompt)\n",
    "n_tasks = len(dataset)\n",
    "results = {\n",
    "    \"score\": 0, \n",
    "    \"test_counts\": {\"NoError\": 0, \"Error\": 0, \"AssertionError\": 0, \"IncorrectInput\": 0}, \n",
    "    \"tests_results\": {}\n",
    "}\n",
    "\n",
    "n_correct = 0\n",
    "for task_number in range(n_tasks):\n",
    "    task = dataset[task_number]\n",
    "    \n",
    "    response = agent.user_prompt(task['prompt'])\n",
    "    completion = parse_python_code(response)\n",
    "\n",
    "    test_path = constants.HUMAN_EVAL_SINGLE_AGENT_DIR + 'test_files/' + f'problem_{task_number}.py'\n",
    "    test_program = construct_test_program(task['prompt'], completion, task['test'], task['entry_point'], save_path=test_path)\n",
    "    (code_works, reason) = code_runs_without_errors(file_path=test_path)\n",
    "    \n",
    "    print(f'Problem {task_number} - Tests Passed: {code_works}')\n",
    "    if code_works:\n",
    "        n_correct += 1\n",
    "    if reason in results[\"test_counts\"]:\n",
    "        results[\"test_counts\"][reason] += 1\n",
    "    else:\n",
    "        results[\"test_counts\"][reason] = 1\n",
    "    results[\"tests_results\"][task_number] = (code_works, reason)\n",
    "\n",
    "    agent.reset_messages()\n",
    "\n",
    "results[\"score\"] = round(n_correct/n_tasks * 100, 4)\n",
    "save_results(results, constants.HUMAN_EVAL_SINGLE_AGENT_DIR)\n",
    "print(f'Correct: {n_correct}/{n_tasks}')\n",
    "print(results)"
   ]
  },
  {
   "cell_type": "markdown",
   "metadata": {},
   "source": [
    "### LangChain AgentCoder"
   ]
  },
  {
   "cell_type": "code",
   "execution_count": 5,
   "metadata": {},
   "outputs": [
    {
     "ename": "ModuleNotFoundError",
     "evalue": "No module named 'multi_agent_graph'",
     "output_type": "error",
     "traceback": [
      "\u001b[0;31m---------------------------------------------------------------------------\u001b[0m",
      "\u001b[0;31mModuleNotFoundError\u001b[0m                       Traceback (most recent call last)",
      "Cell \u001b[0;32mIn[5], line 1\u001b[0m\n\u001b[0;32m----> 1\u001b[0m \u001b[38;5;28;01mfrom\u001b[39;00m \u001b[38;5;21;01mmulti_agent_graph\u001b[39;00m \u001b[38;5;28;01mimport\u001b[39;00m get_multi_agent_summarizer_graph\n\u001b[1;32m      2\u001b[0m \u001b[38;5;28;01mfrom\u001b[39;00m \u001b[38;5;21;01mIPython\u001b[39;00m\u001b[38;5;21;01m.\u001b[39;00m\u001b[38;5;21;01mdisplay\u001b[39;00m \u001b[38;5;28;01mimport\u001b[39;00m Image, display\n\u001b[1;32m      5\u001b[0m config \u001b[38;5;241m=\u001b[39m {\u001b[38;5;124m\"\u001b[39m\u001b[38;5;124mrecursion_limit\u001b[39m\u001b[38;5;124m\"\u001b[39m: \u001b[38;5;241m50\u001b[39m}\n",
      "\u001b[0;31mModuleNotFoundError\u001b[0m: No module named 'multi_agent_graph'"
     ]
    }
   ],
   "source": [
    "from multi_agent_graph import get_multi_agent_summarizer_graph\n",
    "from IPython.display import Image, display\n",
    "\n",
    "\n",
    "config = {\"recursion_limit\": 50}\n",
    "inputs = {\n",
    "    \"math_problem\": random_problem,\n",
    "    \"max_iterations\": 1,\n",
    "    \"verified_conditions\": [],\n",
    "    \"unverified_conditions\": [],\n",
    "    \"objectives\": [],\n",
    "    \"steps\": [],\n",
    "    \"final_answer\": None\n",
    "}\n",
    "\n",
    "graph = get_multi_agent_summarizer_graph()\n",
    "app = graph.compile()\n",
    "display(Image(app.get_graph(xray=True).draw_mermaid_png())) \n",
    "\n",
    "for event in app.stream(inputs, config=config):\n",
    "    print(\"Event:\", event)"
   ]
  }
 ],
 "metadata": {
  "kernelspec": {
   "display_name": "ai",
   "language": "python",
   "name": "ai"
  },
  "language_info": {
   "codemirror_mode": {
    "name": "ipython",
    "version": 3
   },
   "file_extension": ".py",
   "mimetype": "text/x-python",
   "name": "python",
   "nbconvert_exporter": "python",
   "pygments_lexer": "ipython3",
   "version": "3.10.12"
  }
 },
 "nbformat": 4,
 "nbformat_minor": 2
}
