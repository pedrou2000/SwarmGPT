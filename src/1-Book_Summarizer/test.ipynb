{
 "cells": [
  {
   "cell_type": "code",
   "execution_count": 1,
   "metadata": {},
   "outputs": [
    {
     "name": "stdout",
     "output_type": "stream",
     "text": [
      "foo called with 10\n",
      "bar called with 20\n"
     ]
    }
   ],
   "source": [
    "def meta_function(func):\n",
    "    def wrapper(obj, *args, **kwargs):\n",
    "        # Get the name of the function\n",
    "        func_name = func.__name__\n",
    "        # Get the method of the object with the same name\n",
    "        method = getattr(obj, func_name)\n",
    "        if method:\n",
    "            # Call the method with the provided arguments\n",
    "            return method(*args, **kwargs)\n",
    "        else:\n",
    "            raise AttributeError(f\"'{type(obj).__name__}' object has no attribute '{func_name}'\")\n",
    "    return wrapper\n",
    "\n",
    "# Example usage:\n",
    "\n",
    "class ExampleClass:\n",
    "    def foo(self, x):\n",
    "        return f\"foo called with {x}\"\n",
    "    \n",
    "    def bar(self, y):\n",
    "        return f\"bar called with {y}\"\n",
    "\n",
    "@meta_function\n",
    "def foo(obj, x):\n",
    "    pass\n",
    "\n",
    "@meta_function\n",
    "def bar(obj, y):\n",
    "    pass\n",
    "\n",
    "# Creating an instance of ExampleClass\n",
    "example = ExampleClass()\n",
    "\n",
    "# Calling the meta functions\n",
    "print(foo(example, 10))  # Output: foo called with 10\n",
    "print(bar(example, 20))  # Output: bar called with 20\n"
   ]
  }
 ],
 "metadata": {
  "kernelspec": {
   "display_name": "ai",
   "language": "python",
   "name": "ai"
  },
  "language_info": {
   "codemirror_mode": {
    "name": "ipython",
    "version": 3
   },
   "file_extension": ".py",
   "mimetype": "text/x-python",
   "name": "python",
   "nbconvert_exporter": "python",
   "pygments_lexer": "ipython3",
   "version": "3.10.12"
  }
 },
 "nbformat": 4,
 "nbformat_minor": 2
}
