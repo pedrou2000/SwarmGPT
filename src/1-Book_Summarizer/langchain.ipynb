{
 "cells": [
  {
   "cell_type": "markdown",
   "metadata": {},
   "source": [
    "### Imports"
   ]
  },
  {
   "cell_type": "code",
   "execution_count": 59,
   "metadata": {},
   "outputs": [
    {
     "name": "stdout",
     "output_type": "stream",
     "text": [
      "The autoreload extension is already loaded. To reload it, use:\n",
      "  %reload_ext autoreload\n"
     ]
    }
   ],
   "source": [
    "%load_ext autoreload\n",
    "%autoreload 2\n",
    "\n",
    "import sys\n",
    "import os\n",
    "sys.path.append(os.path.dirname(os.getcwd()))\n",
    "import constants, utils\n",
    "import numpy as np\n",
    "import json\n",
    "\n",
    "from langchain_openai import ChatOpenAI\n",
    "from langgraph.constants import Send\n",
    "from langchain_core.messages import HumanMessage, SystemMessage\n",
    "\n",
    "os.environ[\"OPENAI_API_KEY\"] = utils.get_openai_api_key()\n",
    "os.environ[\"TAVILY_API_KEY\"] = utils.get_tavily_api_key()"
   ]
  },
  {
   "cell_type": "markdown",
   "metadata": {},
   "source": [
    "### Agents"
   ]
  },
  {
   "cell_type": "markdown",
   "metadata": {},
   "source": [
    "#### Summarizer Agent"
   ]
  },
  {
   "cell_type": "code",
   "execution_count": 60,
   "metadata": {},
   "outputs": [],
   "source": [
    "from langchain import hub\n",
    "from langchain_openai import ChatOpenAI\n",
    "\n",
    "from langgraph.prebuilt import create_react_agent\n",
    "from langchain_core.prompts import ChatPromptTemplate\n",
    "\n",
    "from langchain_core.pydantic_v1 import BaseModel, Field\n",
    "\n",
    "class Response(BaseModel):\n",
    "    \"\"\"Response to user.\"\"\"\n",
    "\n",
    "    response: str\n",
    "\n",
    "\n",
    "system_template = \"\"\"You are an expert summarizer. You are an agent working in summarizing a single chapter in a book, \n",
    "    which will then be used to create a summary of the entire book. You are tasked with summarizing the chapter.\"\"\"\n",
    "prompt_template = ChatPromptTemplate.from_messages(\n",
    "    [(\"system\", system_template), (\"user\", \"{text}\\n Summary:\")]\n",
    ")\n",
    "\n",
    "text = \"\"\"\n",
    "1 Set the Table\n",
    "There is one quality which one must possess to win, and that is definiteness of purpose, the knowledge of what one wants and a burning desire to achieve it.\n",
    "NAPOLEON HILL\n",
    "Before you can determine your “frog” and get on with the job of eating it, you have to decide exactly what you want to achieve in each area of your life. Clarity is perhaps the most important concept in personal productivity. The number one reason why some people get more work done faster is because they are absolutely clear about their goals and objectives, and they don’t deviate from them. The greater clarity you have regarding what you want and the steps you will have to take to achieve it, the easier it will be for you to overcome procrastination, eat your frog, and complete the task before you.\n",
    "A major reason for procrastination and lack of motivation is vagueness, confusion, and fuzzy-mindedness about what you are trying to do and in what order and for what reason. \n",
    "\"\"\"\n",
    "llm = ChatOpenAI(model=constants.MODEL_NAME).with_structured_output(Response)\n",
    "summarizer = prompt_template | llm\n",
    "# summarizer.invoke({\"text\": text})"
   ]
  },
  {
   "cell_type": "markdown",
   "metadata": {},
   "source": [
    "#### Relevant Chapter Selection Agent"
   ]
  },
  {
   "cell_type": "code",
   "execution_count": 61,
   "metadata": {},
   "outputs": [],
   "source": [
    "from langchain import hub\n",
    "from langchain_openai import ChatOpenAI\n",
    "from typing import Annotated, List, Tuple, TypedDict\n",
    "\n",
    "from langgraph.prebuilt import create_react_agent\n",
    "from langchain_core.prompts import ChatPromptTemplate\n",
    "\n",
    "from langchain_core.pydantic_v1 import BaseModel, Field\n",
    "\n",
    "class ChapterList(BaseModel):\n",
    "    \"\"\"Response to user.\"\"\"\n",
    "\n",
    "    chapter_list: List[str]\n",
    "\n",
    "\n",
    "system_template = \"You are an agent helping to summarize a book parsed from an epub. The first step is to select the chapters which are relevant to summarize\"\n",
    "prompt_template = ChatPromptTemplate.from_messages(\n",
    "    [(\"system\", system_template), (\"user\", \"Select the chapters which are relevant to summarize: {chapter_list}\")]\n",
    ")\n",
    "\n",
    "llm = ChatOpenAI(model=constants.MODEL_NAME).with_structured_output(ChapterList)\n",
    "chapter_selector_agent = prompt_template | llm\n",
    "\n",
    "chapters = [\n",
    "    \"Cover\",\n",
    "    \"Title\",\n",
    "    \"Copyright\",\n",
    "    \"Dedication\",\n",
    "    \"Contents\",\n",
    "    \"Preface\",\n",
    "    \"Introduction: Eat That Frog\",\n",
    "    \"1 Set the Table\",\n",
    "    \"2 Plan Every Day in Advance\",\n",
    "    \"3 Apply the 80/20 Rule to Everything\",\n",
    "    \"4 Consider the Consequences\",\n",
    "    \"5 Practice Creative Procrastination\",\n",
    "    \"6 Use the ABCDE Method Continually\",\n",
    "    \"7 Focus on Key Result Areas\",\n",
    "    \"8 Apply the Law of Three\",\n",
    "    \"9 Prepare Thoroughly Before You Begin\",\n",
    "    \"10 Take It One Oil Barrel at a Time\",\n",
    "    \"11 Upgrade Your Key Skills\",\n",
    "    \"12 Identify Your Key Constraints\",\n",
    "    \"13 Put the Pressure on Yourself\",\n",
    "    \"14 Motivate Yourself into Action\",\n",
    "    \"15 Technology Is a Terrible Master\",\n",
    "    \"16 Technology Is a Wonderful Servant\",\n",
    "    \"17 Focus Your Attention\",\n",
    "    \"18 Slice and Dice the Task\",\n",
    "    \"19 Create Large Chunks of Time\",\n",
    "    \"20 Develop a Sense of Urgency\",\n",
    "    \"21 Single Handle Every Task\",\n",
    "    \"Conclusion: Putting It All Together\",\n",
    "    \"Notes\",\n",
    "    \"Index\",\n",
    "    \"Learning Resources\",\n",
    "    \"About\"\n",
    "]\n",
    "\n",
    "# chapter_selector_agent.invoke({\"chapter_list\": chapters})"
   ]
  },
  {
   "cell_type": "markdown",
   "metadata": {},
   "source": [
    "#### Summaries Aggregator Agent"
   ]
  },
  {
   "cell_type": "code",
   "execution_count": 62,
   "metadata": {},
   "outputs": [
    {
     "data": {
      "text/plain": [
       "Response(response='The book emphasizes the importance of effective time management and productivity. In Chapter 1, the focus is on setting the table, which likely refers to setting the foundation for success. Chapter 2 delves into the significance of planning each day in advance to increase efficiency. Chapter 3 introduces the concept of the 80/20 rule, suggesting that prioritizing tasks based on their significance can lead to better outcomes. Together, these chapters highlight key strategies for optimizing time and achieving success.')"
      ]
     },
     "execution_count": 62,
     "metadata": {},
     "output_type": "execute_result"
    }
   ],
   "source": [
    "system_template = \"\"\"You are an expert summarizer. You are working with other summarizers to summarize a complete book.   \n",
    "    Other summarizers have already summarized their respective chapters. You are now tasked with summarizing the entire \n",
    "    book based on the summaries provided by the other summarizers. The summary should be detailed and cover all the\n",
    "    important points from each chapter. It should be around 6 paragraphs long.\"\"\"\n",
    "prompt_template = ChatPromptTemplate.from_messages(\n",
    "    [(\"system\", system_template), (\"user\", \"Chapter Summaries: \\n\" + \"{text} \\n---\\n Complete book summary:\")]\n",
    ")\n",
    "\n",
    "chapter_summaries = \"Chapter 1: This chapter is about setting the table.\\nChapter 2: This chapter is about planning every day in advance.\\nChapter 3: This chapter is about applying the 80/20 rule to everything\"\n",
    "\n",
    "llm = ChatOpenAI(model=constants.MODEL_NAME).with_structured_output(Response)\n",
    "summaries_aggreagator = prompt_template | llm\n",
    "summaries_aggreagator.invoke({\"text\": chapter_summaries})"
   ]
  },
  {
   "cell_type": "markdown",
   "metadata": {},
   "source": [
    "#### Refiner Agent"
   ]
  },
  {
   "cell_type": "code",
   "execution_count": 63,
   "metadata": {},
   "outputs": [],
   "source": [
    "system_template = \"\"\"You are an expert summarizer. You are working with other summarizers to summarize a complete book.   \n",
    "    Other summarizers have already summarized their respective chapters. Another agent has created a complete book summary based on the summaries \n",
    "    of the chapters of the books. You are now tasked with refining the final summary by including any missing details and ensuring that the summary is\n",
    "    coherent and well-structured. It should be around 6 paragraphs long.\"\"\"\n",
    "prompt_template = ChatPromptTemplate.from_messages(\n",
    "    [(\"system\", system_template), (\"user\", \"Chapter Summaries: \\n\" + \"{chapter_summaries} \\n---\\n Complete book summary to refine: \\n{complete_summary}\\n---\\nRefined summary:\")]\n",
    ")\n",
    "\n",
    "chapter_summaries = \"Chapter 1: This chapter is about setting the table.\\nChapter 2: This chapter is about planning every day in advance.\\nChapter 3: This chapter is about applying the 80/20 rule to everything\"\n",
    "\n",
    "llm = ChatOpenAI(model=constants.MODEL_NAME).with_structured_output(Response)\n",
    "refiner = prompt_template | llm\n",
    "#refiner.invoke({\"text\": chapter_summaries})"
   ]
  },
  {
   "cell_type": "markdown",
   "metadata": {},
   "source": [
    "### Defining the State"
   ]
  },
  {
   "cell_type": "code",
   "execution_count": 64,
   "metadata": {},
   "outputs": [],
   "source": [
    "import operator\n",
    "from typing import Annotated, List, Tuple, TypedDict, Optional\n",
    "from epub_parser import EPUB, ContentNode, Metadata\n",
    "from dataclasses import dataclass\n",
    "\n",
    "\n",
    "@dataclass\n",
    "class ChapterSummary():\n",
    "    chapter: ContentNode # Chapter Object \n",
    "    chapter_summary: str # Summary of the chapter\n",
    "\n",
    "class BookSummarizerState(BaseModel):\n",
    "    verbose: int  # Verbosity level: 0 (silent), 1 (verbose)\n",
    "    book_name: Annotated[str, Field(description=\"Name of the book\")]  # Name of the book\n",
    "    book_dir: str  # Directory of the book\n",
    "    book: Optional[EPUB] = None  # EPUB object\n",
    "    chapter_titles_all: List[str] = []  # List of all chapter titles\n",
    "    chapter_titles_to_summarize: List[str] = []  # List of chapter titles to summarize\n",
    "    chapters_to_summarize: List[ContentNode] = []  # List of the chapters to summarize\n",
    "    num_chapters_to_summarize: int  # Number of chapters to summarize\n",
    "    chapter_summaries: Annotated[List[ChapterSummary], operator.add] = []  # List of summaries of the chapters\n",
    "    final_summary: str = \"\"  # Final summary of the book\n",
    "\n",
    "    class Config:\n",
    "        arbitrary_types_allowed = True  # Allow arbitrary types such as EPUB\n",
    "\n",
    "class BookSummarizerStateSummarizerAgent(TypedDict):\n",
    "    index_chapter_to_summarize: int # Index of the chapter to summarize\n",
    "    book_summarizer_state: BookSummarizerState # State of the book summarizer\n"
   ]
  },
  {
   "cell_type": "markdown",
   "metadata": {},
   "source": [
    "### Functions for the Graph"
   ]
  },
  {
   "cell_type": "code",
   "execution_count": 65,
   "metadata": {},
   "outputs": [],
   "source": [
    "from typing import Literal\n",
    "\n",
    "def load_epub(state: BookSummarizerState):\n",
    "    print(\"State: \", state, \"\\n SAVING SUMMARY\") if state.get(\"verbose\") == 1 else None\n",
    "    book = EPUB(state.get(\"book_dir\"))\n",
    "    \n",
    "    chapter_titles_all = []\n",
    "    for node in book.root_node.children:\n",
    "        chapter_titles_all.append(node.title)\n",
    "    \n",
    "    state.book = book\n",
    "    state[\"chapter_titles_all\"] = chapter_titles_all\n",
    "\n",
    "    print(\"\\n\\n \"+str(len(chapter_titles_all))+\" chapters found in the book\") \n",
    "\n",
    "    if state[\"num_chapters_to_summarize\"] is None:\n",
    "        state[\"num_chapters_to_summarize\"] = len(chapter_titles_all)\n",
    "\n",
    "    return state\n",
    "\n",
    "def select_chapters_to_summarize(state: BookSummarizerState):\n",
    "    print(\"State: \", state, \"\\n SELECTING CHAPTERS\") if state.get(\"verbose\") == 1 else None\n",
    "    \n",
    "    chapters = state.get(\"chapter_titles_all\")\n",
    "    chapter_titles_to_summarize = chapter_selector_agent.invoke({\"chapter_list\": chapters})\n",
    "    state[\"chapter_titles_to_summarize\"] = chapter_titles_to_summarize.chapter_list\n",
    "    \n",
    "    return state\n",
    "\n",
    "def load_selected_chapters(state: BookSummarizerState):\n",
    "    print(\"State: \", state, \"\\n LOADING SELECTED CHAPTERS\") if state.get(\"verbose\") == 1 else None\n",
    "    chapter_titles_to_summarize = state.get(\"chapter_titles_to_summarize\")\n",
    "    book = state.get(\"book\")\n",
    "    chapter_contents = []\n",
    "    num_chapters_to_summarize = state.get(\"num_chapters_to_summarize\")\n",
    "\n",
    "    num_chapters = 0\n",
    "    for node in book.root_node.children:\n",
    "        if num_chapters < num_chapters_to_summarize:\n",
    "            if node.title in chapter_titles_to_summarize:\n",
    "                chapter_contents.append(node)\n",
    "                num_chapters += 1\n",
    "        else:\n",
    "            break\n",
    "    state[\"chapters_to_summarize\"] = chapter_contents\n",
    "    return state\n",
    "\n",
    "def send_to_summarizer_agents(state: BookSummarizerState):\n",
    "    # We will return a list of `Send` objects. Each `Send` object consists of the name of a node in the graph\n",
    "    # as well as the state to send to that node\n",
    "    return [Send(\"summarizer_agent\", {\"index_chapter_to_summarize\": i, \"book_summarizer_state\": state}) for i in range(len(state[\"chapters_to_summarize\"]))]\n",
    "\n",
    "async def summarize_chapter(state: BookSummarizerStateSummarizerAgent):\n",
    "    print(\"State: \", state, \"\\n SUMMARIZING CHAPTER \", str(state[\"index_chapter_to_summarize\"])) if state.get(\"verbose\") == 1 else None\n",
    "    \n",
    "    # Obtain the chapter to summarize and summarize it with the summarizer agent\n",
    "    index_chapter_to_summarize = state[\"index_chapter_to_summarize\"]\n",
    "    chapter_to_summarize = state[\"book_summarizer_state\"][\"chapters_to_summarize\"][index_chapter_to_summarize]\n",
    "    text = \"Titlte of the Chapter: \" + chapter_to_summarize.title + \"\\nContent: \\n\" + chapter_to_summarize.content\n",
    "    agent_response = await summarizer.ainvoke({\"text\": text})\n",
    "    summary = agent_response.response\n",
    "    chapter_summary = ChapterSummary(chapter=chapter_to_summarize, chapter_summary=summary)\n",
    "    \n",
    "    print(\"\\n\\nFINAL SUMMARY: \\n\\n\", agent_response.response) if state.get(\"verbose\") == 1 else None\n",
    "    return {\"chapter_summaries\": [chapter_summary]}\n",
    "\n",
    "async def summaries_aggregator_agent(state: BookSummarizerState):\n",
    "    print(\"State: \", state, \"\\n AGGREGATING CHAPTERS\") if state.get(\"verbose\") == 1 else None\n",
    "\n",
    "    # Construct the string to submit to the summaries aggregator agent\n",
    "    chapter_summaries = \"\"\n",
    "    for chapter_summary in state[\"chapter_summaries\"]:\n",
    "        chapter_summaries += \"Chapter: \" + chapter_summary.chapter.title + \"\\nSummary: \" + chapter_summary.chapter_summary + \"\\n\\n\"\n",
    "    \n",
    "    # Summarize the complete book\n",
    "    agent_response = await summaries_aggreagator.ainvoke({\"text\": chapter_summaries})\n",
    "    state[\"final_summary\"] = agent_response.response\n",
    "\n",
    "    print(\"\\n\\nFINAL SUMMARY: \\n\\n\", agent_response.response) if state.get(\"verbose\") == 1 else None\n",
    "    return state\n",
    "\n",
    "async def refiner_agent(state: BookSummarizerState):\n",
    "    print(\"State: \", state, \"\\n AGGREGATING CHAPTERS\") if state.get(\"verbose\") == 1 else None\n",
    "\n",
    "    # Construct the string to submit to the summaries aggregator agent\n",
    "    chapter_summaries = \"\"\n",
    "    for chapter_summary in state[\"chapter_summaries\"]:\n",
    "        chapter_summaries += \"Chapter: \" + chapter_summary.chapter.title + \"\\nSummary: \" + chapter_summary.chapter_summary + \"\\n\\n\"\n",
    "    \n",
    "    final_summary = state.get(\"final_summary\")\n",
    "\n",
    "    agent_response = await refiner.ainvoke({\"chapter_summaries\": chapter_summaries, \"complete_summary\": final_summary})\n",
    "    state[\"final_summary\"] = agent_response.response\n",
    "\n",
    "    print(\"\\n\\nREFINED FINAL SUMMARY: \\n\\n\", agent_response.response) if state.get(\"verbose\") == 1 else None\n",
    "    return state\n",
    "\n",
    "def show_results(state: BookSummarizerState):\n",
    "    print(\"State: \", state, \"\\n SHOWING RESULTS\") if state.get(\"verbose\") == 1 else None\n",
    "    for i, response in enumerate(state.get(\"chapter_summaries\")):\n",
    "        print(\"Chapter: \", response.chapter.title)\n",
    "        print(\"Summary: \", response.chapter_summary)\n",
    "        print(\"\\n\\n\")\n",
    "    \n",
    "    # Save the final summary to a json file\n",
    "    file_name = state.get(\"book_name\").replace(\" \", \"_\") + \"--\"+constants.MODEL_NAME+\"--summary.json\"\n",
    "        # The content should be a dictionary with the epub file name as the key and the final summary as the value\n",
    "    content = {state.get(\"book_name\").replace(\" \", \"_\"): state.get(\"final_summary\")}\n",
    "    # Save the dictionary to a JSON file\n",
    "    with open(file_name, 'w') as json_file:\n",
    "        json.dump(content, json_file, indent=4)\n",
    "\n",
    "    print(\"\\n\\nFinal Summary: \", state.get(\"final_summary\"))"
   ]
  },
  {
   "cell_type": "markdown",
   "metadata": {},
   "source": [
    "### Create the Graph"
   ]
  },
  {
   "cell_type": "code",
   "execution_count": 66,
   "metadata": {},
   "outputs": [],
   "source": [
    "from langgraph.graph import StateGraph\n",
    "\n",
    "graph = StateGraph(BookSummarizerState)\n",
    "\n",
    "graph.add_node(\"load_epub\", load_epub)\n",
    "graph.add_node(\"select_chapters_to_summarize\", select_chapters_to_summarize)\n",
    "graph.add_node(\"load_selected_chapters\", load_selected_chapters)\n",
    "graph.add_node(\"send_to_summarizer_agents\", send_to_summarizer_agents)\n",
    "graph.add_node(\"summarizer_agent\", summarize_chapter)\n",
    "graph.add_node(\"summaries_aggregator_agent\", summaries_aggregator_agent)\n",
    "graph.add_node(\"refiner_agent\", refiner_agent)\n",
    "graph.add_node(\"show_results\", show_results)\n",
    "\n",
    "\n",
    "graph.set_entry_point(\"load_epub\")\n",
    "\n",
    "graph.add_edge(\"load_epub\", \"select_chapters_to_summarize\")\n",
    "graph.add_edge(\"select_chapters_to_summarize\", \"load_selected_chapters\")\n",
    "graph.add_conditional_edges(\"load_selected_chapters\", send_to_summarizer_agents)\n",
    "graph.add_edge(\"summarizer_agent\", \"summaries_aggregator_agent\")\n",
    "graph.add_edge(\"summaries_aggregator_agent\", \"refiner_agent\")\n",
    "graph.add_edge(\"refiner_agent\", \"show_results\")\n",
    "graph.add_edge(\"show_results\", \"__end__\")\n",
    "\n",
    "app = graph.compile()"
   ]
  },
  {
   "cell_type": "code",
   "execution_count": 67,
   "metadata": {},
   "outputs": [
    {
     "data": {
      "image/jpeg": "[encoded data removed]",
      "text/plain": [
       "<IPython.core.display.Image object>"
      ]
     },
     "metadata": {},
     "output_type": "display_data"
    }
   ],
   "source": [
    "from IPython.display import Image, display\n",
    "\n",
    "display(Image(app.get_graph(xray=True).draw_mermaid_png()))"
   ]
  },
  {
   "cell_type": "markdown",
   "metadata": {},
   "source": [
    "### Execute the Graph\n"
   ]
  },
  {
   "cell_type": "code",
   "execution_count": 73,
   "metadata": {},
   "outputs": [
    {
     "name": "stdout",
     "output_type": "stream",
     "text": [
      "{'verbose': 0, 'book_name': 'reminiscences-of-pioneer-days-in-st-paul', 'book_dir': '/home/pedro/Documents/GitHub/SwarmGPT/data/books/reminiscences-of-pioneer-days-in-st-paul.epub', 'book': None, 'chapter_titles_all': [], 'chapter_titles_to_summarize': [], 'chapters_to_summarize': [], 'num_chapters_to_summarize': 3, 'chapter_summaries': [], 'final_summary': ''}\n"
     ]
    },
    {
     "ename": "ValidationError",
     "evalue": "4 validation errors for BookSummarizerState\nchapter_titles_all\n  none is not an allowed value (type=type_error.none.not_allowed)\nchapter_titles_to_summarize\n  none is not an allowed value (type=type_error.none.not_allowed)\nchapters_to_summarize\n  none is not an allowed value (type=type_error.none.not_allowed)\nfinal_summary\n  none is not an allowed value (type=type_error.none.not_allowed)",
     "output_type": "error",
     "traceback": [
      "\u001b[0;31m---------------------------------------------------------------------------\u001b[0m",
      "\u001b[0;31mValidationError\u001b[0m                           Traceback (most recent call last)",
      "Cell \u001b[0;32mIn[73], line 13\u001b[0m\n\u001b[1;32m     10\u001b[0m book_config \u001b[38;5;241m=\u001b[39m BookSummarizerState(\u001b[38;5;241m*\u001b[39m\u001b[38;5;241m*\u001b[39minputs)\n\u001b[1;32m     11\u001b[0m \u001b[38;5;28mprint\u001b[39m(book_config\u001b[38;5;241m.\u001b[39mdict())\n\u001b[0;32m---> 13\u001b[0m \u001b[38;5;28;01masync\u001b[39;00m \u001b[38;5;28;01mfor\u001b[39;00m event \u001b[38;5;129;01min\u001b[39;00m app\u001b[38;5;241m.\u001b[39mastream(inputs, config\u001b[38;5;241m=\u001b[39mconfig):\n\u001b[1;32m     14\u001b[0m     \u001b[38;5;28;01mfor\u001b[39;00m k, v \u001b[38;5;129;01min\u001b[39;00m event\u001b[38;5;241m.\u001b[39mitems():\n\u001b[1;32m     15\u001b[0m         \u001b[38;5;28;01mif\u001b[39;00m k \u001b[38;5;241m!=\u001b[39m \u001b[38;5;124m\"\u001b[39m\u001b[38;5;124m__end__\u001b[39m\u001b[38;5;124m\"\u001b[39m:\n",
      "File \u001b[0;32m~/Documents/Virtual-Environments/ai/lib/python3.10/site-packages/langgraph/pregel/__init__.py:1204\u001b[0m, in \u001b[0;36mPregel.astream\u001b[0;34m(self, input, config, stream_mode, output_keys, input_keys, interrupt_before, interrupt_after, debug)\u001b[0m\n\u001b[1;32m   1202\u001b[0m stop \u001b[38;5;241m=\u001b[39m start \u001b[38;5;241m+\u001b[39m config[\u001b[38;5;124m\"\u001b[39m\u001b[38;5;124mrecursion_limit\u001b[39m\u001b[38;5;124m\"\u001b[39m] \u001b[38;5;241m+\u001b[39m \u001b[38;5;241m1\u001b[39m\n\u001b[1;32m   1203\u001b[0m \u001b[38;5;28;01mfor\u001b[39;00m step \u001b[38;5;129;01min\u001b[39;00m \u001b[38;5;28mrange\u001b[39m(start, stop):\n\u001b[0;32m-> 1204\u001b[0m     next_checkpoint, next_tasks \u001b[38;5;241m=\u001b[39m \u001b[43m_prepare_next_tasks\u001b[49m\u001b[43m(\u001b[49m\n\u001b[1;32m   1205\u001b[0m \u001b[43m        \u001b[49m\u001b[43mcheckpoint\u001b[49m\u001b[43m,\u001b[49m\n\u001b[1;32m   1206\u001b[0m \u001b[43m        \u001b[49m\u001b[43mprocesses\u001b[49m\u001b[43m,\u001b[49m\n\u001b[1;32m   1207\u001b[0m \u001b[43m        \u001b[49m\u001b[43mchannels\u001b[49m\u001b[43m,\u001b[49m\n\u001b[1;32m   1208\u001b[0m \u001b[43m        \u001b[49m\u001b[43mmanaged\u001b[49m\u001b[43m,\u001b[49m\n\u001b[1;32m   1209\u001b[0m \u001b[43m        \u001b[49m\u001b[43mconfig\u001b[49m\u001b[43m,\u001b[49m\n\u001b[1;32m   1210\u001b[0m \u001b[43m        \u001b[49m\u001b[43mstep\u001b[49m\u001b[43m,\u001b[49m\n\u001b[1;32m   1211\u001b[0m \u001b[43m        \u001b[49m\u001b[43mfor_execution\u001b[49m\u001b[38;5;241;43m=\u001b[39;49m\u001b[38;5;28;43;01mTrue\u001b[39;49;00m\u001b[43m,\u001b[49m\n\u001b[1;32m   1212\u001b[0m \u001b[43m        \u001b[49m\u001b[43mmanager\u001b[49m\u001b[38;5;241;43m=\u001b[39;49m\u001b[43mrun_manager\u001b[49m\u001b[43m,\u001b[49m\n\u001b[1;32m   1213\u001b[0m \u001b[43m    \u001b[49m\u001b[43m)\u001b[49m\n\u001b[1;32m   1215\u001b[0m     \u001b[38;5;66;03m# if no more tasks, we're done\u001b[39;00m\n\u001b[1;32m   1216\u001b[0m     \u001b[38;5;28;01mif\u001b[39;00m \u001b[38;5;129;01mnot\u001b[39;00m next_tasks:\n",
      "File \u001b[0;32m~/Documents/Virtual-Environments/ai/lib/python3.10/site-packages/langgraph/pregel/__init__.py:1705\u001b[0m, in \u001b[0;36m_prepare_next_tasks\u001b[0;34m(checkpoint, processes, channels, managed, config, step, for_execution, manager)\u001b[0m\n\u001b[1;32m   1703\u001b[0m channels_to_consume\u001b[38;5;241m.\u001b[39mupdate(triggers)\n\u001b[1;32m   1704\u001b[0m \u001b[38;5;28;01mtry\u001b[39;00m:\n\u001b[0;32m-> 1705\u001b[0m     val \u001b[38;5;241m=\u001b[39m \u001b[38;5;28;43mnext\u001b[39;49m\u001b[43m(\u001b[49m\u001b[43m_proc_input\u001b[49m\u001b[43m(\u001b[49m\u001b[43mstep\u001b[49m\u001b[43m,\u001b[49m\u001b[43m \u001b[49m\u001b[43mname\u001b[49m\u001b[43m,\u001b[49m\u001b[43m \u001b[49m\u001b[43mproc\u001b[49m\u001b[43m,\u001b[49m\u001b[43m \u001b[49m\u001b[43mmanaged\u001b[49m\u001b[43m,\u001b[49m\u001b[43m \u001b[49m\u001b[43mchannels\u001b[49m\u001b[43m)\u001b[49m\u001b[43m)\u001b[49m\n\u001b[1;32m   1706\u001b[0m \u001b[38;5;28;01mexcept\u001b[39;00m \u001b[38;5;167;01mStopIteration\u001b[39;00m:\n\u001b[1;32m   1707\u001b[0m     \u001b[38;5;28;01mcontinue\u001b[39;00m\n",
      "File \u001b[0;32m~/Documents/Virtual-Environments/ai/lib/python3.10/site-packages/langgraph/pregel/__init__.py:1814\u001b[0m, in \u001b[0;36m_proc_input\u001b[0;34m(step, name, proc, managed, channels)\u001b[0m\n\u001b[1;32m   1812\u001b[0m \u001b[38;5;66;03m# If the process has a mapper, apply it to the value\u001b[39;00m\n\u001b[1;32m   1813\u001b[0m \u001b[38;5;28;01mif\u001b[39;00m proc\u001b[38;5;241m.\u001b[39mmapper \u001b[38;5;129;01mis\u001b[39;00m \u001b[38;5;129;01mnot\u001b[39;00m \u001b[38;5;28;01mNone\u001b[39;00m:\n\u001b[0;32m-> 1814\u001b[0m     val \u001b[38;5;241m=\u001b[39m \u001b[43mproc\u001b[49m\u001b[38;5;241;43m.\u001b[39;49m\u001b[43mmapper\u001b[49m\u001b[43m(\u001b[49m\u001b[43mval\u001b[49m\u001b[43m)\u001b[49m\n\u001b[1;32m   1816\u001b[0m \u001b[38;5;28;01myield\u001b[39;00m val\n",
      "File \u001b[0;32m~/Documents/Virtual-Environments/ai/lib/python3.10/site-packages/langgraph/graph/state.py:452\u001b[0m, in \u001b[0;36m_coerce_state\u001b[0;34m(schema, input)\u001b[0m\n\u001b[1;32m    451\u001b[0m \u001b[38;5;28;01mdef\u001b[39;00m \u001b[38;5;21m_coerce_state\u001b[39m(schema: Type[Any], \u001b[38;5;28minput\u001b[39m: \u001b[38;5;28mdict\u001b[39m[\u001b[38;5;28mstr\u001b[39m, Any]) \u001b[38;5;241m-\u001b[39m\u001b[38;5;241m>\u001b[39m \u001b[38;5;28mdict\u001b[39m[\u001b[38;5;28mstr\u001b[39m, Any]:\n\u001b[0;32m--> 452\u001b[0m     \u001b[38;5;28;01mreturn\u001b[39;00m \u001b[43mschema\u001b[49m\u001b[43m(\u001b[49m\u001b[38;5;241;43m*\u001b[39;49m\u001b[38;5;241;43m*\u001b[39;49m\u001b[38;5;28;43minput\u001b[39;49m\u001b[43m)\u001b[49m\n",
      "File \u001b[0;32m~/Documents/Virtual-Environments/ai/lib/python3.10/site-packages/pydantic/v1/main.py:341\u001b[0m, in \u001b[0;36mBaseModel.__init__\u001b[0;34m(__pydantic_self__, **data)\u001b[0m\n\u001b[1;32m    339\u001b[0m values, fields_set, validation_error \u001b[38;5;241m=\u001b[39m validate_model(__pydantic_self__\u001b[38;5;241m.\u001b[39m\u001b[38;5;18m__class__\u001b[39m, data)\n\u001b[1;32m    340\u001b[0m \u001b[38;5;28;01mif\u001b[39;00m validation_error:\n\u001b[0;32m--> 341\u001b[0m     \u001b[38;5;28;01mraise\u001b[39;00m validation_error\n\u001b[1;32m    342\u001b[0m \u001b[38;5;28;01mtry\u001b[39;00m:\n\u001b[1;32m    343\u001b[0m     object_setattr(__pydantic_self__, \u001b[38;5;124m'\u001b[39m\u001b[38;5;124m__dict__\u001b[39m\u001b[38;5;124m'\u001b[39m, values)\n",
      "\u001b[0;31mValidationError\u001b[0m: 4 validation errors for BookSummarizerState\nchapter_titles_all\n  none is not an allowed value (type=type_error.none.not_allowed)\nchapter_titles_to_summarize\n  none is not an allowed value (type=type_error.none.not_allowed)\nchapters_to_summarize\n  none is not an allowed value (type=type_error.none.not_allowed)\nfinal_summary\n  none is not an allowed value (type=type_error.none.not_allowed)"
     ]
    }
   ],
   "source": [
    "config = {\"recursion_limit\": 50}\n",
    "# book_name = \"Eat that Frog!\"\n",
    "book_name = \"reminiscences-of-pioneer-days-in-st-paul\"\n",
    "# book_dir = constants.BOOKS_DIR + 'eat_that_frog.epub'\n",
    "book_dir = constants.BOOKS_DIR + 'reminiscences-of-pioneer-days-in-st-paul.epub'\n",
    "num_chapters_to_summarize = 3\n",
    "verbose = 0\n",
    "inputs = {\"book_name\": book_name, \"book_dir\": book_dir, \"num_chapters_to_summarize\": num_chapters_to_summarize, \"verbose\": verbose}\n",
    "# inputs = (book_name=book_name, book_dir= book_dir, num_chapters_to_summarize= num_chapters_to_summarize, verbose= verbose)\n",
    "book_config = BookSummarizerState(**inputs)\n",
    "print(book_config.dict())\n",
    "\n",
    "async for event in app.astream(inputs, config=config):\n",
    "    for k, v in event.items():\n",
    "        if k != \"__end__\":\n",
    "            print(\"Key:\", k, \"Value:\", v)\n",
    "            "
   ]
  }
 ],
 "metadata": {
  "kernelspec": {
   "display_name": "ai",
   "language": "python",
   "name": "ai"
  },
  "language_info": {
   "codemirror_mode": {
    "name": "ipython",
    "version": 3
   },
   "file_extension": ".py",
   "mimetype": "text/x-python",
   "name": "python",
   "nbconvert_exporter": "python",
   "pygments_lexer": "ipython3",
   "version": "3.10.12"
  }
 },
 "nbformat": 4,
 "nbformat_minor": 2
}
